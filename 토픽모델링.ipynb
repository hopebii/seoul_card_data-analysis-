{
  "nbformat": 4,
  "nbformat_minor": 0,
  "metadata": {
    "colab": {
      "name": "토픽모델링.ipynb",
      "provenance": [],
      "collapsed_sections": [
        "wKqtwSaSZiRU",
        "c4UnraoLAmgf",
        "daA3aEINQUM3",
        "qpSoHR5bSjXR"
      ]
    },
    "kernelspec": {
      "name": "python3",
      "display_name": "Python 3"
    },
    "language_info": {
      "name": "python"
    }
  },
  "cells": [
    {
      "cell_type": "markdown",
      "source": [
        "#### **(1) 데이터 합치기**"
      ],
      "metadata": {
        "id": "wKqtwSaSZiRU"
      }
    },
    {
      "cell_type": "code",
      "source": [
        "import pandas as pd \n",
        "ios = pd.read_csv('ios_review.csv')\n",
        "ios['리뷰'] = ios['리뷰'] + ' ' + ios['제목'] \n",
        "ios.drop(['Unnamed: 0','제목'], inplace=True, axis=1)\n",
        "ios['날짜'] = ios['날짜'].apply(lambda x : str(x)[:10])\n"
      ],
      "metadata": {
        "id": "DXgJaS30ZOPh"
      },
      "execution_count": 1,
      "outputs": []
    },
    {
      "cell_type": "code",
      "execution_count": 2,
      "metadata": {
        "id": "C4FuJbbmZLSi"
      },
      "outputs": [],
      "source": [
        "import pandas as pd \n",
        "play = pd.read_csv('playstore_review.csv')\n",
        "play.drop('Unnamed: 0', inplace=True, axis=1)\n",
        "play['날짜'] = play['날짜'].apply(lambda x : str(x)[:10])\n"
      ]
    },
    {
      "cell_type": "code",
      "source": [
        "i = ios[['날짜','리뷰','별점']] \n",
        "p = play[['날짜','리뷰','별점']]\n",
        "review = pd.concat([i,p])"
      ],
      "metadata": {
        "id": "Zif8WQfKZh7i"
      },
      "execution_count": 3,
      "outputs": []
    },
    {
      "cell_type": "code",
      "source": [
        "review.reset_index(inplace=True) \n",
        "review.drop(['index'], inplace=True, axis=1)"
      ],
      "metadata": {
        "id": "Q3s99nY7RGVx"
      },
      "execution_count": 4,
      "outputs": []
    },
    {
      "cell_type": "code",
      "source": [
        "review"
      ],
      "metadata": {
        "colab": {
          "base_uri": "https://localhost:8080/",
          "height": 0
        },
        "id": "s_n4aZAtRPjH",
        "outputId": "e582aed9-e6e0-498c-dc28-14dff46e8062"
      },
      "execution_count": 5,
      "outputs": [
        {
          "output_type": "execute_result",
          "data": {
            "text/plain": [
              "             날짜                                                 리뷰  별점\n",
              "0    2022-05-07  도서관 다닐 때 카드 안들고 다녀서 좋아요 위젯 생기면 더 편해질 것 같아요 ios...   5\n",
              "1    2022-04-04  소소한 할인쿠폰도 많이 주는것같고 \\n서울시 공공시설 이용할때 하나로 쓸수 있어서 ...   5\n",
              "2    2022-03-29  아래에 저 같은 분이 계시던데 저두 문자로 인증하려구 하니 쿠키 제한에 걸려 본인 ...   1\n",
              "3    2022-03-12  통신사를 선택하면  PASS선탹하는 버튼이 사라지고 문자인증만 남고, 인증문자도 한...   1\n",
              "4    2022-02-25             Ios 업데이트 하면서 또 안되네요 \\n개발자 누굽니까 1점도 아깝다   1\n",
              "..          ...                                                ...  ..\n",
              "164  2017-12-11                                         사용처가 아직...   3\n",
              "165  2018-01-01                                본인인증 확인 안됨. 뭘 어쩌라고?   1\n",
              "166  2017-12-14                     앞으로 더 많은 시설에서 사용할 수 있으면 좋겠습니다.   5\n",
              "167  2017-12-11                                           완전 기대합니다   5\n",
              "168  2019-10-22                                                안열린   3\n",
              "\n",
              "[169 rows x 3 columns]"
            ],
            "text/html": [
              "\n",
              "  <div id=\"df-35f124aa-4e3b-49ee-92ea-afd88b14fb84\">\n",
              "    <div class=\"colab-df-container\">\n",
              "      <div>\n",
              "<style scoped>\n",
              "    .dataframe tbody tr th:only-of-type {\n",
              "        vertical-align: middle;\n",
              "    }\n",
              "\n",
              "    .dataframe tbody tr th {\n",
              "        vertical-align: top;\n",
              "    }\n",
              "\n",
              "    .dataframe thead th {\n",
              "        text-align: right;\n",
              "    }\n",
              "</style>\n",
              "<table border=\"1\" class=\"dataframe\">\n",
              "  <thead>\n",
              "    <tr style=\"text-align: right;\">\n",
              "      <th></th>\n",
              "      <th>날짜</th>\n",
              "      <th>리뷰</th>\n",
              "      <th>별점</th>\n",
              "    </tr>\n",
              "  </thead>\n",
              "  <tbody>\n",
              "    <tr>\n",
              "      <th>0</th>\n",
              "      <td>2022-05-07</td>\n",
              "      <td>도서관 다닐 때 카드 안들고 다녀서 좋아요 위젯 생기면 더 편해질 것 같아요 ios...</td>\n",
              "      <td>5</td>\n",
              "    </tr>\n",
              "    <tr>\n",
              "      <th>1</th>\n",
              "      <td>2022-04-04</td>\n",
              "      <td>소소한 할인쿠폰도 많이 주는것같고 \\n서울시 공공시설 이용할때 하나로 쓸수 있어서 ...</td>\n",
              "      <td>5</td>\n",
              "    </tr>\n",
              "    <tr>\n",
              "      <th>2</th>\n",
              "      <td>2022-03-29</td>\n",
              "      <td>아래에 저 같은 분이 계시던데 저두 문자로 인증하려구 하니 쿠키 제한에 걸려 본인 ...</td>\n",
              "      <td>1</td>\n",
              "    </tr>\n",
              "    <tr>\n",
              "      <th>3</th>\n",
              "      <td>2022-03-12</td>\n",
              "      <td>통신사를 선택하면  PASS선탹하는 버튼이 사라지고 문자인증만 남고, 인증문자도 한...</td>\n",
              "      <td>1</td>\n",
              "    </tr>\n",
              "    <tr>\n",
              "      <th>4</th>\n",
              "      <td>2022-02-25</td>\n",
              "      <td>Ios 업데이트 하면서 또 안되네요 \\n개발자 누굽니까 1점도 아깝다</td>\n",
              "      <td>1</td>\n",
              "    </tr>\n",
              "    <tr>\n",
              "      <th>...</th>\n",
              "      <td>...</td>\n",
              "      <td>...</td>\n",
              "      <td>...</td>\n",
              "    </tr>\n",
              "    <tr>\n",
              "      <th>164</th>\n",
              "      <td>2017-12-11</td>\n",
              "      <td>사용처가 아직...</td>\n",
              "      <td>3</td>\n",
              "    </tr>\n",
              "    <tr>\n",
              "      <th>165</th>\n",
              "      <td>2018-01-01</td>\n",
              "      <td>본인인증 확인 안됨. 뭘 어쩌라고?</td>\n",
              "      <td>1</td>\n",
              "    </tr>\n",
              "    <tr>\n",
              "      <th>166</th>\n",
              "      <td>2017-12-14</td>\n",
              "      <td>앞으로 더 많은 시설에서 사용할 수 있으면 좋겠습니다.</td>\n",
              "      <td>5</td>\n",
              "    </tr>\n",
              "    <tr>\n",
              "      <th>167</th>\n",
              "      <td>2017-12-11</td>\n",
              "      <td>완전 기대합니다</td>\n",
              "      <td>5</td>\n",
              "    </tr>\n",
              "    <tr>\n",
              "      <th>168</th>\n",
              "      <td>2019-10-22</td>\n",
              "      <td>안열린</td>\n",
              "      <td>3</td>\n",
              "    </tr>\n",
              "  </tbody>\n",
              "</table>\n",
              "<p>169 rows × 3 columns</p>\n",
              "</div>\n",
              "      <button class=\"colab-df-convert\" onclick=\"convertToInteractive('df-35f124aa-4e3b-49ee-92ea-afd88b14fb84')\"\n",
              "              title=\"Convert this dataframe to an interactive table.\"\n",
              "              style=\"display:none;\">\n",
              "        \n",
              "  <svg xmlns=\"http://www.w3.org/2000/svg\" height=\"24px\"viewBox=\"0 0 24 24\"\n",
              "       width=\"24px\">\n",
              "    <path d=\"M0 0h24v24H0V0z\" fill=\"none\"/>\n",
              "    <path d=\"M18.56 5.44l.94 2.06.94-2.06 2.06-.94-2.06-.94-.94-2.06-.94 2.06-2.06.94zm-11 1L8.5 8.5l.94-2.06 2.06-.94-2.06-.94L8.5 2.5l-.94 2.06-2.06.94zm10 10l.94 2.06.94-2.06 2.06-.94-2.06-.94-.94-2.06-.94 2.06-2.06.94z\"/><path d=\"M17.41 7.96l-1.37-1.37c-.4-.4-.92-.59-1.43-.59-.52 0-1.04.2-1.43.59L10.3 9.45l-7.72 7.72c-.78.78-.78 2.05 0 2.83L4 21.41c.39.39.9.59 1.41.59.51 0 1.02-.2 1.41-.59l7.78-7.78 2.81-2.81c.8-.78.8-2.07 0-2.86zM5.41 20L4 18.59l7.72-7.72 1.47 1.35L5.41 20z\"/>\n",
              "  </svg>\n",
              "      </button>\n",
              "      \n",
              "  <style>\n",
              "    .colab-df-container {\n",
              "      display:flex;\n",
              "      flex-wrap:wrap;\n",
              "      gap: 12px;\n",
              "    }\n",
              "\n",
              "    .colab-df-convert {\n",
              "      background-color: #E8F0FE;\n",
              "      border: none;\n",
              "      border-radius: 50%;\n",
              "      cursor: pointer;\n",
              "      display: none;\n",
              "      fill: #1967D2;\n",
              "      height: 32px;\n",
              "      padding: 0 0 0 0;\n",
              "      width: 32px;\n",
              "    }\n",
              "\n",
              "    .colab-df-convert:hover {\n",
              "      background-color: #E2EBFA;\n",
              "      box-shadow: 0px 1px 2px rgba(60, 64, 67, 0.3), 0px 1px 3px 1px rgba(60, 64, 67, 0.15);\n",
              "      fill: #174EA6;\n",
              "    }\n",
              "\n",
              "    [theme=dark] .colab-df-convert {\n",
              "      background-color: #3B4455;\n",
              "      fill: #D2E3FC;\n",
              "    }\n",
              "\n",
              "    [theme=dark] .colab-df-convert:hover {\n",
              "      background-color: #434B5C;\n",
              "      box-shadow: 0px 1px 3px 1px rgba(0, 0, 0, 0.15);\n",
              "      filter: drop-shadow(0px 1px 2px rgba(0, 0, 0, 0.3));\n",
              "      fill: #FFFFFF;\n",
              "    }\n",
              "  </style>\n",
              "\n",
              "      <script>\n",
              "        const buttonEl =\n",
              "          document.querySelector('#df-35f124aa-4e3b-49ee-92ea-afd88b14fb84 button.colab-df-convert');\n",
              "        buttonEl.style.display =\n",
              "          google.colab.kernel.accessAllowed ? 'block' : 'none';\n",
              "\n",
              "        async function convertToInteractive(key) {\n",
              "          const element = document.querySelector('#df-35f124aa-4e3b-49ee-92ea-afd88b14fb84');\n",
              "          const dataTable =\n",
              "            await google.colab.kernel.invokeFunction('convertToInteractive',\n",
              "                                                     [key], {});\n",
              "          if (!dataTable) return;\n",
              "\n",
              "          const docLinkHtml = 'Like what you see? Visit the ' +\n",
              "            '<a target=\"_blank\" href=https://colab.research.google.com/notebooks/data_table.ipynb>data table notebook</a>'\n",
              "            + ' to learn more about interactive tables.';\n",
              "          element.innerHTML = '';\n",
              "          dataTable['output_type'] = 'display_data';\n",
              "          await google.colab.output.renderOutput(dataTable, element);\n",
              "          const docLink = document.createElement('div');\n",
              "          docLink.innerHTML = docLinkHtml;\n",
              "          element.appendChild(docLink);\n",
              "        }\n",
              "      </script>\n",
              "    </div>\n",
              "  </div>\n",
              "  "
            ]
          },
          "metadata": {},
          "execution_count": 5
        }
      ]
    },
    {
      "cell_type": "markdown",
      "source": [
        "#### **(2) 전처리**"
      ],
      "metadata": {
        "id": "c4UnraoLAmgf"
      }
    },
    {
      "cell_type": "code",
      "source": [
        "review['날짜']  = pd.to_datetime(review['날짜'])\n",
        "review['연도'] = review['날짜'].dt.year\n",
        "review['월'] = review['날짜'].dt.month \n",
        "review['요일'] = review['날짜'].dt.dayofweek"
      ],
      "metadata": {
        "id": "5E6iOkm8KOhM"
      },
      "execution_count": 6,
      "outputs": []
    },
    {
      "cell_type": "code",
      "source": [
        "review.head(2)"
      ],
      "metadata": {
        "colab": {
          "base_uri": "https://localhost:8080/",
          "height": 112
        },
        "id": "ug1JUiqdBNTc",
        "outputId": "a9023707-df8e-4717-b896-4f48f8ec8590"
      },
      "execution_count": 7,
      "outputs": [
        {
          "output_type": "execute_result",
          "data": {
            "text/plain": [
              "          날짜                                                 리뷰  별점    연도  월  \\\n",
              "0 2022-05-07  도서관 다닐 때 카드 안들고 다녀서 좋아요 위젯 생기면 더 편해질 것 같아요 ios...   5  2022  5   \n",
              "1 2022-04-04  소소한 할인쿠폰도 많이 주는것같고 \\n서울시 공공시설 이용할때 하나로 쓸수 있어서 ...   5  2022  4   \n",
              "\n",
              "   요일  \n",
              "0   5  \n",
              "1   0  "
            ],
            "text/html": [
              "\n",
              "  <div id=\"df-c051d81a-4427-4d3d-88de-d0da9645b72e\">\n",
              "    <div class=\"colab-df-container\">\n",
              "      <div>\n",
              "<style scoped>\n",
              "    .dataframe tbody tr th:only-of-type {\n",
              "        vertical-align: middle;\n",
              "    }\n",
              "\n",
              "    .dataframe tbody tr th {\n",
              "        vertical-align: top;\n",
              "    }\n",
              "\n",
              "    .dataframe thead th {\n",
              "        text-align: right;\n",
              "    }\n",
              "</style>\n",
              "<table border=\"1\" class=\"dataframe\">\n",
              "  <thead>\n",
              "    <tr style=\"text-align: right;\">\n",
              "      <th></th>\n",
              "      <th>날짜</th>\n",
              "      <th>리뷰</th>\n",
              "      <th>별점</th>\n",
              "      <th>연도</th>\n",
              "      <th>월</th>\n",
              "      <th>요일</th>\n",
              "    </tr>\n",
              "  </thead>\n",
              "  <tbody>\n",
              "    <tr>\n",
              "      <th>0</th>\n",
              "      <td>2022-05-07</td>\n",
              "      <td>도서관 다닐 때 카드 안들고 다녀서 좋아요 위젯 생기면 더 편해질 것 같아요 ios...</td>\n",
              "      <td>5</td>\n",
              "      <td>2022</td>\n",
              "      <td>5</td>\n",
              "      <td>5</td>\n",
              "    </tr>\n",
              "    <tr>\n",
              "      <th>1</th>\n",
              "      <td>2022-04-04</td>\n",
              "      <td>소소한 할인쿠폰도 많이 주는것같고 \\n서울시 공공시설 이용할때 하나로 쓸수 있어서 ...</td>\n",
              "      <td>5</td>\n",
              "      <td>2022</td>\n",
              "      <td>4</td>\n",
              "      <td>0</td>\n",
              "    </tr>\n",
              "  </tbody>\n",
              "</table>\n",
              "</div>\n",
              "      <button class=\"colab-df-convert\" onclick=\"convertToInteractive('df-c051d81a-4427-4d3d-88de-d0da9645b72e')\"\n",
              "              title=\"Convert this dataframe to an interactive table.\"\n",
              "              style=\"display:none;\">\n",
              "        \n",
              "  <svg xmlns=\"http://www.w3.org/2000/svg\" height=\"24px\"viewBox=\"0 0 24 24\"\n",
              "       width=\"24px\">\n",
              "    <path d=\"M0 0h24v24H0V0z\" fill=\"none\"/>\n",
              "    <path d=\"M18.56 5.44l.94 2.06.94-2.06 2.06-.94-2.06-.94-.94-2.06-.94 2.06-2.06.94zm-11 1L8.5 8.5l.94-2.06 2.06-.94-2.06-.94L8.5 2.5l-.94 2.06-2.06.94zm10 10l.94 2.06.94-2.06 2.06-.94-2.06-.94-.94-2.06-.94 2.06-2.06.94z\"/><path d=\"M17.41 7.96l-1.37-1.37c-.4-.4-.92-.59-1.43-.59-.52 0-1.04.2-1.43.59L10.3 9.45l-7.72 7.72c-.78.78-.78 2.05 0 2.83L4 21.41c.39.39.9.59 1.41.59.51 0 1.02-.2 1.41-.59l7.78-7.78 2.81-2.81c.8-.78.8-2.07 0-2.86zM5.41 20L4 18.59l7.72-7.72 1.47 1.35L5.41 20z\"/>\n",
              "  </svg>\n",
              "      </button>\n",
              "      \n",
              "  <style>\n",
              "    .colab-df-container {\n",
              "      display:flex;\n",
              "      flex-wrap:wrap;\n",
              "      gap: 12px;\n",
              "    }\n",
              "\n",
              "    .colab-df-convert {\n",
              "      background-color: #E8F0FE;\n",
              "      border: none;\n",
              "      border-radius: 50%;\n",
              "      cursor: pointer;\n",
              "      display: none;\n",
              "      fill: #1967D2;\n",
              "      height: 32px;\n",
              "      padding: 0 0 0 0;\n",
              "      width: 32px;\n",
              "    }\n",
              "\n",
              "    .colab-df-convert:hover {\n",
              "      background-color: #E2EBFA;\n",
              "      box-shadow: 0px 1px 2px rgba(60, 64, 67, 0.3), 0px 1px 3px 1px rgba(60, 64, 67, 0.15);\n",
              "      fill: #174EA6;\n",
              "    }\n",
              "\n",
              "    [theme=dark] .colab-df-convert {\n",
              "      background-color: #3B4455;\n",
              "      fill: #D2E3FC;\n",
              "    }\n",
              "\n",
              "    [theme=dark] .colab-df-convert:hover {\n",
              "      background-color: #434B5C;\n",
              "      box-shadow: 0px 1px 3px 1px rgba(0, 0, 0, 0.15);\n",
              "      filter: drop-shadow(0px 1px 2px rgba(0, 0, 0, 0.3));\n",
              "      fill: #FFFFFF;\n",
              "    }\n",
              "  </style>\n",
              "\n",
              "      <script>\n",
              "        const buttonEl =\n",
              "          document.querySelector('#df-c051d81a-4427-4d3d-88de-d0da9645b72e button.colab-df-convert');\n",
              "        buttonEl.style.display =\n",
              "          google.colab.kernel.accessAllowed ? 'block' : 'none';\n",
              "\n",
              "        async function convertToInteractive(key) {\n",
              "          const element = document.querySelector('#df-c051d81a-4427-4d3d-88de-d0da9645b72e');\n",
              "          const dataTable =\n",
              "            await google.colab.kernel.invokeFunction('convertToInteractive',\n",
              "                                                     [key], {});\n",
              "          if (!dataTable) return;\n",
              "\n",
              "          const docLinkHtml = 'Like what you see? Visit the ' +\n",
              "            '<a target=\"_blank\" href=https://colab.research.google.com/notebooks/data_table.ipynb>data table notebook</a>'\n",
              "            + ' to learn more about interactive tables.';\n",
              "          element.innerHTML = '';\n",
              "          dataTable['output_type'] = 'display_data';\n",
              "          await google.colab.output.renderOutput(dataTable, element);\n",
              "          const docLink = document.createElement('div');\n",
              "          docLink.innerHTML = docLinkHtml;\n",
              "          element.appendChild(docLink);\n",
              "        }\n",
              "      </script>\n",
              "    </div>\n",
              "  </div>\n",
              "  "
            ]
          },
          "metadata": {},
          "execution_count": 7
        }
      ]
    },
    {
      "cell_type": "code",
      "source": [
        "review['리뷰'] = review['리뷰'].apply(lambda x : x.replace(\"\\n\",\" \"))"
      ],
      "metadata": {
        "id": "6F-lYcFCA9TV"
      },
      "execution_count": 8,
      "outputs": []
    },
    {
      "cell_type": "code",
      "source": [
        "pip install git+https://github.com/ssut/py-hanspell.git"
      ],
      "metadata": {
        "colab": {
          "base_uri": "https://localhost:8080/"
        },
        "id": "Dfq_-t5YAjqZ",
        "outputId": "e81040ec-eb13-4524-879d-f7bdc21fcd93"
      },
      "execution_count": 9,
      "outputs": [
        {
          "output_type": "stream",
          "name": "stdout",
          "text": [
            "Looking in indexes: https://pypi.org/simple, https://us-python.pkg.dev/colab-wheels/public/simple/\n",
            "Collecting git+https://github.com/ssut/py-hanspell.git\n",
            "  Cloning https://github.com/ssut/py-hanspell.git to /tmp/pip-req-build-wiqmu8ka\n",
            "  Running command git clone -q https://github.com/ssut/py-hanspell.git /tmp/pip-req-build-wiqmu8ka\n",
            "Requirement already satisfied: requests in /usr/local/lib/python3.7/dist-packages (from py-hanspell==1.1) (2.23.0)\n",
            "Requirement already satisfied: certifi>=2017.4.17 in /usr/local/lib/python3.7/dist-packages (from requests->py-hanspell==1.1) (2022.6.15)\n",
            "Requirement already satisfied: urllib3!=1.25.0,!=1.25.1,<1.26,>=1.21.1 in /usr/local/lib/python3.7/dist-packages (from requests->py-hanspell==1.1) (1.24.3)\n",
            "Requirement already satisfied: chardet<4,>=3.0.2 in /usr/local/lib/python3.7/dist-packages (from requests->py-hanspell==1.1) (3.0.4)\n",
            "Requirement already satisfied: idna<3,>=2.5 in /usr/local/lib/python3.7/dist-packages (from requests->py-hanspell==1.1) (2.10)\n"
          ]
        }
      ]
    },
    {
      "cell_type": "code",
      "source": [
        "from hanspell import spell_checker\n",
        "review['리뷰'] = review['리뷰'].apply(lambda x : spell_checker.check(x))\n",
        "review['리뷰'] = review['리뷰'].apply(lambda x : x.checked)"
      ],
      "metadata": {
        "id": "jQTcuwT1AjoQ"
      },
      "execution_count": 10,
      "outputs": []
    },
    {
      "cell_type": "code",
      "source": [
        "%%bash\n",
        "apt-get update\n",
        "apt-get install g++ openjdk-8-jdk python-dev python3-dev\n",
        "pip3 install JPype1\n",
        "pip3 install konlpy"
      ],
      "metadata": {
        "colab": {
          "base_uri": "https://localhost:8080/"
        },
        "id": "AKkXRbY_KYyD",
        "outputId": "90241d22-f7b1-48e0-b369-fefba1fb7749"
      },
      "execution_count": 11,
      "outputs": [
        {
          "output_type": "stream",
          "name": "stdout",
          "text": [
            "Hit:1 https://developer.download.nvidia.com/compute/cuda/repos/ubuntu1804/x86_64  InRelease\n",
            "Hit:2 https://cloud.r-project.org/bin/linux/ubuntu bionic-cran40/ InRelease\n",
            "Hit:3 http://security.ubuntu.com/ubuntu bionic-security InRelease\n",
            "Ign:4 https://developer.download.nvidia.com/compute/machine-learning/repos/ubuntu1804/x86_64  InRelease\n",
            "Hit:5 https://developer.download.nvidia.com/compute/machine-learning/repos/ubuntu1804/x86_64  Release\n",
            "Hit:6 http://ppa.launchpad.net/c2d4u.team/c2d4u4.0+/ubuntu bionic InRelease\n",
            "Hit:7 http://archive.ubuntu.com/ubuntu bionic InRelease\n",
            "Hit:8 http://archive.ubuntu.com/ubuntu bionic-updates InRelease\n",
            "Hit:9 http://ppa.launchpad.net/cran/libgit2/ubuntu bionic InRelease\n",
            "Hit:10 http://archive.ubuntu.com/ubuntu bionic-backports InRelease\n",
            "Hit:11 http://ppa.launchpad.net/deadsnakes/ppa/ubuntu bionic InRelease\n",
            "Hit:13 http://ppa.launchpad.net/graphics-drivers/ppa/ubuntu bionic InRelease\n",
            "Reading package lists...\n",
            "Reading package lists...\n",
            "Building dependency tree...\n",
            "Reading state information...\n",
            "python-dev is already the newest version (2.7.15~rc1-1).\n",
            "g++ is already the newest version (4:7.4.0-1ubuntu2.3).\n",
            "python3-dev is already the newest version (3.6.7-1~18.04).\n",
            "openjdk-8-jdk is already the newest version (8u312-b07-0ubuntu1~18.04).\n",
            "The following package was automatically installed and is no longer required:\n",
            "  libnvidia-common-460\n",
            "Use 'apt autoremove' to remove it.\n",
            "0 upgraded, 0 newly installed, 0 to remove and 49 not upgraded.\n",
            "Looking in indexes: https://pypi.org/simple, https://us-python.pkg.dev/colab-wheels/public/simple/\n",
            "Requirement already satisfied: JPype1 in /usr/local/lib/python3.7/dist-packages (1.4.0)\n",
            "Requirement already satisfied: typing-extensions in /usr/local/lib/python3.7/dist-packages (from JPype1) (4.1.1)\n",
            "Looking in indexes: https://pypi.org/simple, https://us-python.pkg.dev/colab-wheels/public/simple/\n",
            "Requirement already satisfied: konlpy in /usr/local/lib/python3.7/dist-packages (0.6.0)\n",
            "Requirement already satisfied: numpy>=1.6 in /usr/local/lib/python3.7/dist-packages (from konlpy) (1.21.6)\n",
            "Requirement already satisfied: lxml>=4.1.0 in /usr/local/lib/python3.7/dist-packages (from konlpy) (4.2.6)\n",
            "Requirement already satisfied: JPype1>=0.7.0 in /usr/local/lib/python3.7/dist-packages (from konlpy) (1.4.0)\n",
            "Requirement already satisfied: typing-extensions in /usr/local/lib/python3.7/dist-packages (from JPype1>=0.7.0->konlpy) (4.1.1)\n"
          ]
        }
      ]
    },
    {
      "cell_type": "code",
      "source": [
        "# JAVA_HOME 환경변수 설정하기\n",
        "\n",
        "%env JAVA_HOME \"/usr/lib/jvm/java-8-openjdk-amd64\""
      ],
      "metadata": {
        "colab": {
          "base_uri": "https://localhost:8080/"
        },
        "id": "twHTo0TSKYvM",
        "outputId": "611c9c9d-4c9f-4401-faad-318f6eef0a2b"
      },
      "execution_count": 12,
      "outputs": [
        {
          "output_type": "stream",
          "name": "stdout",
          "text": [
            "env: JAVA_HOME=\"/usr/lib/jvm/java-8-openjdk-amd64\"\n"
          ]
        }
      ]
    },
    {
      "cell_type": "code",
      "source": [
        "from konlpy.tag import Okt\n",
        "import re\n",
        "okt=Okt()"
      ],
      "metadata": {
        "id": "UBkg-0ZRKYs4"
      },
      "execution_count": 13,
      "outputs": []
    },
    {
      "cell_type": "code",
      "source": [
        "stopwords = ['하다','하고','있다','언제','은','는','이','가','하','아','것','들','의','있','되','수','보','주','등','을','에서','거','좀','요',\n",
        " '한','도','카드','서울','서울시민','서울시민카드','앱','어플리케이션','애플리케이션','ㅠㅠ','시민', '서울 시민','에','만','안','ㅋ','ㅋㅋ','ㅎㅎ','도서관','인증'] \n",
        "\n",
        " # 도서관, 인증 단어는 리뷰에서 다수 등장하는 언어로 토픽모델링을 위해 불용어 처리 "
      ],
      "metadata": {
        "id": "daVlbRbXAjl6"
      },
      "execution_count": 14,
      "outputs": []
    },
    {
      "cell_type": "code",
      "source": [
        "#전처리 함수 만들기\n",
        "def preprocessing(review, okt, remove_stopwords = True, stop_words =stopwords):\n",
        "\n",
        "  # 1. 한글 및 공백 제외한 문자 모두 제거\n",
        "  review_text = re.sub('[^가-힣ㄱ-ㅎㅏ-ㅣ\\\\s]','',review)\n",
        "  \n",
        "  #2. okt 객체를 활용하여 명사 단어로 나눔 \n",
        "  word_review = okt.nouns(review_text)\n",
        "\n",
        "  if remove_stopwords:\n",
        "    #3. 불용어 제거(선택)\n",
        "    word_review = [token for token in word_review if not token in stop_words]\n",
        "  return word_review"
      ],
      "metadata": {
        "id": "xDZxEi1_Zh4l"
      },
      "execution_count": 15,
      "outputs": []
    },
    {
      "cell_type": "code",
      "source": [
        "review['token'] = review['리뷰'].apply(lambda x : preprocessing(x, okt))"
      ],
      "metadata": {
        "id": "No42W8zcKvBq"
      },
      "execution_count": 16,
      "outputs": []
    },
    {
      "cell_type": "code",
      "source": [
        "# sentiment \n",
        "review['sentiment'] = 3\n",
        "for i in range(len(review)) : \n",
        "  if review['별점'][i] <= 3 : \n",
        "    review['sentiment'][i] = 0 # 부정 \n",
        "  \n",
        "  else : \n",
        "    review['sentiment'][i] = 1 # 긍정 \n",
        "\n"
      ],
      "metadata": {
        "id": "Bqc_Vm-HQa_6",
        "colab": {
          "base_uri": "https://localhost:8080/"
        },
        "outputId": "353cce23-4b71-431e-e8d2-827613fc657e"
      },
      "execution_count": 17,
      "outputs": [
        {
          "output_type": "stream",
          "name": "stderr",
          "text": [
            "/usr/local/lib/python3.7/dist-packages/ipykernel_launcher.py:8: SettingWithCopyWarning: \n",
            "A value is trying to be set on a copy of a slice from a DataFrame\n",
            "\n",
            "See the caveats in the documentation: https://pandas.pydata.org/pandas-docs/stable/user_guide/indexing.html#returning-a-view-versus-a-copy\n",
            "  \n",
            "/usr/local/lib/python3.7/dist-packages/ipykernel_launcher.py:5: SettingWithCopyWarning: \n",
            "A value is trying to be set on a copy of a slice from a DataFrame\n",
            "\n",
            "See the caveats in the documentation: https://pandas.pydata.org/pandas-docs/stable/user_guide/indexing.html#returning-a-view-versus-a-copy\n",
            "  \"\"\"\n"
          ]
        }
      ]
    },
    {
      "cell_type": "code",
      "source": [
        "import seaborn as sns \n",
        "import matplotlib.pyplot as plt\n",
        "plt.rc('font', family='NanumBarunGothic')\n",
        "ax = sns.countplot(x='sentiment',data=review, palette='pastel') # 부정 리뷰가 2배 더 많음 "
      ],
      "metadata": {
        "id": "HB5307hoR3tX",
        "colab": {
          "base_uri": "https://localhost:8080/",
          "height": 281
        },
        "outputId": "26ca6e2b-d6d8-49fb-ef82-f659a49bffa2"
      },
      "execution_count": 18,
      "outputs": [
        {
          "output_type": "display_data",
          "data": {
            "text/plain": [
              "<Figure size 432x288 with 1 Axes>"
            ],
            "image/png": "[encoded data removed]"
          },
          "metadata": {
            "needs_background": "light"
          }
        }
      ]
    },
    {
      "cell_type": "markdown",
      "source": [
        "#### **(3) 리뷰 빈도 발생 날짜 분석**"
      ],
      "metadata": {
        "id": "daA3aEINQUM3"
      }
    },
    {
      "cell_type": "code",
      "source": [
        "ax = sns.countplot(x='연도',data=review, palette='pastel',hue='sentiment') # 2022 년은 상반기 리뷰만 존재 \n",
        "\n",
        "# 0 : 부정"
      ],
      "metadata": {
        "id": "-H0aQxzVMlc2",
        "colab": {
          "base_uri": "https://localhost:8080/",
          "height": 279
        },
        "outputId": "8c72863f-df16-4121-8aa9-3ab8b7927158"
      },
      "execution_count": null,
      "outputs": [
        {
          "output_type": "display_data",
          "data": {
            "text/plain": [
              "<Figure size 432x288 with 1 Axes>"
            ],
            "image/png": "[encoded data removed]"
          },
          "metadata": {
            "needs_background": "light"
          }
        }
      ]
    },
    {
      "cell_type": "code",
      "source": [
        "ax = sns.countplot(x='월',data=review, palette='pastel')"
      ],
      "metadata": {
        "id": "zpKjXZBNTGiH",
        "colab": {
          "base_uri": "https://localhost:8080/",
          "height": 279
        },
        "outputId": "23711d51-3546-4827-ee80-15209804e587"
      },
      "execution_count": null,
      "outputs": [
        {
          "output_type": "display_data",
          "data": {
            "text/plain": [
              "<Figure size 432x288 with 1 Axes>"
            ],
            "image/png": "[encoded data removed]"
          },
          "metadata": {
            "needs_background": "light"
          }
        }
      ]
    },
    {
      "cell_type": "code",
      "source": [
        "ax = sns.countplot(x='월',data=review, palette='pastel',hue='sentiment')"
      ],
      "metadata": {
        "id": "HdjXAZ7oMiP3",
        "colab": {
          "base_uri": "https://localhost:8080/",
          "height": 279
        },
        "outputId": "170742fd-d6dd-4500-9f9a-d1c709e64e60"
      },
      "execution_count": null,
      "outputs": [
        {
          "output_type": "display_data",
          "data": {
            "text/plain": [
              "<Figure size 432x288 with 1 Axes>"
            ],
            "image/png": "[encoded data removed]"
          },
          "metadata": {
            "needs_background": "light"
          }
        }
      ]
    },
    {
      "cell_type": "code",
      "source": [
        "review.요일.value_counts() # 0: '월요일', 6 : '일요일'"
      ],
      "metadata": {
        "id": "ugYd1ZFsRt8B",
        "colab": {
          "base_uri": "https://localhost:8080/"
        },
        "outputId": "2d00a33a-cbdf-47d6-a27d-c9bcfbb9da33"
      },
      "execution_count": null,
      "outputs": [
        {
          "output_type": "execute_result",
          "data": {
            "text/plain": [
              "1    30\n",
              "4    27\n",
              "0    25\n",
              "3    25\n",
              "2    23\n",
              "6    21\n",
              "5    18\n",
              "Name: 요일, dtype: int64"
            ]
          },
          "metadata": {},
          "execution_count": 28
        }
      ]
    },
    {
      "cell_type": "code",
      "source": [
        "ax = sns.countplot(x='요일',data=review, palette='pastel')"
      ],
      "metadata": {
        "id": "z3Xc6ZqIMb7d",
        "colab": {
          "base_uri": "https://localhost:8080/",
          "height": 279
        },
        "outputId": "4ab6ec83-68c1-4ba5-c58e-5b483724cd52"
      },
      "execution_count": null,
      "outputs": [
        {
          "output_type": "display_data",
          "data": {
            "text/plain": [
              "<Figure size 432x288 with 1 Axes>"
            ],
            "image/png": "[encoded data removed]"
          },
          "metadata": {
            "needs_background": "light"
          }
        }
      ]
    },
    {
      "cell_type": "code",
      "source": [
        "ax = sns.countplot(x='요일',data=review, palette='pastel',hue='sentiment')"
      ],
      "metadata": {
        "id": "EKOKqLVLTL1x",
        "colab": {
          "base_uri": "https://localhost:8080/",
          "height": 279
        },
        "outputId": "538938d2-6d30-401c-c78e-c42e95d8d9f5"
      },
      "execution_count": null,
      "outputs": [
        {
          "output_type": "display_data",
          "data": {
            "text/plain": [
              "<Figure size 432x288 with 1 Axes>"
            ],
            "image/png": "[encoded data removed]"
          },
          "metadata": {
            "needs_background": "light"
          }
        }
      ]
    },
    {
      "cell_type": "code",
      "source": [
        "%matplotlib inline  \n",
        "\n",
        "import matplotlib as mpl \n",
        "import matplotlib.pyplot as plt \n",
        "import matplotlib.font_manager as fm  \n",
        "\n",
        "!apt-get update -qq\n",
        "!apt-get install fonts-nanum* -qq\n",
        "\n",
        "path = '/usr/share/fonts/truetype/nanum/NanumBarunGothic.ttf' \n",
        "font_name = fm.FontProperties(fname=path, size=10).get_name()\n",
        "print(font_name)\n",
        "plt.rc('font', family=font_name)\n",
        "\n",
        "fm._rebuild()\n",
        "mpl.rcParams['axes.unicode_minus'] = False"
      ],
      "metadata": {
        "id": "LxHlA_XBM2GD"
      },
      "execution_count": null,
      "outputs": []
    },
    {
      "cell_type": "markdown",
      "source": [
        "#### **(4) 토픽모델링**"
      ],
      "metadata": {
        "id": "qpSoHR5bSjXR"
      }
    },
    {
      "cell_type": "code",
      "source": [
        "from gensim.models.ldamodel import LdaModel\n",
        "from gensim.models.callbacks import CoherenceMetric\n",
        "from gensim import corpora\n",
        "from gensim.models.callbacks import PerplexityMetric\n",
        "\n",
        "import logging\n",
        "logging.basicConfig(format='%(asctime)s : %(levelname)s : %(message)s', level=logging.INFO)"
      ],
      "metadata": {
        "id": "YImYs90mVqFC"
      },
      "execution_count": 20,
      "outputs": []
    },
    {
      "cell_type": "code",
      "source": [
        "processed_data=[]\n",
        "for i in range(len(review)):\n",
        "  if len(review['token'][i]) > 0 : \n",
        "    processed_data.append(review['token'][i])"
      ],
      "metadata": {
        "id": "XOnSczsFVykn"
      },
      "execution_count": 77,
      "outputs": []
    },
    {
      "cell_type": "code",
      "source": [
        "dictionary = corpora.Dictionary(processed_data)"
      ],
      "metadata": {
        "id": "Ca3OujlXUjTA",
        "colab": {
          "base_uri": "https://localhost:8080/"
        },
        "outputId": "1b0847be-f292-419c-a8d0-790a91580a6a"
      },
      "execution_count": 78,
      "outputs": [
        {
          "output_type": "stream",
          "name": "stderr",
          "text": [
            "2022-06-19 06:20:48,267 : INFO : adding document #0 to Dictionary<0 unique tokens: []>\n",
            "2022-06-19 06:20:48,272 : INFO : built Dictionary<557 unique tokens: ['더', '때', '생기', '위젯', '공공시설']...> from 159 documents (total 1499 corpus positions)\n",
            "2022-06-19 06:20:48,275 : INFO : Dictionary lifecycle event {'msg': \"built Dictionary<557 unique tokens: ['더', '때', '생기', '위젯', '공공시설']...> from 159 documents (total 1499 corpus positions)\", 'datetime': '2022-06-19T06:20:48.275614', 'gensim': '4.2.0', 'python': '3.7.13 (default, Apr 24 2022, 01:04:09) \\n[GCC 7.5.0]', 'platform': 'Linux-5.4.188+-x86_64-with-Ubuntu-18.04-bionic', 'event': 'created'}\n"
          ]
        }
      ]
    },
    {
      "cell_type": "code",
      "source": [
        "dictionary.filter_extremes(no_above=0.5)\n",
        "\n",
        "# 전체의 50%로 이상 차지하는 단어는 제외"
      ],
      "metadata": {
        "id": "7dbTmIcWU3tr",
        "colab": {
          "base_uri": "https://localhost:8080/"
        },
        "outputId": "1141a3d6-ab9c-4842-81e6-d2dcc6ca7bfa"
      },
      "execution_count": 79,
      "outputs": [
        {
          "output_type": "stream",
          "name": "stderr",
          "text": [
            "2022-06-19 06:20:48,719 : INFO : discarding 485 tokens: [('더', 3), ('생기', 2), ('위젯', 2), ('공공시설', 2), ('쿠폰', 4), ('당장', 1), ('분', 1), ('아래', 3), ('얼른', 2), ('유저', 1)]...\n",
            "2022-06-19 06:20:48,724 : INFO : keeping 72 tokens which were in no less than 5 and no more than 79 (=50.0%) documents\n",
            "2022-06-19 06:20:48,728 : INFO : resulting dictionary: Dictionary<72 unique tokens: ['때', '사용', '서울시', '이용', '하나로']...>\n"
          ]
        }
      ]
    },
    {
      "cell_type": "code",
      "source": [
        "corpus = [dictionary.doc2bow(text) for text in processed_data]"
      ],
      "metadata": {
        "id": "Djqs8FNjWnGZ"
      },
      "execution_count": 80,
      "outputs": []
    },
    {
      "cell_type": "markdown",
      "source": [
        "**🔹 최적의 토픽 갯수 찾기**\n",
        "\n",
        "* Coherence : 토픽이 얼마나 의미론적으로 일관성 있는지 판단\n",
        "* 값이 높을수록 의미론적 일관성이 높음 "
      ],
      "metadata": {
        "id": "wmfITM6PdE6M"
      }
    },
    {
      "cell_type": "code",
      "source": [
        "pip install --upgrade gensim"
      ],
      "metadata": {
        "id": "kIZB1hUyk0Td"
      },
      "execution_count": null,
      "outputs": []
    },
    {
      "cell_type": "code",
      "source": [
        "pip install pyLDAvis"
      ],
      "metadata": {
        "id": "rbuYA8-kkvUf"
      },
      "execution_count": null,
      "outputs": []
    },
    {
      "cell_type": "code",
      "source": [
        "from gensim.models.coherencemodel import CoherenceModel\n",
        "import pickle\n",
        "import pyLDAvis\n",
        "import pyLDAvis.gensim_models\n",
        "from gensim.models.coherencemodel import CoherenceModel\n",
        "import matplotlib.pyplot as plt"
      ],
      "metadata": {
        "id": "cM-gQClbhVNg"
      },
      "execution_count": null,
      "outputs": []
    },
    {
      "cell_type": "code",
      "source": [
        "coherence_values = [] \n",
        "for i in range(2,6) : \n",
        "  ldamodel = LdaModel(corpus, num_topics=i, id2word = dictionary) \n",
        "  coherence_model_lda = CoherenceModel(model = ldamodel, texts = processed_data, dictionary = dictionary)\n",
        "  coherence_lda = coherence_model_lda.get_coherence()\n",
        "  coherence_values.append(coherence_lda)"
      ],
      "metadata": {
        "id": "9Q57jOqFV09F"
      },
      "execution_count": null,
      "outputs": []
    },
    {
      "cell_type": "code",
      "source": [
        "import matplotlib.pyplot as plt\n",
        "x = range(2,6)\n",
        "plt.plot(x,coherence_values) \n",
        "plt.show()"
      ],
      "metadata": {
        "colab": {
          "base_uri": "https://localhost:8080/",
          "height": 265
        },
        "id": "hx28tCKzWEBw",
        "outputId": "3e057460-b485-4cd3-ef8a-204a44d4f1ff"
      },
      "execution_count": 98,
      "outputs": [
        {
          "output_type": "display_data",
          "data": {
            "text/plain": [
              "<Figure size 432x288 with 1 Axes>"
            ],
            "image/png": "[encoded data removed]"
          },
          "metadata": {
            "needs_background": "light"
          }
        }
      ]
    },
    {
      "cell_type": "code",
      "source": [
        "num_topics = 4\n",
        "chunksize = 2000\n",
        "passes = 20\n",
        "iterations = 400\n",
        "eval_every = None\n",
        "\n",
        "temp = dictionary[0]\n",
        "id2word = dictionary.id2token\n",
        "\n",
        "model = LdaModel(\n",
        "    corpus=corpus,\n",
        "    id2word=id2word,\n",
        "    chunksize=chunksize,\n",
        "    alpha='auto',\n",
        "    eta='auto',\n",
        "    iterations=iterations,\n",
        "    num_topics=num_topics,\n",
        "    passes=passes,\n",
        "    eval_every=eval_every\n",
        ")"
      ],
      "metadata": {
        "id": "XRmMNi-LXBW9",
        "colab": {
          "base_uri": "https://localhost:8080/"
        },
        "outputId": "c0065e46-6080-4202-c495-b4c3ad89baf5"
      },
      "execution_count": 99,
      "outputs": [
        {
          "output_type": "stream",
          "name": "stderr",
          "text": [
            "2022-06-19 06:55:39,763 : INFO : using autotuned alpha, starting with [0.25, 0.25, 0.25, 0.25]\n",
            "2022-06-19 06:55:39,769 : INFO : using serial LDA version on this node\n",
            "2022-06-19 06:55:39,772 : INFO : running online (multi-pass) LDA training, 4 topics, 20 passes over the supplied corpus of 159 documents, updating model once every 159 documents, evaluating perplexity every 0 documents, iterating 400x with a convergence threshold of 0.001000\n",
            "2022-06-19 06:55:39,774 : INFO : PROGRESS: pass 0, at document #159/159\n",
            "2022-06-19 06:55:39,941 : INFO : optimized alpha [0.22146621, 0.23319998, 0.2161105, 0.18880957]\n",
            "2022-06-19 06:55:39,950 : INFO : topic #0 (0.221): 0.064*\"회원\" + 0.056*\"가입\" + 0.041*\"문자\" + 0.040*\"후\" + 0.040*\"확인\" + 0.040*\"이용\" + 0.032*\"정\" + 0.029*\"어플\" + 0.029*\"통합\" + 0.029*\"세션\"\n",
            "2022-06-19 06:55:39,959 : INFO : topic #1 (0.233): 0.075*\"본인\" + 0.052*\"계속\" + 0.047*\"연동\" + 0.042*\"입력\" + 0.038*\"가입\" + 0.033*\"문자\" + 0.029*\"쿠키\" + 0.029*\"확인\" + 0.029*\"접속\" + 0.028*\"하나요\"\n",
            "2022-06-19 06:55:39,963 : INFO : topic #2 (0.216): 0.085*\"발급\" + 0.039*\"이용\" + 0.038*\"가입\" + 0.038*\"어플\" + 0.038*\"시설\" + 0.028*\"본인\" + 0.028*\"통합\" + 0.027*\"서울시\" + 0.027*\"뭐\" + 0.023*\"문자\"\n",
            "2022-06-19 06:55:39,968 : INFO : topic #3 (0.189): 0.079*\"사용\" + 0.072*\"어플\" + 0.060*\"등록\" + 0.049*\"이용\" + 0.049*\"게\" + 0.048*\"업데이트\" + 0.037*\"왜\" + 0.037*\"건가\" + 0.037*\"에러\" + 0.026*\"연장\"\n",
            "2022-06-19 06:55:39,974 : INFO : topic diff=1.507830, rho=1.000000\n",
            "2022-06-19 06:55:39,981 : INFO : PROGRESS: pass 1, at document #159/159\n",
            "2022-06-19 06:55:40,114 : INFO : optimized alpha [0.2041445, 0.22406913, 0.19743487, 0.17186713]\n",
            "2022-06-19 06:55:40,123 : INFO : topic #0 (0.204): 0.069*\"회원\" + 0.063*\"가입\" + 0.041*\"후\" + 0.038*\"확인\" + 0.036*\"이용\" + 0.036*\"문자\" + 0.033*\"정\" + 0.033*\"세션\" + 0.031*\"통합\" + 0.029*\"어플\"\n",
            "2022-06-19 06:55:40,132 : INFO : topic #1 (0.224): 0.079*\"본인\" + 0.055*\"계속\" + 0.048*\"연동\" + 0.047*\"입력\" + 0.037*\"문자\" + 0.034*\"확인\" + 0.032*\"하나요\" + 0.032*\"가입\" + 0.030*\"쿠키\" + 0.029*\"설치\"\n",
            "2022-06-19 06:55:40,141 : INFO : topic #2 (0.197): 0.094*\"발급\" + 0.045*\"시설\" + 0.043*\"이용\" + 0.041*\"어플\" + 0.039*\"가입\" + 0.032*\"뭐\" + 0.031*\"서울시\" + 0.027*\"본인\" + 0.026*\"통합\" + 0.025*\"문자\"\n",
            "2022-06-19 06:55:40,143 : INFO : topic #3 (0.172): 0.094*\"사용\" + 0.066*\"어플\" + 0.063*\"등록\" + 0.052*\"이용\" + 0.049*\"업데이트\" + 0.045*\"게\" + 0.041*\"왜\" + 0.040*\"건가\" + 0.034*\"반납\" + 0.034*\"에러\"\n",
            "2022-06-19 06:55:40,149 : INFO : topic diff=0.209965, rho=0.577350\n",
            "2022-06-19 06:55:40,156 : INFO : PROGRESS: pass 2, at document #159/159\n",
            "2022-06-19 06:55:40,248 : INFO : optimized alpha [0.19064043, 0.21578816, 0.18370828, 0.16088997]\n",
            "2022-06-19 06:55:40,257 : INFO : topic #0 (0.191): 0.072*\"회원\" + 0.067*\"가입\" + 0.043*\"후\" + 0.037*\"확인\" + 0.034*\"세션\" + 0.034*\"정\" + 0.033*\"통합\" + 0.032*\"문자\" + 0.032*\"이용\" + 0.029*\"어플\"\n",
            "2022-06-19 06:55:40,265 : INFO : topic #1 (0.216): 0.082*\"본인\" + 0.055*\"계속\" + 0.049*\"입력\" + 0.048*\"연동\" + 0.041*\"문자\" + 0.038*\"확인\" + 0.034*\"하나요\" + 0.031*\"설치\" + 0.030*\"쿠키\" + 0.029*\"가입\"\n",
            "2022-06-19 06:55:40,268 : INFO : topic #2 (0.184): 0.098*\"발급\" + 0.052*\"시설\" + 0.047*\"이용\" + 0.042*\"어플\" + 0.040*\"가입\" + 0.034*\"뭐\" + 0.034*\"서울시\" + 0.026*\"문자\" + 0.026*\"통합\" + 0.025*\"추가\"\n",
            "2022-06-19 06:55:40,270 : INFO : topic #3 (0.161): 0.101*\"사용\" + 0.067*\"등록\" + 0.062*\"어플\" + 0.057*\"이용\" + 0.049*\"업데이트\" + 0.043*\"왜\" + 0.042*\"게\" + 0.040*\"건가\" + 0.037*\"반납\" + 0.032*\"에러\"\n",
            "2022-06-19 06:55:40,279 : INFO : topic diff=0.146930, rho=0.500000\n",
            "2022-06-19 06:55:40,282 : INFO : PROGRESS: pass 3, at document #159/159\n",
            "2022-06-19 06:55:40,379 : INFO : optimized alpha [0.18016383, 0.2097224, 0.17410861, 0.1533826]\n",
            "2022-06-19 06:55:40,384 : INFO : topic #0 (0.180): 0.074*\"회원\" + 0.072*\"가입\" + 0.046*\"후\" + 0.035*\"세션\" + 0.034*\"정\" + 0.034*\"통합\" + 0.033*\"확인\" + 0.030*\"이용\" + 0.030*\"어플\" + 0.030*\"다시\"\n",
            "2022-06-19 06:55:40,389 : INFO : topic #1 (0.210): 0.084*\"본인\" + 0.055*\"계속\" + 0.051*\"입력\" + 0.048*\"연동\" + 0.045*\"문자\" + 0.043*\"확인\" + 0.035*\"하나요\" + 0.032*\"설치\" + 0.030*\"쿠키\" + 0.027*\"접속\"\n",
            "2022-06-19 06:55:40,393 : INFO : topic #2 (0.174): 0.100*\"발급\" + 0.055*\"시설\" + 0.049*\"이용\" + 0.043*\"어플\" + 0.040*\"가입\" + 0.037*\"서울시\" + 0.035*\"뭐\" + 0.028*\"추가\" + 0.028*\"하나로\" + 0.026*\"통합\"\n",
            "2022-06-19 06:55:40,395 : INFO : topic #3 (0.153): 0.107*\"사용\" + 0.072*\"등록\" + 0.059*\"어플\" + 0.059*\"이용\" + 0.048*\"업데이트\" + 0.044*\"왜\" + 0.040*\"게\" + 0.039*\"건가\" + 0.039*\"반납\" + 0.032*\"개\"\n",
            "2022-06-19 06:55:40,397 : INFO : topic diff=0.112861, rho=0.447214\n",
            "2022-06-19 06:55:40,401 : INFO : PROGRESS: pass 4, at document #159/159\n",
            "2022-06-19 06:55:40,498 : INFO : optimized alpha [0.1721026, 0.20575407, 0.16687874, 0.14698851]\n",
            "2022-06-19 06:55:40,510 : INFO : topic #0 (0.172): 0.076*\"가입\" + 0.076*\"회원\" + 0.048*\"후\" + 0.035*\"세션\" + 0.035*\"정\" + 0.034*\"통합\" + 0.030*\"어플\" + 0.030*\"다시\" + 0.030*\"확인\" + 0.029*\"이용\"\n",
            "2022-06-19 06:55:40,516 : INFO : topic #1 (0.206): 0.087*\"본인\" + 0.055*\"계속\" + 0.052*\"입력\" + 0.049*\"문자\" + 0.049*\"연동\" + 0.047*\"확인\" + 0.035*\"하나요\" + 0.033*\"설치\" + 0.031*\"쿠키\" + 0.027*\"접속\"\n",
            "2022-06-19 06:55:40,519 : INFO : topic #2 (0.167): 0.102*\"발급\" + 0.057*\"시설\" + 0.052*\"이용\" + 0.043*\"어플\" + 0.041*\"가입\" + 0.039*\"서울시\" + 0.036*\"뭐\" + 0.029*\"추가\" + 0.029*\"하나로\" + 0.027*\"중\"\n",
            "2022-06-19 06:55:40,522 : INFO : topic #3 (0.147): 0.111*\"사용\" + 0.075*\"등록\" + 0.058*\"어플\" + 0.056*\"이용\" + 0.048*\"업데이트\" + 0.045*\"왜\" + 0.041*\"반납\" + 0.040*\"게\" + 0.039*\"건가\" + 0.033*\"개\"\n",
            "2022-06-19 06:55:40,528 : INFO : topic diff=0.091819, rho=0.408248\n",
            "2022-06-19 06:55:40,531 : INFO : PROGRESS: pass 5, at document #159/159\n",
            "2022-06-19 06:55:40,619 : INFO : optimized alpha [0.16547237, 0.20318447, 0.16125183, 0.14135936]\n",
            "2022-06-19 06:55:40,629 : INFO : topic #0 (0.165): 0.080*\"가입\" + 0.077*\"회원\" + 0.050*\"후\" + 0.035*\"정\" + 0.035*\"통합\" + 0.035*\"세션\" + 0.031*\"어플\" + 0.031*\"다시\" + 0.030*\"버튼\" + 0.029*\"이용\"\n",
            "2022-06-19 06:55:40,643 : INFO : topic #1 (0.203): 0.088*\"본인\" + 0.055*\"계속\" + 0.053*\"입력\" + 0.052*\"문자\" + 0.050*\"확인\" + 0.048*\"연동\" + 0.034*\"하나요\" + 0.033*\"설치\" + 0.032*\"쿠키\" + 0.027*\"접속\"\n",
            "2022-06-19 06:55:40,646 : INFO : topic #2 (0.161): 0.104*\"발급\" + 0.058*\"시설\" + 0.057*\"이용\" + 0.044*\"어플\" + 0.041*\"서울시\" + 0.041*\"가입\" + 0.037*\"뭐\" + 0.031*\"추가\" + 0.031*\"하나로\" + 0.028*\"중\"\n",
            "2022-06-19 06:55:40,648 : INFO : topic #3 (0.141): 0.114*\"사용\" + 0.077*\"등록\" + 0.058*\"어플\" + 0.051*\"이용\" + 0.048*\"업데이트\" + 0.046*\"왜\" + 0.043*\"반납\" + 0.040*\"게\" + 0.039*\"건가\" + 0.034*\"개\"\n",
            "2022-06-19 06:55:40,650 : INFO : topic diff=0.077720, rho=0.377964\n",
            "2022-06-19 06:55:40,653 : INFO : PROGRESS: pass 6, at document #159/159\n",
            "2022-06-19 06:55:40,748 : INFO : optimized alpha [0.15942556, 0.20031631, 0.15752982, 0.13658197]\n",
            "2022-06-19 06:55:40,753 : INFO : topic #0 (0.159): 0.083*\"가입\" + 0.078*\"회원\" + 0.051*\"후\" + 0.036*\"정\" + 0.036*\"통합\" + 0.034*\"세션\" + 0.031*\"다시\" + 0.030*\"버튼\" + 0.030*\"어플\" + 0.027*\"이용\"\n",
            "2022-06-19 06:55:40,759 : INFO : topic #1 (0.200): 0.090*\"본인\" + 0.054*\"계속\" + 0.054*\"문자\" + 0.053*\"입력\" + 0.051*\"확인\" + 0.047*\"연동\" + 0.034*\"하나요\" + 0.033*\"쿠키\" + 0.032*\"설치\" + 0.028*\"접속\"\n",
            "2022-06-19 06:55:40,762 : INFO : topic #2 (0.158): 0.104*\"발급\" + 0.064*\"이용\" + 0.059*\"시설\" + 0.046*\"어플\" + 0.042*\"서울시\" + 0.041*\"가입\" + 0.037*\"뭐\" + 0.031*\"추가\" + 0.031*\"하나로\" + 0.029*\"중\"\n",
            "2022-06-19 06:55:40,764 : INFO : topic #3 (0.137): 0.116*\"사용\" + 0.081*\"등록\" + 0.058*\"어플\" + 0.047*\"업데이트\" + 0.046*\"왜\" + 0.045*\"이용\" + 0.044*\"반납\" + 0.041*\"게\" + 0.039*\"건가\" + 0.035*\"개\"\n",
            "2022-06-19 06:55:40,766 : INFO : topic diff=0.068875, rho=0.353553\n",
            "2022-06-19 06:55:40,770 : INFO : PROGRESS: pass 7, at document #159/159\n",
            "2022-06-19 06:55:40,852 : INFO : optimized alpha [0.1541725, 0.19750182, 0.15447469, 0.13189177]\n",
            "2022-06-19 06:55:40,857 : INFO : topic #0 (0.154): 0.086*\"가입\" + 0.080*\"회원\" + 0.052*\"후\" + 0.036*\"정\" + 0.036*\"통합\" + 0.034*\"세션\" + 0.032*\"다시\" + 0.031*\"버튼\" + 0.029*\"어플\" + 0.027*\"신청\"\n",
            "2022-06-19 06:55:40,862 : INFO : topic #1 (0.198): 0.091*\"본인\" + 0.056*\"문자\" + 0.054*\"계속\" + 0.054*\"입력\" + 0.052*\"확인\" + 0.046*\"연동\" + 0.034*\"쿠키\" + 0.033*\"하나요\" + 0.031*\"설치\" + 0.028*\"접속\"\n",
            "2022-06-19 06:55:40,865 : INFO : topic #2 (0.154): 0.104*\"발급\" + 0.070*\"이용\" + 0.059*\"시설\" + 0.049*\"어플\" + 0.043*\"서울시\" + 0.040*\"가입\" + 0.037*\"뭐\" + 0.031*\"하나로\" + 0.031*\"추가\" + 0.029*\"중\"\n",
            "2022-06-19 06:55:40,868 : INFO : topic #3 (0.132): 0.118*\"사용\" + 0.085*\"등록\" + 0.055*\"어플\" + 0.047*\"왜\" + 0.045*\"업데이트\" + 0.045*\"반납\" + 0.042*\"게\" + 0.042*\"이용\" + 0.040*\"건가\" + 0.036*\"개\"\n",
            "2022-06-19 06:55:40,870 : INFO : topic diff=0.059265, rho=0.333333\n",
            "2022-06-19 06:55:40,873 : INFO : PROGRESS: pass 8, at document #159/159\n",
            "2022-06-19 06:55:40,966 : INFO : optimized alpha [0.14927109, 0.19474949, 0.1516497, 0.12807792]\n",
            "2022-06-19 06:55:40,971 : INFO : topic #0 (0.149): 0.088*\"가입\" + 0.081*\"회원\" + 0.053*\"후\" + 0.036*\"정\" + 0.036*\"통합\" + 0.033*\"세션\" + 0.032*\"다시\" + 0.031*\"버튼\" + 0.029*\"어플\" + 0.028*\"신청\"\n",
            "2022-06-19 06:55:40,976 : INFO : topic #1 (0.195): 0.092*\"본인\" + 0.057*\"문자\" + 0.054*\"입력\" + 0.054*\"계속\" + 0.053*\"확인\" + 0.045*\"연동\" + 0.035*\"쿠키\" + 0.033*\"하나요\" + 0.031*\"설치\" + 0.028*\"접속\"\n",
            "2022-06-19 06:55:40,979 : INFO : topic #2 (0.152): 0.104*\"발급\" + 0.073*\"이용\" + 0.059*\"시설\" + 0.051*\"어플\" + 0.043*\"서울시\" + 0.040*\"가입\" + 0.037*\"뭐\" + 0.031*\"하나로\" + 0.031*\"추가\" + 0.030*\"중\"\n",
            "2022-06-19 06:55:40,983 : INFO : topic #3 (0.128): 0.119*\"사용\" + 0.087*\"등록\" + 0.053*\"어플\" + 0.047*\"왜\" + 0.046*\"반납\" + 0.043*\"업데이트\" + 0.043*\"게\" + 0.040*\"건가\" + 0.039*\"이용\" + 0.037*\"개\"\n",
            "2022-06-19 06:55:40,985 : INFO : topic diff=0.049405, rho=0.316228\n",
            "2022-06-19 06:55:40,988 : INFO : PROGRESS: pass 9, at document #159/159\n",
            "2022-06-19 06:55:41,120 : INFO : optimized alpha [0.1449503, 0.19206353, 0.1490301, 0.12470628]\n",
            "2022-06-19 06:55:41,125 : INFO : topic #0 (0.145): 0.089*\"가입\" + 0.081*\"회원\" + 0.054*\"후\" + 0.037*\"정\" + 0.037*\"통합\" + 0.032*\"다시\" + 0.032*\"세션\" + 0.031*\"버튼\" + 0.029*\"어플\" + 0.028*\"신청\"\n",
            "2022-06-19 06:55:41,130 : INFO : topic #1 (0.192): 0.092*\"본인\" + 0.058*\"문자\" + 0.054*\"입력\" + 0.054*\"계속\" + 0.053*\"확인\" + 0.044*\"연동\" + 0.035*\"쿠키\" + 0.033*\"하나요\" + 0.030*\"설치\" + 0.028*\"접속\"\n",
            "2022-06-19 06:55:41,133 : INFO : topic #2 (0.149): 0.104*\"발급\" + 0.076*\"이용\" + 0.059*\"시설\" + 0.053*\"어플\" + 0.043*\"서울시\" + 0.040*\"가입\" + 0.037*\"뭐\" + 0.032*\"하나로\" + 0.032*\"추가\" + 0.030*\"중\"\n",
            "2022-06-19 06:55:41,136 : INFO : topic #3 (0.125): 0.119*\"사용\" + 0.088*\"등록\" + 0.052*\"어플\" + 0.048*\"왜\" + 0.046*\"반납\" + 0.044*\"게\" + 0.042*\"업데이트\" + 0.040*\"건가\" + 0.037*\"개\" + 0.037*\"이용\"\n",
            "2022-06-19 06:55:41,138 : INFO : topic diff=0.040682, rho=0.301511\n",
            "2022-06-19 06:55:41,141 : INFO : PROGRESS: pass 10, at document #159/159\n",
            "2022-06-19 06:55:41,230 : INFO : optimized alpha [0.14144424, 0.18960948, 0.1469291, 0.12172903]\n",
            "2022-06-19 06:55:41,234 : INFO : topic #0 (0.141): 0.090*\"가입\" + 0.082*\"회원\" + 0.054*\"후\" + 0.037*\"정\" + 0.037*\"통합\" + 0.032*\"다시\" + 0.032*\"세션\" + 0.031*\"버튼\" + 0.029*\"신청\" + 0.029*\"어플\"\n",
            "2022-06-19 06:55:41,241 : INFO : topic #1 (0.190): 0.093*\"본인\" + 0.059*\"문자\" + 0.055*\"입력\" + 0.054*\"확인\" + 0.053*\"계속\" + 0.043*\"연동\" + 0.036*\"쿠키\" + 0.033*\"하나요\" + 0.030*\"설치\" + 0.029*\"접속\"\n",
            "2022-06-19 06:55:41,246 : INFO : topic #2 (0.147): 0.104*\"발급\" + 0.080*\"이용\" + 0.059*\"시설\" + 0.054*\"어플\" + 0.043*\"서울시\" + 0.040*\"가입\" + 0.037*\"뭐\" + 0.032*\"하나로\" + 0.032*\"추가\" + 0.030*\"중\"\n",
            "2022-06-19 06:55:41,248 : INFO : topic #3 (0.122): 0.120*\"사용\" + 0.090*\"등록\" + 0.051*\"어플\" + 0.048*\"반납\" + 0.048*\"왜\" + 0.044*\"게\" + 0.042*\"업데이트\" + 0.040*\"건가\" + 0.038*\"개\" + 0.033*\"이용\"\n",
            "2022-06-19 06:55:41,251 : INFO : topic diff=0.038593, rho=0.288675\n",
            "2022-06-19 06:55:41,255 : INFO : PROGRESS: pass 11, at document #159/159\n",
            "2022-06-19 06:55:41,331 : INFO : optimized alpha [0.13802752, 0.18722662, 0.14496261, 0.11952732]\n",
            "2022-06-19 06:55:41,335 : INFO : topic #0 (0.138): 0.091*\"가입\" + 0.082*\"회원\" + 0.055*\"후\" + 0.037*\"정\" + 0.037*\"통합\" + 0.033*\"다시\" + 0.032*\"버튼\" + 0.031*\"세션\" + 0.030*\"신청\" + 0.029*\"어플\"\n",
            "2022-06-19 06:55:41,340 : INFO : topic #1 (0.187): 0.094*\"본인\" + 0.060*\"문자\" + 0.055*\"입력\" + 0.054*\"확인\" + 0.054*\"계속\" + 0.042*\"연동\" + 0.037*\"쿠키\" + 0.033*\"하나요\" + 0.030*\"설치\" + 0.029*\"접속\"\n",
            "2022-06-19 06:55:41,345 : INFO : topic #2 (0.145): 0.104*\"발급\" + 0.083*\"이용\" + 0.059*\"시설\" + 0.054*\"어플\" + 0.044*\"서울시\" + 0.040*\"가입\" + 0.037*\"뭐\" + 0.032*\"하나로\" + 0.032*\"추가\" + 0.030*\"중\"\n",
            "2022-06-19 06:55:41,346 : INFO : topic #3 (0.120): 0.118*\"사용\" + 0.090*\"등록\" + 0.051*\"반납\" + 0.050*\"어플\" + 0.047*\"왜\" + 0.044*\"게\" + 0.041*\"업데이트\" + 0.039*\"건가\" + 0.037*\"개\" + 0.036*\"연장\"\n",
            "2022-06-19 06:55:41,349 : INFO : topic diff=0.039009, rho=0.277350\n",
            "2022-06-19 06:55:41,352 : INFO : PROGRESS: pass 12, at document #159/159\n",
            "2022-06-19 06:55:41,454 : INFO : optimized alpha [0.13495155, 0.18491359, 0.14310451, 0.11751969]\n",
            "2022-06-19 06:55:41,458 : INFO : topic #0 (0.135): 0.092*\"가입\" + 0.083*\"회원\" + 0.055*\"후\" + 0.037*\"정\" + 0.037*\"통합\" + 0.033*\"다시\" + 0.032*\"버튼\" + 0.031*\"신청\" + 0.031*\"세션\" + 0.029*\"어플\"\n",
            "2022-06-19 06:55:41,464 : INFO : topic #1 (0.185): 0.094*\"본인\" + 0.061*\"문자\" + 0.055*\"입력\" + 0.054*\"확인\" + 0.054*\"계속\" + 0.042*\"연동\" + 0.037*\"쿠키\" + 0.033*\"하나요\" + 0.030*\"설치\" + 0.029*\"접속\"\n",
            "2022-06-19 06:55:41,469 : INFO : topic #2 (0.143): 0.104*\"발급\" + 0.085*\"이용\" + 0.059*\"시설\" + 0.055*\"어플\" + 0.044*\"서울시\" + 0.040*\"가입\" + 0.037*\"뭐\" + 0.032*\"하나로\" + 0.032*\"추가\" + 0.030*\"중\"\n",
            "2022-06-19 06:55:41,471 : INFO : topic #3 (0.118): 0.117*\"사용\" + 0.089*\"등록\" + 0.054*\"반납\" + 0.049*\"어플\" + 0.047*\"왜\" + 0.044*\"게\" + 0.040*\"연장\" + 0.040*\"업데이트\" + 0.039*\"건가\" + 0.037*\"개\"\n",
            "2022-06-19 06:55:41,475 : INFO : topic diff=0.033701, rho=0.267261\n",
            "2022-06-19 06:55:41,478 : INFO : PROGRESS: pass 13, at document #159/159\n",
            "2022-06-19 06:55:41,610 : INFO : optimized alpha [0.13240448, 0.18271178, 0.14137006, 0.11568562]\n",
            "2022-06-19 06:55:41,640 : INFO : topic #0 (0.132): 0.093*\"가입\" + 0.083*\"회원\" + 0.055*\"후\" + 0.037*\"정\" + 0.037*\"통합\" + 0.033*\"다시\" + 0.032*\"버튼\" + 0.031*\"신청\" + 0.030*\"세션\" + 0.029*\"어플\"\n",
            "2022-06-19 06:55:41,649 : INFO : topic #1 (0.183): 0.095*\"본인\" + 0.061*\"문자\" + 0.056*\"입력\" + 0.055*\"확인\" + 0.054*\"계속\" + 0.041*\"연동\" + 0.038*\"쿠키\" + 0.033*\"하나요\" + 0.030*\"설치\" + 0.029*\"접속\"\n",
            "2022-06-19 06:55:41,657 : INFO : topic #2 (0.141): 0.105*\"발급\" + 0.086*\"이용\" + 0.059*\"시설\" + 0.055*\"어플\" + 0.044*\"서울시\" + 0.040*\"가입\" + 0.037*\"뭐\" + 0.032*\"하나로\" + 0.032*\"추가\" + 0.030*\"중\"\n",
            "2022-06-19 06:55:41,672 : INFO : topic #3 (0.116): 0.117*\"사용\" + 0.089*\"등록\" + 0.056*\"반납\" + 0.049*\"어플\" + 0.047*\"왜\" + 0.044*\"게\" + 0.043*\"연장\" + 0.039*\"업데이트\" + 0.039*\"할인\" + 0.039*\"건가\"\n",
            "2022-06-19 06:55:41,679 : INFO : topic diff=0.029542, rho=0.258199\n",
            "2022-06-19 06:55:41,686 : INFO : PROGRESS: pass 14, at document #159/159\n",
            "2022-06-19 06:55:41,816 : INFO : optimized alpha [0.13031058, 0.18063287, 0.13975032, 0.11399545]\n",
            "2022-06-19 06:55:41,826 : INFO : topic #0 (0.130): 0.095*\"가입\" + 0.083*\"회원\" + 0.055*\"후\" + 0.037*\"정\" + 0.037*\"통합\" + 0.033*\"다시\" + 0.032*\"버튼\" + 0.032*\"신청\" + 0.030*\"세션\" + 0.030*\"어플\"\n",
            "2022-06-19 06:55:41,834 : INFO : topic #1 (0.181): 0.096*\"본인\" + 0.062*\"문자\" + 0.056*\"입력\" + 0.055*\"확인\" + 0.054*\"계속\" + 0.041*\"연동\" + 0.038*\"쿠키\" + 0.033*\"하나요\" + 0.030*\"설치\" + 0.029*\"접속\"\n",
            "2022-06-19 06:55:41,838 : INFO : topic #2 (0.140): 0.105*\"발급\" + 0.089*\"이용\" + 0.059*\"시설\" + 0.054*\"어플\" + 0.044*\"서울시\" + 0.040*\"가입\" + 0.037*\"뭐\" + 0.032*\"하나로\" + 0.032*\"추가\" + 0.031*\"모든\"\n",
            "2022-06-19 06:55:41,842 : INFO : topic #3 (0.114): 0.116*\"사용\" + 0.089*\"등록\" + 0.058*\"반납\" + 0.048*\"어플\" + 0.046*\"왜\" + 0.046*\"연장\" + 0.044*\"게\" + 0.041*\"할인\" + 0.039*\"업데이트\" + 0.038*\"건가\"\n",
            "2022-06-19 06:55:41,848 : INFO : topic diff=0.026365, rho=0.250000\n",
            "2022-06-19 06:55:41,854 : INFO : PROGRESS: pass 15, at document #159/159\n",
            "2022-06-19 06:55:41,939 : INFO : optimized alpha [0.12837577, 0.17864014, 0.1382282, 0.11242208]\n",
            "2022-06-19 06:55:41,948 : INFO : topic #0 (0.128): 0.096*\"가입\" + 0.083*\"회원\" + 0.055*\"후\" + 0.037*\"정\" + 0.037*\"통합\" + 0.033*\"다시\" + 0.032*\"신청\" + 0.032*\"버튼\" + 0.030*\"어플\" + 0.029*\"세션\"\n",
            "2022-06-19 06:55:41,956 : INFO : topic #1 (0.179): 0.096*\"본인\" + 0.062*\"문자\" + 0.056*\"입력\" + 0.055*\"확인\" + 0.054*\"계속\" + 0.041*\"연동\" + 0.039*\"쿠키\" + 0.033*\"하나요\" + 0.030*\"설치\" + 0.029*\"접속\"\n",
            "2022-06-19 06:55:41,961 : INFO : topic #2 (0.138): 0.105*\"발급\" + 0.091*\"이용\" + 0.059*\"시설\" + 0.053*\"어플\" + 0.044*\"서울시\" + 0.040*\"가입\" + 0.037*\"뭐\" + 0.032*\"하나로\" + 0.032*\"추가\" + 0.031*\"모든\"\n",
            "2022-06-19 06:55:41,964 : INFO : topic #3 (0.112): 0.116*\"사용\" + 0.089*\"등록\" + 0.059*\"반납\" + 0.048*\"연장\" + 0.048*\"어플\" + 0.046*\"왜\" + 0.044*\"게\" + 0.043*\"할인\" + 0.039*\"업데이트\" + 0.038*\"건가\"\n",
            "2022-06-19 06:55:41,970 : INFO : topic diff=0.023256, rho=0.242536\n",
            "2022-06-19 06:55:41,976 : INFO : PROGRESS: pass 16, at document #159/159\n",
            "2022-06-19 06:55:42,103 : INFO : optimized alpha [0.12638614, 0.17672439, 0.13698931, 0.11095224]\n",
            "2022-06-19 06:55:42,106 : INFO : topic #0 (0.126): 0.097*\"가입\" + 0.083*\"회원\" + 0.055*\"후\" + 0.037*\"정\" + 0.037*\"통합\" + 0.033*\"다시\" + 0.032*\"신청\" + 0.032*\"버튼\" + 0.030*\"어플\" + 0.029*\"세션\"\n",
            "2022-06-19 06:55:42,113 : INFO : topic #1 (0.177): 0.096*\"본인\" + 0.063*\"문자\" + 0.057*\"입력\" + 0.055*\"확인\" + 0.054*\"계속\" + 0.040*\"연동\" + 0.039*\"쿠키\" + 0.033*\"하나요\" + 0.030*\"설치\" + 0.029*\"접속\"\n",
            "2022-06-19 06:55:42,117 : INFO : topic #2 (0.137): 0.105*\"발급\" + 0.093*\"이용\" + 0.059*\"시설\" + 0.054*\"어플\" + 0.044*\"서울시\" + 0.040*\"가입\" + 0.037*\"뭐\" + 0.032*\"하나로\" + 0.032*\"추가\" + 0.031*\"모든\"\n",
            "2022-06-19 06:55:42,124 : INFO : topic #3 (0.111): 0.116*\"사용\" + 0.089*\"등록\" + 0.060*\"반납\" + 0.050*\"연장\" + 0.048*\"어플\" + 0.046*\"왜\" + 0.044*\"게\" + 0.044*\"할인\" + 0.039*\"업데이트\" + 0.038*\"건가\"\n",
            "2022-06-19 06:55:42,129 : INFO : topic diff=0.020578, rho=0.235702\n",
            "2022-06-19 06:55:42,135 : INFO : PROGRESS: pass 17, at document #159/159\n",
            "2022-06-19 06:55:42,216 : INFO : optimized alpha [0.1247159, 0.17467788, 0.13559859, 0.10971918]\n",
            "2022-06-19 06:55:42,221 : INFO : topic #0 (0.125): 0.097*\"가입\" + 0.083*\"회원\" + 0.055*\"후\" + 0.037*\"정\" + 0.037*\"통합\" + 0.033*\"다시\" + 0.032*\"신청\" + 0.032*\"버튼\" + 0.031*\"어플\" + 0.029*\"세션\"\n",
            "2022-06-19 06:55:42,227 : INFO : topic #1 (0.175): 0.097*\"본인\" + 0.063*\"문자\" + 0.057*\"입력\" + 0.055*\"확인\" + 0.054*\"계속\" + 0.040*\"연동\" + 0.039*\"쿠키\" + 0.033*\"하나요\" + 0.030*\"설치\" + 0.029*\"접속\"\n",
            "2022-06-19 06:55:42,233 : INFO : topic #2 (0.136): 0.105*\"발급\" + 0.095*\"이용\" + 0.059*\"시설\" + 0.053*\"어플\" + 0.044*\"서울시\" + 0.040*\"가입\" + 0.037*\"뭐\" + 0.032*\"하나로\" + 0.032*\"추가\" + 0.031*\"모든\"\n",
            "2022-06-19 06:55:42,237 : INFO : topic #3 (0.110): 0.116*\"사용\" + 0.089*\"등록\" + 0.061*\"반납\" + 0.051*\"연장\" + 0.048*\"어플\" + 0.046*\"왜\" + 0.046*\"할인\" + 0.044*\"게\" + 0.038*\"업데이트\" + 0.038*\"건가\"\n",
            "2022-06-19 06:55:42,244 : INFO : topic diff=0.019920, rho=0.229416\n",
            "2022-06-19 06:55:42,253 : INFO : PROGRESS: pass 18, at document #159/159\n",
            "2022-06-19 06:55:42,345 : INFO : optimized alpha [0.122971855, 0.17274506, 0.13446489, 0.10856046]\n",
            "2022-06-19 06:55:42,354 : INFO : topic #0 (0.123): 0.098*\"가입\" + 0.083*\"회원\" + 0.055*\"후\" + 0.037*\"정\" + 0.037*\"통합\" + 0.033*\"다시\" + 0.032*\"신청\" + 0.032*\"버튼\" + 0.030*\"어플\" + 0.028*\"세션\"\n",
            "2022-06-19 06:55:42,358 : INFO : topic #1 (0.173): 0.097*\"본인\" + 0.064*\"문자\" + 0.057*\"입력\" + 0.056*\"확인\" + 0.055*\"계속\" + 0.040*\"쿠키\" + 0.039*\"연동\" + 0.033*\"하나요\" + 0.030*\"설치\" + 0.029*\"접속\"\n",
            "2022-06-19 06:55:42,364 : INFO : topic #2 (0.134): 0.105*\"발급\" + 0.097*\"이용\" + 0.059*\"시설\" + 0.054*\"어플\" + 0.044*\"서울시\" + 0.040*\"가입\" + 0.037*\"뭐\" + 0.032*\"하나로\" + 0.032*\"추가\" + 0.031*\"모든\"\n",
            "2022-06-19 06:55:42,367 : INFO : topic #3 (0.109): 0.115*\"사용\" + 0.089*\"등록\" + 0.062*\"반납\" + 0.052*\"연장\" + 0.047*\"할인\" + 0.047*\"어플\" + 0.046*\"왜\" + 0.044*\"게\" + 0.038*\"업데이트\" + 0.038*\"건가\"\n",
            "2022-06-19 06:55:42,371 : INFO : topic diff=0.017687, rho=0.223607\n",
            "2022-06-19 06:55:42,377 : INFO : PROGRESS: pass 19, at document #159/159\n",
            "2022-06-19 06:55:42,460 : INFO : optimized alpha [0.12150804, 0.17093197, 0.1333889, 0.107474834]\n",
            "2022-06-19 06:55:42,465 : INFO : topic #0 (0.122): 0.099*\"가입\" + 0.083*\"회원\" + 0.055*\"후\" + 0.037*\"정\" + 0.037*\"통합\" + 0.033*\"다시\" + 0.033*\"신청\" + 0.032*\"버튼\" + 0.030*\"어플\" + 0.028*\"선택\"\n",
            "2022-06-19 06:55:42,470 : INFO : topic #1 (0.171): 0.097*\"본인\" + 0.064*\"문자\" + 0.057*\"입력\" + 0.056*\"확인\" + 0.055*\"계속\" + 0.040*\"쿠키\" + 0.039*\"연동\" + 0.033*\"하나요\" + 0.030*\"설치\" + 0.029*\"접속\"\n",
            "2022-06-19 06:55:42,474 : INFO : topic #2 (0.133): 0.104*\"발급\" + 0.098*\"이용\" + 0.059*\"시설\" + 0.054*\"어플\" + 0.044*\"서울시\" + 0.040*\"가입\" + 0.037*\"뭐\" + 0.032*\"하나로\" + 0.032*\"추가\" + 0.031*\"모든\"\n",
            "2022-06-19 06:55:42,475 : INFO : topic #3 (0.107): 0.115*\"사용\" + 0.089*\"등록\" + 0.062*\"반납\" + 0.053*\"연장\" + 0.049*\"할인\" + 0.047*\"어플\" + 0.046*\"왜\" + 0.044*\"게\" + 0.038*\"업데이트\" + 0.038*\"건가\"\n",
            "2022-06-19 06:55:42,477 : INFO : topic diff=0.015943, rho=0.218218\n",
            "2022-06-19 06:55:42,480 : INFO : LdaModel lifecycle event {'msg': 'trained LdaModel<num_terms=72, num_topics=4, decay=0.5, chunksize=2000> in 2.71s', 'datetime': '2022-06-19T06:55:42.480277', 'gensim': '4.2.0', 'python': '3.7.13 (default, Apr 24 2022, 01:04:09) \\n[GCC 7.5.0]', 'platform': 'Linux-5.4.188+-x86_64-with-Ubuntu-18.04-bionic', 'event': 'created'}\n"
          ]
        }
      ]
    },
    {
      "cell_type": "code",
      "source": [
        "top_topics = model.top_topics(corpus)\n",
        "\n",
        "# Average topic coherence is the sum of topic coherences of all topics, divided by the number of topics.\n",
        "avg_topic_coherence = sum([t[1] for t in top_topics]) / num_topics\n",
        "print('Average topic coherence: %.4f.' % avg_topic_coherence)\n",
        "\n",
        "from pprint import pprint\n",
        "pprint(top_topics)\n",
        "\n",
        "# 1.본인 확인 인증 문자 오류 \n",
        "# 2. 접속/업데이트 오류\n",
        "# 3. 회원 가입 오류"
      ],
      "metadata": {
        "id": "UZ_HcIyzXBOf",
        "colab": {
          "base_uri": "https://localhost:8080/"
        },
        "outputId": "0cdca046-c712-46cb-c93c-422ed91745e8"
      },
      "execution_count": 100,
      "outputs": [
        {
          "output_type": "stream",
          "name": "stdout",
          "text": [
            "Average topic coherence: -12.4644.\n",
            "[([(0.09930646, '가입'),\n",
            "   (0.082650386, '회원'),\n",
            "   (0.055445332, '후'),\n",
            "   (0.037385046, '정'),\n",
            "   (0.0373832, '통합'),\n",
            "   (0.032852795, '다시'),\n",
            "   (0.032526, '신청'),\n",
            "   (0.031760007, '버튼'),\n",
            "   (0.029645765, '어플'),\n",
            "   (0.028253926, '선택'),\n",
            "   (0.028098028, '세션'),\n",
            "   (0.023631647, '정말'),\n",
            "   (0.023615614, '값'),\n",
            "   (0.023421116, '문제'),\n",
            "   (0.021187924, '확인'),\n",
            "   (0.020424454, '이용'),\n",
            "   (0.019906914, '등록'),\n",
            "   (0.019575562, '다른'),\n",
            "   (0.019258128, '삭제'),\n",
            "   (0.01922553, '다음')],\n",
            "  -10.410178063585356),\n",
            " ([(0.10448076, '발급'),\n",
            "   (0.097771645, '이용'),\n",
            "   (0.05926003, '시설'),\n",
            "   (0.054080706, '어플'),\n",
            "   (0.043910105, '서울시'),\n",
            "   (0.03986935, '가입'),\n",
            "   (0.0369646, '뭐'),\n",
            "   (0.03182997, '하나로'),\n",
            "   (0.031763565, '추가'),\n",
            "   (0.031062499, '모든'),\n",
            "   (0.030557554, '중'),\n",
            "   (0.025801733, '통합'),\n",
            "   (0.025797484, '내'),\n",
            "   (0.025796473, '수정'),\n",
            "   (0.02578979, '메시지'),\n",
            "   (0.02161887, '오류'),\n",
            "   (0.01956553, '문제'),\n",
            "   (0.01939497, '연동'),\n",
            "   (0.018982079, '문자'),\n",
            "   (0.017938849, '때')],\n",
            "  -11.64499821223219),\n",
            " ([(0.09719792, '본인'),\n",
            "   (0.06389884, '문자'),\n",
            "   (0.057102606, '입력'),\n",
            "   (0.055705093, '확인'),\n",
            "   (0.054650668, '계속'),\n",
            "   (0.03997707, '쿠키'),\n",
            "   (0.038617637, '연동'),\n",
            "   (0.03320221, '하나요'),\n",
            "   (0.029819123, '설치'),\n",
            "   (0.029193033, '접속'),\n",
            "   (0.028890619, '아이폰'),\n",
            "   (0.02499442, '보안'),\n",
            "   (0.02462747, '실행'),\n",
            "   (0.023510361, '오류'),\n",
            "   (0.021176195, '자꾸'),\n",
            "   (0.02066769, '세션'),\n",
            "   (0.020374784, '개선'),\n",
            "   (0.020256566, '번'),\n",
            "   (0.018745922, '시도'),\n",
            "   (0.018726703, '사용')],\n",
            "  -11.74994871982045),\n",
            " ([(0.11507925, '사용'),\n",
            "   (0.088994086, '등록'),\n",
            "   (0.062460396, '반납'),\n",
            "   (0.05281658, '연장'),\n",
            "   (0.049006887, '할인'),\n",
            "   (0.047233116, '어플'),\n",
            "   (0.04608067, '왜'),\n",
            "   (0.043977913, '게'),\n",
            "   (0.03818964, '업데이트'),\n",
            "   (0.0381028, '건가'),\n",
            "   (0.036942035, '개'),\n",
            "   (0.02911684, '에러'),\n",
            "   (0.024511382, '시설'),\n",
            "   (0.020170074, '못'),\n",
            "   (0.020168724, '시도'),\n",
            "   (0.02016535, '기능'),\n",
            "   (0.019422118, '곳'),\n",
            "   (0.018935243, '계속'),\n",
            "   (0.01765121, '해결'),\n",
            "   (0.016026687, '삭제')],\n",
            "  -16.052621145824894)]\n"
          ]
        }
      ]
    },
    {
      "cell_type": "code",
      "source": [
        "pyLDAvis.enable_notebook()\n",
        "vis = pyLDAvis.gensim_models.prepare(model, corpus, dictionary)\n",
        "vis"
      ],
      "metadata": {
        "id": "QSiuVBP7Ku8E",
        "colab": {
          "base_uri": "https://localhost:8080/",
          "height": 916
        },
        "outputId": "7d90ad3d-6b7c-49ab-8d28-269a3239fb25"
      },
      "execution_count": 101,
      "outputs": [
        {
          "output_type": "stream",
          "name": "stderr",
          "text": [
            "/usr/local/lib/python3.7/dist-packages/pyLDAvis/_prepare.py:247: FutureWarning: In a future version of pandas all arguments of DataFrame.drop except for the argument 'labels' will be keyword-only\n",
            "  by='saliency', ascending=False).head(R).drop('saliency', 1)\n"
          ]
        },
        {
          "output_type": "execute_result",
          "data": {
            "text/plain": [
              "PreparedData(topic_coordinates=              x         y  topics  cluster       Freq\n",
              "topic                                                \n",
              "1     -0.167443 -0.134294       1        1  33.868854\n",
              "0      0.109831 -0.084650       2        1  30.324939\n",
              "2      0.145812  0.026158       3        1  21.826846\n",
              "3     -0.088200  0.192786       4        1  13.979361, topic_info=   Term       Freq      Total Category  logprob  loglift\n",
              "1    사용  15.000000  15.000000  Default  30.0000  30.0000\n",
              "17   발급  16.000000  16.000000  Default  29.0000  29.0000\n",
              "8    본인  22.000000  22.000000  Default  28.0000  28.0000\n",
              "36   회원  17.000000  17.000000  Default  27.0000  27.0000\n",
              "3    이용  19.000000  19.000000  Default  26.0000  26.0000\n",
              "..  ...        ...        ...      ...      ...      ...\n",
              "3    이용   0.956434  19.719233   Topic4  -4.5887  -1.0585\n",
              "4   하나로   0.213513   5.353262   Topic4  -6.0882  -1.2542\n",
              "69   정말   0.218537   5.517236   Topic4  -6.0650  -1.2611\n",
              "10  아이폰   0.268354   7.321401   Topic4  -5.8596  -1.3387\n",
              "6    개선   0.239821   6.373787   Topic4  -5.9720  -1.3125\n",
              "\n",
              "[162 rows x 6 columns], token_table=      Topic      Freq Term\n",
              "term                      \n",
              "29        1  0.070380   가입\n",
              "29        2  0.703802   가입\n",
              "29        3  0.211141   가입\n",
              "48        2  0.779999    값\n",
              "48        3  0.156000    값\n",
              "...     ...       ...  ...\n",
              "21        2  0.311642   해도\n",
              "24        1  0.744533   확인\n",
              "24        2  0.229087   확인\n",
              "36        2  0.969134   회원\n",
              "37        2  0.917234    후\n",
              "\n",
              "[161 rows x 3 columns], R=30, lambda_step=0.01, plot_opts={'xlab': 'PC1', 'ylab': 'PC2'}, topic_order=[2, 1, 3, 4])"
            ],
            "text/html": [
              "\n",
              "<link rel=\"stylesheet\" type=\"text/css\" href=\"https://cdn.jsdelivr.net/gh/bmabey/pyLDAvis@3.3.1/pyLDAvis/js/ldavis.v1.0.0.css\">\n",
              "\n",
              "\n",
              "<div id=\"ldavis_el5116139966932278864188416437\"></div>\n",
              "<script type=\"text/javascript\">\n",
              "\n",
              "var ldavis_el5116139966932278864188416437_data = {\"mdsDat\": {\"x\": [-0.16744322232202039, 0.10983084669549968, 0.14581236191279606, -0.08819998628627543], \"y\": [-0.1342941696514724, -0.08464987954746457, 0.026158369939811636, 0.19278567925912532], \"topics\": [1, 2, 3, 4], \"cluster\": [1, 1, 1, 1], \"Freq\": [33.86885384874902, 30.324939403218842, 21.826845798325774, 13.979360949706368]}, \"tinfo\": {\"Term\": [\"\\uc0ac\\uc6a9\", \"\\ubc1c\\uae09\", \"\\ubcf8\\uc778\", \"\\ud68c\\uc6d0\", \"\\uc774\\uc6a9\", \"\\ub4f1\\ub85d\", \"\\uac00\\uc785\", \"\\ubc18\\ub0a9\", \"\\ud6c4\", \"\\uc785\\ub825\", \"\\uc5b4\\ud50c\", \"\\uc2dc\\uc124\", \"\\uc5f0\\uc7a5\", \"\\ud560\\uc778\", \"\\uc11c\\uc6b8\\uc2dc\", \"\\uac8c\", \"\\uc65c\", \"\\uc815\", \"\\ud655\\uc778\", \"\\uac74\\uac00\", \"\\uac1c\", \"\\ucfe0\\ud0a4\", \"\\uc5c5\\ub370\\uc774\\ud2b8\", \"\\ubb50\", \"\\ud1b5\\ud569\", \"\\ud558\\ub098\\ub85c\", \"\\uc2e0\\uccad\", \"\\ud558\\ub098\\uc694\", \"\\ubb38\\uc790\", \"\\uc911\", \"\\ubcf8\\uc778\", \"\\uc785\\ub825\", \"\\ud558\\ub098\\uc694\", \"\\ucfe0\\ud0a4\", \"\\uc544\\uc774\\ud3f0\", \"\\ubcf4\\uc548\", \"\\uc2e4\\ud589\", \"\\uc790\\uafb8\", \"\\uac1c\\uc120\", \"\\ud655\\uc778\", \"\\uc811\\uc18d\", \"\\ubb38\\uc790\", \"\\uc5f0\\uacb0\", \"\\uc2dc\", \"\\ubc88\\ud638\", \"\\uc5f0\\ub3d9\", \"\\uacc4\\uc18d\", \"\\uc124\\uce58\", \"\\ud574\\ub3c4\", \"\\uc624\\ub958\", \"\\uc2dc\\ub3c4\", \"\\ubc88\", \"\\uc65c\", \"\\ub2e4\\ub978\", \"\\uc138\\uc158\", \"\\ubb38\\uc758\", \"\\uc11c\\ube44\\uc2a4\", \"\\uc5c5\\ub370\\uc774\\ud2b8\", \"\\uae30\\ub2a5\", \"\\uac8c\", \"\\uc0ac\\uc6a9\", \"\\uc2dc\\uc124\", \"\\ud68c\\uc6d0\", \"\\ud6c4\", \"\\uc815\", \"\\uc2e0\\uccad\", \"\\uc120\\ud0dd\", \"\\uc815\\ub9d0\", \"\\ubc84\\ud2bc\", \"\\uac12\", \"\\ub2e4\\uc74c\", \"\\uac00\\uc785\", \"\\ub2e4\\uc2dc\", \"\\ud1b5\\ud569\", \"\\ubb38\\uc81c\", \"\\uc0ad\\uc81c\", \"\\uc11c\\ube44\\uc2a4\", \"\\ubb38\\uc758\", \"\\ub2e4\\ub978\", \"\\uadf8\", \"\\uacf3\", \"\\uc138\\uc158\", \"\\uc608\\uc57d\", \"\\ud574\\uacb0\", \"\\uba54\\uc2dc\\uc9c0\", \"\\ubc88\", \"\\ud574\\ub3c4\", \"\\uc5b4\\ud50c\", \"\\ub4f1\\ub85d\", \"\\ubc88\\ud638\", \"\\uc218\\uac00\", \"\\ub0b4\", \"\\ud655\\uc778\", \"\\uc774\\uc6a9\", \"\\uacc4\\uc18d\", \"\\ubb38\\uc790\", \"\\ubc1c\\uae09\", \"\\uc11c\\uc6b8\\uc2dc\", \"\\ud558\\ub098\\ub85c\", \"\\ubb50\", \"\\ucd94\\uac00\", \"\\uc774\\uc6a9\", \"\\ubaa8\\ub4e0\", \"\\uc911\", \"\\uc2dc\\uc124\", \"\\uc218\\uc815\", \"\\uba54\\uc2dc\\uc9c0\", \"\\ub54c\", \"\\ub0b4\", \"\\uc5b4\\ud50c\", \"\\ubabb\", \"\\ubb38\\uc81c\", \"\\uc624\\ub958\", \"\\uc5d0\\ub7ec\", \"\\ud1b5\\ud569\", \"\\uc218\\uac00\", \"\\uc5f0\\uc7a5\", \"\\uc2dc\", \"\\uac74\\uac00\", \"\\uc0ad\\uc81c\", \"\\uc5f0\\ub3d9\", \"\\uac00\\uc785\", \"\\uac1c\\uc120\", \"\\uc124\\uce58\", \"\\uc608\\uc57d\", \"\\uac12\", \"\\ubc88\", \"\\ubb38\\uc790\", \"\\uacc4\\uc18d\", \"\\ubc84\\ud2bc\", \"\\ubc18\\ub0a9\", \"\\ud560\\uc778\", \"\\uc0ac\\uc6a9\", \"\\uac74\\uac00\", \"\\uac1c\", \"\\uc5f0\\uc7a5\", \"\\ub4f1\\ub85d\", \"\\uac8c\", \"\\uc5c5\\ub370\\uc774\\ud2b8\", \"\\uc65c\", \"\\uc5d0\\ub7ec\", \"\\ubabb\", \"\\uae30\\ub2a5\", \"\\uacf3\", \"\\ub54c\", \"\\uc5b4\\ud50c\", \"\\uc2dc\\ub3c4\", \"\\ud574\\uacb0\", \"\\uadf8\", \"\\uc0ad\\uc81c\", \"\\uc911\", \"\\ub2e4\\uc74c\", \"\\uc2dc\\uc124\", \"\\uc218\\uac00\", \"\\uc790\\uafb8\", \"\\ub0b4\", \"\\uacc4\\uc18d\", \"\\uc774\\uc6a9\", \"\\ud558\\ub098\\ub85c\", \"\\uc815\\ub9d0\", \"\\uc544\\uc774\\ud3f0\", \"\\uac1c\\uc120\"], \"Freq\": [15.0, 16.0, 22.0, 17.0, 19.0, 13.0, 28.0, 6.0, 11.0, 13.0, 18.0, 13.0, 7.0, 6.0, 7.0, 6.0, 9.0, 8.0, 17.0, 5.0, 5.0, 10.0, 7.0, 7.0, 11.0, 5.0, 7.0, 8.0, 20.0, 6.0, 22.15503983524334, 13.015818681071453, 7.568024635104665, 9.112268825746236, 6.585252189169544, 5.697162735492579, 5.613521018761933, 4.826846483235774, 4.644175062763057, 12.697273254328293, 6.654183526969283, 14.564934347349519, 3.77457717696755, 4.2569419993719215, 3.6065745279120245, 8.802403235843975, 12.456930423313588, 6.796893053350199, 3.831909358902812, 5.358890252450478, 4.272896358049641, 4.617228678267939, 3.907914823167189, 2.9083117133675147, 4.710939413317837, 2.0693673141692734, 2.0678123394857577, 2.975344389929115, 1.9546929729867866, 2.3847204256509045, 4.268515681248409, 2.0691520589707637, 16.86785621789148, 11.31566272149798, 7.629796070252915, 6.638128891442224, 5.766254520893595, 4.822908251546756, 6.481799556064137, 4.8196359946677205, 3.9236777678724257, 20.267141135809283, 6.704823173551804, 7.629418970017785, 4.779941633223844, 3.9303306219198237, 3.0052632600892473, 3.003675599673902, 3.995114693664958, 2.8864025584567616, 3.079631646026143, 5.734437828978558, 3.005054182337915, 3.264363623710692, 3.005623253962905, 3.5308415808939255, 2.079411476549808, 6.050310594984761, 4.062739181697285, 1.4463843929570754, 1.6382401248062275, 2.079999935384467, 4.324176464366577, 4.1683622205395, 3.5756613883763753, 2.5636817358116892, 15.347666722976705, 6.450160439688792, 4.675653270532369, 5.429902652339277, 4.665898432396491, 14.36213366404356, 4.562915556617916, 4.488741903800261, 8.70498257391463, 3.7893644441519325, 3.788382721969964, 2.6351212790744407, 3.789513015819939, 7.9441675830000005, 2.003701813713172, 2.874072129830307, 3.1756966937973274, 2.0064766563855323, 3.7901371262706274, 1.7500407261487345, 2.0061335461246106, 1.6279351991893718, 1.1146420436406128, 1.5265109578616267, 2.8490176932414997, 5.8565950106020805, 1.2585670164452054, 1.9641357830984327, 1.1138435735298189, 1.1155154836170307, 1.6944389422509134, 2.7883662511136587, 2.1981699513713346, 1.3230561495775854, 5.876342744304644, 4.6106217694943865, 10.82678198537599, 3.58475312828567, 3.4755472503028915, 4.969041986960397, 8.37266140029557, 4.137490343542842, 3.5929231537090036, 4.33532019641607, 2.7393442301305333, 1.8976227258014393, 1.8971783179151716, 1.8272541717091184, 1.3031363161324505, 4.443743453886202, 1.897495677016919, 1.6606451995241178, 1.1389179639728697, 1.5078083155811446, 1.2183538583866451, 1.054301107746198, 2.306057756360471, 1.0540063545661102, 1.0518533595776696, 1.0542491491743216, 1.7814484410373375, 0.9564338518726956, 0.21351341198333015, 0.21853740283245524, 0.2683536036273301, 0.2398214037939998], \"Total\": [15.0, 16.0, 22.0, 17.0, 19.0, 13.0, 28.0, 6.0, 11.0, 13.0, 18.0, 13.0, 7.0, 6.0, 7.0, 6.0, 9.0, 8.0, 17.0, 5.0, 5.0, 10.0, 7.0, 7.0, 11.0, 5.0, 7.0, 8.0, 20.0, 6.0, 22.94530341599102, 13.756666382909607, 8.244838258623245, 10.074982594636793, 7.321401264858177, 6.406638674846349, 7.333589294126757, 6.33288491222344, 6.373787011103011, 17.46060740539905, 9.175765153078089, 20.12790235199169, 5.495859258626865, 6.364835923721079, 5.496578890421942, 13.687249116939688, 20.012210204098636, 10.959408921986196, 6.417616073520553, 9.075253178561836, 8.099518864064029, 10.059308292108474, 9.68522968610712, 7.350235597448659, 11.924749776968218, 5.506906123586154, 5.506921741847226, 7.949621778430253, 5.345200378824171, 6.976375473409256, 15.568073253991656, 13.313605626650457, 17.541425895166242, 11.992573156926, 8.293363377245136, 7.367816973196389, 6.443593078922559, 5.517235838788323, 8.252426155268834, 6.41026098653648, 5.437516777015812, 28.41706401060713, 10.097952529565237, 11.86019436053927, 8.193828238245217, 7.195173645029788, 5.506921741847226, 5.506906123586154, 7.350235597448659, 5.422546955685204, 6.281902462766023, 11.924749776968218, 6.398634839867941, 7.216920811446563, 7.236095232596305, 10.059308292108474, 6.417616073520553, 18.696668375047818, 13.973343423290412, 5.496578890421942, 6.295196524380907, 8.073647197913997, 17.46060740539905, 19.71923300339643, 20.012210204098636, 20.12790235199169, 16.979864386393345, 7.1367185289726445, 5.353261872347878, 7.167474474534062, 6.277410619038089, 19.71923300339643, 6.282486558885062, 6.188169008719805, 13.313605626650457, 7.222572627669723, 7.236095232596305, 5.324057759661836, 8.073647197913997, 18.696668375047818, 5.290224731740884, 8.193828238245217, 9.075253178561836, 6.127948022376219, 11.86019436053927, 6.295196524380907, 7.766742374310872, 6.364835923721079, 5.160813998821711, 7.195173645029788, 13.687249116939688, 28.41706401060713, 6.373787011103011, 10.959408921986196, 6.398634839867941, 6.41026098653648, 10.059308292108474, 20.12790235199169, 20.012210204098636, 8.252426155268834, 6.821169110511505, 6.019638171726932, 15.568073253991656, 5.160813998821711, 5.197686361743886, 7.766742374310872, 13.973343423290412, 6.976375473409256, 7.949621778430253, 9.68522968610712, 6.127948022376219, 5.290224731740884, 5.345200378824171, 6.281902462766023, 5.324057759661836, 18.696668375047818, 8.099518864064029, 7.216920811446563, 5.422546955685204, 7.195173645029788, 6.188169008719805, 5.437516777015812, 13.313605626650457, 6.295196524380907, 6.33288491222344, 8.073647197913997, 20.012210204098636, 19.71923300339643, 5.353261872347878, 5.517235838788323, 7.321401264858177, 6.373787011103011], \"Category\": [\"Default\", \"Default\", \"Default\", \"Default\", \"Default\", \"Default\", \"Default\", \"Default\", \"Default\", \"Default\", \"Default\", \"Default\", \"Default\", \"Default\", \"Default\", \"Default\", \"Default\", \"Default\", \"Default\", \"Default\", \"Default\", \"Default\", \"Default\", \"Default\", \"Default\", \"Default\", \"Default\", \"Default\", \"Default\", \"Default\", \"Topic1\", \"Topic1\", \"Topic1\", \"Topic1\", \"Topic1\", \"Topic1\", \"Topic1\", \"Topic1\", \"Topic1\", \"Topic1\", \"Topic1\", \"Topic1\", \"Topic1\", \"Topic1\", \"Topic1\", \"Topic1\", \"Topic1\", \"Topic1\", \"Topic1\", \"Topic1\", \"Topic1\", \"Topic1\", \"Topic1\", \"Topic1\", \"Topic1\", \"Topic1\", \"Topic1\", \"Topic1\", \"Topic1\", \"Topic1\", \"Topic1\", \"Topic1\", \"Topic2\", \"Topic2\", \"Topic2\", \"Topic2\", \"Topic2\", \"Topic2\", \"Topic2\", \"Topic2\", \"Topic2\", \"Topic2\", \"Topic2\", \"Topic2\", \"Topic2\", \"Topic2\", \"Topic2\", \"Topic2\", \"Topic2\", \"Topic2\", \"Topic2\", \"Topic2\", \"Topic2\", \"Topic2\", \"Topic2\", \"Topic2\", \"Topic2\", \"Topic2\", \"Topic2\", \"Topic2\", \"Topic2\", \"Topic2\", \"Topic2\", \"Topic2\", \"Topic2\", \"Topic2\", \"Topic3\", \"Topic3\", \"Topic3\", \"Topic3\", \"Topic3\", \"Topic3\", \"Topic3\", \"Topic3\", \"Topic3\", \"Topic3\", \"Topic3\", \"Topic3\", \"Topic3\", \"Topic3\", \"Topic3\", \"Topic3\", \"Topic3\", \"Topic3\", \"Topic3\", \"Topic3\", \"Topic3\", \"Topic3\", \"Topic3\", \"Topic3\", \"Topic3\", \"Topic3\", \"Topic3\", \"Topic3\", \"Topic3\", \"Topic3\", \"Topic3\", \"Topic3\", \"Topic3\", \"Topic3\", \"Topic4\", \"Topic4\", \"Topic4\", \"Topic4\", \"Topic4\", \"Topic4\", \"Topic4\", \"Topic4\", \"Topic4\", \"Topic4\", \"Topic4\", \"Topic4\", \"Topic4\", \"Topic4\", \"Topic4\", \"Topic4\", \"Topic4\", \"Topic4\", \"Topic4\", \"Topic4\", \"Topic4\", \"Topic4\", \"Topic4\", \"Topic4\", \"Topic4\", \"Topic4\", \"Topic4\", \"Topic4\", \"Topic4\", \"Topic4\", \"Topic4\", \"Topic4\"], \"logprob\": [30.0, 29.0, 28.0, 27.0, 26.0, 25.0, 24.0, 23.0, 22.0, 21.0, 20.0, 19.0, 18.0, 17.0, 16.0, 15.0, 14.0, 13.0, 12.0, 11.0, 10.0, 9.0, 8.0, 7.0, 6.0, 5.0, 4.0, 3.0, 2.0, 1.0, -2.331, -2.8629, -3.4051, -3.2194, -3.5442, -3.6891, -3.7039, -3.8549, -3.8935, -2.8877, -3.5338, -2.7505, -4.1008, -3.9805, -4.1463, -3.254, -2.9068, -3.5126, -4.0857, -3.7503, -3.9768, -3.8993, -4.0661, -4.3615, -3.8792, -4.7018, -4.7026, -4.3387, -4.7588, -4.56, -3.9778, -4.7019, -2.4931, -2.8924, -3.2865, -3.4257, -3.5665, -3.7452, -3.4495, -3.7458, -3.9515, -2.3095, -3.4157, -3.2865, -3.7541, -3.9498, -4.2182, -4.2187, -3.9335, -4.2585, -4.1937, -3.5721, -4.2183, -4.1355, -4.2181, -4.057, -4.5865, -3.5184, -3.9167, -4.9495, -4.8249, -4.5862, -3.8543, -3.891, -4.0444, -4.3771, -2.2588, -3.1256, -3.4473, -3.2978, -3.4494, -2.3251, -3.4718, -3.4881, -2.8258, -3.6575, -3.6578, -4.0208, -3.6575, -2.9173, -4.2947, -3.934, -3.8342, -4.2933, -3.6573, -4.4301, -4.2935, -4.5024, -4.8812, -4.5667, -3.9427, -3.2221, -4.7597, -4.3147, -4.8819, -4.8804, -4.4624, -3.9643, -4.2021, -4.7098, -2.7732, -3.0158, -2.1621, -3.2675, -3.2984, -2.9409, -2.4192, -3.1241, -3.2652, -3.0774, -3.5364, -3.9036, -3.9038, -3.9413, -4.2794, -3.0527, -3.9036, -4.037, -4.4141, -4.1335, -4.3467, -4.4913, -3.7086, -4.4916, -4.4936, -4.4913, -3.9667, -4.5887, -6.0882, -6.065, -5.8596, -5.972], \"loglift\": [30.0, 29.0, 28.0, 27.0, 26.0, 25.0, 24.0, 23.0, 22.0, 21.0, 20.0, 19.0, 18.0, 17.0, 16.0, 15.0, 14.0, 13.0, 12.0, 11.0, 10.0, 9.0, 8.0, 7.0, 6.0, 5.0, 4.0, 3.0, 2.0, 1.0, 1.0476, 1.0273, 0.997, 0.9822, 0.9767, 0.9653, 0.8154, 0.8111, 0.7661, 0.7641, 0.7614, 0.7592, 0.707, 0.6804, 0.6613, 0.6412, 0.6086, 0.6049, 0.567, 0.5559, 0.4432, 0.304, 0.1751, 0.1555, 0.1539, 0.1039, 0.1032, 0.0999, 0.0767, 0.0092, -0.2113, -0.779, 1.154, 1.1351, 1.1098, 1.0889, 1.0821, 1.0587, 0.9517, 0.908, 0.8669, 0.8552, 0.7837, 0.752, 0.6542, 0.5885, 0.5876, 0.587, 0.5835, 0.5626, 0.4803, 0.4611, 0.4374, 0.3998, 0.3146, 0.1462, 0.0662, 0.065, -0.0421, -0.1419, -0.153, -0.163, -0.2025, -0.3609, -0.529, -0.8675, 1.421, 1.4209, 1.3867, 1.2444, 1.2254, 1.205, 1.2022, 1.201, 1.0971, 0.877, 0.8749, 0.8187, 0.7657, 0.6661, 0.5512, 0.4744, 0.472, 0.4055, 0.3812, 0.2419, 0.1684, 0.1586, -0.0105, -0.0284, -0.0475, -0.0574, -0.1002, -0.1971, -0.2262, -0.2266, -0.2591, -0.4546, -0.6867, -0.3085, 1.8185, 1.7009, 1.6044, 1.6032, 1.5651, 1.521, 1.4554, 1.4451, 1.1734, 1.1638, 1.1624, 0.9423, 0.9318, 0.7327, 0.5601, 0.5307, 0.5163, 0.4984, 0.4071, 0.4048, 0.3424, 0.3271, 0.2143, 0.1804, 0.1724, -0.0682, -0.4513, -1.0585, -1.2542, -1.2611, -1.3387, -1.3125]}, \"token.table\": {\"Topic\": [1, 2, 3, 2, 3, 1, 4, 1, 3, 3, 4, 1, 4, 1, 2, 3, 4, 1, 2, 4, 1, 2, 4, 1, 2, 4, 1, 2, 3, 4, 1, 2, 1, 2, 3, 2, 4, 1, 2, 4, 2, 3, 4, 2, 3, 2, 3, 2, 3, 4, 1, 2, 1, 2, 3, 2, 3, 1, 3, 4, 2, 3, 2, 3, 1, 2, 3, 1, 2, 1, 1, 1, 4, 2, 3, 4, 1, 2, 3, 2, 1, 2, 3, 1, 2, 3, 1, 2, 3, 4, 1, 2, 3, 1, 3, 1, 2, 4, 1, 3, 4, 2, 1, 2, 1, 2, 3, 4, 1, 2, 4, 1, 3, 4, 1, 2, 1, 2, 3, 1, 3, 4, 1, 2, 3, 1, 3, 1, 3, 4, 2, 3, 4, 1, 1, 4, 1, 2, 2, 2, 3, 4, 2, 3, 1, 3, 2, 3, 3, 1, 2, 4, 1, 2, 4, 1, 2, 1, 2, 2, 2], \"Freq\": [0.0703802475601796, 0.703802475601796, 0.21114074268053878, 0.7799994431586387, 0.15599988863172773, 0.19239329393943808, 0.5771798818183143, 0.7844629874343304, 0.1568925974868661, 0.19376788239768272, 0.7750715295907309, 0.2866818174599522, 0.5733636349199044, 0.5996339173742198, 0.19987797245807326, 0.09993898622903663, 0.09993898622903663, 0.15918744455635558, 0.47756233366906675, 0.31837488911271117, 0.1844151849992856, 0.5532455549978569, 0.1844151849992856, 0.3741674508449311, 0.18708372542246554, 0.3741674508449311, 0.12385975947256796, 0.2477195189451359, 0.4954390378902718, 0.12385975947256796, 0.40815018242970746, 0.5442002432396099, 0.19805995266310775, 0.6932098343208771, 0.09902997633155387, 0.7356299141747674, 0.18390747854369185, 0.07156483382017402, 0.2862593352806961, 0.5725186705613922, 0.18782666250854427, 0.5634799875256328, 0.18782666250854427, 0.414588241802838, 0.552784322403784, 0.1591726445615297, 0.7958632228076487, 0.18902788647145513, 0.37805577294291026, 0.37805577294291026, 0.36318033304289915, 0.5447704995643488, 0.7452341400352493, 0.14904682800704988, 0.14904682800704988, 0.6102153785287053, 0.3661292271172232, 0.1395191574874785, 0.6975957874373925, 0.8796146089904041, 0.058893285437623434, 0.8833992815643515, 0.727058914204188, 0.121176485700698, 0.49705206906945076, 0.3976416552555606, 0.1988208276277803, 0.7277253869620968, 0.1819313467405242, 0.9365285455471545, 0.9588018777153228, 0.2569360983045477, 0.7065742703375062, 0.5559282092883305, 0.27796410464416527, 0.27796410464416527, 0.3631793030218595, 0.5447689545327893, 0.8407225219324603, 0.9311574965257221, 0.6387205778914741, 0.1824915936832783, 0.1824915936832783, 0.419296009854826, 0.5031552118257911, 0.0838592019709652, 0.3177025518193314, 0.3177025518193314, 0.3177025518193314, 0.1588512759096657, 0.27690964191041667, 0.13845482095520834, 0.5538192838208333, 0.6284529637429328, 0.3142264818714664, 0.4938564953218657, 0.24692824766093285, 0.24692824766093285, 0.1502222655594145, 0.6760001950173652, 0.1502222655594145, 0.9500778894841604, 0.8181532615693673, 0.13635887692822787, 0.9561011269248603, 0.32091278936131074, 0.42788371914841433, 0.21394185957420717, 0.37737644426555167, 0.1257921480885172, 0.5031685923540689, 0.1631867627382767, 0.3263735254765534, 0.4895602882148301, 0.7278206758517677, 0.18195516896294192, 0.6575462989755458, 0.14612139977234354, 0.2191820996585153, 0.12875410974201756, 0.25750821948403513, 0.6437705487100878, 0.3125666724312209, 0.4688500086468313, 0.15628333621561044, 0.5509488167020322, 0.3305692900212193, 0.4130000144175992, 0.1032500036043998, 0.4130000144175992, 0.20284764621986273, 0.7099667617695196, 0.05071191155496568, 0.944996384890918, 0.7895295855367959, 0.15790591710735916, 0.7628791586554272, 0.21796547390155063, 0.9646267305674741, 0.9062509100749414, 0.6463947565691183, 0.16159868914227957, 0.15930135221156422, 0.7965067610578211, 0.8933017913887973, 0.09925575459875526, 0.6745252022696405, 0.33726260113482026, 0.9340099773237991, 0.9703040555868795, 0.16612294152442672, 0.8306147076221335, 0.27712649927207933, 0.41568974890811894, 0.27712649927207933, 0.6232844025220247, 0.31164220126101233, 0.7445330908694636, 0.2290871048829119, 0.969134442182637, 0.917234346296002], \"Term\": [\"\\uac00\\uc785\", \"\\uac00\\uc785\", \"\\uac00\\uc785\", \"\\uac12\", \"\\uac12\", \"\\uac1c\", \"\\uac1c\", \"\\uac1c\\uc120\", \"\\uac1c\\uc120\", \"\\uac74\\uac00\", \"\\uac74\\uac00\", \"\\uac8c\", \"\\uac8c\", \"\\uacc4\\uc18d\", \"\\uacc4\\uc18d\", \"\\uacc4\\uc18d\", \"\\uacc4\\uc18d\", \"\\uacf3\", \"\\uacf3\", \"\\uacf3\", \"\\uadf8\", \"\\uadf8\", \"\\uadf8\", \"\\uae30\\ub2a5\", \"\\uae30\\ub2a5\", \"\\uae30\\ub2a5\", \"\\ub0b4\", \"\\ub0b4\", \"\\ub0b4\", \"\\ub0b4\", \"\\ub2e4\\ub978\", \"\\ub2e4\\ub978\", \"\\ub2e4\\uc2dc\", \"\\ub2e4\\uc2dc\", \"\\ub2e4\\uc2dc\", \"\\ub2e4\\uc74c\", \"\\ub2e4\\uc74c\", \"\\ub4f1\\ub85d\", \"\\ub4f1\\ub85d\", \"\\ub4f1\\ub85d\", \"\\ub54c\", \"\\ub54c\", \"\\ub54c\", \"\\uba54\\uc2dc\\uc9c0\", \"\\uba54\\uc2dc\\uc9c0\", \"\\ubaa8\\ub4e0\", \"\\ubaa8\\ub4e0\", \"\\ubabb\", \"\\ubabb\", \"\\ubabb\", \"\\ubb38\\uc758\", \"\\ubb38\\uc758\", \"\\ubb38\\uc790\", \"\\ubb38\\uc790\", \"\\ubb38\\uc790\", \"\\ubb38\\uc81c\", \"\\ubb38\\uc81c\", \"\\ubb50\", \"\\ubb50\", \"\\ubc18\\ub0a9\", \"\\ubc1c\\uae09\", \"\\ubc1c\\uae09\", \"\\ubc84\\ud2bc\", \"\\ubc84\\ud2bc\", \"\\ubc88\", \"\\ubc88\", \"\\ubc88\", \"\\ubc88\\ud638\", \"\\ubc88\\ud638\", \"\\ubcf4\\uc548\", \"\\ubcf8\\uc778\", \"\\uc0ac\\uc6a9\", \"\\uc0ac\\uc6a9\", \"\\uc0ad\\uc81c\", \"\\uc0ad\\uc81c\", \"\\uc0ad\\uc81c\", \"\\uc11c\\ube44\\uc2a4\", \"\\uc11c\\ube44\\uc2a4\", \"\\uc11c\\uc6b8\\uc2dc\", \"\\uc120\\ud0dd\", \"\\uc124\\uce58\", \"\\uc124\\uce58\", \"\\uc124\\uce58\", \"\\uc138\\uc158\", \"\\uc138\\uc158\", \"\\uc138\\uc158\", \"\\uc218\\uac00\", \"\\uc218\\uac00\", \"\\uc218\\uac00\", \"\\uc218\\uac00\", \"\\uc218\\uc815\", \"\\uc218\\uc815\", \"\\uc218\\uc815\", \"\\uc2dc\", \"\\uc2dc\", \"\\uc2dc\\ub3c4\", \"\\uc2dc\\ub3c4\", \"\\uc2dc\\ub3c4\", \"\\uc2dc\\uc124\", \"\\uc2dc\\uc124\", \"\\uc2dc\\uc124\", \"\\uc2e0\\uccad\", \"\\uc2e4\\ud589\", \"\\uc2e4\\ud589\", \"\\uc544\\uc774\\ud3f0\", \"\\uc5b4\\ud50c\", \"\\uc5b4\\ud50c\", \"\\uc5b4\\ud50c\", \"\\uc5c5\\ub370\\uc774\\ud2b8\", \"\\uc5c5\\ub370\\uc774\\ud2b8\", \"\\uc5c5\\ub370\\uc774\\ud2b8\", \"\\uc5d0\\ub7ec\", \"\\uc5d0\\ub7ec\", \"\\uc5d0\\ub7ec\", \"\\uc5f0\\uacb0\", \"\\uc5f0\\uacb0\", \"\\uc5f0\\ub3d9\", \"\\uc5f0\\ub3d9\", \"\\uc5f0\\ub3d9\", \"\\uc5f0\\uc7a5\", \"\\uc5f0\\uc7a5\", \"\\uc5f0\\uc7a5\", \"\\uc608\\uc57d\", \"\\uc608\\uc57d\", \"\\uc608\\uc57d\", \"\\uc624\\ub958\", \"\\uc624\\ub958\", \"\\uc65c\", \"\\uc65c\", \"\\uc65c\", \"\\uc774\\uc6a9\", \"\\uc774\\uc6a9\", \"\\uc774\\uc6a9\", \"\\uc785\\ub825\", \"\\uc790\\uafb8\", \"\\uc790\\uafb8\", \"\\uc811\\uc18d\", \"\\uc811\\uc18d\", \"\\uc815\", \"\\uc815\\ub9d0\", \"\\uc911\", \"\\uc911\", \"\\ucd94\\uac00\", \"\\ucd94\\uac00\", \"\\ucfe0\\ud0a4\", \"\\ucfe0\\ud0a4\", \"\\ud1b5\\ud569\", \"\\ud1b5\\ud569\", \"\\ud558\\ub098\\ub85c\", \"\\ud558\\ub098\\uc694\", \"\\ud560\\uc778\", \"\\ud560\\uc778\", \"\\ud574\\uacb0\", \"\\ud574\\uacb0\", \"\\ud574\\uacb0\", \"\\ud574\\ub3c4\", \"\\ud574\\ub3c4\", \"\\ud655\\uc778\", \"\\ud655\\uc778\", \"\\ud68c\\uc6d0\", \"\\ud6c4\"]}, \"R\": 30, \"lambda.step\": 0.01, \"plot.opts\": {\"xlab\": \"PC1\", \"ylab\": \"PC2\"}, \"topic.order\": [2, 1, 3, 4]};\n",
              "\n",
              "function LDAvis_load_lib(url, callback){\n",
              "  var s = document.createElement('script');\n",
              "  s.src = url;\n",
              "  s.async = true;\n",
              "  s.onreadystatechange = s.onload = callback;\n",
              "  s.onerror = function(){console.warn(\"failed to load library \" + url);};\n",
              "  document.getElementsByTagName(\"head\")[0].appendChild(s);\n",
              "}\n",
              "\n",
              "if(typeof(LDAvis) !== \"undefined\"){\n",
              "   // already loaded: just create the visualization\n",
              "   !function(LDAvis){\n",
              "       new LDAvis(\"#\" + \"ldavis_el5116139966932278864188416437\", ldavis_el5116139966932278864188416437_data);\n",
              "   }(LDAvis);\n",
              "}else if(typeof define === \"function\" && define.amd){\n",
              "   // require.js is available: use it to load d3/LDAvis\n",
              "   require.config({paths: {d3: \"https://d3js.org/d3.v5\"}});\n",
              "   require([\"d3\"], function(d3){\n",
              "      window.d3 = d3;\n",
              "      LDAvis_load_lib(\"https://cdn.jsdelivr.net/gh/bmabey/pyLDAvis@3.3.1/pyLDAvis/js/ldavis.v3.0.0.js\", function(){\n",
              "        new LDAvis(\"#\" + \"ldavis_el5116139966932278864188416437\", ldavis_el5116139966932278864188416437_data);\n",
              "      });\n",
              "    });\n",
              "}else{\n",
              "    // require.js not available: dynamically load d3 & LDAvis\n",
              "    LDAvis_load_lib(\"https://d3js.org/d3.v5.js\", function(){\n",
              "         LDAvis_load_lib(\"https://cdn.jsdelivr.net/gh/bmabey/pyLDAvis@3.3.1/pyLDAvis/js/ldavis.v3.0.0.js\", function(){\n",
              "                 new LDAvis(\"#\" + \"ldavis_el5116139966932278864188416437\", ldavis_el5116139966932278864188416437_data);\n",
              "            })\n",
              "         });\n",
              "}\n",
              "</script>"
            ]
          },
          "metadata": {},
          "execution_count": 101
        }
      ]
    },
    {
      "cell_type": "code",
      "source": [
        "for i in range(len(review)) : \n",
        "  if '본인' in review['token'][i] : \n",
        "    print(i, review['리뷰'][i])"
      ],
      "metadata": {
        "id": "QgzKViEcGn8r",
        "colab": {
          "base_uri": "https://localhost:8080/"
        },
        "outputId": "a0157ce8-7915-49fb-8a62-a2e5d93ad279"
      },
      "execution_count": 102,
      "outputs": [
        {
          "output_type": "stream",
          "name": "stdout",
          "text": [
            "2 아래에 저 같은 분이 계시던데 저도 문자로 인증하려고 하니 쿠키 제한에 걸려 본인 문자 인증이 안됩니다.  당장 앱 카드를 쓸 수가 없어요 얼른 개선 부탁드립니다.  아이폰 유저입니다 쿠키 제한이 걸려서 문자 인증이 안돼요\n",
            "3 통신사를 선택하면  PASS 선택하는 버튼이 사라지고 문자 인증만 남고, 인증 문자도 한 번에 안 와서 겨우 받으면 세션 만료 쿠키 제한되어 있다며 본인인증이 안됩니다. 아이폰 13인데요\n",
            "5 아이폰입니다. 본인인증 절차에서 핸드폰 문자 인증을 입력하면 화면이 까매지면서 진행이 안됩니다. 혹시나 해서 어플 재설치해도 안돼요. 발급을 진행 못하니 어플이 무용지물이네요…. 본인인증이 안돼서 카드 발급 불가능\n",
            "7 pass 어플도 안되고 문자 확인도 안되고 아이핀까지 안돼요. 본인인증만 수십 번 시도했는데 절대 안 넘어가죠요. 본인 확인에서 안 넘어가요\n",
            "8 아이폰입니다 휴대폰 본인인증이 계속 에러 납니다 브라우저 설정 다시 하라는데 변경하라는데 왜ㅜ그러는지요?! ㅠㅠ 본인인증 실퍠가 계속됩니다\n",
            "10 본인확인 실패만 계속 뜨네요 가입이 안되는데요\n",
            "11 본인인증 화면에서 모두 입력하고 나면 쿠키 설정 관련 오류가 계속 납니다. 본인인증이 안됩니다\n",
            "13 세션 만료 쿠키 제한 풀기? 이거 pass 어 플로 안 넘어가더니 계속 떠서 문자로 본인확인하는 걸로 바꿔서 하니 되긴 한데 업데이트 좀 해주세요 3월부터 피드백 받으신 거 같던데 본인인증이 안돼요\n",
            "23 본인인증 절차에서  세션 값이 유효하지 않다고 뜨고 다음 단계로 넘어갈 수 없습니다. 세션 값이 유효하지 않음\n",
            "26 도서관 앱 이용하려고 가입하려는데 본인인증 모든 수단 휴대폰과 아이핀 인증 다 안 됩니다. 20번 시도했는데 다 안됩니다. 화가 나서 이용할 수가 없네요. 쿠키 허용되어 있는데도 쿠키 차단 허용하라고 메시지 뜨고 보안 문자 제대로 입력했는데도 어플이 구려서 인식도 못 하네요. 몇 개월 전부터 제기돼왔던 문제 같은데 세금으로 이런 어플 만들어놓고 제대로 운영도 안 하는 서울시 어이가 없습니다. 별 주기도 아까움\n",
            "42 본인 인증 하라면서 인증하려고 하면 세션 만료라고 뜨고 보안번호 입력하려고 하니 이미지가 커져서 창을 가려 버리고..  앱 만들고 올리는 게 다가 아니라 되는지 안되는지 확인 좀 해라. 뭔 놈의 앱이 인증도 안 되나.?\n",
            "65 카드 발급하려는데 본인인증 문자가 안 와요.. 지금까지 다른 앱들로 잘만 해왔고 스팸메일에도 없고 카톡에도 없고 skt pass 인증도 안되고 뭐... 답답하네요 진짜...\n",
            "80 본인인증이 자꾸 실패하는데 브라우저 설정 내 쿠키 활용을 제한했냐는 게 무슨 말인가요...? -> 시간 좀 지나 다시 시도했더니 되었어요.\n",
            "82 본인인증 시도 시 쿠키 허용하고 진행하라는 오류가 뜨는데 어떻게 해야 하나요? 문의하는 곳이 없어서 여기 남깁니다. 아래 매뉴얼은 잘못된 경로라고 연결되어 해결 방법이 없습니다.\n",
            "83 휴대폰 본인인증 란에서 보안 숫자 입력이 안됩니다 한자리만 계속 입력되네요\n",
            "106 카드를 발급받으려고 본인인증하기를 4번이나 해도 제 폰으로 인증번호 전송이 안되네요. 도와주세요!!!\n",
            "110 가입하려고 시도 중 본인인증 후 다음 화명으로 안 넘어가고 되돌아갑니다\n",
            "163 갤럭시S8 플러스인데 앱을 설치하고 본인인증 후 가입하려는데 양식 자체가 사라지며 가입을 할 수가 없네요 벌써 몇 번째  제거하고 설치했는데도 마찬가지입니다\n",
            "165 본인인증 확인 안됨. 뭘 어쩌라고?\n"
          ]
        }
      ]
    },
    {
      "cell_type": "code",
      "source": [
        "for i in range(len(review)) : \n",
        "  if '가입' in review['token'][i] : \n",
        "    print(i, review['리뷰'][i])"
      ],
      "metadata": {
        "colab": {
          "base_uri": "https://localhost:8080/"
        },
        "id": "LgYYvkGTmweh",
        "outputId": "1461b279-e313-46a8-8c9b-75c35a66fee3"
      },
      "execution_count": 103,
      "outputs": [
        {
          "output_type": "stream",
          "name": "stdout",
          "text": [
            "9 도서관 카드 추가하려고 정회원 가입 요청할 때 처음에는 정회원 인증이 안된다고 나오더니 그 후부터는 계속 유효하지 않은 주민등록 번호라고 나와요 어플을 삭제 후에 다시 깔아도 이 모양이네요 해결 좀 해주세요 계속 정회원 인증 실패\n",
            "10 본인확인 실패만 계속 뜨네요 가입이 안되는데요\n",
            "14 가입 인증도 안되고, 별점 1점도 아까움 서울시에서 어플 만들어 놓고 방치하는 듯 인증 오류\n",
            "15 오늘 서울시민 카드 발급받고 노원구 도서관 통합 회원 카드 정회원 가입 신청하려는데 모든 조건 충족해서 버튼이 빨갛게 떴는데도 다음 창으로 안 넘어갑니다. 전혀 버튼이 아닌 것처럼 상호 작용을 안 해요 노원구립 도서관 통합회원증 정회원 가입 신청 버튼 안 눌림\n",
            "16 가입하기를 누르고 인증 절차를 위해 휴대폰 인증하기를 통해 받은 문자의 번호까지 입력하고 나면 그냥 까만색이 떠요. 그것도 연속 3번을요!  인증부터 안되는데 다른 기능은 얼마나 험난할지.. 찾고로 ios 사용하고 있습니다. 저는 가입 절차에서 인증조차 못했습니다\n",
            "18 회원가입부터 안되네요 ㅠㅠ 아이고 내 세금 ㅠㅠ 구려요\n",
            "20 설치하자마자 에러 발생으로 가입도 안됩니다. 해결 부탁드립니다. 에러 발생\n",
            "21 발급하기 버튼부터 계속 처리 중 오류가 발생하였다고 뜨면서 인식되지 않습니다. 회원가입\n",
            "22 pass에서 세션 값이 유효하지 않다는 메시지만 뜨고 회원가입이 되지 않습니다. 여러 번 삭제하고 다시 다운로드하고 하기를 수십 번입니다. 기존 리뷰에 이런 문제들이 있던데 대응이 이상합니다. 확인된가 없으니 나이스로 연락하라니요!? 리뷰가 여러 개면 문제가 있단 것인데 이것에 대해 개발자님께서는 너무 수수방관하고 계신 거 아닌가요!? 확인 후에 수정 부탁드립니다. 세션 종료 회원가입 불가\n",
            "24 가입하려는데 문자 인증이 안돼요 세션 값이 유효하지 않는다는 문구만 뜹니다 가입을 못하니 이용을 할 수가 없네요 가입하려는데 문자 인증이 안돼요\n",
            "26 도서관 앱 이용하려고 가입하려는데 본인인증 모든 수단 휴대폰과 아이핀 인증 다 안 됩니다. 20번 시도했는데 다 안됩니다. 화가 나서 이용할 수가 없네요. 쿠키 허용되어 있는데도 쿠키 차단 허용하라고 메시지 뜨고 보안 문자 제대로 입력했는데도 어플이 구려서 인식도 못 하네요. 몇 개월 전부터 제기돼왔던 문제 같은데 세금으로 이런 어플 만들어놓고 제대로 운영도 안 하는 서울시 어이가 없습니다. 별 주기도 아까움\n",
            "66 이거 하나 깔면 서울에 모든 시설을 이용할 수 없습니다 원하는 시설 하나하나 직접 가입해야 돼서 이거 있나 없으나 똑같으니까 혹시 이거 읽는 분들 깔지 마세요\n",
            "69 뭐 이런 쓰레기 같은 앱이 다 있는지.. 인증 앱 별도 깔아야 하고 애써 깔아서 좀 써볼 랬더니 각 업체별 홈피 가서 별도 가입 다 해야 하고.. 그것마저 유료 가입도 많고. 그래 뭔가 대단한 혜택 바란 내가 바보지. 이 앱 설계자 UX에 대한 개념 1도 없는 사람 온 가 봄\n",
            "73 강서구 통합도서관 가입신청을 하려는데, 정회원 신청에 실패하였습니다. 잠시 후에 다시 이용해주세요.라고 오류메시지가 뜹니다. 해결 부탁드려요.\n",
            "92 버스에서 나오는 TV 보고 가입했어요. 카드 없어도 돼서 지갑이 얇아지고 좋을 것 같아요.\n",
            "95 강동구립 도서관 정회원 가입신청 버튼 활성화돼있긴 한데 누르면 안 넘어감\n",
            "104 마포도서관 연동 가입이 안돼요 정회원 가입이 실패했다고 다 오고 잠시 후 이용하라는데 잠시 후에 해도 안되네요 원인도 안 나오고.. 시정해 주세요\n",
            "110 가입하려고 시도 중 본인인증 후 다음 화명으로 안 넘어가고 되돌아갑니다\n",
            "115 은평구 시설 가입을 주소 찾기가 안돼서 못하고 있어요\n",
            "152 핸드폰이 자기 명의 아닌 사람들은 어떡하라고   어러운 아이핀으로 하라고 하세요 정말 실망이네요  간단하게 가입하게 해주세요\n",
            "155 서울시민만 가입 가능해요?\n",
            "163 갤럭시S8 플러스인데 앱을 설치하고 본인인증 후 가입하려는데 양식 자체가 사라지며 가입을 할 수가 없네요 벌써 몇 번째  제거하고 설치했는데도 마찬가지입니다\n"
          ]
        }
      ]
    },
    {
      "cell_type": "code",
      "source": [
        "for i in range(len(review)) : \n",
        "  if '발급' in review['token'][i] : \n",
        "    print(i, review['리뷰'][i])"
      ],
      "metadata": {
        "colab": {
          "base_uri": "https://localhost:8080/"
        },
        "id": "zoyy1KwfoiuR",
        "outputId": "e24f4837-adfc-424b-ff94-8b23b1b2a538"
      },
      "execution_count": 104,
      "outputs": [
        {
          "output_type": "stream",
          "name": "stdout",
          "text": [
            "5 아이폰입니다. 본인인증 절차에서 핸드폰 문자 인증을 입력하면 화면이 까매지면서 진행이 안됩니다. 혹시나 해서 어플 재설치해도 안돼요. 발급을 진행 못하니 어플이 무용지물이네요…. 본인인증이 안돼서 카드 발급 불가능\n",
            "15 오늘 서울시민 카드 발급받고 노원구 도서관 통합 회원 카드 정회원 가입 신청하려는데 모든 조건 충족해서 버튼이 빨갛게 떴는데도 다음 창으로 안 넘어갑니다. 전혀 버튼이 아닌 것처럼 상호 작용을 안 해요 노원구립 도서관 통합회원증 정회원 가입 신청 버튼 안 눌림\n",
            "19 서울시민 카드 발급하기 버튼을 누르면 “처리 중 에러가 발생하였습니다”라고만 뜨고 진행이 안돼요 발급하기\n",
            "21 발급하기 버튼부터 계속 처리 중 오류가 발생하였다고 뜨면서 인식되지 않습니다. 회원가입\n",
            "25 카드 발급을 하려 하면 문자 인증 부분에서 세션 값이 유효하지 않는다는 메시지가 뜨고 문자 인증을 받을 수가 없습니다.  에러 좀 수정해 주세요 인증이 되지 않아요\n",
            "27 도서관 카드 발급하려고 시민 카드 앱 설치 시민 카드 발급받았는데 광진구 도서관 발급 시 비번을 영문 숫자 특수기호 8자 이상 진짜 조합을 30번은 확인하면서 입력했는데 계속 영문 숫자 특수기호 입력하라고 나오네요 ㅜㅜ 도대체 뭘 어쩌라는 건지... 시민 카드도 똑같이 해서 잘 등록됐는데요.  오류인지 확인 부탁드립니다. 도서관 카드 발급\n",
            "46 서울시민 카드 발급 인증 안돼요 인증 허시겠습니까 예 눌러도 아무 반응이 없네요 서울시민 카드 발급 인증 안됩니다\n",
            "55 도서관 카드 발급하고 가지고 다니기 힘들어 불편했는데 안 가지고 다닐 수 있어서 편하네요. 관공서에서 만든 앱이라 별로 기대 안 했는데.. 은근 쓸모.. 계속 개선해주세요 ^^\n",
            "60 통합 시설 카드를 추가하려고 하면 시스템 간의 연계 문제로 불가능하다는 메시지가 뜨면서 발급이 안 됩니다\n",
            "65 카드 발급하려는데 본인인증 문자가 안 와요.. 지금까지 다른 앱들로 잘만 해왔고 스팸메일에도 없고 카톡에도 없고 skt pass 인증도 안되고 뭐... 답답하네요 진짜...\n",
            "71 며칠째 통합시설 연동이 지연되고 있다는 멘트가 뜨면서 통합 시설 카드 발급이 안되는데 이 오류는 언제쯤 수정되는 건가요\n",
            "106 카드를 발급받으려고 본인인증하기를 4번이나 해도 제 폰으로 인증번호 전송이 안되네요. 도와주세요!!!\n"
          ]
        }
      ]
    },
    {
      "cell_type": "code",
      "source": [
        "for i in range(len(review)) : \n",
        "  if '사용' in review['token'][i] : \n",
        "    print(i, review['리뷰'][i])"
      ],
      "metadata": {
        "id": "vdpE_-f2dAgv",
        "colab": {
          "base_uri": "https://localhost:8080/"
        },
        "outputId": "ef1fe589-1547-4c03-e1b4-606af47d07d8"
      },
      "execution_count": 105,
      "outputs": [
        {
          "output_type": "stream",
          "name": "stdout",
          "text": [
            "1 소소한 할인쿠폰도 많이 주는 것 같고  서울시 공공시설 이용할 때 하나로 쓸 수 있어서 좋은 것 같아요 사용하기 편리해요\n",
            "16 가입하기를 누르고 인증 절차를 위해 휴대폰 인증하기를 통해 받은 문자의 번호까지 입력하고 나면 그냥 까만색이 떠요. 그것도 연속 3번을요!  인증부터 안되는데 다른 기능은 얼마나 험난할지.. 찾고로 ios 사용하고 있습니다. 저는 가입 절차에서 인증조차 못했습니다\n",
            "41 ios 13.4 업그레이드되고 앱 크러시 나면서 동작 안 한 지가 2주가 넘는데 대응 안 하나요? 세금으로 운영하는 건데 납세자 시민의 사용 불편에 신속히 대응 바랍니다 ios 13.4 앱 크러시 대응\n",
            "44 도서관 카드, 문화 체육센터 카드 연동하여 꾸준히 잘 사용하던 시민입니다. 금일 갑자기 블루투스 연결하라는 팝업이 뜨면서부터 어플 진입이 불가하네요. 닫기 버튼을 누르면 네트워크 연결을 재확인하라는 알림 후 앱 종료되는 오류 발생합니다. 도서 수령하러 갔다가 불편을 겪었네요.. 빠른 확인 부탁드려요.. 진입 오류\n",
            "53 잘 쓰고 있습니다! 공공기관뿐만 아니라 서울시에 있는 일반 상점들도 등록해서 사용하는 건 어떨까요? 프랜차이즈는 각자 앱이 있지만 작은 가게는 앱이 없는데요. 있어도 그거 하나 때문에 따로 설치하기도 번거롭고요. 요새 모바일 신분증도 나온다는데 정말 지갑 없이 다니고 싶어요! ㅎㅎ\n",
            "72 버스에서 홍보영상 보고 설치했는데 쓰임새가 많을 것 같네요 사용하다 불편한 점 있으면 문의하겠습니다.\n",
            "81 도서관 접속이 안됩니다. \"이 사이트에서는 오래된 보안 설정이 사용되므로 개인 정보를 이 사이트에 발송할 경우 정보가 유출될 수 있음\"으로 떠요.\n",
            "91 안되네요 무작정 만들어서 사용 가능하다고 홍보하지 말고 될 수 있게 만든 다음 홍보하세요 어플 삭제합니다\n",
            "101 도서관 카드를 사용하려 하는데 대기 중만 뜨고 사용해보니 회원정보가 없다는데 어떻게 해야 하나요?\n",
            "117 잘 사용하겠습니다^^\n",
            "119 잘 사용하고 있습니다~!\n",
            "130 서울 시민으로서 긍지를 가지고 사용하고자 합니다!\n",
            "134 잘 사용하고 있습니다.\n",
            "139 사용에 불편해요.\n",
            "164 사용처가 아직...\n",
            "166 앞으로 더 많은 시설에서 사용할 수 있으면 좋겠습니다.\n"
          ]
        }
      ]
    },
    {
      "cell_type": "code",
      "source": [
        ""
      ],
      "metadata": {
        "id": "KNmedNY3wIns"
      },
      "execution_count": null,
      "outputs": []
    }
  ]
}