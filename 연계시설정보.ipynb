{
  "nbformat": 4,
  "nbformat_minor": 0,
  "metadata": {
    "colab": {
      "name": "연계시설정보.ipynb",
      "provenance": [],
      "collapsed_sections": []
    },
    "kernelspec": {
      "name": "python3",
      "display_name": "Python 3"
    },
    "language_info": {
      "name": "python"
    }
  },
  "cells": [
    {
      "cell_type": "code",
      "source": [
        "!sudo apt-get install -y fonts-nanum\n",
        "!sudo fc-cache -fv\n",
        "!rm ~/.cache/matplotlib -rf"
      ],
      "metadata": {
        "id": "jGsA0q26nHPQ"
      },
      "execution_count": null,
      "outputs": []
    },
    {
      "cell_type": "code",
      "source": [
        "import matplotlib.pyplot as plt\n",
        "import seaborn as sns\n",
        "plt.rc('font', family='NanumBarunGothic') "
      ],
      "metadata": {
        "id": "h5YcQV5NnMeh"
      },
      "execution_count": 1,
      "outputs": []
    },
    {
      "cell_type": "code",
      "execution_count": 2,
      "metadata": {
        "colab": {
          "base_uri": "https://localhost:8080/",
          "height": 465
        },
        "id": "BB6V72KqNfrP",
        "outputId": "0c9497a4-fd8e-48a0-8a9c-4f199d38ea36"
      },
      "outputs": [
        {
          "output_type": "execute_result",
          "data": {
            "text/plain": [
              "           시설명 시설유형명 설림유형명                       시설정보  \\\n",
              "0  중화역  스마트도서관   도서관    구립                 중화역 스마트도서관   \n",
              "1    면목2동작은도서관   도서관    구립   면목2동 주민센터에 위치하고 있는 작은도서관   \n",
              "2    중랑구립정보도서관   도서관    구립  신내동에 위치한 나눔과 소통이 있는 행복도서관   \n",
              "\n",
              "                                             홈페이지URL          시설전화  구명칭  \\\n",
              "0                                                NaN   02-490-9151  중랑구   \n",
              "1  http://smlib.jungnanglib.seoul.kr/small/prgm/i...  02-2094-6044  중랑구   \n",
              "2             http://www.jungnanglib.seoul.kr/jnlib/   02-490-9113  중랑구   \n",
              "\n",
              "   시설우편번호                                 시설주소1                시설주소2  \\\n",
              "0  2017.0           서울 중랑구 동일로 지하 797 (중화동 중화역)  지하1층 개찰구 앞(중화역 7호선)   \n",
              "1  2130.0  서울 중랑구 동일로101길 20-15 (면목동 면목2동 주민센터)                        \n",
              "2  2041.0      서울 중랑구 신내로15길 197 (묵동 중랑구립정보도서관)                        \n",
              "\n",
              "        시설위도        시설경도                                               이용정보  \\\n",
              "0  37.601580  127.079469  ▣ 이용시간: 05:30~24:00 ▣ 이용대상: 책이음회원(하나의 회원증으로 책이...   \n",
              "1  37.589716  127.079058  ▣ 이용시간 및 휴관일  1. 이용시간안내 - 월-금 09:00 ~ 18:00  2...   \n",
              "2  37.615320  127.087114  ▣ 이용시간 및 휴관일  1. 이용시간안내 - 종합자료실 전자정보실  ※ 평일: 0...   \n",
              "\n",
              "  주차정보  \n",
              "0  NaN  \n",
              "1  NaN  \n",
              "2  NaN  "
            ],
            "text/html": [
              "\n",
              "  <div id=\"df-268e111c-b0c2-408b-9794-e9164b761881\">\n",
              "    <div class=\"colab-df-container\">\n",
              "      <div>\n",
              "<style scoped>\n",
              "    .dataframe tbody tr th:only-of-type {\n",
              "        vertical-align: middle;\n",
              "    }\n",
              "\n",
              "    .dataframe tbody tr th {\n",
              "        vertical-align: top;\n",
              "    }\n",
              "\n",
              "    .dataframe thead th {\n",
              "        text-align: right;\n",
              "    }\n",
              "</style>\n",
              "<table border=\"1\" class=\"dataframe\">\n",
              "  <thead>\n",
              "    <tr style=\"text-align: right;\">\n",
              "      <th></th>\n",
              "      <th>시설명</th>\n",
              "      <th>시설유형명</th>\n",
              "      <th>설림유형명</th>\n",
              "      <th>시설정보</th>\n",
              "      <th>홈페이지URL</th>\n",
              "      <th>시설전화</th>\n",
              "      <th>구명칭</th>\n",
              "      <th>시설우편번호</th>\n",
              "      <th>시설주소1</th>\n",
              "      <th>시설주소2</th>\n",
              "      <th>시설위도</th>\n",
              "      <th>시설경도</th>\n",
              "      <th>이용정보</th>\n",
              "      <th>주차정보</th>\n",
              "    </tr>\n",
              "  </thead>\n",
              "  <tbody>\n",
              "    <tr>\n",
              "      <th>0</th>\n",
              "      <td>중화역  스마트도서관</td>\n",
              "      <td>도서관</td>\n",
              "      <td>구립</td>\n",
              "      <td>중화역 스마트도서관</td>\n",
              "      <td>NaN</td>\n",
              "      <td>02-490-9151</td>\n",
              "      <td>중랑구</td>\n",
              "      <td>2017.0</td>\n",
              "      <td>서울 중랑구 동일로 지하 797 (중화동 중화역)</td>\n",
              "      <td>지하1층 개찰구 앞(중화역 7호선)</td>\n",
              "      <td>37.601580</td>\n",
              "      <td>127.079469</td>\n",
              "      <td>▣ 이용시간: 05:30~24:00 ▣ 이용대상: 책이음회원(하나의 회원증으로 책이...</td>\n",
              "      <td>NaN</td>\n",
              "    </tr>\n",
              "    <tr>\n",
              "      <th>1</th>\n",
              "      <td>면목2동작은도서관</td>\n",
              "      <td>도서관</td>\n",
              "      <td>구립</td>\n",
              "      <td>면목2동 주민센터에 위치하고 있는 작은도서관</td>\n",
              "      <td>http://smlib.jungnanglib.seoul.kr/small/prgm/i...</td>\n",
              "      <td>02-2094-6044</td>\n",
              "      <td>중랑구</td>\n",
              "      <td>2130.0</td>\n",
              "      <td>서울 중랑구 동일로101길 20-15 (면목동 면목2동 주민센터)</td>\n",
              "      <td></td>\n",
              "      <td>37.589716</td>\n",
              "      <td>127.079058</td>\n",
              "      <td>▣ 이용시간 및 휴관일  1. 이용시간안내 - 월-금 09:00 ~ 18:00  2...</td>\n",
              "      <td>NaN</td>\n",
              "    </tr>\n",
              "    <tr>\n",
              "      <th>2</th>\n",
              "      <td>중랑구립정보도서관</td>\n",
              "      <td>도서관</td>\n",
              "      <td>구립</td>\n",
              "      <td>신내동에 위치한 나눔과 소통이 있는 행복도서관</td>\n",
              "      <td>http://www.jungnanglib.seoul.kr/jnlib/</td>\n",
              "      <td>02-490-9113</td>\n",
              "      <td>중랑구</td>\n",
              "      <td>2041.0</td>\n",
              "      <td>서울 중랑구 신내로15길 197 (묵동 중랑구립정보도서관)</td>\n",
              "      <td></td>\n",
              "      <td>37.615320</td>\n",
              "      <td>127.087114</td>\n",
              "      <td>▣ 이용시간 및 휴관일  1. 이용시간안내 - 종합자료실 전자정보실  ※ 평일: 0...</td>\n",
              "      <td>NaN</td>\n",
              "    </tr>\n",
              "  </tbody>\n",
              "</table>\n",
              "</div>\n",
              "      <button class=\"colab-df-convert\" onclick=\"convertToInteractive('df-268e111c-b0c2-408b-9794-e9164b761881')\"\n",
              "              title=\"Convert this dataframe to an interactive table.\"\n",
              "              style=\"display:none;\">\n",
              "        \n",
              "  <svg xmlns=\"http://www.w3.org/2000/svg\" height=\"24px\"viewBox=\"0 0 24 24\"\n",
              "       width=\"24px\">\n",
              "    <path d=\"M0 0h24v24H0V0z\" fill=\"none\"/>\n",
              "    <path d=\"M18.56 5.44l.94 2.06.94-2.06 2.06-.94-2.06-.94-.94-2.06-.94 2.06-2.06.94zm-11 1L8.5 8.5l.94-2.06 2.06-.94-2.06-.94L8.5 2.5l-.94 2.06-2.06.94zm10 10l.94 2.06.94-2.06 2.06-.94-2.06-.94-.94-2.06-.94 2.06-2.06.94z\"/><path d=\"M17.41 7.96l-1.37-1.37c-.4-.4-.92-.59-1.43-.59-.52 0-1.04.2-1.43.59L10.3 9.45l-7.72 7.72c-.78.78-.78 2.05 0 2.83L4 21.41c.39.39.9.59 1.41.59.51 0 1.02-.2 1.41-.59l7.78-7.78 2.81-2.81c.8-.78.8-2.07 0-2.86zM5.41 20L4 18.59l7.72-7.72 1.47 1.35L5.41 20z\"/>\n",
              "  </svg>\n",
              "      </button>\n",
              "      \n",
              "  <style>\n",
              "    .colab-df-container {\n",
              "      display:flex;\n",
              "      flex-wrap:wrap;\n",
              "      gap: 12px;\n",
              "    }\n",
              "\n",
              "    .colab-df-convert {\n",
              "      background-color: #E8F0FE;\n",
              "      border: none;\n",
              "      border-radius: 50%;\n",
              "      cursor: pointer;\n",
              "      display: none;\n",
              "      fill: #1967D2;\n",
              "      height: 32px;\n",
              "      padding: 0 0 0 0;\n",
              "      width: 32px;\n",
              "    }\n",
              "\n",
              "    .colab-df-convert:hover {\n",
              "      background-color: #E2EBFA;\n",
              "      box-shadow: 0px 1px 2px rgba(60, 64, 67, 0.3), 0px 1px 3px 1px rgba(60, 64, 67, 0.15);\n",
              "      fill: #174EA6;\n",
              "    }\n",
              "\n",
              "    [theme=dark] .colab-df-convert {\n",
              "      background-color: #3B4455;\n",
              "      fill: #D2E3FC;\n",
              "    }\n",
              "\n",
              "    [theme=dark] .colab-df-convert:hover {\n",
              "      background-color: #434B5C;\n",
              "      box-shadow: 0px 1px 3px 1px rgba(0, 0, 0, 0.15);\n",
              "      filter: drop-shadow(0px 1px 2px rgba(0, 0, 0, 0.3));\n",
              "      fill: #FFFFFF;\n",
              "    }\n",
              "  </style>\n",
              "\n",
              "      <script>\n",
              "        const buttonEl =\n",
              "          document.querySelector('#df-268e111c-b0c2-408b-9794-e9164b761881 button.colab-df-convert');\n",
              "        buttonEl.style.display =\n",
              "          google.colab.kernel.accessAllowed ? 'block' : 'none';\n",
              "\n",
              "        async function convertToInteractive(key) {\n",
              "          const element = document.querySelector('#df-268e111c-b0c2-408b-9794-e9164b761881');\n",
              "          const dataTable =\n",
              "            await google.colab.kernel.invokeFunction('convertToInteractive',\n",
              "                                                     [key], {});\n",
              "          if (!dataTable) return;\n",
              "\n",
              "          const docLinkHtml = 'Like what you see? Visit the ' +\n",
              "            '<a target=\"_blank\" href=https://colab.research.google.com/notebooks/data_table.ipynb>data table notebook</a>'\n",
              "            + ' to learn more about interactive tables.';\n",
              "          element.innerHTML = '';\n",
              "          dataTable['output_type'] = 'display_data';\n",
              "          await google.colab.output.renderOutput(dataTable, element);\n",
              "          const docLink = document.createElement('div');\n",
              "          docLink.innerHTML = docLinkHtml;\n",
              "          element.appendChild(docLink);\n",
              "        }\n",
              "      </script>\n",
              "    </div>\n",
              "  </div>\n",
              "  "
            ]
          },
          "metadata": {},
          "execution_count": 2
        }
      ],
      "source": [
        "import pandas as pd \n",
        "infra = pd.read_csv('서울시민카드 연계시설 정보.csv', encoding = 'cp949')\n",
        "infra.head(3)"
      ]
    },
    {
      "cell_type": "code",
      "source": [
        "infra.columns"
      ],
      "metadata": {
        "colab": {
          "base_uri": "https://localhost:8080/"
        },
        "id": "8YCGlj4UPrKO",
        "outputId": "c01752e4-3c4d-4210-d83f-b3a38d731af6"
      },
      "execution_count": 4,
      "outputs": [
        {
          "output_type": "execute_result",
          "data": {
            "text/plain": [
              "Index(['시설명', '시설유형명', '설림유형명', '시설정보', '홈페이지URL', '시설전화', '구명칭', '시설우편번호',\n",
              "       '시설주소1', '시설주소2', '시설위도', '시설경도', '이용정보', '주차정보'],\n",
              "      dtype='object')"
            ]
          },
          "metadata": {},
          "execution_count": 4
        }
      ]
    },
    {
      "cell_type": "code",
      "source": [
        "ax = sns.countplot('시설유형명', data = infra)"
      ],
      "metadata": {
        "colab": {
          "base_uri": "https://localhost:8080/",
          "height": 335
        },
        "id": "u2eOFfAKm-vs",
        "outputId": "8e41ba0b-7ebe-4d6d-d033-f8a58eaf78c0"
      },
      "execution_count": 4,
      "outputs": [
        {
          "output_type": "stream",
          "name": "stderr",
          "text": [
            "/usr/local/lib/python3.7/dist-packages/seaborn/_decorators.py:43: FutureWarning: Pass the following variable as a keyword arg: x. From version 0.12, the only valid positional argument will be `data`, and passing other arguments without an explicit keyword will result in an error or misinterpretation.\n",
            "  FutureWarning\n"
          ]
        },
        {
          "output_type": "display_data",
          "data": {
            "text/plain": [
              "<Figure size 432x288 with 1 Axes>"
            ],
            "image/png": "[encoded data removed]"
          },
          "metadata": {
            "needs_background": "light"
          }
        }
      ]
    },
    {
      "cell_type": "code",
      "source": [
        "ax = sns.countplot('설림유형명', data = infra)\n"
      ],
      "metadata": {
        "colab": {
          "base_uri": "https://localhost:8080/",
          "height": 335
        },
        "id": "6R_4JPxtpao2",
        "outputId": "edd261e2-4372-417a-b836-4935f6525b1b"
      },
      "execution_count": 11,
      "outputs": [
        {
          "output_type": "stream",
          "name": "stderr",
          "text": [
            "/usr/local/lib/python3.7/dist-packages/seaborn/_decorators.py:43: FutureWarning: Pass the following variable as a keyword arg: x. From version 0.12, the only valid positional argument will be `data`, and passing other arguments without an explicit keyword will result in an error or misinterpretation.\n",
            "  FutureWarning\n"
          ]
        },
        {
          "output_type": "display_data",
          "data": {
            "text/plain": [
              "<Figure size 432x288 with 1 Axes>"
            ],
            "image/png": "[encoded data removed]"
          },
          "metadata": {
            "needs_background": "light"
          }
        }
      ]
    },
    {
      "cell_type": "code",
      "source": [
        "plt.rc('font', family='NanumBarunGothic') \n",
        "plt.figure(figsize = (20,4))\n",
        "ax = sns.countplot('구명칭', data = infra)"
      ],
      "metadata": {
        "colab": {
          "base_uri": "https://localhost:8080/",
          "height": 335
        },
        "id": "PpxgJVTXnXG0",
        "outputId": "bf4d05de-4136-42ed-b330-ba041826f8f6"
      },
      "execution_count": 7,
      "outputs": [
        {
          "output_type": "stream",
          "name": "stderr",
          "text": [
            "/usr/local/lib/python3.7/dist-packages/seaborn/_decorators.py:43: FutureWarning: Pass the following variable as a keyword arg: x. From version 0.12, the only valid positional argument will be `data`, and passing other arguments without an explicit keyword will result in an error or misinterpretation.\n",
            "  FutureWarning\n"
          ]
        },
        {
          "output_type": "display_data",
          "data": {
            "text/plain": [
              "<Figure size 1440x288 with 1 Axes>"
            ],
            "image/png": "[encoded data removed]"
          },
          "metadata": {
            "needs_background": "light"
          }
        }
      ]
    },
    {
      "cell_type": "code",
      "source": [
        "plt.rc('font', family='NanumBarunGothic') \n",
        "plt.figure(figsize = (20,8))\n",
        "ax = sns.countplot('구명칭', data = infra, hue = '시설유형명')"
      ],
      "metadata": {
        "colab": {
          "base_uri": "https://localhost:8080/",
          "height": 553
        },
        "id": "6-c3sc41o8RB",
        "outputId": "f668a1ab-87f5-4905-ae28-d742cf37c0fd"
      },
      "execution_count": 10,
      "outputs": [
        {
          "output_type": "stream",
          "name": "stderr",
          "text": [
            "/usr/local/lib/python3.7/dist-packages/seaborn/_decorators.py:43: FutureWarning: Pass the following variable as a keyword arg: x. From version 0.12, the only valid positional argument will be `data`, and passing other arguments without an explicit keyword will result in an error or misinterpretation.\n",
            "  FutureWarning\n"
          ]
        },
        {
          "output_type": "display_data",
          "data": {
            "text/plain": [
              "<Figure size 1440x576 with 1 Axes>"
            ],
            "image/png": "[encoded data removed]"
          },
          "metadata": {
            "needs_background": "light"
          }
        }
      ]
    },
    {
      "cell_type": "markdown",
      "source": [
        "* 시설별로 이용시간/요일이 상이함"
      ],
      "metadata": {
        "id": "qfWuVWx5tYSy"
      }
    },
    {
      "cell_type": "code",
      "source": [
        "infra.이용정보[0]"
      ],
      "metadata": {
        "colab": {
          "base_uri": "https://localhost:8080/",
          "height": 35
        },
        "id": "bbD6D5MCPgWg",
        "outputId": "869a1e26-dc49-40d7-9b76-15e57a65191c"
      },
      "execution_count": null,
      "outputs": [
        {
          "output_type": "execute_result",
          "data": {
            "text/plain": [
              "'▣ 이용시간: 05:30~24:00 ▣ 이용대상: 책이음회원(하나의 회원증으로 책이음 참여도서관을 이용하는 통합회원) ▣ 대출권수: 1인당 2권(통합 20권 대출가능) ▣ 대출기간: 14일(연장불가) ▣ 장    서: 다양한 일반도서 400여권'"
            ],
            "application/vnd.google.colaboratory.intrinsic+json": {
              "type": "string"
            }
          },
          "metadata": {},
          "execution_count": 9
        }
      ]
    },
    {
      "cell_type": "code",
      "source": [
        "infra.이용정보[500]"
      ],
      "metadata": {
        "colab": {
          "base_uri": "https://localhost:8080/",
          "height": 181
        },
        "id": "MbO6DzgZtC68",
        "outputId": "cf580a29-da83-4b94-a814-c721432c0229"
      },
      "execution_count": 24,
      "outputs": [
        {
          "output_type": "execute_result",
          "data": {
            "text/plain": [
              "'▣ 이용안내  1. 평 일 : 월 ~ 금 06:00 ~ 22:00  2. 토요일 : 06:00 ~ 21:00  3. 자유이용안내   ▣ 수영장 자유수영  1. 평일 12:00~12:50     초등생 1900원/중고생 2700원/성인 3900원  2. 토요일      - 1부 06:00~07:50     - 2부 15:00~17:30     - 3부 18:00~20:30     강습+토(자유수영) 프로그램 이용 회원 대상        프로그램 수강료에 이용료 포함  3. 일/공휴일     - 1부 09:00~11:30     - 2부 12:00~14:30     - 3부 15:00~17:30        초등생 2500원/중고생 3500원/성인 5000원  4. 비고     - 토요일 자유수영의 경우 해당 프로그램 강습회원만 이용 가능하며 그 외 프로그램 또는 일일입장객 이용불가  - 일/공휴일은 30% 할증된 금액입니다.  - 임산부는 안전상의 문제로 수영프로그램 자유수영 이용시 입장이 제한됩니다.  - 일/공휴일 경우 사용요금은 각 부당 적용됩니다   ▣ 다목적체육관 자유이용  1. 종목 : 농구  2. 요일 : 일/공휴일  3. 시간당 이용료        초등생 1900원/중고생 2200원/성인 3000원 4. 비고  - 각 부당 정원 : 24명  - 체육관 자유이용의 경우 대관행사로 인해 자유이용이 제한될 수 있습니다.   ▣ 회원가입  1. 신규 회원 등록 방법  - 등록일시 : 매월 22일 09:00부터 선착순 접수  - 등록방법 : 홈페이지 온라인접수 및 모바일 접수(70%) 현장방문 접수(30%)  * 온라인 접수: 회원가입 후 09:00부터 홈페이지 수강신청란에서 온라인 접수   2. 기존회원 등록방법  - 등록기간 : 매월 15일 ~ 20일  - 등록방법 : 홈페이지 온라인접수 및 현장 방문접수 병행  - 등록시간 : 온라인 접수 00:00 ~ 24:00                현장방문접수 07:00 ~ 20:50  * 기존회원 등록기간내 미접수시 신규회원으로 접수   ▣ 할인대상  - 장애인할인(복지카드 소지자50%할인)  - 장애인 123급 동반자 50% 할인  * 할인은 최초 프로그램 등록시 안내데스크에 증빙서류를 제시했을 경우 효력이 발생되며 기 결제된 이용료는 소급하여 적용하지 않음(가임기여성 할인을 제외한 나머지 할인대상은 1층 안내데스크에 방문하여 증빙서류를 제출하여야 할인적용 가능)  - 국가유공자50%할인(배우자포함)  - 기초생활수급자 30%할인(수급자증명서 1년 2회 제출)  - 경로우대 20%할인(만65세 이상)  - 노원구 지역화폐(NOWON) 할인(20% 할인)  - 수영프로그램 이용시 다둥이 카드소지자(3자녀) 20%할인(단 다둥이카드 소지자로 만18세 미만의 자녀가 3명인 경우만 12세 미만의 자녀에게 1개 프로그램에 한하여 할인됨) 첨부서류(주민등록등본 의료보험카드 가족관계증명서 중 1개 택일 + 다둥이카드) 지참  - 가임기여성할인(만13세~만55세) 10%할인  - 한부모가족 20%할인(한부모가족 증명서 소지자)  - 다문화가족 20%할인(외국인등록증+가족관계증명서 소지자)  - 특수임무 유공자 50%할인(특수임무 유공자증 소지자/배우자 포함))  - 5.18 민주 유공자 50%할인(5.18 민주 유공자증 소지자/배우자 포함))  - 의사상자 50%할인(의사상자증 소지자/배우자 포함)  * 유효기간 만료 시 할인 적용 불가  * 할인은 최초 프로그램 등록시 안내데스크에 증빙서류를 제시했을 경우 효력이 발생되며 기 결제된 이용료는 소급하여 적용하지 않음  * 중복할인 불가(일부 특수 목적의 프로그램은 할인이 적용된 이용료로 할인 불가)  ▣ 환불 안내  1. 환불  - 본인의 첫수업일전 : 전액환불 *개강일 : 본인 첫 수업일 기준  - 개강일후 : 이용일수(당일포함)의 요금과 총금액의 10%공제 후 환불(개강일 이후 접수시에도 동일한 규정적용)  - 환불금 본인계좌(무통장)입금을 원칙으로 하며 회원이 미성년자인 경우는 직계존비속의 계좌로 입금처리 가능함(제출서류 : 가족관계증명서 주민등록등본 의료보험증 등)  - 방문시 환불방법 및 서류  - 본인 신청시 : 환불신청서작성(신분증 지참) 본인명의 입출금 계좌번호  - 본인신청이 아닌 대리인인 경우   - 환불신청서 작성(가족관계증명서 주민등록등본 의료보험증 등) 대리인 입출금 계좌번호  - 팩스 요청시     본인신분증(주민번호 뒷자리는 삭제 후 송부) 환불신청서(다운로드)    대리인 경우(가족관계증명서 주민등록등본 의료보험증 등)  ※ 기타 자세한 사항은 이용약관 참조 및 전화문의 주세요.  ▣ 문의전화 : 02-2289-6888~6889(안내데스크)  ▣ FAX : 02-943-9802 (안내데스크)  ▣ 이용안내 홈페이지  http://m.nowonsc.kr/culturebusiness/wolgae/usinginfo.html '"
            ],
            "application/vnd.google.colaboratory.intrinsic+json": {
              "type": "string"
            }
          },
          "metadata": {},
          "execution_count": 24
        }
      ]
    },
    {
      "cell_type": "code",
      "source": [
        "infra.이용정보[568]"
      ],
      "metadata": {
        "colab": {
          "base_uri": "https://localhost:8080/",
          "height": 126
        },
        "id": "Oov4IfN7PaGM",
        "outputId": "32064652-bd63-43cd-843a-bbcb37b0dba5"
      },
      "execution_count": null,
      "outputs": [
        {
          "output_type": "execute_result",
          "data": {
            "text/plain": [
              "'▣ 가입대상 - 우신고등학교 학생 및 교직원 지역주민  ▣ 이용시간 - 학기 중 평일: 08:00 ~ 19:00 - 학기 중 토?일요일: 10:00~19:00 - 학기 중 휴관일: 개교기념일(5월 23일) 국경일(설날 추석 현충일 광복절 등) - 방학기간: 10:00 ~ 18:00 (수요일은 17시까지)  - 방학기간 휴관일: 매주 월요일 / 국경일 - 방학기간 운영시간 변동 (월:휴관 화~일 10:00~19:00) 학교 개방도서관으로 문의하시기 바랍니다. - 국경일과 개교기념일을 제외한 전일정 개관함 - 개학기간 : 오전 개관시간은 동일하나 오후 폐장은 9시까지 연장함  ▣ 대출규정 - 대출권수 : 학생 지역주민 1인 3권 (교직원의 경우 1인 10권 / 교육자료이용 별도) - 대출기간 : 2주(14일) 이내 (교직원의 경우 한달) - 대출연장 : 반납예정일까지 1회에 한하여 7일간 - 분실 및 훼손 : 동일동본 구입 후 변상 절판된 도서의 경우 정가 금액 변상 - 반납 : 일과 시간내에 안내데스크에 직접반납(일과 후 반납함 이용) - 예약 :전화나 홈페이지로 예약(예약 책수는 대출 책수와 동일함)이 가능하며 예약 자료가 반납되면 전화로 연락을 드립니다. 전화 연락 후 2일이 경과하며 예약이 자동 해지되고 예약 자료는 서가에 배가됩니다.  ▣ 대출제한 - 연체자의 경우 : 연체기간×책수 - 일부자료의 경우 - 참고도서 코너의 정기 간행물과 대형 서적 고서 고가의 화첩 사진첩 도록 등은 대출을 제한하고 있음. (관내 열람만 가능)'"
            ],
            "application/vnd.google.colaboratory.intrinsic+json": {
              "type": "string"
            }
          },
          "metadata": {},
          "execution_count": 11
        }
      ]
    },
    {
      "cell_type": "code",
      "source": [
        "infra.이용정보[690]"
      ],
      "metadata": {
        "colab": {
          "base_uri": "https://localhost:8080/",
          "height": 163
        },
        "id": "QFk_wraMPaDp",
        "outputId": "de32a1d7-3042-4688-daea-df2482a9966f"
      },
      "execution_count": null,
      "outputs": [
        {
          "output_type": "execute_result",
          "data": {
            "text/plain": [
              "'▣ 이용시간  1. 이용시간     - 10:00~17:00  2. 정기휴관일     - 매주 토일요일        - 정부지정 공휴일  3. 임시휴관일     - 특별한 사유로 새마을문고 회장이 필요하다고 인정한 경우    ▣ 관외대출 및 반납  1. 대출자격  - 회원에 한하여 자료를 관외대출 (회원증은 자료대출시 반드시 소지해야 하 며 본인 회원증만 사용 가능)  2. 대출기간  -대출일로부터 14일  3. 대출권수  - 정회원 : 3권 우수회원 : 5권 다둥이회원 : 5권  4. 대출연장  - 1회에 한하여 1주일 연장가능(단 예약도서가 아닌 경우에 한함)  5. 대출자료  - 일반도서 (연속간행물 점자자료 행정자료 비도서자료 참고자료는 대출불가)  6. 대 출  - 각 동새마을문고 대출대  7. 반 납  - 각 동새마을문고 대출대  8. 변 상  - 대출 또는 열람한 도서자료를 훼손 또는 멸실하였을 경우 실물 또는 정가로 변상.  9. 연 체  - 반납이 지연되는 경우 지연일수 만큼 대출제한  10. 예 약  - 인터넷상에서 ID와 비밀번호로 로그인 후 예약 (연체시는 제외)  11. 대출사항 문의  - 각 동 새마을문고 전화번호  12. 기 타  - 각종 공지사항은 홈페이지 참조   ▣ 예약 대출 연장  1. 대출된 도서의 예약 신청  - 대출이 나간 도서는 사전에 예약하실 수 있습니다.  - 먼저 로그인을 하신 후 도서명검색 또는 자료검색-&gt;전체에서 필요한 도서를검색하여 “대출중”하단에 있는 “예약신청”을 선택하시면 됩니다.  - 단 예약한 도서를 대출시에는 본인이 본인카드로 대출하셔야 합니다.  - 예약 가능 권수는 3권입니다.  2. 대출기간 연장  - 대출기간 연장은 1회에 한하며 1주일 연장됩니다.  - 홈페이지나 동 새마을문고에서 하실 수 있습니다.  - 대출 연장신청을 하실때 해당도서에 대해 타 회원의 대출예약이 없어야 하며 반납기 일 이전에 신청하셔야 합니다.  - 대출자료의 연장 신청절차는 다음과 같습니다.    홈페이지에서 로그인 하신 후 나의 도서관-&gt;대출/연장/예약/조회에서 현재 대출하 신 도서 항목이 나오는데 여기서 연장을 선택하시면 됩니다.    직접 방문하셔서 새마을문고의 담당자에게 신청하실 수 있습니다. 또한 대출 도서를 연체 하시게 되면 지연일수 만큼 대출이 제한됩니다.    예를들어 도서를 3권을 대출하셨다가 반납기일을 1주일간 지연하게 되면3권 × 7일 (지연일수) = 21일간 타 도서의 대출을 제한하는 것입니다.  - 90일 이상 장기연체자일 경우에는 관련규정에 의하여 회원자격을 상실할 수 있습니다.   ▣ 연체 규정  1. 연체자 관리 변경사항  - 대출한 도서를 반납기한 내에 반납하지 않고 연체하는 경우 그 자료를 필요로 하는 많은 이용자에게 막대한 불편을 야기 할 뿐만 아니라 연체자에 대한 전화통보 및 메일 통보를 하는데 상당한 시간이 소요되는 것은 물론 이로 인하여 장서관리 및 새마을문 고 업무에 많은 지장을 초래합니다.  - 이러한 사유로 인하여 연체도서에 대하여 대출중지가 적용되며 미반납도서에 대해서 는 가정방문을 하여 회수하오니 이용자 여러분들께서는 대출한 도서를 연체하여 불이 익을 당하는 일이 발생하지 않도록 유의 하시기 바랍니다.  -대출중지기간 = 연체도서 수 x 연체일 수 .  * 연체자 감소 상황에 따라 연체자 관리가 완화될 수 있음  ※ 미반납자에 대한 조치 가정방문 반납 조치 : 반납기한 익일부터 전화 메일 발송으로 반납 독촉  ※ 회원자격 정지   ▣ 회원이용  1. 웹회원  - 발급대상 웹회원은 누구나 가입하실 수 있습니다. 기존 도서대출회원카드를 발급받으 신 분은 추가로 가입하실 필요가 없습니다. (도서대출회원가입 신청시 발급받은 회원 카드의 회원번호(ID와 동일)와 패스워드를 사용하시면 됩니다.)  - 신청방법 홈페이지 메인화면상단의 회원가입페이지 클릭  - 회원등급조정 온라인 회원으로 가입하신 후 도서대출 회원으로 변경하시려면 아래의 구비서류를 준비하셔서 새마을문고에서 가입절차를 마치시면 됩니다.  2. 도서대출회원  - 발급대상 : 강북구민  - 지참물 : 신분증(현 주거지 및 주민등록번호 확인)  * 초등학생 : 주민등록등본 사진1매  * 중고등학생 : 학생증 또는 주민등록등본 사진1매 (※학생증에 주소지가 기재되어 있지 않을 경우 주민등록등본 필수)  3. 신청방법  - 회원가입신청서를 작성하여 회원증신청/발급대에서 접수 ☞ 대출회원가입신청서 출력  4. 회원증  - 회원증은 교통카드(T-MoneyU-Pass 후불제교통카드 모네타칩등 현재 소지하고 있 는 교통카드 )  5. 교부방법  - 회원증신청/발급대에서 교부 (대리인은 위임자의 신분증 지참)  6. 소요시간  - 즉시발급(회원증 제작시간: 10~30분 가량)  7. 재발급  - 회원증신청/발급대에서 재발급 요청 /교통카드- 무료'"
            ],
            "application/vnd.google.colaboratory.intrinsic+json": {
              "type": "string"
            }
          },
          "metadata": {},
          "execution_count": 12
        }
      ]
    },
    {
      "cell_type": "code",
      "source": [
        "infra.이용정보[254]"
      ],
      "metadata": {
        "id": "OdN1ibU6PaAA",
        "colab": {
          "base_uri": "https://localhost:8080/",
          "height": 126
        },
        "outputId": "7b82eaa5-e8ca-4959-80f1-96940c8b0afa"
      },
      "execution_count": 25,
      "outputs": [
        {
          "output_type": "execute_result",
          "data": {
            "text/plain": [
              "'이용시간  1. 평일 09:00~22:00   - 어린이·유아·다문화어린이자료실(1층) 09:00~18:00    - 종합자료실·다문화특화자료실 (3층) 09:00~22:00   - 매직정보센터(4층) 09:00~20:00   - 일반열람실(5층) 07:00~22:00  2. 주말 09:00~18:00   - 일반열람실(5층) 07:00~22:00  3. 정기휴관일   - 매월 첫 번째 세 번째 월요일   - 일요일을 제외한 법정공휴일  회원증 발급방법  1. 성북구립도서관 홈페이지 회원가입  2. 도서관 방문(구비서류 지참)   - 구비서류는 성북구립도서관 홈페이지 참고(https://www.sblib.seoul.kr/library/menu/10026/contents/40035/contents.do)  3. 회원증 발급   - 회원증 발급시간: 평일/주말 09:00~18:00   - 발급비용: 신규(무료) 재발급(1000원)   - 서울시민카드앱 간편가입을 통한 모바일 회원증(무료) 도서관 자료이용  1. 자료대출: 회원증 발급 후 5권을 14일 동안 대출하실 수 있습니다.   - 성북구립도서관별 5권 성북구립도서관 전체 20권까지 가능  2. 자료반납: 도서관 데스크 및 무인반납기를 통해 반납 가능합니다.  3. 자료연체: 반납예정일보다 늦게 반납된 자료는 연체일 수 만큼 대출정지됩니다.  4. 자료예약: 대출된 자료에 한하여 5권까지 예약 신청이 가능합니다.'"
            ],
            "application/vnd.google.colaboratory.intrinsic+json": {
              "type": "string"
            }
          },
          "metadata": {},
          "execution_count": 25
        }
      ]
    },
    {
      "cell_type": "code",
      "source": [
        ""
      ],
      "metadata": {
        "id": "fcP9TRH8qU2J"
      },
      "execution_count": null,
      "outputs": []
    },
    {
      "cell_type": "code",
      "source": [
        ""
      ],
      "metadata": {
        "id": "Bqr-Fk34OKv3"
      },
      "execution_count": null,
      "outputs": []
    }
  ]
}