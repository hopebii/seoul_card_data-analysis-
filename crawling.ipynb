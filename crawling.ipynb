{
  "nbformat": 4,
  "nbformat_minor": 0,
  "metadata": {
    "colab": {
      "name": "crawling.ipynb",
      "provenance": [],
      "collapsed_sections": [
        "zO6RwYDbrEff",
        "vgI9aPhxrJYK",
        "aZY6dihVnnuE",
        "Uy3JlxX4rIEB"
      ]
    },
    "kernelspec": {
      "name": "python3",
      "display_name": "Python 3"
    },
    "language_info": {
      "name": "python"
    }
  },
  "cells": [
    {
      "cell_type": "markdown",
      "source": [
        "## apple app store crawling\n",
        "\n",
        "\n"
      ],
      "metadata": {
        "id": "zO6RwYDbrEff"
      }
    },
    {
      "cell_type": "markdown",
      "source": [
        "### 방법1 👉 encoding 오류 \n",
        "  * https://chaelist.github.io/docs/webscraping/app_review/#app-store-scraping\n",
        "  * https://signing.tistory.com/51"
      ],
      "metadata": {
        "id": "vgI9aPhxrJYK"
      }
    },
    {
      "cell_type": "code",
      "source": [
        "pip install app_store_scraper"
      ],
      "metadata": {
        "id": "iwSB0-2ueDFd"
      },
      "execution_count": null,
      "outputs": []
    },
    {
      "cell_type": "code",
      "source": [
        "from app_store_scraper import Podcast\n",
        "\n",
        "import pandas as pd\n",
        "\n",
        "import numpy as np\n",
        "\n",
        "import json\n",
        "\n",
        "ssc = AppStore(country='kr', app_id='1318541802', app_name='서울시민카드')\n",
        "\n",
        "ssc.review() \n",
        "\n",
        "#📌 latin encoding 에서 error 발생 (왓챠 어플은 잘 되던데,,)"
      ],
      "metadata": {
        "colab": {
          "base_uri": "https://localhost:8080/"
        },
        "id": "iLRgl3SYbbgt",
        "outputId": "c4310fd0-c1ca-4062-8099-9c96fb4cb9a5"
      },
      "execution_count": null,
      "outputs": [
        {
          "output_type": "stream",
          "name": "stderr",
          "text": [
            "2022-06-03 12:46:13,376 [INFO] Base - Initialised: AppStore('kr', '서울시민카드', 1318541802)\n",
            "2022-06-03 12:46:13,378 [INFO] Base - Ready to fetch reviews from: https://apps.apple.com/kr/app/서울시민카드/id1318541802\n",
            "2022-06-03 12:46:13,483 [ERROR] Base - Something went wrong: 'latin-1' codec can't encode characters in position 30-35: ordinal not in range(256)\n",
            "2022-06-03 12:46:13,487 [INFO] Base - [id:1318541802] Fetched 0 reviews (0 fetched in total)\n"
          ]
        }
      ]
    },
    {
      "cell_type": "code",
      "source": [
        "print(ssc)"
      ],
      "metadata": {
        "colab": {
          "base_uri": "https://localhost:8080/"
        },
        "id": "uCvlZmKBe-Lk",
        "outputId": "696d0836-ca7b-46ec-a594-b97a6a42c9eb"
      },
      "execution_count": null,
      "outputs": [
        {
          "output_type": "stream",
          "name": "stdout",
          "text": [
            "     Country | kr\n",
            "        Name | 서울시민카드\n",
            "          ID | 1318541802\n",
            "         URL | https://apps.apple.com/kr/app/서울시민카드/id1318541802\n",
            "Review count | 0\n"
          ]
        }
      ]
    },
    {
      "cell_type": "code",
      "source": [
        "ssc.reviews"
      ],
      "metadata": {
        "colab": {
          "base_uri": "https://localhost:8080/"
        },
        "id": "Gf3E7P6ufmoS",
        "outputId": "2be1d517-69e0-4362-a11e-2a90838541f8"
      },
      "execution_count": null,
      "outputs": [
        {
          "output_type": "execute_result",
          "data": {
            "text/plain": [
              "[]"
            ]
          },
          "metadata": {},
          "execution_count": 129
        }
      ]
    },
    {
      "cell_type": "code",
      "source": [
        " fetched_reviews = ssc.reviews\n",
        " ios_review_df = pd.DataFrame(fetched_reviews)"
      ],
      "metadata": {
        "id": "WW2M2Pg7fT9O"
      },
      "execution_count": null,
      "outputs": []
    },
    {
      "cell_type": "code",
      "source": [
        "ios_review_df"
      ],
      "metadata": {
        "colab": {
          "base_uri": "https://localhost:8080/",
          "height": 49
        },
        "id": "THtWQiPCeLZo",
        "outputId": "8b1cb20c-777a-4fe0-b2cb-2a28af7076d5"
      },
      "execution_count": null,
      "outputs": [
        {
          "output_type": "execute_result",
          "data": {
            "text/plain": [
              "Empty DataFrame\n",
              "Columns: []\n",
              "Index: []"
            ],
            "text/html": [
              "\n",
              "  <div id=\"df-41f38882-1af3-47cc-862b-1f68d54c9fc3\">\n",
              "    <div class=\"colab-df-container\">\n",
              "      <div>\n",
              "<style scoped>\n",
              "    .dataframe tbody tr th:only-of-type {\n",
              "        vertical-align: middle;\n",
              "    }\n",
              "\n",
              "    .dataframe tbody tr th {\n",
              "        vertical-align: top;\n",
              "    }\n",
              "\n",
              "    .dataframe thead th {\n",
              "        text-align: right;\n",
              "    }\n",
              "</style>\n",
              "<table border=\"1\" class=\"dataframe\">\n",
              "  <thead>\n",
              "    <tr style=\"text-align: right;\">\n",
              "      <th></th>\n",
              "    </tr>\n",
              "  </thead>\n",
              "  <tbody>\n",
              "  </tbody>\n",
              "</table>\n",
              "</div>\n",
              "      <button class=\"colab-df-convert\" onclick=\"convertToInteractive('df-41f38882-1af3-47cc-862b-1f68d54c9fc3')\"\n",
              "              title=\"Convert this dataframe to an interactive table.\"\n",
              "              style=\"display:none;\">\n",
              "        \n",
              "  <svg xmlns=\"http://www.w3.org/2000/svg\" height=\"24px\"viewBox=\"0 0 24 24\"\n",
              "       width=\"24px\">\n",
              "    <path d=\"M0 0h24v24H0V0z\" fill=\"none\"/>\n",
              "    <path d=\"M18.56 5.44l.94 2.06.94-2.06 2.06-.94-2.06-.94-.94-2.06-.94 2.06-2.06.94zm-11 1L8.5 8.5l.94-2.06 2.06-.94-2.06-.94L8.5 2.5l-.94 2.06-2.06.94zm10 10l.94 2.06.94-2.06 2.06-.94-2.06-.94-.94-2.06-.94 2.06-2.06.94z\"/><path d=\"M17.41 7.96l-1.37-1.37c-.4-.4-.92-.59-1.43-.59-.52 0-1.04.2-1.43.59L10.3 9.45l-7.72 7.72c-.78.78-.78 2.05 0 2.83L4 21.41c.39.39.9.59 1.41.59.51 0 1.02-.2 1.41-.59l7.78-7.78 2.81-2.81c.8-.78.8-2.07 0-2.86zM5.41 20L4 18.59l7.72-7.72 1.47 1.35L5.41 20z\"/>\n",
              "  </svg>\n",
              "      </button>\n",
              "      \n",
              "  <style>\n",
              "    .colab-df-container {\n",
              "      display:flex;\n",
              "      flex-wrap:wrap;\n",
              "      gap: 12px;\n",
              "    }\n",
              "\n",
              "    .colab-df-convert {\n",
              "      background-color: #E8F0FE;\n",
              "      border: none;\n",
              "      border-radius: 50%;\n",
              "      cursor: pointer;\n",
              "      display: none;\n",
              "      fill: #1967D2;\n",
              "      height: 32px;\n",
              "      padding: 0 0 0 0;\n",
              "      width: 32px;\n",
              "    }\n",
              "\n",
              "    .colab-df-convert:hover {\n",
              "      background-color: #E2EBFA;\n",
              "      box-shadow: 0px 1px 2px rgba(60, 64, 67, 0.3), 0px 1px 3px 1px rgba(60, 64, 67, 0.15);\n",
              "      fill: #174EA6;\n",
              "    }\n",
              "\n",
              "    [theme=dark] .colab-df-convert {\n",
              "      background-color: #3B4455;\n",
              "      fill: #D2E3FC;\n",
              "    }\n",
              "\n",
              "    [theme=dark] .colab-df-convert:hover {\n",
              "      background-color: #434B5C;\n",
              "      box-shadow: 0px 1px 3px 1px rgba(0, 0, 0, 0.15);\n",
              "      filter: drop-shadow(0px 1px 2px rgba(0, 0, 0, 0.3));\n",
              "      fill: #FFFFFF;\n",
              "    }\n",
              "  </style>\n",
              "\n",
              "      <script>\n",
              "        const buttonEl =\n",
              "          document.querySelector('#df-41f38882-1af3-47cc-862b-1f68d54c9fc3 button.colab-df-convert');\n",
              "        buttonEl.style.display =\n",
              "          google.colab.kernel.accessAllowed ? 'block' : 'none';\n",
              "\n",
              "        async function convertToInteractive(key) {\n",
              "          const element = document.querySelector('#df-41f38882-1af3-47cc-862b-1f68d54c9fc3');\n",
              "          const dataTable =\n",
              "            await google.colab.kernel.invokeFunction('convertToInteractive',\n",
              "                                                     [key], {});\n",
              "          if (!dataTable) return;\n",
              "\n",
              "          const docLinkHtml = 'Like what you see? Visit the ' +\n",
              "            '<a target=\"_blank\" href=https://colab.research.google.com/notebooks/data_table.ipynb>data table notebook</a>'\n",
              "            + ' to learn more about interactive tables.';\n",
              "          element.innerHTML = '';\n",
              "          dataTable['output_type'] = 'display_data';\n",
              "          await google.colab.output.renderOutput(dataTable, element);\n",
              "          const docLink = document.createElement('div');\n",
              "          docLink.innerHTML = docLinkHtml;\n",
              "          element.appendChild(docLink);\n",
              "        }\n",
              "      </script>\n",
              "    </div>\n",
              "  </div>\n",
              "  "
            ]
          },
          "metadata": {},
          "execution_count": 108
        }
      ]
    },
    {
      "cell_type": "markdown",
      "source": [
        "### 방법2\n",
        "\n",
        "* https://itunes.apple.com/kr/rss/customerreviews/id=1318541802/sortBy=mostRecent/xml\n",
        "  * 95개 리뷰 👉 50개의 사용자 리뷰 + 45개의 개발자 답글"
      ],
      "metadata": {
        "id": "aZY6dihVnnuE"
      }
    },
    {
      "cell_type": "code",
      "source": [
        "pip install xmltodict"
      ],
      "metadata": {
        "colab": {
          "base_uri": "https://localhost:8080/"
        },
        "id": "pLQS3BwLn7XZ",
        "outputId": "30ca087d-133f-4b49-ba18-27a76167b660"
      },
      "execution_count": null,
      "outputs": [
        {
          "output_type": "stream",
          "name": "stdout",
          "text": [
            "Looking in indexes: https://pypi.org/simple, https://us-python.pkg.dev/colab-wheels/public/simple/\n",
            "Collecting xmltodict\n",
            "  Downloading xmltodict-0.13.0-py2.py3-none-any.whl (10.0 kB)\n",
            "Installing collected packages: xmltodict\n",
            "Successfully installed xmltodict-0.13.0\n"
          ]
        }
      ]
    },
    {
      "cell_type": "code",
      "source": [
        "import pandas as pd\n",
        "import xmltodict\n",
        "from urllib.request import urlopen\n",
        "import json\n"
      ],
      "metadata": {
        "id": "hCu38YC0nmJq"
      },
      "execution_count": null,
      "outputs": []
    },
    {
      "cell_type": "code",
      "source": [
        "url = \"https://itunes.apple.com/kr/rss/customerreviews/id=1318541802/sortBy=mostRecent/xml\"\n",
        "response = urlopen(url).read()\n",
        "response"
      ],
      "metadata": {
        "colab": {
          "base_uri": "https://localhost:8080/"
        },
        "id": "UQIQ5k6dnmHZ",
        "outputId": "92623b15-4413-4db7-caf8-98101914960a"
      },
      "execution_count": null,
      "outputs": [
        {
          "output_type": "execute_result",
          "data": {
            "text/plain": [
              "b'<?xml version=\"1.0\" encoding=\"utf-8\"?>\\n\\n\\t<feed xmlns:im=\"http://itunes.apple.com/rss\" xmlns=\"http://www.w3.org/2005/Atom\" xml:lang=\"ko\">\\n\\t\\t<id>https://mzstoreservices-int-st.itunes.apple.com/kr/rss/customerreviews/id=1318541802/sortBy=mostRecent/xml</id><title>iTunes Store:\\xec\\x82\\xac\\xec\\x9a\\xa9\\xec\\x9e\\x90 \\xed\\x9b\\x84\\xea\\xb8\\xb0</title><updated>2022-06-03T05:53:38-07:00</updated><link rel=\"alternate\" type=\"text/html\" href=\"https://apps.apple.com/WebObjects/MZStore.woa/wa/viewGrouping?cc=kr&amp;id=29141\"/><link rel=\"self\" href=\"https://mzstoreservices-int-st.itunes.apple.com/kr/rss/customerreviews/id=1318541802/sortBy=mostRecent/xml\"/><link rel=\"first\" href=\"https://itunes.apple.com/kr/rss/customerreviews/page=1/id=1318541802/sortby=mostrecent/xml?urlDesc=/customerreviews/id=1318541802/sortBy=mostRecent/xml\"/><link rel=\"last\" href=\"https://itunes.apple.com/kr/rss/customerreviews/page=2/id=1318541802/sortby=mostrecent/xml?urlDesc=/customerreviews/id=1318541802/sortBy=mostRecent/xml\"/><link rel=\"previous\" href=\"https://itunes.apple.com/kr/rss/customerreviews/page=1/id=1318541802/sortby=mostrecent/xml?urlDesc=/customerreviews/id=1318541802/sortBy=mostRecent/xml\"/><link rel=\"next\" href=\"https://itunes.apple.com/kr/rss/customerreviews/page=2/id=1318541802/sortby=mostrecent/xml?urlDesc=/customerreviews/id=1318541802/sortBy=mostRecent/xml\"/><icon>http://phobos.apple.com/favicon.ico</icon><author><name>iTunes Store</name><uri>http://www.apple.com/itunes/</uri></author><rights>Copyright 2008 Apple Inc.</rights>\\n\\t\\t\\n\\t\\t\\t<entry>\\n\\t\\t\\t\\t\\n\\t\\t\\t\\t\\t<id>8648642565</id>\\n\\t\\t\\t\\t\\n\\t\\t\\t\\t\\t<title>ios\\xec\\x9c\\x84\\xec\\xa0\\xaf \\xeb\\xa7\\x8c\\xeb\\x93\\xa4\\xec\\x96\\xb4\\xec\\xa3\\xbc\\xec\\x85\\xa8\\xec\\x9c\\xbc\\xeb\\xa9\\xb4 \\xec\\xa2\\x8b\\xea\\xb2\\xa0\\xec\\x96\\xb4\\xec\\x9a\\x94</title>\\n\\t\\t\\t\\t\\n\\t\\t\\t\\t\\t<content type=\"text\">\\xeb\\x8f\\x84\\xec\\x84\\x9c\\xea\\xb4\\x80 \\xeb\\x8b\\xa4\\xeb\\x8b\\x90 \\xeb\\x95\\x8c \\xec\\xb9\\xb4\\xeb\\x93\\x9c \\xec\\x95\\x88\\xeb\\x93\\xa4\\xea\\xb3\\xa0 \\xeb\\x8b\\xa4\\xeb\\x85\\x80\\xec\\x84\\x9c \\xec\\xa2\\x8b\\xec\\x95\\x84\\xec\\x9a\\x94 \\xec\\x9c\\x84\\xec\\xa0\\xaf \\xec\\x83\\x9d\\xea\\xb8\\xb0\\xeb\\xa9\\xb4 \\xeb\\x8d\\x94 \\xed\\x8e\\xb8\\xed\\x95\\xb4\\xec\\xa7\\x88 \\xea\\xb2\\x83 \\xea\\xb0\\x99\\xec\\x95\\x84\\xec\\x9a\\x94</content>\\n\\t\\t\\t\\t\\n\\t\\t\\t\\t\\t<im:contentType term=\"Application\" label=\"\\xec\\x95\\xb1\"/>\\n\\t\\t\\t\\t\\n\\t\\t\\t\\t\\t<im:voteSum>0</im:voteSum>\\n\\t\\t\\t\\t\\n\\t\\t\\t\\t\\t<im:voteCount>0</im:voteCount>\\n\\t\\t\\t\\t\\n\\t\\t\\t\\t\\t<im:rating>5</im:rating>\\n\\t\\t\\t\\t\\n\\t\\t\\t\\t\\t<updated>2022-05-07T21:07:58-07:00</updated>\\n\\t\\t\\t\\t\\n\\t\\t\\t\\t\\t<im:version>1.1.44</im:version>\\n\\t\\t\\t\\t\\n\\t\\t\\t\\t\\t<author><name>\\xec\\x82\\xac\\xec\\xa9\\x90\\xeb\\xbd\\x80</name><uri>https://itunes.apple.com/kr/reviews/id1406431843</uri></author>\\n\\t\\t\\t\\t\\n\\t\\t\\t\\t\\t<link rel=\"related\" href=\"https://itunes.apple.com/kr/review?id=1318541802&amp;type=Purple%20Software\"/>\\n\\t\\t\\t\\t\\n\\t\\t\\t\\t\\n\\t\\t\\t\\t\\t<content type=\"html\">&lt;table border=&quot;0&quot; width=&quot;100%&quot;&gt;\\n    &lt;tr&gt;\\n        &lt;td&gt;\\n            &lt;table border=&quot;0&quot; width=&quot;100%&quot; cellspacing=&quot;0&quot; cellpadding=&quot;0&quot;&gt;\\n                &lt;tr valign=&quot;top&quot; align=&quot;left&quot;&gt;\\n                    \\n                    \\n                    \\t&lt;td width=&quot;100%&quot;&gt;\\n                    \\n                        &lt;b&gt;&lt;a href=&quot;https://apps.apple.com/kr/app/%EC%84%9C%EC%9A%B8%EC%8B%9C%EB%AF%BC%EC%B9%B4%EB%93%9C/id1318541802?uo=2&quot;&gt;ios\\xec\\x9c\\x84\\xec\\xa0\\xaf \\xeb\\xa7\\x8c\\xeb\\x93\\xa4\\xec\\x96\\xb4\\xec\\xa3\\xbc\\xec\\x85\\xa8\\xec\\x9c\\xbc\\xeb\\xa9\\xb4 \\xec\\xa2\\x8b\\xea\\xb2\\xa0\\xec\\x96\\xb4\\xec\\x9a\\x94&lt;/a&gt;&lt;/b&gt;&lt;br/&gt;\\n                        \\n                        \\n                        \\n                        \\n\\n                        \\n\\n                       &lt;font size=&quot;2&quot; face=&quot;Helvetica,Arial,Geneva,Swiss,SunSans-Regular&quot;&gt;\\n\\t\\t\\t\\t\\t\\t\\n                        &lt;/font&gt;\\n                    &lt;/td&gt;\\n                &lt;/tr&gt;\\n            &lt;/table&gt;\\n        &lt;/td&gt;\\n    &lt;/tr&gt;\\n    &lt;tr&gt;\\n        &lt;td&gt;\\n            \\n                &lt;font size=&quot;2&quot; face=&quot;Helvetica,Arial,Geneva,Swiss,SunSans-Regular&quot;&gt;&lt;br/&gt;\\xeb\\x8f\\x84\\xec\\x84\\x9c\\xea\\xb4\\x80 \\xeb\\x8b\\xa4\\xeb\\x8b\\x90 \\xeb\\x95\\x8c \\xec\\xb9\\xb4\\xeb\\x93\\x9c \\xec\\x95\\x88\\xeb\\x93\\xa4\\xea\\xb3\\xa0 \\xeb\\x8b\\xa4\\xeb\\x85\\x80\\xec\\x84\\x9c \\xec\\xa2\\x8b\\xec\\x95\\x84\\xec\\x9a\\x94 \\xec\\x9c\\x84\\xec\\xa0\\xaf \\xec\\x83\\x9d\\xea\\xb8\\xb0\\xeb\\xa9\\xb4 \\xeb\\x8d\\x94 \\xed\\x8e\\xb8\\xed\\x95\\xb4\\xec\\xa7\\x88 \\xea\\xb2\\x83 \\xea\\xb0\\x99\\xec\\x95\\x84\\xec\\x9a\\x94&lt;/font&gt;&lt;br/&gt;\\n            \\n            \\n            \\n        &lt;/td&gt;\\n    &lt;/tr&gt;\\n&lt;/table&gt;\\n</content>\\n\\t\\t\\t\\t\\n\\t\\t\\t</entry>\\n\\t\\t\\n\\t\\t\\t<entry>\\n\\t\\t\\t\\t\\n\\t\\t\\t\\t\\t<id>8533020490</id>\\n\\t\\t\\t\\t\\n\\t\\t\\t\\t\\t<title>\\xec\\x82\\xac\\xec\\x9a\\xa9\\xed\\x95\\x98\\xea\\xb8\\xb0 \\xed\\x8e\\xb8\\xeb\\xa6\\xac\\xed\\x95\\xb4\\xec\\x9a\\x94</title>\\n\\t\\t\\t\\t\\n\\t\\t\\t\\t\\t<content type=\"text\">\\xec\\x86\\x8c\\xec\\x86\\x8c\\xed\\x95\\x9c \\xed\\x95\\xa0\\xec\\x9d\\xb8\\xec\\xbf\\xa0\\xed\\x8f\\xb0\\xeb\\x8f\\x84 \\xeb\\xa7\\x8e\\xec\\x9d\\xb4 \\xec\\xa3\\xbc\\xeb\\x8a\\x94\\xea\\xb2\\x83\\xea\\xb0\\x99\\xea\\xb3\\xa0 \\n\\xec\\x84\\x9c\\xec\\x9a\\xb8\\xec\\x8b\\x9c \\xea\\xb3\\xb5\\xea\\xb3\\xb5\\xec\\x8b\\x9c\\xec\\x84\\xa4 \\xec\\x9d\\xb4\\xec\\x9a\\xa9\\xed\\x95\\xa0\\xeb\\x95\\x8c \\xed\\x95\\x98\\xeb\\x82\\x98\\xeb\\xa1\\x9c \\xec\\x93\\xb8\\xec\\x88\\x98 \\xec\\x9e\\x88\\xec\\x96\\xb4\\xec\\x84\\x9c \\xec\\xa2\\x8b\\xec\\x9d\\x80 \\xea\\xb2\\x83 \\xea\\xb0\\x99\\xec\\x95\\x84\\xec\\x9a\\x94</content>\\n\\t\\t\\t\\t\\n\\t\\t\\t\\t\\t<im:contentType term=\"Application\" label=\"\\xec\\x95\\xb1\"/>\\n\\t\\t\\t\\t\\n\\t\\t\\t\\t\\t<im:voteSum>0</im:voteSum>\\n\\t\\t\\t\\t\\n\\t\\t\\t\\t\\t<im:voteCount>0</im:voteCount>\\n\\t\\t\\t\\t\\n\\t\\t\\t\\t\\t<im:rating>5</im:rating>\\n\\t\\t\\t\\t\\n\\t\\t\\t\\t\\t<updated>2022-04-04T20:37:15-07:00</updated>\\n\\t\\t\\t\\t\\n\\t\\t\\t\\t\\t<im:version>1.1.44</im:version>\\n\\t\\t\\t\\t\\n\\t\\t\\t\\t\\t<author><name>jhhhh1222</name><uri>https://itunes.apple.com/kr/reviews/id1395825822</uri></author>\\n\\t\\t\\t\\t\\n\\t\\t\\t\\t\\t<link rel=\"related\" href=\"https://itunes.apple.com/kr/review?id=1318541802&amp;type=Purple%20Software\"/>\\n\\t\\t\\t\\t\\n\\t\\t\\t\\t\\n\\t\\t\\t\\t\\t<content type=\"html\">&lt;table border=&quot;0&quot; width=&quot;100%&quot;&gt;\\n    &lt;tr&gt;\\n        &lt;td&gt;\\n            &lt;table border=&quot;0&quot; width=&quot;100%&quot; cellspacing=&quot;0&quot; cellpadding=&quot;0&quot;&gt;\\n                &lt;tr valign=&quot;top&quot; align=&quot;left&quot;&gt;\\n                    \\n                    \\n                    \\t&lt;td width=&quot;100%&quot;&gt;\\n                    \\n                        &lt;b&gt;&lt;a href=&quot;https://apps.apple.com/kr/app/%EC%84%9C%EC%9A%B8%EC%8B%9C%EB%AF%BC%EC%B9%B4%EB%93%9C/id1318541802?uo=2&quot;&gt;\\xec\\x82\\xac\\xec\\x9a\\xa9\\xed\\x95\\x98\\xea\\xb8\\xb0 \\xed\\x8e\\xb8\\xeb\\xa6\\xac\\xed\\x95\\xb4\\xec\\x9a\\x94&lt;/a&gt;&lt;/b&gt;&lt;br/&gt;\\n                        \\n                        \\n                        \\n                        \\n\\n                        \\n\\n                       &lt;font size=&quot;2&quot; face=&quot;Helvetica,Arial,Geneva,Swiss,SunSans-Regular&quot;&gt;\\n\\t\\t\\t\\t\\t\\t\\n                        &lt;/font&gt;\\n                    &lt;/td&gt;\\n                &lt;/tr&gt;\\n            &lt;/table&gt;\\n        &lt;/td&gt;\\n    &lt;/tr&gt;\\n    &lt;tr&gt;\\n        &lt;td&gt;\\n            \\n                &lt;font size=&quot;2&quot; face=&quot;Helvetica,Arial,Geneva,Swiss,SunSans-Regular&quot;&gt;&lt;br/&gt;\\xec\\x86\\x8c\\xec\\x86\\x8c\\xed\\x95\\x9c \\xed\\x95\\xa0\\xec\\x9d\\xb8\\xec\\xbf\\xa0\\xed\\x8f\\xb0\\xeb\\x8f\\x84 \\xeb\\xa7\\x8e\\xec\\x9d\\xb4 \\xec\\xa3\\xbc\\xeb\\x8a\\x94\\xea\\xb2\\x83\\xea\\xb0\\x99\\xea\\xb3\\xa0 &lt;br/&gt;\\xec\\x84\\x9c\\xec\\x9a\\xb8\\xec\\x8b\\x9c \\xea\\xb3\\xb5\\xea\\xb3\\xb5\\xec\\x8b\\x9c\\xec\\x84\\xa4 \\xec\\x9d\\xb4\\xec\\x9a\\xa9\\xed\\x95\\xa0\\xeb\\x95\\x8c \\xed\\x95\\x98\\xeb\\x82\\x98\\xeb\\xa1\\x9c \\xec\\x93\\xb8\\xec\\x88\\x98 \\xec\\x9e\\x88\\xec\\x96\\xb4\\xec\\x84\\x9c \\xec\\xa2\\x8b\\xec\\x9d\\x80 \\xea\\xb2\\x83 \\xea\\xb0\\x99\\xec\\x95\\x84\\xec\\x9a\\x94&lt;/font&gt;&lt;br/&gt;\\n            \\n            \\n            \\n        &lt;/td&gt;\\n    &lt;/tr&gt;\\n&lt;/table&gt;\\n</content>\\n\\t\\t\\t\\t\\n\\t\\t\\t</entry>\\n\\t\\t\\n\\t\\t\\t<entry>\\n\\t\\t\\t\\t\\n\\t\\t\\t\\t\\t<id>8510203502</id>\\n\\t\\t\\t\\t\\n\\t\\t\\t\\t\\t<title>\\xec\\xbf\\xa0\\xed\\x82\\xa4 \\xec\\xa0\\x9c\\xed\\x95\\x9c\\xec\\x9d\\xb4 \\xea\\xb1\\xb8\\xeb\\xa0\\xa4\\xec\\x84\\x9c \\xeb\\xac\\xb8\\xec\\x9e\\x90 \\xec\\x9d\\xb8\\xec\\xa6\\x9d\\xec\\x9d\\xb4\\xec\\x95\\x88\\xeb\\x90\\x98\\xec\\x9a\\x94</title>\\n\\t\\t\\t\\t\\n\\t\\t\\t\\t\\t<content type=\"text\">\\xec\\x95\\x84\\xeb\\x9e\\x98\\xec\\x97\\x90 \\xec\\xa0\\x80 \\xea\\xb0\\x99\\xec\\x9d\\x80 \\xeb\\xb6\\x84\\xec\\x9d\\xb4 \\xea\\xb3\\x84\\xec\\x8b\\x9c\\xeb\\x8d\\x98\\xeb\\x8d\\xb0 \\xec\\xa0\\x80\\xeb\\x91\\x90 \\xeb\\xac\\xb8\\xec\\x9e\\x90\\xeb\\xa1\\x9c \\xec\\x9d\\xb8\\xec\\xa6\\x9d\\xed\\x95\\x98\\xeb\\xa0\\xa4\\xea\\xb5\\xac \\xed\\x95\\x98\\xeb\\x8b\\x88 \\xec\\xbf\\xa0\\xed\\x82\\xa4 \\xec\\xa0\\x9c\\xed\\x95\\x9c\\xec\\x97\\x90 \\xea\\xb1\\xb8\\xeb\\xa0\\xa4 \\xeb\\xb3\\xb8\\xec\\x9d\\xb8 \\xeb\\xac\\xb8\\xec\\x9e\\x90 \\xec\\x9d\\xb8\\xec\\xa6\\x9d\\xec\\x9d\\xb4 \\xec\\x95\\x88\\xeb\\x90\\xa9\\xeb\\x8b\\x88\\xeb\\x8b\\xa4.\\n\\n\\xeb\\x8b\\xb9\\xec\\x9e\\xa5 \\xec\\x95\\xb1\\xec\\xb9\\xb4\\xeb\\x93\\x9c\\xeb\\xa5\\xbc \\xec\\x93\\xb8\\xec\\x88\\x98\\xea\\xb0\\x80 \\xec\\x97\\x86\\xec\\x96\\xb4\\xec\\x9a\\x94 \\xec\\x96\\xbc\\xeb\\xa5\\xb8 \\xea\\xb0\\x9c\\xec\\x84\\xa0 \\xeb\\xb6\\x80\\xed\\x83\\x81\\xeb\\x93\\x9c\\xeb\\xa6\\xbd\\xeb\\x8b\\x88\\xeb\\x8b\\xa4.\\n\\n\\xec\\x95\\x84\\xec\\x9d\\xb4\\xed\\x8f\\xb0 \\xec\\x9c\\xa0\\xec\\xa0\\x80\\xec\\x9e\\x85\\xeb\\x8b\\x88\\xeb\\x8b\\xa4</content>\\n\\t\\t\\t\\t\\n\\t\\t\\t\\t\\t<im:contentType term=\"Application\" label=\"\\xec\\x95\\xb1\"/>\\n\\t\\t\\t\\t\\n\\t\\t\\t\\t\\t<im:voteSum>0</im:voteSum>\\n\\t\\t\\t\\t\\n\\t\\t\\t\\t\\t<im:voteCount>0</im:voteCount>\\n\\t\\t\\t\\t\\n\\t\\t\\t\\t\\t<im:rating>1</im:rating>\\n\\t\\t\\t\\t\\n\\t\\t\\t\\t\\t<updated>2022-03-29T18:16:54-07:00</updated>\\n\\t\\t\\t\\t\\n\\t\\t\\t\\t\\t<im:version>1.1.44</im:version>\\n\\t\\t\\t\\t\\n\\t\\t\\t\\t\\t<author><name>\\xec\\x97\\x94\\xec\\xa0\\xa4\\xeb\\x9d\\xbc\\xec\\x86\\xa1</name><uri>https://itunes.apple.com/kr/reviews/id141948362</uri></author>\\n\\t\\t\\t\\t\\n\\t\\t\\t\\t\\t<link rel=\"related\" href=\"https://itunes.apple.com/kr/review?id=1318541802&amp;type=Purple%20Software\"/>\\n\\t\\t\\t\\t\\n\\t\\t\\t\\t\\n\\t\\t\\t\\t\\t<content type=\"html\">&lt;table border=&quot;0&quot; width=&quot;100%&quot;&gt;\\n    &lt;tr&gt;\\n        &lt;td&gt;\\n            &lt;table border=&quot;0&quot; width=&quot;100%&quot; cellspacing=&quot;0&quot; cellpadding=&quot;0&quot;&gt;\\n                &lt;tr valign=&quot;top&quot; align=&quot;left&quot;&gt;\\n                    \\n                    \\n                    \\t&lt;td width=&quot;100%&quot;&gt;\\n                    \\n                        &lt;b&gt;&lt;a href=&quot;https://apps.apple.com/kr/app/%EC%84%9C%EC%9A%B8%EC%8B%9C%EB%AF%BC%EC%B9%B4%EB%93%9C/id1318541802?uo=2&quot;&gt;\\xec\\xbf\\xa0\\xed\\x82\\xa4 \\xec\\xa0\\x9c\\xed\\x95\\x9c\\xec\\x9d\\xb4 \\xea\\xb1\\xb8\\xeb\\xa0\\xa4\\xec\\x84\\x9c \\xeb\\xac\\xb8\\xec\\x9e\\x90 \\xec\\x9d\\xb8\\xec\\xa6\\x9d\\xec\\x9d\\xb4\\xec\\x95\\x88\\xeb\\x90\\x98\\xec\\x9a\\x94&lt;/a&gt;&lt;/b&gt;&lt;br/&gt;\\n                        \\n                        \\n                        \\n                        \\n\\n                        \\n\\n                       &lt;font size=&quot;2&quot; face=&quot;Helvetica,Arial,Geneva,Swiss,SunSans-Regular&quot;&gt;\\n\\t\\t\\t\\t\\t\\t\\n                        &lt;/font&gt;\\n                    &lt;/td&gt;\\n                &lt;/tr&gt;\\n            &lt;/table&gt;\\n        &lt;/td&gt;\\n    &lt;/tr&gt;\\n    &lt;tr&gt;\\n        &lt;td&gt;\\n            \\n                &lt;font size=&quot;2&quot; face=&quot;Helvetica,Arial,Geneva,Swiss,SunSans-Regular&quot;&gt;&lt;br/&gt;\\xec\\x95\\x84\\xeb\\x9e\\x98\\xec\\x97\\x90 \\xec\\xa0\\x80 \\xea\\xb0\\x99\\xec\\x9d\\x80 \\xeb\\xb6\\x84\\xec\\x9d\\xb4 \\xea\\xb3\\x84\\xec\\x8b\\x9c\\xeb\\x8d\\x98\\xeb\\x8d\\xb0 \\xec\\xa0\\x80\\xeb\\x91\\x90 \\xeb\\xac\\xb8\\xec\\x9e\\x90\\xeb\\xa1\\x9c \\xec\\x9d\\xb8\\xec\\xa6\\x9d\\xed\\x95\\x98\\xeb\\xa0\\xa4\\xea\\xb5\\xac \\xed\\x95\\x98\\xeb\\x8b\\x88 \\xec\\xbf\\xa0\\xed\\x82\\xa4 \\xec\\xa0\\x9c\\xed\\x95\\x9c\\xec\\x97\\x90 \\xea\\xb1\\xb8\\xeb\\xa0\\xa4 \\xeb\\xb3\\xb8\\xec\\x9d\\xb8 \\xeb\\xac\\xb8\\xec\\x9e\\x90 \\xec\\x9d\\xb8\\xec\\xa6\\x9d\\xec\\x9d\\xb4 \\xec\\x95\\x88\\xeb\\x90\\xa9\\xeb\\x8b\\x88\\xeb\\x8b\\xa4.&lt;br/&gt;&lt;br/&gt;\\xeb\\x8b\\xb9\\xec\\x9e\\xa5 \\xec\\x95\\xb1\\xec\\xb9\\xb4\\xeb\\x93\\x9c\\xeb\\xa5\\xbc \\xec\\x93\\xb8\\xec\\x88\\x98\\xea\\xb0\\x80 \\xec\\x97\\x86\\xec\\x96\\xb4\\xec\\x9a\\x94 \\xec\\x96\\xbc\\xeb\\xa5\\xb8 \\xea\\xb0\\x9c\\xec\\x84\\xa0 \\xeb\\xb6\\x80\\xed\\x83\\x81\\xeb\\x93\\x9c\\xeb\\xa6\\xbd\\xeb\\x8b\\x88\\xeb\\x8b\\xa4.&lt;br/&gt;&lt;br/&gt;\\xec\\x95\\x84\\xec\\x9d\\xb4\\xed\\x8f\\xb0 \\xec\\x9c\\xa0\\xec\\xa0\\x80\\xec\\x9e\\x85\\xeb\\x8b\\x88\\xeb\\x8b\\xa4&lt;/font&gt;&lt;br/&gt;\\n            \\n            \\n            \\n        &lt;/td&gt;\\n    &lt;/tr&gt;\\n&lt;/table&gt;\\n</content>\\n\\t\\t\\t\\t\\n\\t\\t\\t</entry>\\n\\t\\t\\n\\t\\t\\t<entry>\\n\\t\\t\\t\\t\\n\\t\\t\\t\\t\\t<id>8449731181</id>\\n\\t\\t\\t\\t\\n\\t\\t\\t\\t\\t<title>\\xec\\x95\\x84\\xec\\x9d\\xb4\\xed\\x8f\\xb013\\xec\\x9d\\xb8\\xeb\\x8d\\xb0\\xec\\x9a\\x94</title>\\n\\t\\t\\t\\t\\n\\t\\t\\t\\t\\t<content type=\"text\">\\xed\\x86\\xb5\\xec\\x8b\\xa0\\xec\\x82\\xac\\xeb\\xa5\\xbc \\xec\\x84\\xa0\\xed\\x83\\x9d\\xed\\x95\\x98\\xeb\\xa9\\xb4  PASS\\xec\\x84\\xa0\\xed\\x83\\xb9\\xed\\x95\\x98\\xeb\\x8a\\x94 \\xeb\\xb2\\x84\\xed\\x8a\\xbc\\xec\\x9d\\xb4 \\xec\\x82\\xac\\xeb\\x9d\\xbc\\xec\\xa7\\x80\\xea\\xb3\\xa0 \\xeb\\xac\\xb8\\xec\\x9e\\x90\\xec\\x9d\\xb8\\xec\\xa6\\x9d\\xeb\\xa7\\x8c \\xeb\\x82\\xa8\\xea\\xb3\\xa0, \\xec\\x9d\\xb8\\xec\\xa6\\x9d\\xeb\\xac\\xb8\\xec\\x9e\\x90\\xeb\\x8f\\x84 \\xed\\x95\\x9c\\xeb\\xb2\\x88\\xec\\x97\\x90 \\xec\\x95\\x88\\xec\\x99\\x80\\xec\\x84\\x9c \\xea\\xb2\\xa8\\xec\\x9a\\xb0 \\xeb\\xb0\\x9b\\xec\\x9c\\xbc\\xeb\\xa9\\xb4 \\xec\\x84\\xb8\\xec\\x85\\x98\\xeb\\xa7\\x8c\\xeb\\xa3\\x8c \\xec\\xbf\\xa0\\xed\\x82\\xa4\\xec\\xa0\\x9c\\xed\\x95\\x9c\\xeb\\x90\\x98\\xec\\x96\\xb4\\xec\\x9e\\x88\\xeb\\x8b\\xa4\\xeb\\xa9\\xb0 \\xeb\\xb3\\xb8\\xec\\x9d\\xb8\\xec\\x9d\\xb8\\xec\\xa6\\x9d\\xec\\x9d\\xb4 \\xec\\x95\\x88\\xeb\\x90\\xa9\\xeb\\x8b\\x88\\xeb\\x8b\\xa4.</content>\\n\\t\\t\\t\\t\\n\\t\\t\\t\\t\\t<im:contentType term=\"Application\" label=\"\\xec\\x95\\xb1\"/>\\n\\t\\t\\t\\t\\n\\t\\t\\t\\t\\t<im:voteSum>0</im:voteSum>\\n\\t\\t\\t\\t\\n\\t\\t\\t\\t\\t<im:voteCount>0</im:voteCount>\\n\\t\\t\\t\\t\\n\\t\\t\\t\\t\\t<im:rating>1</im:rating>\\n\\t\\t\\t\\t\\n\\t\\t\\t\\t\\t<updated>2022-03-12T20:00:25-07:00</updated>\\n\\t\\t\\t\\t\\n\\t\\t\\t\\t\\t<im:version>1.1.44</im:version>\\n\\t\\t\\t\\t\\n\\t\\t\\t\\t\\t<author><name>\\xec\\x9b\\x8c\\xeb\\x8b\\x88\\xec\\x9c\\xa0\\xeb\\x8b\\x88TV</name><uri>https://itunes.apple.com/kr/reviews/id304510509</uri></author>\\n\\t\\t\\t\\t\\n\\t\\t\\t\\t\\t<link rel=\"related\" href=\"https://itunes.apple.com/kr/review?id=1318541802&amp;type=Purple%20Software\"/>\\n\\t\\t\\t\\t\\n\\t\\t\\t\\t\\n\\t\\t\\t\\t\\t<content type=\"html\">&lt;table border=&quot;0&quot; width=&quot;100%&quot;&gt;\\n    &lt;tr&gt;\\n        &lt;td&gt;\\n            &lt;table border=&quot;0&quot; width=&quot;100%&quot; cellspacing=&quot;0&quot; cellpadding=&quot;0&quot;&gt;\\n                &lt;tr valign=&quot;top&quot; align=&quot;left&quot;&gt;\\n                    \\n                    \\n                    \\t&lt;td width=&quot;100%&quot;&gt;\\n                    \\n                        &lt;b&gt;&lt;a href=&quot;https://apps.apple.com/kr/app/%EC%84%9C%EC%9A%B8%EC%8B%9C%EB%AF%BC%EC%B9%B4%EB%93%9C/id1318541802?uo=2&quot;&gt;\\xec\\x95\\x84\\xec\\x9d\\xb4\\xed\\x8f\\xb013\\xec\\x9d\\xb8\\xeb\\x8d\\xb0\\xec\\x9a\\x94&lt;/a&gt;&lt;/b&gt;&lt;br/&gt;\\n                        \\n                        \\n                        \\n                        \\n\\n                        \\n\\n                       &lt;font size=&quot;2&quot; face=&quot;Helvetica,Arial,Geneva,Swiss,SunSans-Regular&quot;&gt;\\n\\t\\t\\t\\t\\t\\t\\n                        &lt;/font&gt;\\n                    &lt;/td&gt;\\n                &lt;/tr&gt;\\n            &lt;/table&gt;\\n        &lt;/td&gt;\\n    &lt;/tr&gt;\\n    &lt;tr&gt;\\n        &lt;td&gt;\\n            \\n                &lt;font size=&quot;2&quot; face=&quot;Helvetica,Arial,Geneva,Swiss,SunSans-Regular&quot;&gt;&lt;br/&gt;\\xed\\x86\\xb5\\xec\\x8b\\xa0\\xec\\x82\\xac\\xeb\\xa5\\xbc \\xec\\x84\\xa0\\xed\\x83\\x9d\\xed\\x95\\x98\\xeb\\xa9\\xb4  PASS\\xec\\x84\\xa0\\xed\\x83\\xb9\\xed\\x95\\x98\\xeb\\x8a\\x94 \\xeb\\xb2\\x84\\xed\\x8a\\xbc\\xec\\x9d\\xb4 \\xec\\x82\\xac\\xeb\\x9d\\xbc\\xec\\xa7\\x80\\xea\\xb3\\xa0 \\xeb\\xac\\xb8\\xec\\x9e\\x90\\xec\\x9d\\xb8\\xec\\xa6\\x9d\\xeb\\xa7\\x8c \\xeb\\x82\\xa8\\xea\\xb3\\xa0, \\xec\\x9d\\xb8\\xec\\xa6\\x9d\\xeb\\xac\\xb8\\xec\\x9e\\x90\\xeb\\x8f\\x84 \\xed\\x95\\x9c\\xeb\\xb2\\x88\\xec\\x97\\x90 \\xec\\x95\\x88\\xec\\x99\\x80\\xec\\x84\\x9c \\xea\\xb2\\xa8\\xec\\x9a\\xb0 \\xeb\\xb0\\x9b\\xec\\x9c\\xbc\\xeb\\xa9\\xb4 \\xec\\x84\\xb8\\xec\\x85\\x98\\xeb\\xa7\\x8c\\xeb\\xa3\\x8c \\xec\\xbf\\xa0\\xed\\x82\\xa4\\xec\\xa0\\x9c\\xed\\x95\\x9c\\xeb\\x90\\x98\\xec\\x96\\xb4\\xec\\x9e\\x88\\xeb\\x8b\\xa4\\xeb\\xa9\\xb0 \\xeb\\xb3\\xb8\\xec\\x9d\\xb8\\xec\\x9d\\xb8\\xec\\xa6\\x9d\\xec\\x9d\\xb4 \\xec\\x95\\x88\\xeb\\x90\\xa9\\xeb\\x8b\\x88\\xeb\\x8b\\xa4.&lt;/font&gt;&lt;br/&gt;\\n            \\n            \\n            \\n        &lt;/td&gt;\\n    &lt;/tr&gt;\\n&lt;/table&gt;\\n</content>\\n\\t\\t\\t\\t\\n\\t\\t\\t</entry>\\n\\t\\t\\n\\t\\t\\t<entry>\\n\\t\\t\\t\\t\\n\\t\\t\\t\\t\\t<id>8394213873</id>\\n\\t\\t\\t\\t\\n\\t\\t\\t\\t\\t<title>1\\xec\\xa0\\x90\\xeb\\x8f\\x84 \\xec\\x95\\x84\\xea\\xb9\\x9d\\xeb\\x8b\\xa4</title>\\n\\t\\t\\t\\t\\n\\t\\t\\t\\t\\t<content type=\"text\">Ios \\xec\\x97\\x85\\xeb\\x8d\\xb0\\xec\\x9d\\xb4\\xed\\x8a\\xb8 \\xed\\x95\\x98\\xeb\\xa9\\xb4\\xec\\x84\\x9c \\xeb\\x98\\x90 \\xec\\x95\\x88\\xeb\\x90\\x98\\xeb\\x84\\xa4\\xec\\x9a\\x94 \\n\\xea\\xb0\\x9c\\xeb\\xb0\\x9c\\xec\\x9e\\x90 \\xeb\\x88\\x84\\xea\\xb5\\xbd\\xeb\\x8b\\x88\\xea\\xb9\\x8c</content>\\n\\t\\t\\t\\t\\n\\t\\t\\t\\t\\t<im:contentType term=\"Application\" label=\"\\xec\\x95\\xb1\"/>\\n\\t\\t\\t\\t\\n\\t\\t\\t\\t\\t<im:voteSum>0</im:voteSum>\\n\\t\\t\\t\\t\\n\\t\\t\\t\\t\\t<im:voteCount>0</im:voteCount>\\n\\t\\t\\t\\t\\n\\t\\t\\t\\t\\t<im:rating>1</im:rating>\\n\\t\\t\\t\\t\\n\\t\\t\\t\\t\\t<updated>2022-02-25T03:16:43-07:00</updated>\\n\\t\\t\\t\\t\\n\\t\\t\\t\\t\\t<im:version>1.1.44</im:version>\\n\\t\\t\\t\\t\\n\\t\\t\\t\\t\\t<author><name>\\xec\\x98\\xac\\xed\\x95\\x98\\xec\\x9d\\xb4</name><uri>https://itunes.apple.com/kr/reviews/id299681146</uri></author>\\n\\t\\t\\t\\t\\n\\t\\t\\t\\t\\t<link rel=\"related\" href=\"https://itunes.apple.com/kr/review?id=1318541802&amp;type=Purple%20Software\"/>\\n\\t\\t\\t\\t\\n\\t\\t\\t\\t\\n\\t\\t\\t\\t\\t<content type=\"html\">&lt;table border=&quot;0&quot; width=&quot;100%&quot;&gt;\\n    &lt;tr&gt;\\n        &lt;td&gt;\\n            &lt;table border=&quot;0&quot; width=&quot;100%&quot; cellspacing=&quot;0&quot; cellpadding=&quot;0&quot;&gt;\\n                &lt;tr valign=&quot;top&quot; align=&quot;left&quot;&gt;\\n                    \\n                    \\n                    \\t&lt;td width=&quot;100%&quot;&gt;\\n                    \\n                        &lt;b&gt;&lt;a href=&quot;https://apps.apple.com/kr/app/%EC%84%9C%EC%9A%B8%EC%8B%9C%EB%AF%BC%EC%B9%B4%EB%93%9C/id1318541802?uo=2&quot;&gt;1\\xec\\xa0\\x90\\xeb\\x8f\\x84 \\xec\\x95\\x84\\xea\\xb9\\x9d\\xeb\\x8b\\xa4&lt;/a&gt;&lt;/b&gt;&lt;br/&gt;\\n                        \\n                        \\n                        \\n                        \\n\\n                        \\n\\n                       &lt;font size=&quot;2&quot; face=&quot;Helvetica,Arial,Geneva,Swiss,SunSans-Regular&quot;&gt;\\n\\t\\t\\t\\t\\t\\t\\n                        &lt;/font&gt;\\n                    &lt;/td&gt;\\n                &lt;/tr&gt;\\n            &lt;/table&gt;\\n        &lt;/td&gt;\\n    &lt;/tr&gt;\\n    &lt;tr&gt;\\n        &lt;td&gt;\\n            \\n                &lt;font size=&quot;2&quot; face=&quot;Helvetica,Arial,Geneva,Swiss,SunSans-Regular&quot;&gt;&lt;br/&gt;Ios \\xec\\x97\\x85\\xeb\\x8d\\xb0\\xec\\x9d\\xb4\\xed\\x8a\\xb8 \\xed\\x95\\x98\\xeb\\xa9\\xb4\\xec\\x84\\x9c \\xeb\\x98\\x90 \\xec\\x95\\x88\\xeb\\x90\\x98\\xeb\\x84\\xa4\\xec\\x9a\\x94 &lt;br/&gt;\\xea\\xb0\\x9c\\xeb\\xb0\\x9c\\xec\\x9e\\x90 \\xeb\\x88\\x84\\xea\\xb5\\xbd\\xeb\\x8b\\x88\\xea\\xb9\\x8c&lt;/font&gt;&lt;br/&gt;\\n            \\n            \\n            \\n        &lt;/td&gt;\\n    &lt;/tr&gt;\\n&lt;/table&gt;\\n</content>\\n\\t\\t\\t\\t\\n\\t\\t\\t</entry>\\n\\t\\t\\n\\t\\t\\t<entry>\\n\\t\\t\\t\\t\\n\\t\\t\\t\\t\\t<id>8368550120</id>\\n\\t\\t\\t\\t\\n\\t\\t\\t\\t\\t<title>\\xeb\\xb3\\xb8\\xec\\x9d\\xb8\\xec\\x9d\\xb8\\xec\\xa6\\x9d\\xec\\x9d\\xb4\\xec\\x95\\x88\\xeb\\x90\\x98\\xec\\x84\\x9c \\xec\\xb9\\xb4\\xeb\\x93\\x9c\\xeb\\xb0\\x9c\\xea\\xb8\\x89 \\xeb\\xb6\\x88\\xea\\xb0\\x80\\xeb\\x8a\\xa5</title>\\n\\t\\t\\t\\t\\n\\t\\t\\t\\t\\t<content type=\"text\">\\xec\\x95\\x84\\xec\\x9d\\xb4\\xed\\x8f\\xb0\\xec\\x9e\\x85\\xeb\\x8b\\x88\\xeb\\x8b\\xa4. \\xeb\\xb3\\xb8\\xec\\x9d\\xb8\\xec\\x9d\\xb8\\xec\\xa6\\x9d\\xec\\xa0\\x88\\xec\\xb0\\xa8\\xec\\x97\\x90\\xec\\x84\\x9c \\xed\\x95\\xb8\\xeb\\x93\\x9c\\xed\\x8f\\xb0 \\xeb\\xac\\xb8\\xec\\x9e\\x90\\xec\\x9d\\xb8\\xec\\xa6\\x9d\\xec\\x9d\\x84 \\xec\\x9e\\x85\\xeb\\xa0\\xa5\\xed\\x95\\x98\\xeb\\xa9\\xb4 \\xed\\x99\\x94\\xeb\\xa9\\xb4\\xec\\x9d\\xb4 \\xea\\xb9\\x8c\\xeb\\xa7\\xa4\\xec\\xa7\\x80\\xeb\\xa9\\xb4\\xec\\x84\\x9c \\xec\\xa7\\x84\\xed\\x96\\x89\\xec\\x9d\\xb4 \\xec\\x95\\x88\\xeb\\x90\\xa9\\xeb\\x8b\\x88\\xeb\\x8b\\xa4. \\xed\\x98\\xb9\\xec\\x8b\\x9c\\xeb\\x82\\x98\\xed\\x95\\xb4\\xec\\x84\\x9c \\xec\\x96\\xb4\\xed\\x94\\x8c \\xec\\x9e\\xac\\xec\\x84\\xa4\\xec\\xb9\\x98\\xed\\x95\\xb4\\xeb\\x8f\\x84 \\xec\\x95\\x88\\xeb\\x8f\\xbc\\xec\\x9a\\x94. \\xeb\\xb0\\x9c\\xea\\xb8\\x89\\xec\\x9d\\x84 \\xec\\xa7\\x84\\xed\\x96\\x89 \\xeb\\xaa\\xbb\\xed\\x95\\x98\\xeb\\x8b\\x88 \\xec\\x96\\xb4\\xed\\x94\\x8c\\xec\\x9d\\xb4 \\xeb\\xac\\xb4\\xec\\x9a\\xa9\\xec\\xa7\\x80\\xeb\\xac\\xbc\\xec\\x9d\\xb4\\xeb\\x84\\xa4\\xec\\x9a\\x94\\xe2\\x80\\xa6.</content>\\n\\t\\t\\t\\t\\n\\t\\t\\t\\t\\t<im:contentType term=\"Application\" label=\"\\xec\\x95\\xb1\"/>\\n\\t\\t\\t\\t\\n\\t\\t\\t\\t\\t<im:voteSum>0</im:voteSum>\\n\\t\\t\\t\\t\\n\\t\\t\\t\\t\\t<im:voteCount>0</im:voteCount>\\n\\t\\t\\t\\t\\n\\t\\t\\t\\t\\t<im:rating>1</im:rating>\\n\\t\\t\\t\\t\\n\\t\\t\\t\\t\\t<updated>2022-02-18T01:53:28-07:00</updated>\\n\\t\\t\\t\\t\\n\\t\\t\\t\\t\\t<im:version>1.1.44</im:version>\\n\\t\\t\\t\\t\\n\\t\\t\\t\\t\\t<author><name>Miasus</name><uri>https://itunes.apple.com/kr/reviews/id112300211</uri></author>\\n\\t\\t\\t\\t\\n\\t\\t\\t\\t\\t<link rel=\"related\" href=\"https://itunes.apple.com/kr/review?id=1318541802&amp;type=Purple%20Software\"/>\\n\\t\\t\\t\\t\\n\\t\\t\\t\\t\\n\\t\\t\\t\\t\\t<content type=\"html\">&lt;table border=&quot;0&quot; width=&quot;100%&quot;&gt;\\n    &lt;tr&gt;\\n        &lt;td&gt;\\n            &lt;table border=&quot;0&quot; width=&quot;100%&quot; cellspacing=&quot;0&quot; cellpadding=&quot;0&quot;&gt;\\n                &lt;tr valign=&quot;top&quot; align=&quot;left&quot;&gt;\\n                    \\n                    \\n                    \\t&lt;td width=&quot;100%&quot;&gt;\\n                    \\n                        &lt;b&gt;&lt;a href=&quot;https://apps.apple.com/kr/app/%EC%84%9C%EC%9A%B8%EC%8B%9C%EB%AF%BC%EC%B9%B4%EB%93%9C/id1318541802?uo=2&quot;&gt;\\xeb\\xb3\\xb8\\xec\\x9d\\xb8\\xec\\x9d\\xb8\\xec\\xa6\\x9d\\xec\\x9d\\xb4\\xec\\x95\\x88\\xeb\\x90\\x98\\xec\\x84\\x9c \\xec\\xb9\\xb4\\xeb\\x93\\x9c\\xeb\\xb0\\x9c\\xea\\xb8\\x89 \\xeb\\xb6\\x88\\xea\\xb0\\x80\\xeb\\x8a\\xa5&lt;/a&gt;&lt;/b&gt;&lt;br/&gt;\\n                        \\n                        \\n                        \\n                        \\n\\n                        \\n\\n                       &lt;font size=&quot;2&quot; face=&quot;Helvetica,Arial,Geneva,Swiss,SunSans-Regular&quot;&gt;\\n\\t\\t\\t\\t\\t\\t\\n                        &lt;/font&gt;\\n                    &lt;/td&gt;\\n                &lt;/tr&gt;\\n            &lt;/table&gt;\\n        &lt;/td&gt;\\n    &lt;/tr&gt;\\n    &lt;tr&gt;\\n        &lt;td&gt;\\n            \\n                &lt;font size=&quot;2&quot; face=&quot;Helvetica,Arial,Geneva,Swiss,SunSans-Regular&quot;&gt;&lt;br/&gt;\\xec\\x95\\x84\\xec\\x9d\\xb4\\xed\\x8f\\xb0\\xec\\x9e\\x85\\xeb\\x8b\\x88\\xeb\\x8b\\xa4. \\xeb\\xb3\\xb8\\xec\\x9d\\xb8\\xec\\x9d\\xb8\\xec\\xa6\\x9d\\xec\\xa0\\x88\\xec\\xb0\\xa8\\xec\\x97\\x90\\xec\\x84\\x9c \\xed\\x95\\xb8\\xeb\\x93\\x9c\\xed\\x8f\\xb0 \\xeb\\xac\\xb8\\xec\\x9e\\x90\\xec\\x9d\\xb8\\xec\\xa6\\x9d\\xec\\x9d\\x84 \\xec\\x9e\\x85\\xeb\\xa0\\xa5\\xed\\x95\\x98\\xeb\\xa9\\xb4 \\xed\\x99\\x94\\xeb\\xa9\\xb4\\xec\\x9d\\xb4 \\xea\\xb9\\x8c\\xeb\\xa7\\xa4\\xec\\xa7\\x80\\xeb\\xa9\\xb4\\xec\\x84\\x9c \\xec\\xa7\\x84\\xed\\x96\\x89\\xec\\x9d\\xb4 \\xec\\x95\\x88\\xeb\\x90\\xa9\\xeb\\x8b\\x88\\xeb\\x8b\\xa4. \\xed\\x98\\xb9\\xec\\x8b\\x9c\\xeb\\x82\\x98\\xed\\x95\\xb4\\xec\\x84\\x9c \\xec\\x96\\xb4\\xed\\x94\\x8c \\xec\\x9e\\xac\\xec\\x84\\xa4\\xec\\xb9\\x98\\xed\\x95\\xb4\\xeb\\x8f\\x84 \\xec\\x95\\x88\\xeb\\x8f\\xbc\\xec\\x9a\\x94. \\xeb\\xb0\\x9c\\xea\\xb8\\x89\\xec\\x9d\\x84 \\xec\\xa7\\x84\\xed\\x96\\x89 \\xeb\\xaa\\xbb\\xed\\x95\\x98\\xeb\\x8b\\x88 \\xec\\x96\\xb4\\xed\\x94\\x8c\\xec\\x9d\\xb4 \\xeb\\xac\\xb4\\xec\\x9a\\xa9\\xec\\xa7\\x80\\xeb\\xac\\xbc\\xec\\x9d\\xb4\\xeb\\x84\\xa4\\xec\\x9a\\x94\\xe2\\x80\\xa6.&lt;/font&gt;&lt;br/&gt;\\n            \\n            \\n            \\n        &lt;/td&gt;\\n    &lt;/tr&gt;\\n&lt;/table&gt;\\n</content>\\n\\t\\t\\t\\t\\n\\t\\t\\t</entry>\\n\\t\\t\\n\\t\\t\\t<entry>\\n\\t\\t\\t\\t\\n\\t\\t\\t\\t\\t<id>8223958033</id>\\n\\t\\t\\t\\t\\n\\t\\t\\t\\t\\t<title>\\xec\\x9d\\xb8\\xec\\xa6\\x9d\\xec\\x9d\\xb4 \\xec\\x95\\x88 \\xeb\\x90\\x98\\xeb\\x84\\xa4\\xec\\x9a\\x94</title>\\n\\t\\t\\t\\t\\n\\t\\t\\t\\t\\t<content type=\"text\">1:1\\xeb\\xac\\xb8\\xec\\x9d\\x98\\xed\\x95\\x98\\xeb\\x9d\\xbc\\xeb\\x8a\\x94 \\xeb\\x8b\\xb5\\xea\\xb8\\x80\\xec\\x9d\\x84 \\xeb\\xb4\\xa4\\xeb\\x8a\\x94\\xeb\\x8d\\xb0 \\xea\\xb7\\xb8\\xea\\xb1\\xb4 \\xec\\x96\\xb4\\xeb\\x94\\x94\\xec\\x84\\x9c \\xed\\x95\\x98\\xeb\\x8a\\x94 \\xea\\xb1\\xb4\\xec\\xa7\\x80\\xec\\x9a\\x94? \\xec\\x9d\\xb8\\xec\\xa6\\x9d\\xed\\x95\\x98\\xea\\xb3\\xa0 \\xed\\x99\\x9c\\xec\\x9a\\xa9\\xed\\x95\\x98\\xea\\xb3\\xa0 \\xec\\x8b\\xb6\\xec\\x96\\xb4\\xec\\x9a\\x94!</content>\\n\\t\\t\\t\\t\\n\\t\\t\\t\\t\\t<im:contentType term=\"Application\" label=\"\\xec\\x95\\xb1\"/>\\n\\t\\t\\t\\t\\n\\t\\t\\t\\t\\t<im:voteSum>0</im:voteSum>\\n\\t\\t\\t\\t\\n\\t\\t\\t\\t\\t<im:voteCount>0</im:voteCount>\\n\\t\\t\\t\\t\\n\\t\\t\\t\\t\\t<im:rating>1</im:rating>\\n\\t\\t\\t\\t\\n\\t\\t\\t\\t\\t<updated>2022-01-09T20:22:50-07:00</updated>\\n\\t\\t\\t\\t\\n\\t\\t\\t\\t\\t<im:version>1.1.44</im:version>\\n\\t\\t\\t\\t\\n\\t\\t\\t\\t\\t<author><name>\\xeb\\x98\\x98\\xeb\\x98\\x9822</name><uri>https://itunes.apple.com/kr/reviews/id1346220930</uri></author>\\n\\t\\t\\t\\t\\n\\t\\t\\t\\t\\t<link rel=\"related\" href=\"https://itunes.apple.com/kr/review?id=1318541802&amp;type=Purple%20Software\"/>\\n\\t\\t\\t\\t\\n\\t\\t\\t\\t\\n\\t\\t\\t\\t\\t<content type=\"html\">&lt;table border=&quot;0&quot; width=&quot;100%&quot;&gt;\\n    &lt;tr&gt;\\n        &lt;td&gt;\\n            &lt;table border=&quot;0&quot; width=&quot;100%&quot; cellspacing=&quot;0&quot; cellpadding=&quot;0&quot;&gt;\\n                &lt;tr valign=&quot;top&quot; align=&quot;left&quot;&gt;\\n                    \\n                    \\n                    \\t&lt;td width=&quot;100%&quot;&gt;\\n                    \\n                        &lt;b&gt;&lt;a href=&quot;https://apps.apple.com/kr/app/%EC%84%9C%EC%9A%B8%EC%8B%9C%EB%AF%BC%EC%B9%B4%EB%93%9C/id1318541802?uo=2&quot;&gt;\\xec\\x9d\\xb8\\xec\\xa6\\x9d\\xec\\x9d\\xb4 \\xec\\x95\\x88 \\xeb\\x90\\x98\\xeb\\x84\\xa4\\xec\\x9a\\x94&lt;/a&gt;&lt;/b&gt;&lt;br/&gt;\\n                        \\n                        \\n                        \\n                        \\n\\n                        \\n\\n                       &lt;font size=&quot;2&quot; face=&quot;Helvetica,Arial,Geneva,Swiss,SunSans-Regular&quot;&gt;\\n\\t\\t\\t\\t\\t\\t\\n                        &lt;/font&gt;\\n                    &lt;/td&gt;\\n                &lt;/tr&gt;\\n            &lt;/table&gt;\\n        &lt;/td&gt;\\n    &lt;/tr&gt;\\n    &lt;tr&gt;\\n        &lt;td&gt;\\n            \\n                &lt;font size=&quot;2&quot; face=&quot;Helvetica,Arial,Geneva,Swiss,SunSans-Regular&quot;&gt;&lt;br/&gt;1:1\\xeb\\xac\\xb8\\xec\\x9d\\x98\\xed\\x95\\x98\\xeb\\x9d\\xbc\\xeb\\x8a\\x94 \\xeb\\x8b\\xb5\\xea\\xb8\\x80\\xec\\x9d\\x84 \\xeb\\xb4\\xa4\\xeb\\x8a\\x94\\xeb\\x8d\\xb0 \\xea\\xb7\\xb8\\xea\\xb1\\xb4 \\xec\\x96\\xb4\\xeb\\x94\\x94\\xec\\x84\\x9c \\xed\\x95\\x98\\xeb\\x8a\\x94 \\xea\\xb1\\xb4\\xec\\xa7\\x80\\xec\\x9a\\x94? \\xec\\x9d\\xb8\\xec\\xa6\\x9d\\xed\\x95\\x98\\xea\\xb3\\xa0 \\xed\\x99\\x9c\\xec\\x9a\\xa9\\xed\\x95\\x98\\xea\\xb3\\xa0 \\xec\\x8b\\xb6\\xec\\x96\\xb4\\xec\\x9a\\x94!&lt;/font&gt;&lt;br/&gt;\\n            \\n            \\n            \\n        &lt;/td&gt;\\n    &lt;/tr&gt;\\n&lt;/table&gt;\\n</content>\\n\\t\\t\\t\\t\\n\\t\\t\\t</entry>\\n\\t\\t\\n\\t\\t\\t<entry>\\n\\t\\t\\t\\t\\n\\t\\t\\t\\t\\t<id>8195167674</id>\\n\\t\\t\\t\\t\\n\\t\\t\\t\\t\\t<title>\\xeb\\xb3\\xb8\\xec\\x9d\\xb8 \\xed\\x99\\x95\\xec\\x9d\\xb8\\xec\\x97\\x90\\xec\\x84\\x9c \\xec\\x95\\x88\\xeb\\x84\\x98\\xec\\x96\\xb4\\xea\\xb0\\x80\\xec\\x9a\\x94</title>\\n\\t\\t\\t\\t\\n\\t\\t\\t\\t\\t<content type=\"text\">pass\\xec\\x96\\xb4\\xed\\x94\\x8c\\xeb\\x8f\\x84 \\xec\\x95\\x88\\xeb\\x90\\x98\\xea\\xb3\\xa0 \\xeb\\xac\\xb8\\xec\\x9e\\x90\\xed\\x99\\x95\\xec\\x9d\\xb8\\xeb\\x8f\\x84 \\xec\\x95\\x88\\xeb\\x90\\x98\\xea\\xb3\\xa0 \\xec\\x95\\x84\\xec\\x9d\\xb4\\xed\\x95\\x80\\xea\\xb9\\x8c\\xec\\xa7\\x80 \\xec\\x95\\x88\\xeb\\x8f\\xbc\\xec\\x9a\\x94. \\xeb\\xb3\\xb8\\xec\\x9d\\xb8\\xec\\x9d\\xb8\\xec\\xa6\\x9d\\xeb\\xa7\\x8c \\xec\\x88\\x98\\xec\\x8b\\xad\\xeb\\xb2\\x88 \\xec\\x8b\\x9c\\xeb\\x8f\\x84\\xed\\x96\\x88\\xeb\\x8a\\x94\\xeb\\x8d\\xb0 \\xec\\xa0\\x88\\xeb\\x8c\\x80 \\xec\\x95\\x88\\xeb\\x84\\x98\\xec\\x96\\xb4\\xea\\xb0\\x80\\xec\\xa0\\xb8\\xec\\x9a\\x94.</content>\\n\\t\\t\\t\\t\\n\\t\\t\\t\\t\\t<im:contentType term=\"Application\" label=\"\\xec\\x95\\xb1\"/>\\n\\t\\t\\t\\t\\n\\t\\t\\t\\t\\t<im:voteSum>0</im:voteSum>\\n\\t\\t\\t\\t\\n\\t\\t\\t\\t\\t<im:voteCount>0</im:voteCount>\\n\\t\\t\\t\\t\\n\\t\\t\\t\\t\\t<im:rating>1</im:rating>\\n\\t\\t\\t\\t\\n\\t\\t\\t\\t\\t<updated>2022-01-02T02:05:01-07:00</updated>\\n\\t\\t\\t\\t\\n\\t\\t\\t\\t\\t<im:version>1.1.44</im:version>\\n\\t\\t\\t\\t\\n\\t\\t\\t\\t\\t<author><name>\\xe3\\x85\\x8b\\xe3\\x85\\x8b\\xe3\\x85\\x8b\\xe3\\x85\\x87\\xe3\\x85\\x87\\xe3\\x85\\x88</name><uri>https://itunes.apple.com/kr/reviews/id420458604</uri></author>\\n\\t\\t\\t\\t\\n\\t\\t\\t\\t\\t<link rel=\"related\" href=\"https://itunes.apple.com/kr/review?id=1318541802&amp;type=Purple%20Software\"/>\\n\\t\\t\\t\\t\\n\\t\\t\\t\\t\\n\\t\\t\\t\\t\\t<content type=\"html\">&lt;table border=&quot;0&quot; width=&quot;100%&quot;&gt;\\n    &lt;tr&gt;\\n        &lt;td&gt;\\n            &lt;table border=&quot;0&quot; width=&quot;100%&quot; cellspacing=&quot;0&quot; cellpadding=&quot;0&quot;&gt;\\n                &lt;tr valign=&quot;top&quot; align=&quot;left&quot;&gt;\\n                    \\n                    \\n                    \\t&lt;td width=&quot;100%&quot;&gt;\\n                    \\n                        &lt;b&gt;&lt;a href=&quot;https://apps.apple.com/kr/app/%EC%84%9C%EC%9A%B8%EC%8B%9C%EB%AF%BC%EC%B9%B4%EB%93%9C/id1318541802?uo=2&quot;&gt;\\xeb\\xb3\\xb8\\xec\\x9d\\xb8 \\xed\\x99\\x95\\xec\\x9d\\xb8\\xec\\x97\\x90\\xec\\x84\\x9c \\xec\\x95\\x88\\xeb\\x84\\x98\\xec\\x96\\xb4\\xea\\xb0\\x80\\xec\\x9a\\x94&lt;/a&gt;&lt;/b&gt;&lt;br/&gt;\\n                        \\n                        \\n                        \\n                        \\n\\n                        \\n\\n                       &lt;font size=&quot;2&quot; face=&quot;Helvetica,Arial,Geneva,Swiss,SunSans-Regular&quot;&gt;\\n\\t\\t\\t\\t\\t\\t\\n                        &lt;/font&gt;\\n                    &lt;/td&gt;\\n                &lt;/tr&gt;\\n            &lt;/table&gt;\\n        &lt;/td&gt;\\n    &lt;/tr&gt;\\n    &lt;tr&gt;\\n        &lt;td&gt;\\n            \\n                &lt;font size=&quot;2&quot; face=&quot;Helvetica,Arial,Geneva,Swiss,SunSans-Regular&quot;&gt;&lt;br/&gt;pass\\xec\\x96\\xb4\\xed\\x94\\x8c\\xeb\\x8f\\x84 \\xec\\x95\\x88\\xeb\\x90\\x98\\xea\\xb3\\xa0 \\xeb\\xac\\xb8\\xec\\x9e\\x90\\xed\\x99\\x95\\xec\\x9d\\xb8\\xeb\\x8f\\x84 \\xec\\x95\\x88\\xeb\\x90\\x98\\xea\\xb3\\xa0 \\xec\\x95\\x84\\xec\\x9d\\xb4\\xed\\x95\\x80\\xea\\xb9\\x8c\\xec\\xa7\\x80 \\xec\\x95\\x88\\xeb\\x8f\\xbc\\xec\\x9a\\x94. \\xeb\\xb3\\xb8\\xec\\x9d\\xb8\\xec\\x9d\\xb8\\xec\\xa6\\x9d\\xeb\\xa7\\x8c \\xec\\x88\\x98\\xec\\x8b\\xad\\xeb\\xb2\\x88 \\xec\\x8b\\x9c\\xeb\\x8f\\x84\\xed\\x96\\x88\\xeb\\x8a\\x94\\xeb\\x8d\\xb0 \\xec\\xa0\\x88\\xeb\\x8c\\x80 \\xec\\x95\\x88\\xeb\\x84\\x98\\xec\\x96\\xb4\\xea\\xb0\\x80\\xec\\xa0\\xb8\\xec\\x9a\\x94.&lt;/font&gt;&lt;br/&gt;\\n            \\n            \\n            \\n        &lt;/td&gt;\\n    &lt;/tr&gt;\\n&lt;/table&gt;\\n</content>\\n\\t\\t\\t\\t\\n\\t\\t\\t</entry>\\n\\t\\t\\n\\t\\t\\t<entry>\\n\\t\\t\\t\\t\\n\\t\\t\\t\\t\\t<id>8130457108</id>\\n\\t\\t\\t\\t\\n\\t\\t\\t\\t\\t<title>\\xeb\\xb3\\xb8\\xec\\x9d\\xb8\\xec\\x9d\\xb8\\xec\\xa6\\x9d \\xec\\x8b\\xa4\\xed\\x8d\\xa0\\xea\\xb0\\x80 \\xea\\xb3\\x84\\xec\\x86\\x8d \\xeb\\x90\\xa9\\xeb\\x8b\\x88\\xeb\\x8b\\xa4</title>\\n\\t\\t\\t\\t\\n\\t\\t\\t\\t\\t<content type=\"text\">\\xec\\x95\\x84\\xec\\x9d\\xb4\\xed\\x8f\\xb0\\xec\\x9e\\x85\\xeb\\x8b\\x88\\xeb\\x8b\\xa4 \\xed\\x9c\\xb4\\xeb\\x8c\\x80\\xed\\x8f\\xb0 \\xeb\\xb3\\xb8\\xec\\x9d\\xb8\\xec\\x9d\\xb8\\xec\\xa6\\x9d\\xec\\x9d\\xb4 \\xea\\xb3\\x84\\xec\\x86\\x8d \\xec\\x97\\x90\\xeb\\x9f\\xac\\xeb\\x82\\xa9\\xeb\\x8b\\x88\\xeb\\x8b\\xa4\\n\\xeb\\xb8\\x8c\\xeb\\x9d\\xbc\\xec\\x9a\\xb0\\xec\\xa0\\x80 \\xec\\x84\\xa4\\xec\\xa0\\x95 \\xeb\\x8b\\xa4\\xec\\x8b\\x9c \\xed\\x95\\x98\\xeb\\x9d\\xbc\\xeb\\x8a\\x94\\xeb\\x8d\\xb0\\n\\xeb\\xb3\\x80\\xea\\xb2\\xbd\\xed\\x95\\x98\\xeb\\x9d\\xbc\\xeb\\x8a\\x94\\xeb\\x8d\\xb0 \\xec\\x99\\x9c\\xe3\\x85\\x9c\\xea\\xb7\\xb8\\xeb\\x9f\\xac\\xeb\\x8a\\x94\\xec\\xa7\\x80\\xec\\x9a\\x94?! \\xe3\\x85\\xa0\\xe3\\x85\\xa0</content>\\n\\t\\t\\t\\t\\n\\t\\t\\t\\t\\t<im:contentType term=\"Application\" label=\"\\xec\\x95\\xb1\"/>\\n\\t\\t\\t\\t\\n\\t\\t\\t\\t\\t<im:voteSum>0</im:voteSum>\\n\\t\\t\\t\\t\\n\\t\\t\\t\\t\\t<im:voteCount>0</im:voteCount>\\n\\t\\t\\t\\t\\n\\t\\t\\t\\t\\t<im:rating>3</im:rating>\\n\\t\\t\\t\\t\\n\\t\\t\\t\\t\\t<updated>2021-12-14T13:46:49-07:00</updated>\\n\\t\\t\\t\\t\\n\\t\\t\\t\\t\\t<im:version>1.1.44</im:version>\\n\\t\\t\\t\\t\\n\\t\\t\\t\\t\\t<author><name>\\xeb\\x85\\xb8\\xeb\\x8c\\x80\\xed\\x98\\xb8\\xe3\\x85\\x8b\\xe3\\x85\\x8b\\xe3\\x85\\x8b</name><uri>https://itunes.apple.com/kr/reviews/id185306196</uri></author>\\n\\t\\t\\t\\t\\n\\t\\t\\t\\t\\t<link rel=\"related\" href=\"https://itunes.apple.com/kr/review?id=1318541802&amp;type=Purple%20Software\"/>\\n\\t\\t\\t\\t\\n\\t\\t\\t\\t\\n\\t\\t\\t\\t\\t<content type=\"html\">&lt;table border=&quot;0&quot; width=&quot;100%&quot;&gt;\\n    &lt;tr&gt;\\n        &lt;td&gt;\\n            &lt;table border=&quot;0&quot; width=&quot;100%&quot; cellspacing=&quot;0&quot; cellpadding=&quot;0&quot;&gt;\\n                &lt;tr valign=&quot;top&quot; align=&quot;left&quot;&gt;\\n                    \\n                    \\n                    \\t&lt;td width=&quot;100%&quot;&gt;\\n                    \\n                        &lt;b&gt;&lt;a href=&quot;https://apps.apple.com/kr/app/%EC%84%9C%EC%9A%B8%EC%8B%9C%EB%AF%BC%EC%B9%B4%EB%93%9C/id1318541802?uo=2&quot;&gt;\\xeb\\xb3\\xb8\\xec\\x9d\\xb8\\xec\\x9d\\xb8\\xec\\xa6\\x9d \\xec\\x8b\\xa4\\xed\\x8d\\xa0\\xea\\xb0\\x80 \\xea\\xb3\\x84\\xec\\x86\\x8d \\xeb\\x90\\xa9\\xeb\\x8b\\x88\\xeb\\x8b\\xa4&lt;/a&gt;&lt;/b&gt;&lt;br/&gt;\\n                        \\n                        \\n                        \\n                        \\n\\n                        \\n\\n                       &lt;font size=&quot;2&quot; face=&quot;Helvetica,Arial,Geneva,Swiss,SunSans-Regular&quot;&gt;\\n\\t\\t\\t\\t\\t\\t\\n                        &lt;/font&gt;\\n                    &lt;/td&gt;\\n                &lt;/tr&gt;\\n            &lt;/table&gt;\\n        &lt;/td&gt;\\n    &lt;/tr&gt;\\n    &lt;tr&gt;\\n        &lt;td&gt;\\n            \\n                &lt;font size=&quot;2&quot; face=&quot;Helvetica,Arial,Geneva,Swiss,SunSans-Regular&quot;&gt;&lt;br/&gt;\\xec\\x95\\x84\\xec\\x9d\\xb4\\xed\\x8f\\xb0\\xec\\x9e\\x85\\xeb\\x8b\\x88\\xeb\\x8b\\xa4 \\xed\\x9c\\xb4\\xeb\\x8c\\x80\\xed\\x8f\\xb0 \\xeb\\xb3\\xb8\\xec\\x9d\\xb8\\xec\\x9d\\xb8\\xec\\xa6\\x9d\\xec\\x9d\\xb4 \\xea\\xb3\\x84\\xec\\x86\\x8d \\xec\\x97\\x90\\xeb\\x9f\\xac\\xeb\\x82\\xa9\\xeb\\x8b\\x88\\xeb\\x8b\\xa4&lt;br/&gt;\\xeb\\xb8\\x8c\\xeb\\x9d\\xbc\\xec\\x9a\\xb0\\xec\\xa0\\x80 \\xec\\x84\\xa4\\xec\\xa0\\x95 \\xeb\\x8b\\xa4\\xec\\x8b\\x9c \\xed\\x95\\x98\\xeb\\x9d\\xbc\\xeb\\x8a\\x94\\xeb\\x8d\\xb0&lt;br/&gt;\\xeb\\xb3\\x80\\xea\\xb2\\xbd\\xed\\x95\\x98\\xeb\\x9d\\xbc\\xeb\\x8a\\x94\\xeb\\x8d\\xb0 \\xec\\x99\\x9c\\xe3\\x85\\x9c\\xea\\xb7\\xb8\\xeb\\x9f\\xac\\xeb\\x8a\\x94\\xec\\xa7\\x80\\xec\\x9a\\x94?! \\xe3\\x85\\xa0\\xe3\\x85\\xa0&lt;/font&gt;&lt;br/&gt;\\n            \\n            \\n            \\n        &lt;/td&gt;\\n    &lt;/tr&gt;\\n&lt;/table&gt;\\n</content>\\n\\t\\t\\t\\t\\n\\t\\t\\t</entry>\\n\\t\\t\\n\\t\\t\\t<entry>\\n\\t\\t\\t\\t\\n\\t\\t\\t\\t\\t<id>8085765347</id>\\n\\t\\t\\t\\t\\n\\t\\t\\t\\t\\t<title>\\xea\\xb3\\x84\\xec\\x86\\x8d \\xec\\xa0\\x95\\xed\\x9a\\x8c\\xec\\x9b\\x90\\xec\\x9d\\xb8\\xec\\xa6\\x9d\\xec\\x8b\\xa4\\xed\\x8c\\xa8</title>\\n\\t\\t\\t\\t\\n\\t\\t\\t\\t\\t<content type=\"text\">\\xeb\\x8f\\x84\\xec\\x84\\x9c\\xea\\xb4\\x80 \\xec\\xb9\\xb4\\xeb\\x93\\x9c \\xec\\xb6\\x94\\xea\\xb0\\x80\\xed\\x95\\x98\\xeb\\xa0\\xa4\\xea\\xb3\\xa0 \\xec\\xa0\\x95\\xed\\x9a\\x8c\\xec\\x9b\\x90 \\xea\\xb0\\x80\\xec\\x9e\\x85\\xec\\x9a\\x94\\xec\\xb2\\xad \\xed\\x95\\xa0\\xeb\\x95\\x8c\\n\\xec\\xb2\\x98\\xec\\x9d\\x8c\\xec\\x97\\x90\\xeb\\x8a\\x94 \\xec\\xa0\\x95\\xed\\x9a\\x8c\\xec\\x9b\\x90\\xec\\x9d\\xb8\\xec\\xa6\\x9d\\xec\\x9d\\xb4 \\xec\\x95\\x88\\xeb\\x90\\x9c\\xeb\\x8b\\xa4\\xea\\xb3\\xa0 \\xeb\\x82\\x98\\xec\\x98\\xa4\\xeb\\x8d\\x94\\xeb\\x8b\\x88\\n\\xea\\xb7\\xb8 \\xed\\x9b\\x84\\xeb\\xb6\\x80\\xed\\x84\\xb0\\xeb\\x8a\\x94 \\xea\\xb3\\x84\\xec\\x86\\x8d \\xec\\x9c\\xa0\\xed\\x9a\\xa8\\xed\\x95\\x98\\xec\\xa7\\x80\\xec\\x95\\x8a\\xec\\x9d\\x80 \\xec\\xa3\\xbc\\xeb\\xaf\\xbc\\xeb\\x93\\xb1\\xeb\\xa1\\x9d \\xeb\\xb2\\x88\\xed\\x98\\xb8\\xeb\\x9d\\xbc\\xea\\xb3\\xa0 \\xeb\\x82\\x98\\xec\\x99\\x80\\xec\\x9a\\x94\\n\\xec\\x96\\xb4\\xed\\x94\\x8c\\xec\\x9d\\x84 \\xec\\x82\\xad\\xec\\xa0\\x9c \\xed\\x9b\\x84\\xec\\x97\\x90 \\xeb\\x8b\\xa4\\xec\\x8b\\x9c \\xea\\xb9\\x94\\xec\\x95\\x84\\xeb\\x8f\\x84 \\xec\\x9d\\xb4\\xeb\\xaa\\xa8\\xec\\x96\\x91\\xec\\x9d\\xb4\\xeb\\x84\\xa4\\xec\\x9a\\x94\\n\\xed\\x95\\xb4\\xea\\xb2\\xb0\\xec\\xa2\\x80 \\xed\\x95\\xb4\\xec\\xa3\\xbc\\xec\\x84\\xb8\\xec\\x9a\\x94</content>\\n\\t\\t\\t\\t\\n\\t\\t\\t\\t\\t<im:contentType term=\"Application\" label=\"\\xec\\x95\\xb1\"/>\\n\\t\\t\\t\\t\\n\\t\\t\\t\\t\\t<im:voteSum>0</im:voteSum>\\n\\t\\t\\t\\t\\n\\t\\t\\t\\t\\t<im:voteCount>0</im:voteCount>\\n\\t\\t\\t\\t\\n\\t\\t\\t\\t\\t<im:rating>1</im:rating>\\n\\t\\t\\t\\t\\n\\t\\t\\t\\t\\t<updated>2021-12-01T21:40:22-07:00</updated>\\n\\t\\t\\t\\t\\n\\t\\t\\t\\t\\t<im:version>1.1.44</im:version>\\n\\t\\t\\t\\t\\n\\t\\t\\t\\t\\t<author><name>\\xea\\xb3\\xb5\\xec\\xa5\\xac\\xea\\xb0\\x95</name><uri>https://itunes.apple.com/kr/reviews/id1002475687</uri></author>\\n\\t\\t\\t\\t\\n\\t\\t\\t\\t\\t<link rel=\"related\" href=\"https://itunes.apple.com/kr/review?id=1318541802&amp;type=Purple%20Software\"/>\\n\\t\\t\\t\\t\\n\\t\\t\\t\\t\\n\\t\\t\\t\\t\\t<content type=\"html\">&lt;table border=&quot;0&quot; width=&quot;100%&quot;&gt;\\n    &lt;tr&gt;\\n        &lt;td&gt;\\n            &lt;table border=&quot;0&quot; width=&quot;100%&quot; cellspacing=&quot;0&quot; cellpadding=&quot;0&quot;&gt;\\n                &lt;tr valign=&quot;top&quot; align=&quot;left&quot;&gt;\\n                    \\n                    \\n                    \\t&lt;td width=&quot;100%&quot;&gt;\\n                    \\n                        &lt;b&gt;&lt;a href=&quot;https://apps.apple.com/kr/app/%EC%84%9C%EC%9A%B8%EC%8B%9C%EB%AF%BC%EC%B9%B4%EB%93%9C/id1318541802?uo=2&quot;&gt;\\xea\\xb3\\x84\\xec\\x86\\x8d \\xec\\xa0\\x95\\xed\\x9a\\x8c\\xec\\x9b\\x90\\xec\\x9d\\xb8\\xec\\xa6\\x9d\\xec\\x8b\\xa4\\xed\\x8c\\xa8&lt;/a&gt;&lt;/b&gt;&lt;br/&gt;\\n                        \\n                        \\n                        \\n                        \\n\\n                        \\n\\n                       &lt;font size=&quot;2&quot; face=&quot;Helvetica,Arial,Geneva,Swiss,SunSans-Regular&quot;&gt;\\n\\t\\t\\t\\t\\t\\t\\n                        &lt;/font&gt;\\n                    &lt;/td&gt;\\n                &lt;/tr&gt;\\n            &lt;/table&gt;\\n        &lt;/td&gt;\\n    &lt;/tr&gt;\\n    &lt;tr&gt;\\n        &lt;td&gt;\\n            \\n                &lt;font size=&quot;2&quot; face=&quot;Helvetica,Arial,Geneva,Swiss,SunSans-Regular&quot;&gt;&lt;br/&gt;\\xeb\\x8f\\x84\\xec\\x84\\x9c\\xea\\xb4\\x80 \\xec\\xb9\\xb4\\xeb\\x93\\x9c \\xec\\xb6\\x94\\xea\\xb0\\x80\\xed\\x95\\x98\\xeb\\xa0\\xa4\\xea\\xb3\\xa0 \\xec\\xa0\\x95\\xed\\x9a\\x8c\\xec\\x9b\\x90 \\xea\\xb0\\x80\\xec\\x9e\\x85\\xec\\x9a\\x94\\xec\\xb2\\xad \\xed\\x95\\xa0\\xeb\\x95\\x8c&lt;br/&gt;\\xec\\xb2\\x98\\xec\\x9d\\x8c\\xec\\x97\\x90\\xeb\\x8a\\x94 \\xec\\xa0\\x95\\xed\\x9a\\x8c\\xec\\x9b\\x90\\xec\\x9d\\xb8\\xec\\xa6\\x9d\\xec\\x9d\\xb4 \\xec\\x95\\x88\\xeb\\x90\\x9c\\xeb\\x8b\\xa4\\xea\\xb3\\xa0 \\xeb\\x82\\x98\\xec\\x98\\xa4\\xeb\\x8d\\x94\\xeb\\x8b\\x88&lt;br/&gt;\\xea\\xb7\\xb8 \\xed\\x9b\\x84\\xeb\\xb6\\x80\\xed\\x84\\xb0\\xeb\\x8a\\x94 \\xea\\xb3\\x84\\xec\\x86\\x8d \\xec\\x9c\\xa0\\xed\\x9a\\xa8\\xed\\x95\\x98\\xec\\xa7\\x80\\xec\\x95\\x8a\\xec\\x9d\\x80 \\xec\\xa3\\xbc\\xeb\\xaf\\xbc\\xeb\\x93\\xb1\\xeb\\xa1\\x9d \\xeb\\xb2\\x88\\xed\\x98\\xb8\\xeb\\x9d\\xbc\\xea\\xb3\\xa0 \\xeb\\x82\\x98\\xec\\x99\\x80\\xec\\x9a\\x94&lt;br/&gt;\\xec\\x96\\xb4\\xed\\x94\\x8c\\xec\\x9d\\x84 \\xec\\x82\\xad\\xec\\xa0\\x9c \\xed\\x9b\\x84\\xec\\x97\\x90 \\xeb\\x8b\\xa4\\xec\\x8b\\x9c \\xea\\xb9\\x94\\xec\\x95\\x84\\xeb\\x8f\\x84 \\xec\\x9d\\xb4\\xeb\\xaa\\xa8\\xec\\x96\\x91\\xec\\x9d\\xb4\\xeb\\x84\\xa4\\xec\\x9a\\x94&lt;br/&gt;\\xed\\x95\\xb4\\xea\\xb2\\xb0\\xec\\xa2\\x80 \\xed\\x95\\xb4\\xec\\xa3\\xbc\\xec\\x84\\xb8\\xec\\x9a\\x94&lt;/font&gt;&lt;br/&gt;\\n            \\n            \\n            \\n        &lt;/td&gt;\\n    &lt;/tr&gt;\\n&lt;/table&gt;\\n</content>\\n\\t\\t\\t\\t\\n\\t\\t\\t</entry>\\n\\t\\t\\n\\t\\t\\t<entry>\\n\\t\\t\\t\\t\\n\\t\\t\\t\\t\\t<id>8075017672</id>\\n\\t\\t\\t\\t\\n\\t\\t\\t\\t\\t<title>\\xea\\xb0\\x80\\xec\\x9e\\x85\\xec\\x9d\\xb4 \\xec\\x95\\x88\\xeb\\x90\\x98\\xeb\\x8a\\x94\\xeb\\x8d\\xb0\\xec\\x9a\\x94</title>\\n\\t\\t\\t\\t\\n\\t\\t\\t\\t\\t<content type=\"text\">\\xeb\\xb3\\xb8\\xec\\x9d\\xb8\\xed\\x99\\x95\\xec\\x9d\\xb8\\xec\\x8b\\xa4\\xed\\x8c\\xa8\\xeb\\xa7\\x8c \\xea\\xb3\\x84\\xec\\x86\\x8d\\xeb\\x9c\\xa8\\xeb\\x84\\xa4\\xec\\x9a\\x94</content>\\n\\t\\t\\t\\t\\n\\t\\t\\t\\t\\t<im:contentType term=\"Application\" label=\"\\xec\\x95\\xb1\"/>\\n\\t\\t\\t\\t\\n\\t\\t\\t\\t\\t<im:voteSum>0</im:voteSum>\\n\\t\\t\\t\\t\\n\\t\\t\\t\\t\\t<im:voteCount>0</im:voteCount>\\n\\t\\t\\t\\t\\n\\t\\t\\t\\t\\t<im:rating>2</im:rating>\\n\\t\\t\\t\\t\\n\\t\\t\\t\\t\\t<updated>2021-11-28T20:40:25-07:00</updated>\\n\\t\\t\\t\\t\\n\\t\\t\\t\\t\\t<im:version>1.1.44</im:version>\\n\\t\\t\\t\\t\\n\\t\\t\\t\\t\\t<author><name>\\xea\\xb5\\xac\\xeb\\xa7\\xa4\\xec\\x82\\xad\\xec\\xa0\\x9c\\xec\\x9a\\x94\\xec\\xb2\\xad;</name><uri>https://itunes.apple.com/kr/reviews/id158674393</uri></author>\\n\\t\\t\\t\\t\\n\\t\\t\\t\\t\\t<link rel=\"related\" href=\"https://itunes.apple.com/kr/review?id=1318541802&amp;type=Purple%20Software\"/>\\n\\t\\t\\t\\t\\n\\t\\t\\t\\t\\n\\t\\t\\t\\t\\t<content type=\"html\">&lt;table border=&quot;0&quot; width=&quot;100%&quot;&gt;\\n    &lt;tr&gt;\\n        &lt;td&gt;\\n            &lt;table border=&quot;0&quot; width=&quot;100%&quot; cellspacing=&quot;0&quot; cellpadding=&quot;0&quot;&gt;\\n                &lt;tr valign=&quot;top&quot; align=&quot;left&quot;&gt;\\n                    \\n                    \\n                    \\t&lt;td width=&quot;100%&quot;&gt;\\n                    \\n                        &lt;b&gt;&lt;a href=&quot;https://apps.apple.com/kr/app/%EC%84%9C%EC%9A%B8%EC%8B%9C%EB%AF%BC%EC%B9%B4%EB%93%9C/id1318541802?uo=2&quot;&gt;\\xea\\xb0\\x80\\xec\\x9e\\x85\\xec\\x9d\\xb4 \\xec\\x95\\x88\\xeb\\x90\\x98\\xeb\\x8a\\x94\\xeb\\x8d\\xb0\\xec\\x9a\\x94&lt;/a&gt;&lt;/b&gt;&lt;br/&gt;\\n                        \\n                        \\n                        \\n                        \\n\\n                        \\n\\n                       &lt;font size=&quot;2&quot; face=&quot;Helvetica,Arial,Geneva,Swiss,SunSans-Regular&quot;&gt;\\n\\t\\t\\t\\t\\t\\t\\n                        &lt;/font&gt;\\n                    &lt;/td&gt;\\n                &lt;/tr&gt;\\n            &lt;/table&gt;\\n        &lt;/td&gt;\\n    &lt;/tr&gt;\\n    &lt;tr&gt;\\n        &lt;td&gt;\\n            \\n                &lt;font size=&quot;2&quot; face=&quot;Helvetica,Arial,Geneva,Swiss,SunSans-Regular&quot;&gt;&lt;br/&gt;\\xeb\\xb3\\xb8\\xec\\x9d\\xb8\\xed\\x99\\x95\\xec\\x9d\\xb8\\xec\\x8b\\xa4\\xed\\x8c\\xa8\\xeb\\xa7\\x8c \\xea\\xb3\\x84\\xec\\x86\\x8d\\xeb\\x9c\\xa8\\xeb\\x84\\xa4\\xec\\x9a\\x94&lt;/font&gt;&lt;br/&gt;\\n            \\n            \\n            \\n        &lt;/td&gt;\\n    &lt;/tr&gt;\\n&lt;/table&gt;\\n</content>\\n\\t\\t\\t\\t\\n\\t\\t\\t</entry>\\n\\t\\t\\n\\t\\t\\t<entry>\\n\\t\\t\\t\\t\\n\\t\\t\\t\\t\\t<id>8067008627</id>\\n\\t\\t\\t\\t\\n\\t\\t\\t\\t\\t<title>\\xeb\\xb3\\xb8\\xec\\x9d\\xb8\\xec\\x9d\\xb8\\xec\\xa6\\x9d\\xec\\x9d\\xb4 \\xec\\x95\\x88\\xeb\\x90\\xa9\\xeb\\x8b\\x88\\xeb\\x8b\\xa4</title>\\n\\t\\t\\t\\t\\n\\t\\t\\t\\t\\t<content type=\"text\">\\xeb\\xb3\\xb8\\xec\\x9d\\xb8\\xec\\x9d\\xb8\\xec\\xa6\\x9d \\xed\\x99\\x94\\xeb\\xa9\\xb4\\xec\\x97\\x90\\xec\\x84\\x9c \\xeb\\xaa\\xa8\\xeb\\x91\\x90 \\xec\\x9e\\x85\\xeb\\xa0\\xa5\\xed\\x95\\x98\\xea\\xb3\\xa0 \\xeb\\x82\\x98\\xeb\\xa9\\xb4 \\xec\\xbf\\xa0\\xed\\x82\\xa4\\xec\\x84\\xa4\\xec\\xa0\\x95 \\xea\\xb4\\x80\\xeb\\xa0\\xa8 \\xec\\x98\\xa4\\xeb\\xa5\\x98\\xea\\xb0\\x80 \\xea\\xb3\\x84\\xec\\x86\\x8d \\xeb\\x82\\xa9\\xeb\\x8b\\x88\\xeb\\x8b\\xa4.</content>\\n\\t\\t\\t\\t\\n\\t\\t\\t\\t\\t<im:contentType term=\"Application\" label=\"\\xec\\x95\\xb1\"/>\\n\\t\\t\\t\\t\\n\\t\\t\\t\\t\\t<im:voteSum>0</im:voteSum>\\n\\t\\t\\t\\t\\n\\t\\t\\t\\t\\t<im:voteCount>0</im:voteCount>\\n\\t\\t\\t\\t\\n\\t\\t\\t\\t\\t<im:rating>1</im:rating>\\n\\t\\t\\t\\t\\n\\t\\t\\t\\t\\t<updated>2021-11-26T16:56:03-07:00</updated>\\n\\t\\t\\t\\t\\n\\t\\t\\t\\t\\t<im:version>1.1.44</im:version>\\n\\t\\t\\t\\t\\n\\t\\t\\t\\t\\t<author><name>\\xeb\\x82\\x9c\\xeb\\xa6\\xac\\xea\\xb5\\xb0</name><uri>https://itunes.apple.com/kr/reviews/id185806126</uri></author>\\n\\t\\t\\t\\t\\n\\t\\t\\t\\t\\t<link rel=\"related\" href=\"https://itunes.apple.com/kr/review?id=1318541802&amp;type=Purple%20Software\"/>\\n\\t\\t\\t\\t\\n\\t\\t\\t\\t\\n\\t\\t\\t\\t\\t<content type=\"html\">&lt;table border=&quot;0&quot; width=&quot;100%&quot;&gt;\\n    &lt;tr&gt;\\n        &lt;td&gt;\\n            &lt;table border=&quot;0&quot; width=&quot;100%&quot; cellspacing=&quot;0&quot; cellpadding=&quot;0&quot;&gt;\\n                &lt;tr valign=&quot;top&quot; align=&quot;left&quot;&gt;\\n                    \\n                    \\n                    \\t&lt;td width=&quot;100%&quot;&gt;\\n                    \\n                        &lt;b&gt;&lt;a href=&quot;https://apps.apple.com/kr/app/%EC%84%9C%EC%9A%B8%EC%8B%9C%EB%AF%BC%EC%B9%B4%EB%93%9C/id1318541802?uo=2&quot;&gt;\\xeb\\xb3\\xb8\\xec\\x9d\\xb8\\xec\\x9d\\xb8\\xec\\xa6\\x9d\\xec\\x9d\\xb4 \\xec\\x95\\x88\\xeb\\x90\\xa9\\xeb\\x8b\\x88\\xeb\\x8b\\xa4&lt;/a&gt;&lt;/b&gt;&lt;br/&gt;\\n                        \\n                        \\n                        \\n                        \\n\\n                        \\n\\n                       &lt;font size=&quot;2&quot; face=&quot;Helvetica,Arial,Geneva,Swiss,SunSans-Regular&quot;&gt;\\n\\t\\t\\t\\t\\t\\t\\n                        &lt;/font&gt;\\n                    &lt;/td&gt;\\n                &lt;/tr&gt;\\n            &lt;/table&gt;\\n        &lt;/td&gt;\\n    &lt;/tr&gt;\\n    &lt;tr&gt;\\n        &lt;td&gt;\\n            \\n                &lt;font size=&quot;2&quot; face=&quot;Helvetica,Arial,Geneva,Swiss,SunSans-Regular&quot;&gt;&lt;br/&gt;\\xeb\\xb3\\xb8\\xec\\x9d\\xb8\\xec\\x9d\\xb8\\xec\\xa6\\x9d \\xed\\x99\\x94\\xeb\\xa9\\xb4\\xec\\x97\\x90\\xec\\x84\\x9c \\xeb\\xaa\\xa8\\xeb\\x91\\x90 \\xec\\x9e\\x85\\xeb\\xa0\\xa5\\xed\\x95\\x98\\xea\\xb3\\xa0 \\xeb\\x82\\x98\\xeb\\xa9\\xb4 \\xec\\xbf\\xa0\\xed\\x82\\xa4\\xec\\x84\\xa4\\xec\\xa0\\x95 \\xea\\xb4\\x80\\xeb\\xa0\\xa8 \\xec\\x98\\xa4\\xeb\\xa5\\x98\\xea\\xb0\\x80 \\xea\\xb3\\x84\\xec\\x86\\x8d \\xeb\\x82\\xa9\\xeb\\x8b\\x88\\xeb\\x8b\\xa4.&lt;/font&gt;&lt;br/&gt;\\n            \\n            \\n            \\n        &lt;/td&gt;\\n    &lt;/tr&gt;\\n&lt;/table&gt;\\n</content>\\n\\t\\t\\t\\t\\n\\t\\t\\t</entry>\\n\\t\\t\\n\\t\\t\\t<entry>\\n\\t\\t\\t\\t\\n\\t\\t\\t\\t\\t<id>8031767741</id>\\n\\t\\t\\t\\t\\n\\t\\t\\t\\t\\t<title>\\xed\\x86\\xb5\\xed\\x95\\xa9\\xeb\\x8f\\x84\\xec\\x84\\x9c\\xea\\xb4\\x80 \\xeb\\x8b\\xa8\\xea\\xb3\\x84 \\xec\\x95\\x88\\xeb\\x84\\x98\\xec\\x96\\xb4\\xea\\xb0\\x80\\xec\\x9a\\x94</title>\\n\\t\\t\\t\\t\\n\\t\\t\\t\\t\\t<content type=\"text\">\\xec\\x95\\xb1\\xec\\x9d\\x84 \\xeb\\xaa\\x87\\xeb\\xb2\\x88\\xec\\x9d\\x84 \\xec\\x82\\xad\\xec\\xa0\\x9c\\xed\\x96\\x88\\xeb\\x8b\\xa4 \\xeb\\x8b\\xa4\\xec\\x8b\\x9c \\xea\\xb9\\x94\\xec\\x95\\x84\\xeb\\x8f\\x84 \\xec\\x95\\x88\\xeb\\x90\\x98\\xeb\\x84\\xa4\\xec\\x9a\\x94\\n\\xeb\\xac\\xb8\\xec\\xa0\\x9c \\xed\\x95\\xb4\\xea\\xb2\\xb0 \\xec\\xa2\\x80 \\xed\\x95\\xb4\\xec\\xa3\\xbc\\xec\\x84\\xb8\\xec\\x9a\\x94</content>\\n\\t\\t\\t\\t\\n\\t\\t\\t\\t\\t<im:contentType term=\"Application\" label=\"\\xec\\x95\\xb1\"/>\\n\\t\\t\\t\\t\\n\\t\\t\\t\\t\\t<im:voteSum>0</im:voteSum>\\n\\t\\t\\t\\t\\n\\t\\t\\t\\t\\t<im:voteCount>0</im:voteCount>\\n\\t\\t\\t\\t\\n\\t\\t\\t\\t\\t<im:rating>3</im:rating>\\n\\t\\t\\t\\t\\n\\t\\t\\t\\t\\t<updated>2021-11-16T17:16:00-07:00</updated>\\n\\t\\t\\t\\t\\n\\t\\t\\t\\t\\t<im:version>1.1.44</im:version>\\n\\t\\t\\t\\t\\n\\t\\t\\t\\t\\t<author><name>\\xec\\xa3\\xbc\\xec\\x95\\x84ya</name><uri>https://itunes.apple.com/kr/reviews/id1240840858</uri></author>\\n\\t\\t\\t\\t\\n\\t\\t\\t\\t\\t<link rel=\"related\" href=\"https://itunes.apple.com/kr/review?id=1318541802&amp;type=Purple%20Software\"/>\\n\\t\\t\\t\\t\\n\\t\\t\\t\\t\\n\\t\\t\\t\\t\\t<content type=\"html\">&lt;table border=&quot;0&quot; width=&quot;100%&quot;&gt;\\n    &lt;tr&gt;\\n        &lt;td&gt;\\n            &lt;table border=&quot;0&quot; width=&quot;100%&quot; cellspacing=&quot;0&quot; cellpadding=&quot;0&quot;&gt;\\n                &lt;tr valign=&quot;top&quot; align=&quot;left&quot;&gt;\\n                    \\n                    \\n                    \\t&lt;td width=&quot;100%&quot;&gt;\\n                    \\n                        &lt;b&gt;&lt;a href=&quot;https://apps.apple.com/kr/app/%EC%84%9C%EC%9A%B8%EC%8B%9C%EB%AF%BC%EC%B9%B4%EB%93%9C/id1318541802?uo=2&quot;&gt;\\xed\\x86\\xb5\\xed\\x95\\xa9\\xeb\\x8f\\x84\\xec\\x84\\x9c\\xea\\xb4\\x80 \\xeb\\x8b\\xa8\\xea\\xb3\\x84 \\xec\\x95\\x88\\xeb\\x84\\x98\\xec\\x96\\xb4\\xea\\xb0\\x80\\xec\\x9a\\x94&lt;/a&gt;&lt;/b&gt;&lt;br/&gt;\\n                        \\n                        \\n                        \\n                        \\n\\n                        \\n\\n                       &lt;font size=&quot;2&quot; face=&quot;Helvetica,Arial,Geneva,Swiss,SunSans-Regular&quot;&gt;\\n\\t\\t\\t\\t\\t\\t\\n                        &lt;/font&gt;\\n                    &lt;/td&gt;\\n                &lt;/tr&gt;\\n            &lt;/table&gt;\\n        &lt;/td&gt;\\n    &lt;/tr&gt;\\n    &lt;tr&gt;\\n        &lt;td&gt;\\n            \\n                &lt;font size=&quot;2&quot; face=&quot;Helvetica,Arial,Geneva,Swiss,SunSans-Regular&quot;&gt;&lt;br/&gt;\\xec\\x95\\xb1\\xec\\x9d\\x84 \\xeb\\xaa\\x87\\xeb\\xb2\\x88\\xec\\x9d\\x84 \\xec\\x82\\xad\\xec\\xa0\\x9c\\xed\\x96\\x88\\xeb\\x8b\\xa4 \\xeb\\x8b\\xa4\\xec\\x8b\\x9c \\xea\\xb9\\x94\\xec\\x95\\x84\\xeb\\x8f\\x84 \\xec\\x95\\x88\\xeb\\x90\\x98\\xeb\\x84\\xa4\\xec\\x9a\\x94&lt;br/&gt;\\xeb\\xac\\xb8\\xec\\xa0\\x9c \\xed\\x95\\xb4\\xea\\xb2\\xb0 \\xec\\xa2\\x80 \\xed\\x95\\xb4\\xec\\xa3\\xbc\\xec\\x84\\xb8\\xec\\x9a\\x94&lt;/font&gt;&lt;br/&gt;\\n            \\n            \\n            \\n        &lt;/td&gt;\\n    &lt;/tr&gt;\\n&lt;/table&gt;\\n</content>\\n\\t\\t\\t\\t\\n\\t\\t\\t</entry>\\n\\t\\t\\n\\t\\t\\t<entry>\\n\\t\\t\\t\\t\\n\\t\\t\\t\\t\\t<id>7954448582</id>\\n\\t\\t\\t\\t\\n\\t\\t\\t\\t\\t<title>\\xeb\\xb3\\xb8\\xec\\x9d\\xb8\\xec\\x9d\\xb8\\xec\\xa6\\x9d\\xec\\x9d\\xb4 \\xec\\x95\\x88\\xeb\\x8f\\xbc\\xec\\x9a\\x94</title>\\n\\t\\t\\t\\t\\n\\t\\t\\t\\t\\t<content type=\"text\">\\xec\\x84\\xb8\\xec\\x85\\x98\\xeb\\xa7\\x8c\\xeb\\xa3\\x8c \\xec\\xbf\\xa0\\xed\\x82\\xa4\\xec\\xa0\\x9c\\xed\\x95\\x9c\\xed\\x92\\x80\\xea\\xb8\\xb0?\\n\\xec\\x9d\\xb4\\xea\\xb1\\xb0 pass\\xec\\x96\\xb4\\xed\\x94\\x8c\\xeb\\xa1\\x9c \\xec\\x95\\x88\\xeb\\x84\\x98\\xec\\x96\\xb4\\xea\\xb0\\x80\\xeb\\x8d\\x94\\xeb\\x8b\\x88 \\xea\\xb3\\x84\\xec\\x86\\x8d\\xeb\\x96\\xa0\\xec\\x84\\x9c\\n\\xeb\\xac\\xb8\\xec\\x9e\\x90\\xeb\\xa1\\x9c \\xeb\\xb3\\xb8\\xec\\x9d\\xb8\\xed\\x99\\x95\\xec\\x9d\\xb8 \\xed\\x95\\x98\\xeb\\x8a\\x94\\xea\\xb1\\xb8\\xeb\\xa1\\x9c \\xeb\\xb0\\x94\\xea\\xbf\\x94\\xec\\x84\\x9c \\xed\\x95\\x98\\xeb\\x8b\\x88 \\xeb\\x90\\x98\\xea\\xb8\\xb4\\xed\\x95\\x9c\\xeb\\x8d\\xb0\\n\\xec\\x97\\x85\\xeb\\x8e\\x83\\xec\\xa2\\x80 \\xed\\x95\\xb4\\xec\\xa3\\xbc\\xec\\x84\\xb8\\xec\\x9a\\x94\\n3\\xec\\x9b\\x94\\xeb\\xb6\\x80\\xed\\x84\\xb0 \\xed\\x94\\xbc\\xeb\\x93\\x9c\\xeb\\xb0\\xb1 \\xeb\\xb0\\x9b\\xec\\x9c\\xbc\\xec\\x8b\\xa0\\xea\\xb1\\xb0\\xea\\xb0\\x99\\xeb\\x8d\\x98\\xeb\\x8d\\xb0</content>\\n\\t\\t\\t\\t\\n\\t\\t\\t\\t\\t<im:contentType term=\"Application\" label=\"\\xec\\x95\\xb1\"/>\\n\\t\\t\\t\\t\\n\\t\\t\\t\\t\\t<im:voteSum>0</im:voteSum>\\n\\t\\t\\t\\t\\n\\t\\t\\t\\t\\t<im:voteCount>0</im:voteCount>\\n\\t\\t\\t\\t\\n\\t\\t\\t\\t\\t<im:rating>3</im:rating>\\n\\t\\t\\t\\t\\n\\t\\t\\t\\t\\t<updated>2021-10-25T20:23:27-07:00</updated>\\n\\t\\t\\t\\t\\n\\t\\t\\t\\t\\t<im:version>1.1.44</im:version>\\n\\t\\t\\t\\t\\n\\t\\t\\t\\t\\t<author><name>Rhadkdud</name><uri>https://itunes.apple.com/kr/reviews/id537729635</uri></author>\\n\\t\\t\\t\\t\\n\\t\\t\\t\\t\\t<link rel=\"related\" href=\"https://itunes.apple.com/kr/review?id=1318541802&amp;type=Purple%20Software\"/>\\n\\t\\t\\t\\t\\n\\t\\t\\t\\t\\n\\t\\t\\t\\t\\t<content type=\"html\">&lt;table border=&quot;0&quot; width=&quot;100%&quot;&gt;\\n    &lt;tr&gt;\\n        &lt;td&gt;\\n            &lt;table border=&quot;0&quot; width=&quot;100%&quot; cellspacing=&quot;0&quot; cellpadding=&quot;0&quot;&gt;\\n                &lt;tr valign=&quot;top&quot; align=&quot;left&quot;&gt;\\n                    \\n                    \\n                    \\t&lt;td width=&quot;100%&quot;&gt;\\n                    \\n                        &lt;b&gt;&lt;a href=&quot;https://apps.apple.com/kr/app/%EC%84%9C%EC%9A%B8%EC%8B%9C%EB%AF%BC%EC%B9%B4%EB%93%9C/id1318541802?uo=2&quot;&gt;\\xeb\\xb3\\xb8\\xec\\x9d\\xb8\\xec\\x9d\\xb8\\xec\\xa6\\x9d\\xec\\x9d\\xb4 \\xec\\x95\\x88\\xeb\\x8f\\xbc\\xec\\x9a\\x94&lt;/a&gt;&lt;/b&gt;&lt;br/&gt;\\n                        \\n                        \\n                        \\n                        \\n\\n                        \\n\\n                       &lt;font size=&quot;2&quot; face=&quot;Helvetica,Arial,Geneva,Swiss,SunSans-Regular&quot;&gt;\\n\\t\\t\\t\\t\\t\\t\\n                        &lt;/font&gt;\\n                    &lt;/td&gt;\\n                &lt;/tr&gt;\\n            &lt;/table&gt;\\n        &lt;/td&gt;\\n    &lt;/tr&gt;\\n    &lt;tr&gt;\\n        &lt;td&gt;\\n            \\n                &lt;font size=&quot;2&quot; face=&quot;Helvetica,Arial,Geneva,Swiss,SunSans-Regular&quot;&gt;&lt;br/&gt;\\xec\\x84\\xb8\\xec\\x85\\x98\\xeb\\xa7\\x8c\\xeb\\xa3\\x8c \\xec\\xbf\\xa0\\xed\\x82\\xa4\\xec\\xa0\\x9c\\xed\\x95\\x9c\\xed\\x92\\x80\\xea\\xb8\\xb0?&lt;br/&gt;\\xec\\x9d\\xb4\\xea\\xb1\\xb0 pass\\xec\\x96\\xb4\\xed\\x94\\x8c\\xeb\\xa1\\x9c \\xec\\x95\\x88\\xeb\\x84\\x98\\xec\\x96\\xb4\\xea\\xb0\\x80\\xeb\\x8d\\x94\\xeb\\x8b\\x88 \\xea\\xb3\\x84\\xec\\x86\\x8d\\xeb\\x96\\xa0\\xec\\x84\\x9c&lt;br/&gt;\\xeb\\xac\\xb8\\xec\\x9e\\x90\\xeb\\xa1\\x9c \\xeb\\xb3\\xb8\\xec\\x9d\\xb8\\xed\\x99\\x95\\xec\\x9d\\xb8 \\xed\\x95\\x98\\xeb\\x8a\\x94\\xea\\xb1\\xb8\\xeb\\xa1\\x9c \\xeb\\xb0\\x94\\xea\\xbf\\x94\\xec\\x84\\x9c \\xed\\x95\\x98\\xeb\\x8b\\x88 \\xeb\\x90\\x98\\xea\\xb8\\xb4\\xed\\x95\\x9c\\xeb\\x8d\\xb0&lt;br/&gt;\\xec\\x97\\x85\\xeb\\x8e\\x83\\xec\\xa2\\x80 \\xed\\x95\\xb4\\xec\\xa3\\xbc\\xec\\x84\\xb8\\xec\\x9a\\x94&lt;br/&gt;3\\xec\\x9b\\x94\\xeb\\xb6\\x80\\xed\\x84\\xb0 \\xed\\x94\\xbc\\xeb\\x93\\x9c\\xeb\\xb0\\xb1 \\xeb\\xb0\\x9b\\xec\\x9c\\xbc\\xec\\x8b\\xa0\\xea\\xb1\\xb0\\xea\\xb0\\x99\\xeb\\x8d\\x98\\xeb\\x8d\\xb0&lt;/font&gt;&lt;br/&gt;\\n            \\n            \\n            \\n        &lt;/td&gt;\\n    &lt;/tr&gt;\\n&lt;/table&gt;\\n</content>\\n\\t\\t\\t\\t\\n\\t\\t\\t</entry>\\n\\t\\t\\n\\t\\t\\t<entry>\\n\\t\\t\\t\\t\\n\\t\\t\\t\\t\\t<id>7747750546</id>\\n\\t\\t\\t\\t\\n\\t\\t\\t\\t\\t<title>\\xec\\x9d\\xb8\\xec\\xa6\\x9d\\xec\\x98\\xa4\\xeb\\xa5\\x98</title>\\n\\t\\t\\t\\t\\n\\t\\t\\t\\t\\t<content type=\"text\">\\xea\\xb0\\x80\\xec\\x9e\\x85\\xec\\x9d\\xb8\\xec\\xa6\\x9d\\xeb\\x8f\\x84 \\xec\\x95\\x88\\xeb\\x90\\x98\\xea\\xb3\\xa0, \\xeb\\xb3\\x84\\xec\\xa0\\x90 1\\xec\\xa0\\x90\\xeb\\x8f\\x84 \\xec\\x95\\x84\\xea\\xb9\\x8c\\xec\\x9b\\x80\\n\\xec\\x84\\x9c\\xec\\x9a\\xb8\\xec\\x8b\\x9c\\xec\\x97\\x90\\xec\\x84\\x9c \\xec\\x96\\xb4\\xed\\x94\\x8c\\xeb\\xa7\\x8c\\xeb\\x93\\xa4\\xec\\x96\\xb4 \\xeb\\x86\\x93\\xea\\xb3\\xa0 \\xeb\\xb0\\xa9\\xec\\xb9\\x98\\xed\\x95\\x98\\xeb\\x8a\\x94\\xeb\\x93\\xaf</content>\\n\\t\\t\\t\\t\\n\\t\\t\\t\\t\\t<im:contentType term=\"Application\" label=\"\\xec\\x95\\xb1\"/>\\n\\t\\t\\t\\t\\n\\t\\t\\t\\t\\t<im:voteSum>0</im:voteSum>\\n\\t\\t\\t\\t\\n\\t\\t\\t\\t\\t<im:voteCount>0</im:voteCount>\\n\\t\\t\\t\\t\\n\\t\\t\\t\\t\\t<im:rating>1</im:rating>\\n\\t\\t\\t\\t\\n\\t\\t\\t\\t\\t<updated>2021-08-29T05:11:44-07:00</updated>\\n\\t\\t\\t\\t\\n\\t\\t\\t\\t\\t<im:version>1.1.44</im:version>\\n\\t\\t\\t\\t\\n\\t\\t\\t\\t\\t<author><name>\\xe3\\x85\\xa3\\xec\\x95\\x84\\xeb\\xa3\\xa8\\xeb\\xa3\\xbd</name><uri>https://itunes.apple.com/kr/reviews/id454203120</uri></author>\\n\\t\\t\\t\\t\\n\\t\\t\\t\\t\\t<link rel=\"related\" href=\"https://itunes.apple.com/kr/review?id=1318541802&amp;type=Purple%20Software\"/>\\n\\t\\t\\t\\t\\n\\t\\t\\t\\t\\n\\t\\t\\t\\t\\t<content type=\"html\">&lt;table border=&quot;0&quot; width=&quot;100%&quot;&gt;\\n    &lt;tr&gt;\\n        &lt;td&gt;\\n            &lt;table border=&quot;0&quot; width=&quot;100%&quot; cellspacing=&quot;0&quot; cellpadding=&quot;0&quot;&gt;\\n                &lt;tr valign=&quot;top&quot; align=&quot;left&quot;&gt;\\n                    \\n                    \\n                    \\t&lt;td width=&quot;100%&quot;&gt;\\n                    \\n                        &lt;b&gt;&lt;a href=&quot;https://apps.apple.com/kr/app/%EC%84%9C%EC%9A%B8%EC%8B%9C%EB%AF%BC%EC%B9%B4%EB%93%9C/id1318541802?uo=2&quot;&gt;\\xec\\x9d\\xb8\\xec\\xa6\\x9d\\xec\\x98\\xa4\\xeb\\xa5\\x98&lt;/a&gt;&lt;/b&gt;&lt;br/&gt;\\n                        \\n                        \\n                        \\n                        \\n\\n                        \\n\\n                       &lt;font size=&quot;2&quot; face=&quot;Helvetica,Arial,Geneva,Swiss,SunSans-Regular&quot;&gt;\\n\\t\\t\\t\\t\\t\\t\\n                        &lt;/font&gt;\\n                    &lt;/td&gt;\\n                &lt;/tr&gt;\\n            &lt;/table&gt;\\n        &lt;/td&gt;\\n    &lt;/tr&gt;\\n    &lt;tr&gt;\\n        &lt;td&gt;\\n            \\n                &lt;font size=&quot;2&quot; face=&quot;Helvetica,Arial,Geneva,Swiss,SunSans-Regular&quot;&gt;&lt;br/&gt;\\xea\\xb0\\x80\\xec\\x9e\\x85\\xec\\x9d\\xb8\\xec\\xa6\\x9d\\xeb\\x8f\\x84 \\xec\\x95\\x88\\xeb\\x90\\x98\\xea\\xb3\\xa0, \\xeb\\xb3\\x84\\xec\\xa0\\x90 1\\xec\\xa0\\x90\\xeb\\x8f\\x84 \\xec\\x95\\x84\\xea\\xb9\\x8c\\xec\\x9b\\x80&lt;br/&gt;\\xec\\x84\\x9c\\xec\\x9a\\xb8\\xec\\x8b\\x9c\\xec\\x97\\x90\\xec\\x84\\x9c \\xec\\x96\\xb4\\xed\\x94\\x8c\\xeb\\xa7\\x8c\\xeb\\x93\\xa4\\xec\\x96\\xb4 \\xeb\\x86\\x93\\xea\\xb3\\xa0 \\xeb\\xb0\\xa9\\xec\\xb9\\x98\\xed\\x95\\x98\\xeb\\x8a\\x94\\xeb\\x93\\xaf&lt;/font&gt;&lt;br/&gt;\\n            \\n            \\n            \\n        &lt;/td&gt;\\n    &lt;/tr&gt;\\n&lt;/table&gt;\\n</content>\\n\\t\\t\\t\\t\\n\\t\\t\\t</entry>\\n\\t\\t\\n\\t\\t\\t<entry>\\n\\t\\t\\t\\t\\n\\t\\t\\t\\t\\t<id>7705774107</id>\\n\\t\\t\\t\\t\\n\\t\\t\\t\\t\\t<title>\\xeb\\x85\\xb8\\xec\\x9b\\x90\\xea\\xb5\\xac\\xeb\\xa6\\xbd\\xeb\\x8f\\x84\\xec\\x84\\x9c\\xea\\xb4\\x80 \\xed\\x86\\xb5\\xed\\x95\\xa9\\xed\\x9a\\x8c\\xec\\x9b\\x90\\xec\\xa6\\x9d \\xec\\xa0\\x95\\xed\\x9a\\x8c\\xec\\x9b\\x90 \\xea\\xb0\\x80\\xec\\x9e\\x85 \\xec\\x8b\\xa0\\xec\\xb2\\xad \\xeb\\xb2\\x84\\xed\\x8a\\xbc \\xec\\x95\\x88 \\xeb\\x88\\x8c\\xeb\\xa6\\xbc</title>\\n\\t\\t\\t\\t\\n\\t\\t\\t\\t\\t<content type=\"text\">\\xec\\x98\\xa4\\xeb\\x8a\\x98 \\xec\\x84\\x9c\\xec\\x9a\\xb8\\xec\\x8b\\x9c\\xeb\\xaf\\xbc\\xec\\xb9\\xb4\\xeb\\x93\\x9c \\xeb\\xb0\\x9c\\xea\\xb8\\x89\\xeb\\xb0\\x9b\\xea\\xb3\\xa0 \\xeb\\x85\\xb8\\xec\\x9b\\x90\\xea\\xb5\\xac \\xeb\\x8f\\x84\\xec\\x84\\x9c\\xea\\xb4\\x80 \\xed\\x86\\xb5\\xed\\x95\\xa9 \\xed\\x9a\\x8c\\xec\\x9b\\x90 \\xec\\xb9\\xb4\\xeb\\x93\\x9c \\xec\\xa0\\x95\\xed\\x9a\\x8c\\xec\\x9b\\x90 \\xea\\xb0\\x80\\xec\\x9e\\x85 \\xec\\x8b\\xa0\\xec\\xb2\\xad \\xed\\x95\\x98\\xeb\\xa0\\xa4\\xeb\\x8a\\x94\\xeb\\x8d\\xb0 \\xeb\\xaa\\xa8\\xeb\\x93\\xa0 \\xec\\xa1\\xb0\\xea\\xb1\\xb4 \\xec\\xb6\\xa9\\xec\\xa1\\xb1\\xed\\x95\\xb4\\xec\\x84\\x9c \\xeb\\xb2\\x84\\xed\\x8a\\xbc\\xec\\x9d\\xb4 \\xeb\\xb9\\xa8\\xea\\xb0\\x9b\\xea\\xb2\\x8c \\xeb\\x96\\xb4\\xeb\\x8a\\x94\\xeb\\x8d\\xb0\\xeb\\x8f\\x84 \\xeb\\x8b\\xa4\\xec\\x9d\\x8c \\xec\\xb0\\xbd\\xec\\x9c\\xbc\\xeb\\xa1\\x9c \\xec\\x95\\x88 \\xeb\\x84\\x98\\xec\\x96\\xb4\\xea\\xb0\\x91\\xeb\\x8b\\x88\\xeb\\x8b\\xa4. \\xec\\xa0\\x84\\xed\\x98\\x80 \\xeb\\xb2\\x84\\xed\\x8a\\xbc\\xec\\x9d\\xb4 \\xec\\x95\\x84\\xeb\\x8b\\x8c\\xea\\xb2\\x83 \\xec\\xb2\\x98\\xeb\\x9f\\xbc \\xec\\x83\\x81\\xed\\x98\\xb8 \\xec\\x9e\\x91\\xec\\x9a\\xa9\\xec\\x9d\\x84 \\xec\\x95\\x88\\xed\\x95\\xb4\\xec\\x9a\\x94</content>\\n\\t\\t\\t\\t\\n\\t\\t\\t\\t\\t<im:contentType term=\"Application\" label=\"\\xec\\x95\\xb1\"/>\\n\\t\\t\\t\\t\\n\\t\\t\\t\\t\\t<im:voteSum>0</im:voteSum>\\n\\t\\t\\t\\t\\n\\t\\t\\t\\t\\t<im:voteCount>0</im:voteCount>\\n\\t\\t\\t\\t\\n\\t\\t\\t\\t\\t<im:rating>3</im:rating>\\n\\t\\t\\t\\t\\n\\t\\t\\t\\t\\t<updated>2021-08-17T22:47:05-07:00</updated>\\n\\t\\t\\t\\t\\n\\t\\t\\t\\t\\t<im:version>1.1.44</im:version>\\n\\t\\t\\t\\t\\n\\t\\t\\t\\t\\t<author><name>\\xeb\\x89\\xb4\\xec\\xa0\\x80\\xec\\x9e\\x90\\xe3\\x85\\x90</name><uri>https://itunes.apple.com/kr/reviews/id553622761</uri></author>\\n\\t\\t\\t\\t\\n\\t\\t\\t\\t\\t<link rel=\"related\" href=\"https://itunes.apple.com/kr/review?id=1318541802&amp;type=Purple%20Software\"/>\\n\\t\\t\\t\\t\\n\\t\\t\\t\\t\\n\\t\\t\\t\\t\\t<content type=\"html\">&lt;table border=&quot;0&quot; width=&quot;100%&quot;&gt;\\n    &lt;tr&gt;\\n        &lt;td&gt;\\n            &lt;table border=&quot;0&quot; width=&quot;100%&quot; cellspacing=&quot;0&quot; cellpadding=&quot;0&quot;&gt;\\n                &lt;tr valign=&quot;top&quot; align=&quot;left&quot;&gt;\\n                    \\n                    \\n                    \\t&lt;td width=&quot;100%&quot;&gt;\\n                    \\n                        &lt;b&gt;&lt;a href=&quot;https://apps.apple.com/kr/app/%EC%84%9C%EC%9A%B8%EC%8B%9C%EB%AF%BC%EC%B9%B4%EB%93%9C/id1318541802?uo=2&quot;&gt;\\xeb\\x85\\xb8\\xec\\x9b\\x90\\xea\\xb5\\xac\\xeb\\xa6\\xbd\\xeb\\x8f\\x84\\xec\\x84\\x9c\\xea\\xb4\\x80 \\xed\\x86\\xb5\\xed\\x95\\xa9\\xed\\x9a\\x8c\\xec\\x9b\\x90\\xec\\xa6\\x9d \\xec\\xa0\\x95\\xed\\x9a\\x8c\\xec\\x9b\\x90 \\xea\\xb0\\x80\\xec\\x9e\\x85 \\xec\\x8b\\xa0\\xec\\xb2\\xad \\xeb\\xb2\\x84\\xed\\x8a\\xbc \\xec\\x95\\x88 \\xeb\\x88\\x8c\\xeb\\xa6\\xbc&lt;/a&gt;&lt;/b&gt;&lt;br/&gt;\\n                        \\n                        \\n                        \\n                        \\n\\n                        \\n\\n                       &lt;font size=&quot;2&quot; face=&quot;Helvetica,Arial,Geneva,Swiss,SunSans-Regular&quot;&gt;\\n\\t\\t\\t\\t\\t\\t\\n                        &lt;/font&gt;\\n                    &lt;/td&gt;\\n                &lt;/tr&gt;\\n            &lt;/table&gt;\\n        &lt;/td&gt;\\n    &lt;/tr&gt;\\n    &lt;tr&gt;\\n        &lt;td&gt;\\n            \\n                &lt;font size=&quot;2&quot; face=&quot;Helvetica,Arial,Geneva,Swiss,SunSans-Regular&quot;&gt;&lt;br/&gt;\\xec\\x98\\xa4\\xeb\\x8a\\x98 \\xec\\x84\\x9c\\xec\\x9a\\xb8\\xec\\x8b\\x9c\\xeb\\xaf\\xbc\\xec\\xb9\\xb4\\xeb\\x93\\x9c \\xeb\\xb0\\x9c\\xea\\xb8\\x89\\xeb\\xb0\\x9b\\xea\\xb3\\xa0 \\xeb\\x85\\xb8\\xec\\x9b\\x90\\xea\\xb5\\xac \\xeb\\x8f\\x84\\xec\\x84\\x9c\\xea\\xb4\\x80 \\xed\\x86\\xb5\\xed\\x95\\xa9 \\xed\\x9a\\x8c\\xec\\x9b\\x90 \\xec\\xb9\\xb4\\xeb\\x93\\x9c \\xec\\xa0\\x95\\xed\\x9a\\x8c\\xec\\x9b\\x90 \\xea\\xb0\\x80\\xec\\x9e\\x85 \\xec\\x8b\\xa0\\xec\\xb2\\xad \\xed\\x95\\x98\\xeb\\xa0\\xa4\\xeb\\x8a\\x94\\xeb\\x8d\\xb0 \\xeb\\xaa\\xa8\\xeb\\x93\\xa0 \\xec\\xa1\\xb0\\xea\\xb1\\xb4 \\xec\\xb6\\xa9\\xec\\xa1\\xb1\\xed\\x95\\xb4\\xec\\x84\\x9c \\xeb\\xb2\\x84\\xed\\x8a\\xbc\\xec\\x9d\\xb4 \\xeb\\xb9\\xa8\\xea\\xb0\\x9b\\xea\\xb2\\x8c \\xeb\\x96\\xb4\\xeb\\x8a\\x94\\xeb\\x8d\\xb0\\xeb\\x8f\\x84 \\xeb\\x8b\\xa4\\xec\\x9d\\x8c \\xec\\xb0\\xbd\\xec\\x9c\\xbc\\xeb\\xa1\\x9c \\xec\\x95\\x88 \\xeb\\x84\\x98\\xec\\x96\\xb4\\xea\\xb0\\x91\\xeb\\x8b\\x88\\xeb\\x8b\\xa4. \\xec\\xa0\\x84\\xed\\x98\\x80 \\xeb\\xb2\\x84\\xed\\x8a\\xbc\\xec\\x9d\\xb4 \\xec\\x95\\x84\\xeb\\x8b\\x8c\\xea\\xb2\\x83 \\xec\\xb2\\x98\\xeb\\x9f\\xbc \\xec\\x83\\x81\\xed\\x98\\xb8 \\xec\\x9e\\x91\\xec\\x9a\\xa9\\xec\\x9d\\x84 \\xec\\x95\\x88\\xed\\x95\\xb4\\xec\\x9a\\x94&lt;/font&gt;&lt;br/&gt;\\n            \\n            \\n            \\n        &lt;/td&gt;\\n    &lt;/tr&gt;\\n&lt;/table&gt;\\n</content>\\n\\t\\t\\t\\t\\n\\t\\t\\t</entry>\\n\\t\\t\\n\\t\\t\\t<entry>\\n\\t\\t\\t\\t\\n\\t\\t\\t\\t\\t<id>7629615533</id>\\n\\t\\t\\t\\t\\n\\t\\t\\t\\t\\t<title>\\xec\\xa0\\x80\\xeb\\x8a\\x94 \\xea\\xb0\\x80\\xec\\x9e\\x85\\xec\\xa0\\x88\\xec\\xb0\\xa8\\xec\\x97\\x90\\xec\\x84\\x9c \\xec\\x9d\\xb8\\xec\\xa6\\x9d\\xec\\xa1\\xb0\\xec\\xb0\\xa8 \\xeb\\xaa\\xbb\\xed\\x96\\x88\\xec\\x8a\\xb5\\xeb\\x8b\\x88\\xeb\\x8b\\xa4</title>\\n\\t\\t\\t\\t\\n\\t\\t\\t\\t\\t<content type=\"text\">\\xea\\xb0\\x80\\xec\\x9e\\x85\\xed\\x95\\x98\\xea\\xb8\\xb0\\xeb\\xa5\\xbc \\xeb\\x88\\x84\\xeb\\xa3\\xa8\\xea\\xb3\\xa0 \\xec\\x9d\\xb8\\xec\\xa6\\x9d\\xec\\xa0\\x88\\xec\\xb0\\xa8\\xeb\\xa5\\xbc \\xec\\x9c\\x84\\xed\\x95\\xb4 \\xed\\x9c\\xb4\\xeb\\x8c\\x80\\xed\\x8f\\xb0 \\xec\\x9d\\xb8\\xec\\xa6\\x9d\\xed\\x95\\x98\\xea\\xb8\\xb0\\xeb\\xa5\\xbc \\xed\\x86\\xb5\\xed\\x95\\xb4 \\xeb\\xb0\\x9b\\xec\\x9d\\x80 \\xeb\\xac\\xb8\\xec\\x9e\\x90\\xec\\x9d\\x98 \\xeb\\xb2\\x88\\xed\\x98\\xb8\\xea\\xb9\\x8c\\xec\\xa7\\x80 \\xec\\x9e\\x85\\xeb\\xa0\\xa5\\xed\\x95\\x98\\xea\\xb3\\xa0 \\xeb\\x82\\x98\\xeb\\xa9\\xb4 \\xea\\xb7\\xb8\\xeb\\x83\\xa5 \\xea\\xb9\\x8c\\xeb\\xa7\\x8c\\xec\\x83\\x89\\xec\\x9d\\xb4 \\xeb\\x96\\xa0\\xec\\x9a\\x94. \\xea\\xb7\\xb8\\xea\\xb2\\x83\\xeb\\x8f\\x84 \\xec\\x97\\xb0\\xec\\x86\\x8d 3\\xeb\\xb2\\x88\\xec\\x9d\\x84\\xec\\x9a\\x94! \\n\\xec\\x9d\\xb8\\xec\\xa6\\x9d\\xeb\\xb6\\x80\\xed\\x84\\xb0 \\xec\\x95\\x88\\xeb\\x90\\x98\\xeb\\x8a\\x94\\xeb\\x8d\\xb0 \\xeb\\x8b\\xa4\\xeb\\xa5\\xb8 \\xea\\xb8\\xb0\\xeb\\x8a\\xa5\\xec\\x9d\\x80 \\xec\\x96\\xbc\\xeb\\xa7\\x88\\xeb\\x82\\x98 \\xed\\x97\\x98\\xeb\\x82\\x9c\\xed\\x95\\xa0\\xec\\xa7\\x80.. \\xec\\xb0\\xbe\\xea\\xb3\\xa0\\xeb\\xa1\\x9c ios \\xec\\x82\\xac\\xec\\x9a\\xa9\\xed\\x95\\x98\\xea\\xb3\\xa0 \\xec\\x9e\\x88\\xec\\x8a\\xb5\\xeb\\x8b\\x88\\xeb\\x8b\\xa4.</content>\\n\\t\\t\\t\\t\\n\\t\\t\\t\\t\\t<im:contentType term=\"Application\" label=\"\\xec\\x95\\xb1\"/>\\n\\t\\t\\t\\t\\n\\t\\t\\t\\t\\t<im:voteSum>0</im:voteSum>\\n\\t\\t\\t\\t\\n\\t\\t\\t\\t\\t<im:voteCount>0</im:voteCount>\\n\\t\\t\\t\\t\\n\\t\\t\\t\\t\\t<im:rating>1</im:rating>\\n\\t\\t\\t\\t\\n\\t\\t\\t\\t\\t<updated>2021-07-28T19:22:43-07:00</updated>\\n\\t\\t\\t\\t\\n\\t\\t\\t\\t\\t<im:version>1.1.44</im:version>\\n\\t\\t\\t\\t\\n\\t\\t\\t\\t\\t<author><name>jjsuk</name><uri>https://itunes.apple.com/kr/reviews/id531114040</uri></author>\\n\\t\\t\\t\\t\\n\\t\\t\\t\\t\\t<link rel=\"related\" href=\"https://itunes.apple.com/kr/review?id=1318541802&amp;type=Purple%20Software\"/>\\n\\t\\t\\t\\t\\n\\t\\t\\t\\t\\n\\t\\t\\t\\t\\t<content type=\"html\">&lt;table border=&quot;0&quot; width=&quot;100%&quot;&gt;\\n    &lt;tr&gt;\\n        &lt;td&gt;\\n            &lt;table border=&quot;0&quot; width=&quot;100%&quot; cellspacing=&quot;0&quot; cellpadding=&quot;0&quot;&gt;\\n                &lt;tr valign=&quot;top&quot; align=&quot;left&quot;&gt;\\n                    \\n                    \\n                    \\t&lt;td width=&quot;100%&quot;&gt;\\n                    \\n                        &lt;b&gt;&lt;a href=&quot;https://apps.apple.com/kr/app/%EC%84%9C%EC%9A%B8%EC%8B%9C%EB%AF%BC%EC%B9%B4%EB%93%9C/id1318541802?uo=2&quot;&gt;\\xec\\xa0\\x80\\xeb\\x8a\\x94 \\xea\\xb0\\x80\\xec\\x9e\\x85\\xec\\xa0\\x88\\xec\\xb0\\xa8\\xec\\x97\\x90\\xec\\x84\\x9c \\xec\\x9d\\xb8\\xec\\xa6\\x9d\\xec\\xa1\\xb0\\xec\\xb0\\xa8 \\xeb\\xaa\\xbb\\xed\\x96\\x88\\xec\\x8a\\xb5\\xeb\\x8b\\x88\\xeb\\x8b\\xa4&lt;/a&gt;&lt;/b&gt;&lt;br/&gt;\\n                        \\n                        \\n                        \\n                        \\n\\n                        \\n\\n                       &lt;font size=&quot;2&quot; face=&quot;Helvetica,Arial,Geneva,Swiss,SunSans-Regular&quot;&gt;\\n\\t\\t\\t\\t\\t\\t\\n                        &lt;/font&gt;\\n                    &lt;/td&gt;\\n                &lt;/tr&gt;\\n            &lt;/table&gt;\\n        &lt;/td&gt;\\n    &lt;/tr&gt;\\n    &lt;tr&gt;\\n        &lt;td&gt;\\n            \\n                &lt;font size=&quot;2&quot; face=&quot;Helvetica,Arial,Geneva,Swiss,SunSans-Regular&quot;&gt;&lt;br/&gt;\\xea\\xb0\\x80\\xec\\x9e\\x85\\xed\\x95\\x98\\xea\\xb8\\xb0\\xeb\\xa5\\xbc \\xeb\\x88\\x84\\xeb\\xa3\\xa8\\xea\\xb3\\xa0 \\xec\\x9d\\xb8\\xec\\xa6\\x9d\\xec\\xa0\\x88\\xec\\xb0\\xa8\\xeb\\xa5\\xbc \\xec\\x9c\\x84\\xed\\x95\\xb4 \\xed\\x9c\\xb4\\xeb\\x8c\\x80\\xed\\x8f\\xb0 \\xec\\x9d\\xb8\\xec\\xa6\\x9d\\xed\\x95\\x98\\xea\\xb8\\xb0\\xeb\\xa5\\xbc \\xed\\x86\\xb5\\xed\\x95\\xb4 \\xeb\\xb0\\x9b\\xec\\x9d\\x80 \\xeb\\xac\\xb8\\xec\\x9e\\x90\\xec\\x9d\\x98 \\xeb\\xb2\\x88\\xed\\x98\\xb8\\xea\\xb9\\x8c\\xec\\xa7\\x80 \\xec\\x9e\\x85\\xeb\\xa0\\xa5\\xed\\x95\\x98\\xea\\xb3\\xa0 \\xeb\\x82\\x98\\xeb\\xa9\\xb4 \\xea\\xb7\\xb8\\xeb\\x83\\xa5 \\xea\\xb9\\x8c\\xeb\\xa7\\x8c\\xec\\x83\\x89\\xec\\x9d\\xb4 \\xeb\\x96\\xa0\\xec\\x9a\\x94. \\xea\\xb7\\xb8\\xea\\xb2\\x83\\xeb\\x8f\\x84 \\xec\\x97\\xb0\\xec\\x86\\x8d 3\\xeb\\xb2\\x88\\xec\\x9d\\x84\\xec\\x9a\\x94! &lt;br/&gt;\\xec\\x9d\\xb8\\xec\\xa6\\x9d\\xeb\\xb6\\x80\\xed\\x84\\xb0 \\xec\\x95\\x88\\xeb\\x90\\x98\\xeb\\x8a\\x94\\xeb\\x8d\\xb0 \\xeb\\x8b\\xa4\\xeb\\xa5\\xb8 \\xea\\xb8\\xb0\\xeb\\x8a\\xa5\\xec\\x9d\\x80 \\xec\\x96\\xbc\\xeb\\xa7\\x88\\xeb\\x82\\x98 \\xed\\x97\\x98\\xeb\\x82\\x9c\\xed\\x95\\xa0\\xec\\xa7\\x80.. \\xec\\xb0\\xbe\\xea\\xb3\\xa0\\xeb\\xa1\\x9c ios \\xec\\x82\\xac\\xec\\x9a\\xa9\\xed\\x95\\x98\\xea\\xb3\\xa0 \\xec\\x9e\\x88\\xec\\x8a\\xb5\\xeb\\x8b\\x88\\xeb\\x8b\\xa4.&lt;/font&gt;&lt;br/&gt;\\n            \\n            \\n            \\n        &lt;/td&gt;\\n    &lt;/tr&gt;\\n&lt;/table&gt;\\n</content>\\n\\t\\t\\t\\t\\n\\t\\t\\t</entry>\\n\\t\\t\\n\\t\\t\\t<entry>\\n\\t\\t\\t\\t\\n\\t\\t\\t\\t\\t<id>7596998884</id>\\n\\t\\t\\t\\t\\n\\t\\t\\t\\t\\t<title>\\xec\\x95\\x88\\xeb\\x90\\xa9\\xeb\\x8b\\x88\\xeb\\x8b\\xa4.</title>\\n\\t\\t\\t\\t\\n\\t\\t\\t\\t\\t<content type=\"text\">\\xec\\x9d\\xb4\\xea\\xb1\\xb0 \\xeb\\x88\\x84\\xea\\xb0\\x80 \\xea\\xb0\\x9c\\xeb\\xb0\\x9c\\xed\\x96\\x88\\xeb\\x8a\\x94\\xec\\xa7\\x80\\xeb\\x8a\\x94 \\xeb\\xaa\\xa8\\xeb\\xa5\\xb4\\xea\\xb2\\xa0\\xec\\xa7\\x80\\xeb\\xa7\\x8c\\n\\xeb\\x8c\\x80\\xeb\\x8b\\xa8\\xed\\x95\\x98\\xec\\x8b\\x9c\\xeb\\x84\\xa4\\xec\\x9a\\x94. \\xec\\x9d\\xb8\\xec\\xa6\\x9d\\xeb\\x8f\\x84 \\xec\\x95\\x88\\xeb\\x90\\x98\\xea\\xb2\\x8c \\xeb\\xa7\\x8c\\xeb\\x93\\xa4\\xeb\\x8b\\xa4\\xeb\\x8b\\x88...</content>\\n\\t\\t\\t\\t\\n\\t\\t\\t\\t\\t<im:contentType term=\"Application\" label=\"\\xec\\x95\\xb1\"/>\\n\\t\\t\\t\\t\\n\\t\\t\\t\\t\\t<im:voteSum>0</im:voteSum>\\n\\t\\t\\t\\t\\n\\t\\t\\t\\t\\t<im:voteCount>0</im:voteCount>\\n\\t\\t\\t\\t\\n\\t\\t\\t\\t\\t<im:rating>1</im:rating>\\n\\t\\t\\t\\t\\n\\t\\t\\t\\t\\t<updated>2021-07-20T00:41:13-07:00</updated>\\n\\t\\t\\t\\t\\n\\t\\t\\t\\t\\t<im:version>1.1.44</im:version>\\n\\t\\t\\t\\t\\n\\t\\t\\t\\t\\t<author><name>\\xeb\\x82\\x98\\xed\\x95\\x9c\\xed\\x85\\x8c\\xeb\\xb6\\x88\\xeb\\xa7\\x8c\\xec\\x9e\\x88\\xeb\\x8b\\x88?</name><uri>https://itunes.apple.com/kr/reviews/id633613734</uri></author>\\n\\t\\t\\t\\t\\n\\t\\t\\t\\t\\t<link rel=\"related\" href=\"https://itunes.apple.com/kr/review?id=1318541802&amp;type=Purple%20Software\"/>\\n\\t\\t\\t\\t\\n\\t\\t\\t\\t\\n\\t\\t\\t\\t\\t<content type=\"html\">&lt;table border=&quot;0&quot; width=&quot;100%&quot;&gt;\\n    &lt;tr&gt;\\n        &lt;td&gt;\\n            &lt;table border=&quot;0&quot; width=&quot;100%&quot; cellspacing=&quot;0&quot; cellpadding=&quot;0&quot;&gt;\\n                &lt;tr valign=&quot;top&quot; align=&quot;left&quot;&gt;\\n                    \\n                    \\n                    \\t&lt;td width=&quot;100%&quot;&gt;\\n                    \\n                        &lt;b&gt;&lt;a href=&quot;https://apps.apple.com/kr/app/%EC%84%9C%EC%9A%B8%EC%8B%9C%EB%AF%BC%EC%B9%B4%EB%93%9C/id1318541802?uo=2&quot;&gt;\\xec\\x95\\x88\\xeb\\x90\\xa9\\xeb\\x8b\\x88\\xeb\\x8b\\xa4.&lt;/a&gt;&lt;/b&gt;&lt;br/&gt;\\n                        \\n                        \\n                        \\n                        \\n\\n                        \\n\\n                       &lt;font size=&quot;2&quot; face=&quot;Helvetica,Arial,Geneva,Swiss,SunSans-Regular&quot;&gt;\\n\\t\\t\\t\\t\\t\\t\\n                        &lt;/font&gt;\\n                    &lt;/td&gt;\\n                &lt;/tr&gt;\\n            &lt;/table&gt;\\n        &lt;/td&gt;\\n    &lt;/tr&gt;\\n    &lt;tr&gt;\\n        &lt;td&gt;\\n            \\n                &lt;font size=&quot;2&quot; face=&quot;Helvetica,Arial,Geneva,Swiss,SunSans-Regular&quot;&gt;&lt;br/&gt;\\xec\\x9d\\xb4\\xea\\xb1\\xb0 \\xeb\\x88\\x84\\xea\\xb0\\x80 \\xea\\xb0\\x9c\\xeb\\xb0\\x9c\\xed\\x96\\x88\\xeb\\x8a\\x94\\xec\\xa7\\x80\\xeb\\x8a\\x94 \\xeb\\xaa\\xa8\\xeb\\xa5\\xb4\\xea\\xb2\\xa0\\xec\\xa7\\x80\\xeb\\xa7\\x8c&lt;br/&gt;\\xeb\\x8c\\x80\\xeb\\x8b\\xa8\\xed\\x95\\x98\\xec\\x8b\\x9c\\xeb\\x84\\xa4\\xec\\x9a\\x94. \\xec\\x9d\\xb8\\xec\\xa6\\x9d\\xeb\\x8f\\x84 \\xec\\x95\\x88\\xeb\\x90\\x98\\xea\\xb2\\x8c \\xeb\\xa7\\x8c\\xeb\\x93\\xa4\\xeb\\x8b\\xa4\\xeb\\x8b\\x88...&lt;/font&gt;&lt;br/&gt;\\n            \\n            \\n            \\n        &lt;/td&gt;\\n    &lt;/tr&gt;\\n&lt;/table&gt;\\n</content>\\n\\t\\t\\t\\t\\n\\t\\t\\t</entry>\\n\\t\\t\\n\\t\\t\\t<entry>\\n\\t\\t\\t\\t\\n\\t\\t\\t\\t\\t<id>7574679590</id>\\n\\t\\t\\t\\t\\n\\t\\t\\t\\t\\t<title>\\xea\\xb5\\xac\\xeb\\xa0\\xa4\\xec\\x9a\\x94</title>\\n\\t\\t\\t\\t\\n\\t\\t\\t\\t\\t<content type=\"text\">\\xed\\x9a\\x8c\\xec\\x9b\\x90\\xea\\xb0\\x80\\xec\\x9e\\x85\\xeb\\xb6\\x80\\xed\\x84\\xb0 \\xec\\x95\\x88\\xeb\\x90\\x98\\xeb\\x84\\xa4\\xec\\x9a\\x94 \\xe3\\x85\\xa0\\xe3\\x85\\xa0 \\xec\\x95\\x84\\xec\\x9d\\xb4\\xea\\xb3\\xa0 \\xeb\\x82\\xb4 \\xec\\x84\\xb8\\xea\\xb8\\x88 \\xe3\\x85\\xa0\\xe3\\x85\\xa0</content>\\n\\t\\t\\t\\t\\n\\t\\t\\t\\t\\t<im:contentType term=\"Application\" label=\"\\xec\\x95\\xb1\"/>\\n\\t\\t\\t\\t\\n\\t\\t\\t\\t\\t<im:voteSum>0</im:voteSum>\\n\\t\\t\\t\\t\\n\\t\\t\\t\\t\\t<im:voteCount>0</im:voteCount>\\n\\t\\t\\t\\t\\n\\t\\t\\t\\t\\t<im:rating>1</im:rating>\\n\\t\\t\\t\\t\\n\\t\\t\\t\\t\\t<updated>2021-07-14T01:14:34-07:00</updated>\\n\\t\\t\\t\\t\\n\\t\\t\\t\\t\\t<im:version>1.1.44</im:version>\\n\\t\\t\\t\\t\\n\\t\\t\\t\\t\\t<author><name>\\xec\\x97\\xac\\xea\\xb8\\xb0\\xec\\x96\\xb4\\xeb\\x95\\x8c39</name><uri>https://itunes.apple.com/kr/reviews/id229086436</uri></author>\\n\\t\\t\\t\\t\\n\\t\\t\\t\\t\\t<link rel=\"related\" href=\"https://itunes.apple.com/kr/review?id=1318541802&amp;type=Purple%20Software\"/>\\n\\t\\t\\t\\t\\n\\t\\t\\t\\t\\n\\t\\t\\t\\t\\t<content type=\"html\">&lt;table border=&quot;0&quot; width=&quot;100%&quot;&gt;\\n    &lt;tr&gt;\\n        &lt;td&gt;\\n            &lt;table border=&quot;0&quot; width=&quot;100%&quot; cellspacing=&quot;0&quot; cellpadding=&quot;0&quot;&gt;\\n                &lt;tr valign=&quot;top&quot; align=&quot;left&quot;&gt;\\n                    \\n                    \\n                    \\t&lt;td width=&quot;100%&quot;&gt;\\n                    \\n                        &lt;b&gt;&lt;a href=&quot;https://apps.apple.com/kr/app/%EC%84%9C%EC%9A%B8%EC%8B%9C%EB%AF%BC%EC%B9%B4%EB%93%9C/id1318541802?uo=2&quot;&gt;\\xea\\xb5\\xac\\xeb\\xa0\\xa4\\xec\\x9a\\x94&lt;/a&gt;&lt;/b&gt;&lt;br/&gt;\\n                        \\n                        \\n                        \\n                        \\n\\n                        \\n\\n                       &lt;font size=&quot;2&quot; face=&quot;Helvetica,Arial,Geneva,Swiss,SunSans-Regular&quot;&gt;\\n\\t\\t\\t\\t\\t\\t\\n                        &lt;/font&gt;\\n                    &lt;/td&gt;\\n                &lt;/tr&gt;\\n            &lt;/table&gt;\\n        &lt;/td&gt;\\n    &lt;/tr&gt;\\n    &lt;tr&gt;\\n        &lt;td&gt;\\n            \\n                &lt;font size=&quot;2&quot; face=&quot;Helvetica,Arial,Geneva,Swiss,SunSans-Regular&quot;&gt;&lt;br/&gt;\\xed\\x9a\\x8c\\xec\\x9b\\x90\\xea\\xb0\\x80\\xec\\x9e\\x85\\xeb\\xb6\\x80\\xed\\x84\\xb0 \\xec\\x95\\x88\\xeb\\x90\\x98\\xeb\\x84\\xa4\\xec\\x9a\\x94 \\xe3\\x85\\xa0\\xe3\\x85\\xa0 \\xec\\x95\\x84\\xec\\x9d\\xb4\\xea\\xb3\\xa0 \\xeb\\x82\\xb4 \\xec\\x84\\xb8\\xea\\xb8\\x88 \\xe3\\x85\\xa0\\xe3\\x85\\xa0&lt;/font&gt;&lt;br/&gt;\\n            \\n            \\n            \\n        &lt;/td&gt;\\n    &lt;/tr&gt;\\n&lt;/table&gt;\\n</content>\\n\\t\\t\\t\\t\\n\\t\\t\\t</entry>\\n\\t\\t\\n\\t\\t\\t<entry>\\n\\t\\t\\t\\t\\n\\t\\t\\t\\t\\t<id>7381430536</id>\\n\\t\\t\\t\\t\\n\\t\\t\\t\\t\\t<title>\\xeb\\xb0\\x9c\\xea\\xb8\\x89\\xed\\x95\\x98\\xea\\xb8\\xb0</title>\\n\\t\\t\\t\\t\\n\\t\\t\\t\\t\\t<content type=\"text\">\\xec\\x84\\x9c\\xec\\x9a\\xb8\\xec\\x8b\\x9c\\xeb\\xaf\\xbc\\xec\\xb9\\xb4\\xeb\\x93\\x9c \\xeb\\xb0\\x9c\\xea\\xb8\\x89\\xed\\x95\\x98\\xea\\xb8\\xb0\\xeb\\xb2\\x84\\xed\\x8a\\xbc\\xec\\x9d\\x84 \\xeb\\x88\\x84\\xeb\\xa5\\xb4\\xeb\\xa9\\xb4 \\xe2\\x80\\x9c\\xec\\xb2\\x98\\xeb\\xa6\\xac\\xec\\xa4\\x91 \\xec\\x97\\x90\\xeb\\x9f\\xac\\xea\\xb0\\x80 \\xeb\\xb0\\x9c\\xec\\x83\\x9d\\xed\\x95\\x98\\xec\\x98\\x80\\xec\\x8a\\xb5\\xeb\\x8b\\x88\\xeb\\x8b\\xa4\\xe2\\x80\\x9d\\xeb\\x9d\\xbc\\xea\\xb3\\xa0\\xeb\\xa7\\x8c \\xeb\\x9c\\xa8\\xea\\xb3\\xa0 \\xec\\xa7\\x84\\xed\\x96\\x89\\xec\\x9d\\xb4 \\xec\\x95\\x88\\xeb\\x8f\\xbc\\xec\\x9a\\x94</content>\\n\\t\\t\\t\\t\\n\\t\\t\\t\\t\\t<im:contentType term=\"Application\" label=\"\\xec\\x95\\xb1\"/>\\n\\t\\t\\t\\t\\n\\t\\t\\t\\t\\t<im:voteSum>0</im:voteSum>\\n\\t\\t\\t\\t\\n\\t\\t\\t\\t\\t<im:voteCount>0</im:voteCount>\\n\\t\\t\\t\\t\\n\\t\\t\\t\\t\\t<im:rating>3</im:rating>\\n\\t\\t\\t\\t\\n\\t\\t\\t\\t\\t<updated>2021-05-24T01:02:03-07:00</updated>\\n\\t\\t\\t\\t\\n\\t\\t\\t\\t\\t<im:version>1.1.44</im:version>\\n\\t\\t\\t\\t\\n\\t\\t\\t\\t\\t<author><name>\\xec\\xa5\\xac\\xec\\xa5\\xac\\xeb\\x9e\\x9c\\xeb\\x93\\x9c</name><uri>https://itunes.apple.com/kr/reviews/id1058491648</uri></author>\\n\\t\\t\\t\\t\\n\\t\\t\\t\\t\\t<link rel=\"related\" href=\"https://itunes.apple.com/kr/review?id=1318541802&amp;type=Purple%20Software\"/>\\n\\t\\t\\t\\t\\n\\t\\t\\t\\t\\n\\t\\t\\t\\t\\t<content type=\"html\">&lt;table border=&quot;0&quot; width=&quot;100%&quot;&gt;\\n    &lt;tr&gt;\\n        &lt;td&gt;\\n            &lt;table border=&quot;0&quot; width=&quot;100%&quot; cellspacing=&quot;0&quot; cellpadding=&quot;0&quot;&gt;\\n                &lt;tr valign=&quot;top&quot; align=&quot;left&quot;&gt;\\n                    \\n                    \\n                    \\t&lt;td width=&quot;100%&quot;&gt;\\n                    \\n                        &lt;b&gt;&lt;a href=&quot;https://apps.apple.com/kr/app/%EC%84%9C%EC%9A%B8%EC%8B%9C%EB%AF%BC%EC%B9%B4%EB%93%9C/id1318541802?uo=2&quot;&gt;\\xeb\\xb0\\x9c\\xea\\xb8\\x89\\xed\\x95\\x98\\xea\\xb8\\xb0&lt;/a&gt;&lt;/b&gt;&lt;br/&gt;\\n                        \\n                        \\n                        \\n                        \\n\\n                        \\n\\n                       &lt;font size=&quot;2&quot; face=&quot;Helvetica,Arial,Geneva,Swiss,SunSans-Regular&quot;&gt;\\n\\t\\t\\t\\t\\t\\t\\n                        &lt;/font&gt;\\n                    &lt;/td&gt;\\n                &lt;/tr&gt;\\n            &lt;/table&gt;\\n        &lt;/td&gt;\\n    &lt;/tr&gt;\\n    &lt;tr&gt;\\n        &lt;td&gt;\\n            \\n                &lt;font size=&quot;2&quot; face=&quot;Helvetica,Arial,Geneva,Swiss,SunSans-Regular&quot;&gt;&lt;br/&gt;\\xec\\x84\\x9c\\xec\\x9a\\xb8\\xec\\x8b\\x9c\\xeb\\xaf\\xbc\\xec\\xb9\\xb4\\xeb\\x93\\x9c \\xeb\\xb0\\x9c\\xea\\xb8\\x89\\xed\\x95\\x98\\xea\\xb8\\xb0\\xeb\\xb2\\x84\\xed\\x8a\\xbc\\xec\\x9d\\x84 \\xeb\\x88\\x84\\xeb\\xa5\\xb4\\xeb\\xa9\\xb4 \\xe2\\x80\\x9c\\xec\\xb2\\x98\\xeb\\xa6\\xac\\xec\\xa4\\x91 \\xec\\x97\\x90\\xeb\\x9f\\xac\\xea\\xb0\\x80 \\xeb\\xb0\\x9c\\xec\\x83\\x9d\\xed\\x95\\x98\\xec\\x98\\x80\\xec\\x8a\\xb5\\xeb\\x8b\\x88\\xeb\\x8b\\xa4\\xe2\\x80\\x9d\\xeb\\x9d\\xbc\\xea\\xb3\\xa0\\xeb\\xa7\\x8c \\xeb\\x9c\\xa8\\xea\\xb3\\xa0 \\xec\\xa7\\x84\\xed\\x96\\x89\\xec\\x9d\\xb4 \\xec\\x95\\x88\\xeb\\x8f\\xbc\\xec\\x9a\\x94&lt;/font&gt;&lt;br/&gt;\\n            \\n            \\n            \\n        &lt;/td&gt;\\n    &lt;/tr&gt;\\n&lt;/table&gt;\\n</content>\\n\\t\\t\\t\\t\\n\\t\\t\\t</entry>\\n\\t\\t\\n\\t\\t\\t<entry>\\n\\t\\t\\t\\t\\n\\t\\t\\t\\t\\t<id>7381204132</id>\\n\\t\\t\\t\\t\\n\\t\\t\\t\\t\\t<title>\\xec\\x97\\x90\\xeb\\x9f\\xac \\xeb\\xb0\\x9c\\xec\\x83\\x9d</title>\\n\\t\\t\\t\\t\\n\\t\\t\\t\\t\\t<content type=\"text\">\\xec\\x84\\xa4\\xec\\xb9\\x98\\xed\\x95\\x98\\xec\\x9e\\x90\\xeb\\xa7\\x88\\xec\\x9e\\x90 \\xec\\x97\\x90\\xeb\\x9f\\xac \\xeb\\xb0\\x9c\\xec\\x83\\x9d\\xec\\x9c\\xbc\\xeb\\xa1\\x9c \\xea\\xb0\\x80\\xec\\x9e\\x85\\xeb\\x8f\\x84 \\xec\\x95\\x88\\xeb\\x90\\xa9\\xeb\\x8b\\x88\\xeb\\x8b\\xa4. \\xed\\x95\\xb4\\xea\\xb2\\xb0 \\xeb\\xb6\\x80\\xed\\x83\\x81\\xeb\\x93\\x9c\\xeb\\xa6\\xbd\\xeb\\x8b\\x88\\xeb\\x8b\\xa4.</content>\\n\\t\\t\\t\\t\\n\\t\\t\\t\\t\\t<im:contentType term=\"Application\" label=\"\\xec\\x95\\xb1\"/>\\n\\t\\t\\t\\t\\n\\t\\t\\t\\t\\t<im:voteSum>0</im:voteSum>\\n\\t\\t\\t\\t\\n\\t\\t\\t\\t\\t<im:voteCount>0</im:voteCount>\\n\\t\\t\\t\\t\\n\\t\\t\\t\\t\\t<im:rating>1</im:rating>\\n\\t\\t\\t\\t\\n\\t\\t\\t\\t\\t<updated>2021-05-23T23:29:44-07:00</updated>\\n\\t\\t\\t\\t\\n\\t\\t\\t\\t\\t<im:version>1.1.44</im:version>\\n\\t\\t\\t\\t\\n\\t\\t\\t\\t\\t<author><name>Kate0000002</name><uri>https://itunes.apple.com/kr/reviews/id403923693</uri></author>\\n\\t\\t\\t\\t\\n\\t\\t\\t\\t\\t<link rel=\"related\" href=\"https://itunes.apple.com/kr/review?id=1318541802&amp;type=Purple%20Software\"/>\\n\\t\\t\\t\\t\\n\\t\\t\\t\\t\\n\\t\\t\\t\\t\\t<content type=\"html\">&lt;table border=&quot;0&quot; width=&quot;100%&quot;&gt;\\n    &lt;tr&gt;\\n        &lt;td&gt;\\n            &lt;table border=&quot;0&quot; width=&quot;100%&quot; cellspacing=&quot;0&quot; cellpadding=&quot;0&quot;&gt;\\n                &lt;tr valign=&quot;top&quot; align=&quot;left&quot;&gt;\\n                    \\n                    \\n                    \\t&lt;td width=&quot;100%&quot;&gt;\\n                    \\n                        &lt;b&gt;&lt;a href=&quot;https://apps.apple.com/kr/app/%EC%84%9C%EC%9A%B8%EC%8B%9C%EB%AF%BC%EC%B9%B4%EB%93%9C/id1318541802?uo=2&quot;&gt;\\xec\\x97\\x90\\xeb\\x9f\\xac \\xeb\\xb0\\x9c\\xec\\x83\\x9d&lt;/a&gt;&lt;/b&gt;&lt;br/&gt;\\n                        \\n                        \\n                        \\n                        \\n\\n                        \\n\\n                       &lt;font size=&quot;2&quot; face=&quot;Helvetica,Arial,Geneva,Swiss,SunSans-Regular&quot;&gt;\\n\\t\\t\\t\\t\\t\\t\\n                        &lt;/font&gt;\\n                    &lt;/td&gt;\\n                &lt;/tr&gt;\\n            &lt;/table&gt;\\n        &lt;/td&gt;\\n    &lt;/tr&gt;\\n    &lt;tr&gt;\\n        &lt;td&gt;\\n            \\n                &lt;font size=&quot;2&quot; face=&quot;Helvetica,Arial,Geneva,Swiss,SunSans-Regular&quot;&gt;&lt;br/&gt;\\xec\\x84\\xa4\\xec\\xb9\\x98\\xed\\x95\\x98\\xec\\x9e\\x90\\xeb\\xa7\\x88\\xec\\x9e\\x90 \\xec\\x97\\x90\\xeb\\x9f\\xac \\xeb\\xb0\\x9c\\xec\\x83\\x9d\\xec\\x9c\\xbc\\xeb\\xa1\\x9c \\xea\\xb0\\x80\\xec\\x9e\\x85\\xeb\\x8f\\x84 \\xec\\x95\\x88\\xeb\\x90\\xa9\\xeb\\x8b\\x88\\xeb\\x8b\\xa4. \\xed\\x95\\xb4\\xea\\xb2\\xb0 \\xeb\\xb6\\x80\\xed\\x83\\x81\\xeb\\x93\\x9c\\xeb\\xa6\\xbd\\xeb\\x8b\\x88\\xeb\\x8b\\xa4.&lt;/font&gt;&lt;br/&gt;\\n            \\n            \\n            \\n        &lt;/td&gt;\\n    &lt;/tr&gt;\\n&lt;/table&gt;\\n</content>\\n\\t\\t\\t\\t\\n\\t\\t\\t</entry>\\n\\t\\t\\n\\t\\t\\t<entry>\\n\\t\\t\\t\\t\\n\\t\\t\\t\\t\\t<id>7381115193</id>\\n\\t\\t\\t\\t\\n\\t\\t\\t\\t\\t<title>\\xed\\x9a\\x8c\\xec\\x9b\\x90\\xea\\xb0\\x80\\xec\\x9e\\x85</title>\\n\\t\\t\\t\\t\\n\\t\\t\\t\\t\\t<content type=\"text\">\\xeb\\xb0\\x9c\\xea\\xb8\\x89\\xed\\x95\\x98\\xea\\xb8\\xb0 \\xeb\\xb2\\x84\\xed\\x8a\\xbc\\xeb\\xb6\\x80\\xed\\x84\\xb0 \\xea\\xb3\\x84\\xec\\x86\\x8d \\xec\\xb2\\x98\\xeb\\xa6\\xac \\xec\\xa4\\x91 \\xec\\x98\\xa4\\xeb\\xa5\\x98\\xea\\xb0\\x80 \\xeb\\xb0\\x9c\\xec\\x83\\x9d\\xed\\x95\\x98\\xec\\x98\\x80\\xeb\\x8b\\xa4\\xea\\xb3\\xa0 \\xeb\\x9c\\xa8\\xeb\\xa9\\xb4\\xec\\x84\\x9c \\xec\\x9d\\xb8\\xec\\x8b\\x9d\\xeb\\x90\\x98\\xec\\xa7\\x80 \\xec\\x95\\x8a\\xec\\x8a\\xb5\\xeb\\x8b\\x88\\xeb\\x8b\\xa4.</content>\\n\\t\\t\\t\\t\\n\\t\\t\\t\\t\\t<im:contentType term=\"Application\" label=\"\\xec\\x95\\xb1\"/>\\n\\t\\t\\t\\t\\n\\t\\t\\t\\t\\t<im:voteSum>0</im:voteSum>\\n\\t\\t\\t\\t\\n\\t\\t\\t\\t\\t<im:voteCount>0</im:voteCount>\\n\\t\\t\\t\\t\\n\\t\\t\\t\\t\\t<im:rating>1</im:rating>\\n\\t\\t\\t\\t\\n\\t\\t\\t\\t\\t<updated>2021-05-23T22:51:46-07:00</updated>\\n\\t\\t\\t\\t\\n\\t\\t\\t\\t\\t<im:version>1.1.44</im:version>\\n\\t\\t\\t\\t\\n\\t\\t\\t\\t\\t<author><name>\\xec\\x84\\xb1\\xec\\x85\\xa9\\xe3\\x85\\x85</name><uri>https://itunes.apple.com/kr/reviews/id1103414891</uri></author>\\n\\t\\t\\t\\t\\n\\t\\t\\t\\t\\t<link rel=\"related\" href=\"https://itunes.apple.com/kr/review?id=1318541802&amp;type=Purple%20Software\"/>\\n\\t\\t\\t\\t\\n\\t\\t\\t\\t\\n\\t\\t\\t\\t\\t<content type=\"html\">&lt;table border=&quot;0&quot; width=&quot;100%&quot;&gt;\\n    &lt;tr&gt;\\n        &lt;td&gt;\\n            &lt;table border=&quot;0&quot; width=&quot;100%&quot; cellspacing=&quot;0&quot; cellpadding=&quot;0&quot;&gt;\\n                &lt;tr valign=&quot;top&quot; align=&quot;left&quot;&gt;\\n                    \\n                    \\n                    \\t&lt;td width=&quot;100%&quot;&gt;\\n                    \\n                        &lt;b&gt;&lt;a href=&quot;https://apps.apple.com/kr/app/%EC%84%9C%EC%9A%B8%EC%8B%9C%EB%AF%BC%EC%B9%B4%EB%93%9C/id1318541802?uo=2&quot;&gt;\\xed\\x9a\\x8c\\xec\\x9b\\x90\\xea\\xb0\\x80\\xec\\x9e\\x85&lt;/a&gt;&lt;/b&gt;&lt;br/&gt;\\n                        \\n                        \\n                        \\n                        \\n\\n                        \\n\\n                       &lt;font size=&quot;2&quot; face=&quot;Helvetica,Arial,Geneva,Swiss,SunSans-Regular&quot;&gt;\\n\\t\\t\\t\\t\\t\\t\\n                        &lt;/font&gt;\\n                    &lt;/td&gt;\\n                &lt;/tr&gt;\\n            &lt;/table&gt;\\n        &lt;/td&gt;\\n    &lt;/tr&gt;\\n    &lt;tr&gt;\\n        &lt;td&gt;\\n            \\n                &lt;font size=&quot;2&quot; face=&quot;Helvetica,Arial,Geneva,Swiss,SunSans-Regular&quot;&gt;&lt;br/&gt;\\xeb\\xb0\\x9c\\xea\\xb8\\x89\\xed\\x95\\x98\\xea\\xb8\\xb0 \\xeb\\xb2\\x84\\xed\\x8a\\xbc\\xeb\\xb6\\x80\\xed\\x84\\xb0 \\xea\\xb3\\x84\\xec\\x86\\x8d \\xec\\xb2\\x98\\xeb\\xa6\\xac \\xec\\xa4\\x91 \\xec\\x98\\xa4\\xeb\\xa5\\x98\\xea\\xb0\\x80 \\xeb\\xb0\\x9c\\xec\\x83\\x9d\\xed\\x95\\x98\\xec\\x98\\x80\\xeb\\x8b\\xa4\\xea\\xb3\\xa0 \\xeb\\x9c\\xa8\\xeb\\xa9\\xb4\\xec\\x84\\x9c \\xec\\x9d\\xb8\\xec\\x8b\\x9d\\xeb\\x90\\x98\\xec\\xa7\\x80 \\xec\\x95\\x8a\\xec\\x8a\\xb5\\xeb\\x8b\\x88\\xeb\\x8b\\xa4.&lt;/font&gt;&lt;br/&gt;\\n            \\n            \\n            \\n        &lt;/td&gt;\\n    &lt;/tr&gt;\\n&lt;/table&gt;\\n</content>\\n\\t\\t\\t\\t\\n\\t\\t\\t</entry>\\n\\t\\t\\n\\t\\t\\t<entry>\\n\\t\\t\\t\\t\\n\\t\\t\\t\\t\\t<id>7376406980</id>\\n\\t\\t\\t\\t\\n\\t\\t\\t\\t\\t<title>\\xec\\x84\\xb8\\xec\\x85\\x98\\xec\\xa2\\x85\\xeb\\xa3\\x8c \\xed\\x9a\\x8c\\xec\\x9b\\x90\\xea\\xb0\\x80\\xec\\x9e\\x85\\xeb\\xb6\\x88\\xea\\xb0\\x80</title>\\n\\t\\t\\t\\t\\n\\t\\t\\t\\t\\t<content type=\"text\">pass\\xec\\x97\\x90\\xec\\x84\\x9c \\xec\\x84\\xb8\\xec\\x85\\x98\\xea\\xb0\\x92\\xec\\x9d\\xb4 \\xec\\x9c\\xa0\\xed\\x9a\\xa8\\xed\\x95\\x98\\xec\\xa7\\x80 \\xec\\x95\\x8a\\xeb\\x8b\\xa4\\xeb\\x8a\\x94 \\xeb\\xa9\\x94\\xec\\x84\\xb8\\xec\\xa7\\x80\\xeb\\xa7\\x8c \\xeb\\x9c\\xa8\\xea\\xb3\\xa0 \\xed\\x9a\\x8c\\xec\\x9b\\x90\\xea\\xb0\\x80\\xec\\x9e\\x85\\xec\\x9d\\xb4 \\xeb\\x90\\x98\\xec\\xa7\\x80 \\xec\\x95\\x8a\\xec\\x8a\\xb5\\xeb\\x8b\\x88\\xeb\\x8b\\xa4. \\xec\\x97\\xac\\xeb\\x9f\\xac\\xeb\\xb2\\x88 \\xec\\x82\\xad\\xec\\xa0\\x9c\\xed\\x95\\x98\\xea\\xb3\\xa0 \\xeb\\x8b\\xa4\\xec\\x8b\\x9c \\xeb\\x8b\\xa4\\xec\\x9a\\xb4\\xeb\\xa1\\x9c\\xeb\\x93\\x9c\\xeb\\xb0\\x9b\\xea\\xb3\\xa0 \\xed\\x95\\x98\\xea\\xb8\\xb0\\xeb\\xa5\\xbc \\xec\\x88\\x98\\xec\\x8b\\xad\\xeb\\xb2\\x88\\xec\\x9e\\x85\\xeb\\x8b\\x88\\xeb\\x8b\\xa4. \\xea\\xb8\\xb0\\xec\\xa1\\xb4 \\xeb\\xa6\\xac\\xeb\\xb7\\xb0\\xec\\x97\\x90 \\xec\\x9d\\xb4\\xeb\\x9f\\xb0 \\xeb\\xac\\xb8\\xec\\xa0\\x9c\\xeb\\x93\\xa4\\xec\\x9d\\xb4 \\xec\\x9e\\x88\\xeb\\x8d\\x98\\xeb\\x8d\\xb0 \\xeb\\x8c\\x80\\xec\\x9d\\x91\\xec\\x9d\\xb4 \\xec\\x9d\\xb4\\xec\\x83\\x81\\xed\\x95\\xa9\\xeb\\x8b\\x88\\xeb\\x8b\\xa4. \\xed\\x99\\x95\\xec\\x9d\\xb8\\xeb\\x90\\x9c\\xea\\xb0\\x80 \\xec\\x97\\x86\\xec\\x9c\\xbc\\xeb\\x8b\\x88 \\xeb\\x82\\x98\\xec\\x9d\\xb4\\xec\\x8a\\xa4\\xeb\\xa1\\x9c \\xec\\x97\\xb0\\xeb\\x9d\\xbd\\xed\\x95\\x98\\xeb\\x9d\\xbc\\xeb\\x8b\\x88\\xec\\x9a\\x94!? \\xeb\\xa6\\xac\\xeb\\xb7\\xb0\\xea\\xb0\\x80 \\xec\\x97\\xac\\xeb\\x9f\\xac\\xea\\xb0\\x9c\\xeb\\xa9\\xb4 \\xeb\\xac\\xb8\\xec\\xa0\\x9c\\xea\\xb0\\x80 \\xec\\x9e\\x88\\xeb\\x8b\\xa8 \\xea\\xb2\\x83\\xec\\x9d\\xb8\\xeb\\x8d\\xb0 \\xec\\x9d\\xb4\\xea\\xb2\\x83\\xec\\x97\\x90 \\xeb\\x8c\\x80\\xed\\x95\\xb4 \\xea\\xb0\\x9c\\xeb\\xb0\\x9c\\xec\\x9e\\x90\\xeb\\x8b\\x98\\xea\\xbb\\x98\\xec\\x84\\x9c\\xeb\\x8a\\x94 \\xeb\\x84\\x88\\xeb\\xac\\xb4 \\xec\\x88\\x98\\xec\\x88\\x98\\xeb\\xb0\\xa9\\xea\\xb4\\x80\\xed\\x95\\x98\\xea\\xb3\\xa0 \\xea\\xb3\\x84\\xec\\x8b\\xa0\\xea\\xb1\\xb0 \\xec\\x95\\x84\\xeb\\x8b\\x8c\\xea\\xb0\\x80\\xec\\x9a\\x94!? \\xed\\x99\\x95\\xec\\x9d\\xb8 \\xed\\x9b\\x84\\xec\\x97\\x90 \\xec\\x88\\x98\\xec\\xa0\\x95 \\xeb\\xb6\\x80\\xed\\x83\\x81\\xeb\\x93\\x9c\\xeb\\xa6\\xbd\\xeb\\x8b\\x88\\xeb\\x8b\\xa4.</content>\\n\\t\\t\\t\\t\\n\\t\\t\\t\\t\\t<im:contentType term=\"Application\" label=\"\\xec\\x95\\xb1\"/>\\n\\t\\t\\t\\t\\n\\t\\t\\t\\t\\t<im:voteSum>0</im:voteSum>\\n\\t\\t\\t\\t\\n\\t\\t\\t\\t\\t<im:voteCount>1</im:voteCount>\\n\\t\\t\\t\\t\\n\\t\\t\\t\\t\\t<im:rating>1</im:rating>\\n\\t\\t\\t\\t\\n\\t\\t\\t\\t\\t<updated>2021-05-22T18:57:42-07:00</updated>\\n\\t\\t\\t\\t\\n\\t\\t\\t\\t\\t<im:version>1.1.44</im:version>\\n\\t\\t\\t\\t\\n\\t\\t\\t\\t\\t<author><name>\\xec\\x84\\x9c\\xeb\\x9d\\xbc\\xec\\x95\\x84\\xec\\x95\\x84\\xec\\x95\\x99</name><uri>https://itunes.apple.com/kr/reviews/id500664995</uri></author>\\n\\t\\t\\t\\t\\n\\t\\t\\t\\t\\t<link rel=\"related\" href=\"https://itunes.apple.com/kr/review?id=1318541802&amp;type=Purple%20Software\"/>\\n\\t\\t\\t\\t\\n\\t\\t\\t\\t\\n\\t\\t\\t\\t\\t<content type=\"html\">&lt;table border=&quot;0&quot; width=&quot;100%&quot;&gt;\\n    &lt;tr&gt;\\n        &lt;td&gt;\\n            &lt;table border=&quot;0&quot; width=&quot;100%&quot; cellspacing=&quot;0&quot; cellpadding=&quot;0&quot;&gt;\\n                &lt;tr valign=&quot;top&quot; align=&quot;left&quot;&gt;\\n                    \\n                    \\n                    \\t&lt;td width=&quot;100%&quot;&gt;\\n                    \\n                        &lt;b&gt;&lt;a href=&quot;https://apps.apple.com/kr/app/%EC%84%9C%EC%9A%B8%EC%8B%9C%EB%AF%BC%EC%B9%B4%EB%93%9C/id1318541802?uo=2&quot;&gt;\\xec\\x84\\xb8\\xec\\x85\\x98\\xec\\xa2\\x85\\xeb\\xa3\\x8c \\xed\\x9a\\x8c\\xec\\x9b\\x90\\xea\\xb0\\x80\\xec\\x9e\\x85\\xeb\\xb6\\x88\\xea\\xb0\\x80&lt;/a&gt;&lt;/b&gt;&lt;br/&gt;\\n                        \\n                        \\n                        \\n                        \\n\\n                        \\n\\n                       &lt;font size=&quot;2&quot; face=&quot;Helvetica,Arial,Geneva,Swiss,SunSans-Regular&quot;&gt;\\n\\t\\t\\t\\t\\t\\t\\n                        &lt;/font&gt;\\n                    &lt;/td&gt;\\n                &lt;/tr&gt;\\n            &lt;/table&gt;\\n        &lt;/td&gt;\\n    &lt;/tr&gt;\\n    &lt;tr&gt;\\n        &lt;td&gt;\\n            \\n                &lt;font size=&quot;2&quot; face=&quot;Helvetica,Arial,Geneva,Swiss,SunSans-Regular&quot;&gt;&lt;br/&gt;pass\\xec\\x97\\x90\\xec\\x84\\x9c \\xec\\x84\\xb8\\xec\\x85\\x98\\xea\\xb0\\x92\\xec\\x9d\\xb4 \\xec\\x9c\\xa0\\xed\\x9a\\xa8\\xed\\x95\\x98\\xec\\xa7\\x80 \\xec\\x95\\x8a\\xeb\\x8b\\xa4\\xeb\\x8a\\x94 \\xeb\\xa9\\x94\\xec\\x84\\xb8\\xec\\xa7\\x80\\xeb\\xa7\\x8c \\xeb\\x9c\\xa8\\xea\\xb3\\xa0 \\xed\\x9a\\x8c\\xec\\x9b\\x90\\xea\\xb0\\x80\\xec\\x9e\\x85\\xec\\x9d\\xb4 \\xeb\\x90\\x98\\xec\\xa7\\x80 \\xec\\x95\\x8a\\xec\\x8a\\xb5\\xeb\\x8b\\x88\\xeb\\x8b\\xa4. \\xec\\x97\\xac\\xeb\\x9f\\xac\\xeb\\xb2\\x88 \\xec\\x82\\xad\\xec\\xa0\\x9c\\xed\\x95\\x98\\xea\\xb3\\xa0 \\xeb\\x8b\\xa4\\xec\\x8b\\x9c \\xeb\\x8b\\xa4\\xec\\x9a\\xb4\\xeb\\xa1\\x9c\\xeb\\x93\\x9c\\xeb\\xb0\\x9b\\xea\\xb3\\xa0 \\xed\\x95\\x98\\xea\\xb8\\xb0\\xeb\\xa5\\xbc \\xec\\x88\\x98\\xec\\x8b\\xad\\xeb\\xb2\\x88\\xec\\x9e\\x85\\xeb\\x8b\\x88\\xeb\\x8b\\xa4. \\xea\\xb8\\xb0\\xec\\xa1\\xb4 \\xeb\\xa6\\xac\\xeb\\xb7\\xb0\\xec\\x97\\x90 \\xec\\x9d\\xb4\\xeb\\x9f\\xb0 \\xeb\\xac\\xb8\\xec\\xa0\\x9c\\xeb\\x93\\xa4\\xec\\x9d\\xb4 \\xec\\x9e\\x88\\xeb\\x8d\\x98\\xeb\\x8d\\xb0 \\xeb\\x8c\\x80\\xec\\x9d\\x91\\xec\\x9d\\xb4 \\xec\\x9d\\xb4\\xec\\x83\\x81\\xed\\x95\\xa9\\xeb\\x8b\\x88\\xeb\\x8b\\xa4. \\xed\\x99\\x95\\xec\\x9d\\xb8\\xeb\\x90\\x9c\\xea\\xb0\\x80 \\xec\\x97\\x86\\xec\\x9c\\xbc\\xeb\\x8b\\x88 \\xeb\\x82\\x98\\xec\\x9d\\xb4\\xec\\x8a\\xa4\\xeb\\xa1\\x9c \\xec\\x97\\xb0\\xeb\\x9d\\xbd\\xed\\x95\\x98\\xeb\\x9d\\xbc\\xeb\\x8b\\x88\\xec\\x9a\\x94!? \\xeb\\xa6\\xac\\xeb\\xb7\\xb0\\xea\\xb0\\x80 \\xec\\x97\\xac\\xeb\\x9f\\xac\\xea\\xb0\\x9c\\xeb\\xa9\\xb4 \\xeb\\xac\\xb8\\xec\\xa0\\x9c\\xea\\xb0\\x80 \\xec\\x9e\\x88\\xeb\\x8b\\xa8 \\xea\\xb2\\x83\\xec\\x9d\\xb8\\xeb\\x8d\\xb0 \\xec\\x9d\\xb4\\xea\\xb2\\x83\\xec\\x97\\x90 \\xeb\\x8c\\x80\\xed\\x95\\xb4 \\xea\\xb0\\x9c\\xeb\\xb0\\x9c\\xec\\x9e\\x90\\xeb\\x8b\\x98\\xea\\xbb\\x98\\xec\\x84\\x9c\\xeb\\x8a\\x94 \\xeb\\x84\\x88\\xeb\\xac\\xb4 \\xec\\x88\\x98\\xec\\x88\\x98\\xeb\\xb0\\xa9\\xea\\xb4\\x80\\xed\\x95\\x98\\xea\\xb3\\xa0 \\xea\\xb3\\x84\\xec\\x8b\\xa0\\xea\\xb1\\xb0 \\xec\\x95\\x84\\xeb\\x8b\\x8c\\xea\\xb0\\x80\\xec\\x9a\\x94!? \\xed\\x99\\x95\\xec\\x9d\\xb8 \\xed\\x9b\\x84\\xec\\x97\\x90 \\xec\\x88\\x98\\xec\\xa0\\x95 \\xeb\\xb6\\x80\\xed\\x83\\x81\\xeb\\x93\\x9c\\xeb\\xa6\\xbd\\xeb\\x8b\\x88\\xeb\\x8b\\xa4.&lt;/font&gt;&lt;br/&gt;\\n            \\n            \\n            \\n        &lt;/td&gt;\\n    &lt;/tr&gt;\\n&lt;/table&gt;\\n</content>\\n\\t\\t\\t\\t\\n\\t\\t\\t</entry>\\n\\t\\t\\n\\t\\t\\t<entry>\\n\\t\\t\\t\\t\\n\\t\\t\\t\\t\\t<id>7354186882</id>\\n\\t\\t\\t\\t\\n\\t\\t\\t\\t\\t<title>\\xec\\x84\\xb8\\xec\\x85\\x98\\xea\\xb0\\x92\\xec\\x9d\\xb4 \\xec\\x9c\\xa0\\xed\\x9a\\xa8\\xed\\x95\\x98\\xec\\xa7\\x80 \\xec\\x95\\x8a\\xec\\x9d\\x8c</title>\\n\\t\\t\\t\\t\\n\\t\\t\\t\\t\\t<content type=\"text\">\\xeb\\xb3\\xb8\\xec\\x9d\\xb8\\xec\\x9d\\xb8\\xec\\xa6\\x9d \\xec\\xa0\\x88\\xec\\xb0\\xa8\\xec\\x97\\x90\\xec\\x84\\x9c \\n\\xec\\x84\\xb8\\xec\\x85\\x98\\xea\\xb0\\x92\\xec\\x9d\\xb4 \\xec\\x9c\\xa0\\xed\\x9a\\xa8\\xed\\x95\\x98\\xec\\xa7\\x80 \\xec\\x95\\x8a\\xeb\\x8b\\xa4\\xea\\xb3\\xa0 \\xeb\\x9c\\xa8\\xea\\xb3\\xa0\\n\\xeb\\x8b\\xa4\\xec\\x9d\\x8c \\xeb\\x8b\\xa8\\xea\\xb3\\x84\\xeb\\xa1\\x9c \\xeb\\x84\\x98\\xec\\x96\\xb4\\xea\\xb0\\x88 \\xec\\x88\\x98 \\xec\\x97\\x86\\xec\\x8a\\xb5\\xeb\\x8b\\x88\\xeb\\x8b\\xa4.</content>\\n\\t\\t\\t\\t\\n\\t\\t\\t\\t\\t<im:contentType term=\"Application\" label=\"\\xec\\x95\\xb1\"/>\\n\\t\\t\\t\\t\\n\\t\\t\\t\\t\\t<im:voteSum>0</im:voteSum>\\n\\t\\t\\t\\t\\n\\t\\t\\t\\t\\t<im:voteCount>0</im:voteCount>\\n\\t\\t\\t\\t\\n\\t\\t\\t\\t\\t<im:rating>1</im:rating>\\n\\t\\t\\t\\t\\n\\t\\t\\t\\t\\t<updated>2021-05-17T23:25:46-07:00</updated>\\n\\t\\t\\t\\t\\n\\t\\t\\t\\t\\t<im:version>1.1.44</im:version>\\n\\t\\t\\t\\t\\n\\t\\t\\t\\t\\t<author><name>nsjeiw skzlale</name><uri>https://itunes.apple.com/kr/reviews/id766334947</uri></author>\\n\\t\\t\\t\\t\\n\\t\\t\\t\\t\\t<link rel=\"related\" href=\"https://itunes.apple.com/kr/review?id=1318541802&amp;type=Purple%20Software\"/>\\n\\t\\t\\t\\t\\n\\t\\t\\t\\t\\n\\t\\t\\t\\t\\t<content type=\"html\">&lt;table border=&quot;0&quot; width=&quot;100%&quot;&gt;\\n    &lt;tr&gt;\\n        &lt;td&gt;\\n            &lt;table border=&quot;0&quot; width=&quot;100%&quot; cellspacing=&quot;0&quot; cellpadding=&quot;0&quot;&gt;\\n                &lt;tr valign=&quot;top&quot; align=&quot;left&quot;&gt;\\n                    \\n                    \\n                    \\t&lt;td width=&quot;100%&quot;&gt;\\n                    \\n                        &lt;b&gt;&lt;a href=&quot;https://apps.apple.com/kr/app/%EC%84%9C%EC%9A%B8%EC%8B%9C%EB%AF%BC%EC%B9%B4%EB%93%9C/id1318541802?uo=2&quot;&gt;\\xec\\x84\\xb8\\xec\\x85\\x98\\xea\\xb0\\x92\\xec\\x9d\\xb4 \\xec\\x9c\\xa0\\xed\\x9a\\xa8\\xed\\x95\\x98\\xec\\xa7\\x80 \\xec\\x95\\x8a\\xec\\x9d\\x8c&lt;/a&gt;&lt;/b&gt;&lt;br/&gt;\\n                        \\n                        \\n                        \\n                        \\n\\n                        \\n\\n                       &lt;font size=&quot;2&quot; face=&quot;Helvetica,Arial,Geneva,Swiss,SunSans-Regular&quot;&gt;\\n\\t\\t\\t\\t\\t\\t\\n                        &lt;/font&gt;\\n                    &lt;/td&gt;\\n                &lt;/tr&gt;\\n            &lt;/table&gt;\\n        &lt;/td&gt;\\n    &lt;/tr&gt;\\n    &lt;tr&gt;\\n        &lt;td&gt;\\n            \\n                &lt;font size=&quot;2&quot; face=&quot;Helvetica,Arial,Geneva,Swiss,SunSans-Regular&quot;&gt;&lt;br/&gt;\\xeb\\xb3\\xb8\\xec\\x9d\\xb8\\xec\\x9d\\xb8\\xec\\xa6\\x9d \\xec\\xa0\\x88\\xec\\xb0\\xa8\\xec\\x97\\x90\\xec\\x84\\x9c &lt;br/&gt;\\xec\\x84\\xb8\\xec\\x85\\x98\\xea\\xb0\\x92\\xec\\x9d\\xb4 \\xec\\x9c\\xa0\\xed\\x9a\\xa8\\xed\\x95\\x98\\xec\\xa7\\x80 \\xec\\x95\\x8a\\xeb\\x8b\\xa4\\xea\\xb3\\xa0 \\xeb\\x9c\\xa8\\xea\\xb3\\xa0&lt;br/&gt;\\xeb\\x8b\\xa4\\xec\\x9d\\x8c \\xeb\\x8b\\xa8\\xea\\xb3\\x84\\xeb\\xa1\\x9c \\xeb\\x84\\x98\\xec\\x96\\xb4\\xea\\xb0\\x88 \\xec\\x88\\x98 \\xec\\x97\\x86\\xec\\x8a\\xb5\\xeb\\x8b\\x88\\xeb\\x8b\\xa4.&lt;/font&gt;&lt;br/&gt;\\n            \\n            \\n            \\n        &lt;/td&gt;\\n    &lt;/tr&gt;\\n&lt;/table&gt;\\n</content>\\n\\t\\t\\t\\t\\n\\t\\t\\t</entry>\\n\\t\\t\\n\\t\\t\\t<entry>\\n\\t\\t\\t\\t\\n\\t\\t\\t\\t\\t<id>7279434346</id>\\n\\t\\t\\t\\t\\n\\t\\t\\t\\t\\t<title>\\xea\\xb0\\x80\\xec\\x9e\\x85\\xed\\x95\\x98\\xeb\\xa0\\xa4\\xeb\\x8a\\x94\\xeb\\x8d\\xb0 \\xeb\\xac\\xb8\\xec\\x9e\\x90\\xec\\x9d\\xb8\\xec\\xa6\\x9d\\xec\\x9d\\xb4 \\xec\\x95\\x88\\xeb\\x8f\\xbc\\xec\\x9a\\x94</title>\\n\\t\\t\\t\\t\\n\\t\\t\\t\\t\\t<content type=\"text\">\\xea\\xb0\\x80\\xec\\x9e\\x85\\xed\\x95\\x98\\xeb\\xa0\\xa4\\xeb\\x8a\\x94\\xeb\\x8d\\xb0 \\xeb\\xac\\xb8\\xec\\x9e\\x90\\xec\\x9d\\xb8\\xec\\xa6\\x9d\\xec\\x9d\\xb4 \\xec\\x95\\x88\\xeb\\x8f\\xbc\\xec\\x9a\\x94\\n\\xec\\x84\\xb8\\xec\\x85\\x98\\xea\\xb0\\x92\\xec\\x9d\\xb4 \\xec\\x9c\\xa0\\xed\\x9a\\xa8\\xed\\x95\\x98\\xec\\xa7\\x80 \\xec\\x95\\x8a\\xec\\x8a\\xb5\\xeb\\x8b\\x88\\xeb\\x8b\\xa4 \\xeb\\x9d\\xbc\\xeb\\x8a\\x94 \\xeb\\xac\\xb8\\xea\\xb5\\xac\\xeb\\xa7\\x8c \\xeb\\x9c\\xb9\\xeb\\x8b\\x88\\xeb\\x8b\\xa4\\n\\xea\\xb0\\x80\\xec\\x9e\\x85\\xec\\x9d\\x84 \\xeb\\xaa\\xbb\\xed\\x95\\x98\\xeb\\x8b\\x88 \\xec\\x9d\\xb4\\xec\\x9a\\xa9\\xec\\x9d\\x84 \\xed\\x95\\xa0\\xec\\x88\\x98\\xea\\xb0\\x80 \\xec\\x97\\x86\\xeb\\x84\\xa4\\xec\\x9a\\x94</content>\\n\\t\\t\\t\\t\\n\\t\\t\\t\\t\\t<im:contentType term=\"Application\" label=\"\\xec\\x95\\xb1\"/>\\n\\t\\t\\t\\t\\n\\t\\t\\t\\t\\t<im:voteSum>0</im:voteSum>\\n\\t\\t\\t\\t\\n\\t\\t\\t\\t\\t<im:voteCount>0</im:voteCount>\\n\\t\\t\\t\\t\\n\\t\\t\\t\\t\\t<im:rating>1</im:rating>\\n\\t\\t\\t\\t\\n\\t\\t\\t\\t\\t<updated>2021-04-29T20:25:22-07:00</updated>\\n\\t\\t\\t\\t\\n\\t\\t\\t\\t\\t<im:version>1.1.44</im:version>\\n\\t\\t\\t\\t\\n\\t\\t\\t\\t\\t<author><name>sssss-_-SSSSS</name><uri>https://itunes.apple.com/kr/reviews/id496939362</uri></author>\\n\\t\\t\\t\\t\\n\\t\\t\\t\\t\\t<link rel=\"related\" href=\"https://itunes.apple.com/kr/review?id=1318541802&amp;type=Purple%20Software\"/>\\n\\t\\t\\t\\t\\n\\t\\t\\t\\t\\n\\t\\t\\t\\t\\t<content type=\"html\">&lt;table border=&quot;0&quot; width=&quot;100%&quot;&gt;\\n    &lt;tr&gt;\\n        &lt;td&gt;\\n            &lt;table border=&quot;0&quot; width=&quot;100%&quot; cellspacing=&quot;0&quot; cellpadding=&quot;0&quot;&gt;\\n                &lt;tr valign=&quot;top&quot; align=&quot;left&quot;&gt;\\n                    \\n                    \\n                    \\t&lt;td width=&quot;100%&quot;&gt;\\n                    \\n                        &lt;b&gt;&lt;a href=&quot;https://apps.apple.com/kr/app/%EC%84%9C%EC%9A%B8%EC%8B%9C%EB%AF%BC%EC%B9%B4%EB%93%9C/id1318541802?uo=2&quot;&gt;\\xea\\xb0\\x80\\xec\\x9e\\x85\\xed\\x95\\x98\\xeb\\xa0\\xa4\\xeb\\x8a\\x94\\xeb\\x8d\\xb0 \\xeb\\xac\\xb8\\xec\\x9e\\x90\\xec\\x9d\\xb8\\xec\\xa6\\x9d\\xec\\x9d\\xb4 \\xec\\x95\\x88\\xeb\\x8f\\xbc\\xec\\x9a\\x94&lt;/a&gt;&lt;/b&gt;&lt;br/&gt;\\n                        \\n                        \\n                        \\n                        \\n\\n                        \\n\\n                       &lt;font size=&quot;2&quot; face=&quot;Helvetica,Arial,Geneva,Swiss,SunSans-Regular&quot;&gt;\\n\\t\\t\\t\\t\\t\\t\\n                        &lt;/font&gt;\\n                    &lt;/td&gt;\\n                &lt;/tr&gt;\\n            &lt;/table&gt;\\n        &lt;/td&gt;\\n    &lt;/tr&gt;\\n    &lt;tr&gt;\\n        &lt;td&gt;\\n            \\n                &lt;font size=&quot;2&quot; face=&quot;Helvetica,Arial,Geneva,Swiss,SunSans-Regular&quot;&gt;&lt;br/&gt;\\xea\\xb0\\x80\\xec\\x9e\\x85\\xed\\x95\\x98\\xeb\\xa0\\xa4\\xeb\\x8a\\x94\\xeb\\x8d\\xb0 \\xeb\\xac\\xb8\\xec\\x9e\\x90\\xec\\x9d\\xb8\\xec\\xa6\\x9d\\xec\\x9d\\xb4 \\xec\\x95\\x88\\xeb\\x8f\\xbc\\xec\\x9a\\x94&lt;br/&gt;\\xec\\x84\\xb8\\xec\\x85\\x98\\xea\\xb0\\x92\\xec\\x9d\\xb4 \\xec\\x9c\\xa0\\xed\\x9a\\xa8\\xed\\x95\\x98\\xec\\xa7\\x80 \\xec\\x95\\x8a\\xec\\x8a\\xb5\\xeb\\x8b\\x88\\xeb\\x8b\\xa4 \\xeb\\x9d\\xbc\\xeb\\x8a\\x94 \\xeb\\xac\\xb8\\xea\\xb5\\xac\\xeb\\xa7\\x8c \\xeb\\x9c\\xb9\\xeb\\x8b\\x88\\xeb\\x8b\\xa4&lt;br/&gt;\\xea\\xb0\\x80\\xec\\x9e\\x85\\xec\\x9d\\x84 \\xeb\\xaa\\xbb\\xed\\x95\\x98\\xeb\\x8b\\x88 \\xec\\x9d\\xb4\\xec\\x9a\\xa9\\xec\\x9d\\x84 \\xed\\x95\\xa0\\xec\\x88\\x98\\xea\\xb0\\x80 \\xec\\x97\\x86\\xeb\\x84\\xa4\\xec\\x9a\\x94&lt;/font&gt;&lt;br/&gt;\\n            \\n            \\n            \\n        &lt;/td&gt;\\n    &lt;/tr&gt;\\n&lt;/table&gt;\\n</content>\\n\\t\\t\\t\\t\\n\\t\\t\\t</entry>\\n\\t\\t\\n\\t\\t\\t<entry>\\n\\t\\t\\t\\t\\n\\t\\t\\t\\t\\t<id>7140997488</id>\\n\\t\\t\\t\\t\\n\\t\\t\\t\\t\\t<title>\\xec\\x9d\\xb8\\xec\\xa6\\x9d\\xec\\x9d\\xb4 \\xeb\\x90\\x98\\xec\\xa7\\x80 \\xec\\x95\\x8a\\xec\\x95\\x84\\xec\\x9a\\x94</title>\\n\\t\\t\\t\\t\\n\\t\\t\\t\\t\\t<content type=\"text\">\\xec\\xb9\\xb4\\xeb\\x93\\x9c\\xeb\\xb0\\x9c\\xea\\xb8\\x89\\xec\\x9d\\x84 \\xed\\x95\\x98\\xeb\\xa0\\xa4\\xed\\x95\\x98\\xeb\\xa9\\xb4 \\xeb\\xac\\xb8\\xec\\x9e\\x90\\xec\\x9d\\xb8\\xec\\xa6\\x9d \\xeb\\xb6\\x80\\xeb\\xb6\\x84\\xec\\x97\\x90\\xec\\x84\\x9c\\n\\xec\\x84\\xb8\\xec\\x85\\x98\\xea\\xb0\\x92\\xec\\x9d\\xb4 \\xec\\x9c\\xa0\\xed\\x9a\\xa8\\xed\\x95\\x98\\xec\\xa7\\x80 \\xec\\x95\\x8a\\xec\\x8a\\xb5\\xeb\\x8b\\x88\\xeb\\x8b\\xa4 \\xeb\\x9d\\xbc\\xeb\\x8a\\x94 \\xeb\\xa9\\x94\\xec\\x8b\\x9c\\xec\\xa7\\x80\\xea\\xb0\\x80 \\xeb\\x9c\\xa8\\xea\\xb3\\xa0\\n\\xeb\\xac\\xb8\\xec\\x9e\\x90 \\xec\\x9d\\xb8\\xec\\xa6\\x9d\\xec\\x9d\\x84 \\xeb\\xb0\\x9b\\xec\\x9d\\x84 \\xec\\x88\\x98\\xea\\xb0\\x80 \\xec\\x97\\x86\\xec\\x8a\\xb5\\xeb\\x8b\\x88\\xeb\\x8b\\xa4.\\n\\n\\xec\\x97\\x90\\xeb\\x9f\\xac \\xec\\xa2\\x80 \\xec\\x88\\x98\\xec\\xa0\\x95\\xed\\x95\\xb4 \\xec\\xa3\\xbc\\xec\\x84\\xb8\\xec\\x9a\\x94</content>\\n\\t\\t\\t\\t\\n\\t\\t\\t\\t\\t<im:contentType term=\"Application\" label=\"\\xec\\x95\\xb1\"/>\\n\\t\\t\\t\\t\\n\\t\\t\\t\\t\\t<im:voteSum>1</im:voteSum>\\n\\t\\t\\t\\t\\n\\t\\t\\t\\t\\t<im:voteCount>1</im:voteCount>\\n\\t\\t\\t\\t\\n\\t\\t\\t\\t\\t<im:rating>1</im:rating>\\n\\t\\t\\t\\t\\n\\t\\t\\t\\t\\t<updated>2021-03-24T17:00:55-07:00</updated>\\n\\t\\t\\t\\t\\n\\t\\t\\t\\t\\t<im:version>1.1.44</im:version>\\n\\t\\t\\t\\t\\n\\t\\t\\t\\t\\t<author><name>\\xe3\\x84\\xb1\\xec\\xb0\\xae</name><uri>https://itunes.apple.com/kr/reviews/id135416697</uri></author>\\n\\t\\t\\t\\t\\n\\t\\t\\t\\t\\t<link rel=\"related\" href=\"https://itunes.apple.com/kr/review?id=1318541802&amp;type=Purple%20Software\"/>\\n\\t\\t\\t\\t\\n\\t\\t\\t\\t\\n\\t\\t\\t\\t\\t<content type=\"html\">&lt;table border=&quot;0&quot; width=&quot;100%&quot;&gt;\\n    &lt;tr&gt;\\n        &lt;td&gt;\\n            &lt;table border=&quot;0&quot; width=&quot;100%&quot; cellspacing=&quot;0&quot; cellpadding=&quot;0&quot;&gt;\\n                &lt;tr valign=&quot;top&quot; align=&quot;left&quot;&gt;\\n                    \\n                    \\n                    \\t&lt;td width=&quot;100%&quot;&gt;\\n                    \\n                        &lt;b&gt;&lt;a href=&quot;https://apps.apple.com/kr/app/%EC%84%9C%EC%9A%B8%EC%8B%9C%EB%AF%BC%EC%B9%B4%EB%93%9C/id1318541802?uo=2&quot;&gt;\\xec\\x9d\\xb8\\xec\\xa6\\x9d\\xec\\x9d\\xb4 \\xeb\\x90\\x98\\xec\\xa7\\x80 \\xec\\x95\\x8a\\xec\\x95\\x84\\xec\\x9a\\x94&lt;/a&gt;&lt;/b&gt;&lt;br/&gt;\\n                        \\n                        \\n                        \\n                        \\n\\n                        \\n\\n                       &lt;font size=&quot;2&quot; face=&quot;Helvetica,Arial,Geneva,Swiss,SunSans-Regular&quot;&gt;\\n\\t\\t\\t\\t\\t\\t\\n                        &lt;/font&gt;\\n                    &lt;/td&gt;\\n                &lt;/tr&gt;\\n            &lt;/table&gt;\\n        &lt;/td&gt;\\n    &lt;/tr&gt;\\n    &lt;tr&gt;\\n        &lt;td&gt;\\n            \\n                &lt;font size=&quot;2&quot; face=&quot;Helvetica,Arial,Geneva,Swiss,SunSans-Regular&quot;&gt;&lt;br/&gt;\\xec\\xb9\\xb4\\xeb\\x93\\x9c\\xeb\\xb0\\x9c\\xea\\xb8\\x89\\xec\\x9d\\x84 \\xed\\x95\\x98\\xeb\\xa0\\xa4\\xed\\x95\\x98\\xeb\\xa9\\xb4 \\xeb\\xac\\xb8\\xec\\x9e\\x90\\xec\\x9d\\xb8\\xec\\xa6\\x9d \\xeb\\xb6\\x80\\xeb\\xb6\\x84\\xec\\x97\\x90\\xec\\x84\\x9c&lt;br/&gt;\\xec\\x84\\xb8\\xec\\x85\\x98\\xea\\xb0\\x92\\xec\\x9d\\xb4 \\xec\\x9c\\xa0\\xed\\x9a\\xa8\\xed\\x95\\x98\\xec\\xa7\\x80 \\xec\\x95\\x8a\\xec\\x8a\\xb5\\xeb\\x8b\\x88\\xeb\\x8b\\xa4 \\xeb\\x9d\\xbc\\xeb\\x8a\\x94 \\xeb\\xa9\\x94\\xec\\x8b\\x9c\\xec\\xa7\\x80\\xea\\xb0\\x80 \\xeb\\x9c\\xa8\\xea\\xb3\\xa0&lt;br/&gt;\\xeb\\xac\\xb8\\xec\\x9e\\x90 \\xec\\x9d\\xb8\\xec\\xa6\\x9d\\xec\\x9d\\x84 \\xeb\\xb0\\x9b\\xec\\x9d\\x84 \\xec\\x88\\x98\\xea\\xb0\\x80 \\xec\\x97\\x86\\xec\\x8a\\xb5\\xeb\\x8b\\x88\\xeb\\x8b\\xa4.&lt;br/&gt;&lt;br/&gt;\\xec\\x97\\x90\\xeb\\x9f\\xac \\xec\\xa2\\x80 \\xec\\x88\\x98\\xec\\xa0\\x95\\xed\\x95\\xb4 \\xec\\xa3\\xbc\\xec\\x84\\xb8\\xec\\x9a\\x94&lt;/font&gt;&lt;br/&gt;\\n            \\n            \\n            \\n        &lt;/td&gt;\\n    &lt;/tr&gt;\\n&lt;/table&gt;\\n</content>\\n\\t\\t\\t\\t\\n\\t\\t\\t</entry>\\n\\t\\t\\n\\t\\t\\t<entry>\\n\\t\\t\\t\\t\\n\\t\\t\\t\\t\\t<id>6977030958</id>\\n\\t\\t\\t\\t\\n\\t\\t\\t\\t\\t<title>\\xeb\\xb3\\x84 \\xec\\xa3\\xbc\\xea\\xb8\\xb0\\xeb\\x8f\\x84 \\xec\\x95\\x84\\xea\\xb9\\x8c\\xec\\x9b\\x80</title>\\n\\t\\t\\t\\t\\n\\t\\t\\t\\t\\t<content type=\"text\">\\xeb\\x8f\\x84\\xec\\x84\\x9c\\xea\\xb4\\x80 \\xec\\x95\\xb1 \\xec\\x9d\\xb4\\xec\\x9a\\xa9\\xed\\x95\\x98\\xeb\\xa0\\xa4\\xea\\xb3\\xa0 \\xea\\xb0\\x80\\xec\\x9e\\x85\\xed\\x95\\x98\\xeb\\xa0\\xa4\\xeb\\x8a\\x94\\xeb\\x8d\\xb0 \\xeb\\xb3\\xb8\\xec\\x9d\\xb8\\xec\\x9d\\xb8\\xec\\xa6\\x9d \\xeb\\xaa\\xa8\\xeb\\x93\\xa0 \\xec\\x88\\x98\\xeb\\x8b\\xa8 \\xed\\x9c\\xb4\\xeb\\x8c\\x80\\xed\\x8f\\xb0\\xea\\xb3\\xbc \\xec\\x95\\x84\\xec\\x9d\\xb4\\xed\\x95\\x80 \\xec\\x9d\\xb8\\xec\\xa6\\x9d \\xeb\\x8b\\xa4 \\xec\\x95\\x88 \\xeb\\x90\\xa9\\xeb\\x8b\\x88\\xeb\\x8b\\xa4. 20\\xeb\\xb2\\x88 \\xec\\x8b\\x9c\\xeb\\x8f\\x84 \\xed\\x96\\x88\\xeb\\x8a\\x94\\xeb\\x8d\\xb0 \\xeb\\x8b\\xa4 \\xec\\x95\\x88\\xeb\\x90\\xa9\\xeb\\x8b\\x88\\xeb\\x8b\\xa4. \\xed\\x99\\x94\\xea\\xb0\\x80\\xeb\\x82\\x98\\xec\\x84\\x9c \\xec\\x9d\\xb4\\xec\\x9a\\xa9\\xed\\x95\\xa0 \\xec\\x88\\x98\\xea\\xb0\\x80 \\xec\\x97\\x86\\xeb\\x84\\xa4\\xec\\x9a\\x94. \\xec\\xbf\\xa0\\xed\\x82\\xa4\\xed\\x97\\x88\\xec\\x9a\\xa9 \\xeb\\x90\\x98\\xec\\x96\\xb4\\xec\\x9e\\x88\\xeb\\x8a\\x94\\xeb\\x8d\\xb0\\xeb\\x8f\\x84 \\xec\\xbf\\xa0\\xed\\x82\\xa4\\xec\\xb0\\xa8\\xeb\\x8b\\xa8 \\xed\\x97\\x88\\xec\\x9a\\xa9\\xed\\x95\\x98\\xeb\\x9d\\xbc\\xea\\xb3\\xa0 \\xeb\\xa9\\x94\\xec\\x84\\xb8\\xec\\xa7\\x80 \\xeb\\x9c\\xa8\\xea\\xb3\\xa0 \\xeb\\xb3\\xb4\\xec\\x95\\x88\\xeb\\xac\\xb8\\xec\\x9e\\x90 \\xec\\xa0\\x9c\\xeb\\x8c\\x80\\xeb\\xa1\\x9c \\xec\\x9e\\x85\\xeb\\xa0\\xa5\\xed\\x96\\x88\\xeb\\x8a\\x94\\xeb\\x8d\\xb0\\xeb\\x8f\\x84 \\xec\\x96\\xb4\\xed\\x94\\x8c\\xec\\x9d\\xb4 \\xea\\xb5\\xac\\xeb\\xa0\\xa4\\xec\\x84\\x9c \\xec\\x9d\\xb8\\xec\\x8b\\x9d\\xeb\\x8f\\x84 \\xeb\\xaa\\xbb\\xed\\x95\\x98\\xeb\\x84\\xa4\\xec\\x9a\\x94. \\xeb\\xaa\\x87\\xea\\xb0\\x9c\\xec\\x9b\\x94 \\xec\\xa0\\x84\\xeb\\xb6\\x80\\xed\\x84\\xb0 \\xec\\xa0\\x9c\\xea\\xb8\\xb0\\xeb\\x8f\\xbc\\xec\\x99\\x94\\xeb\\x8d\\x98 \\xeb\\xac\\xb8\\xec\\xa0\\x9c\\xea\\xb0\\x99\\xec\\x9d\\x80\\xeb\\x8d\\xb0 \\xec\\x84\\xb8\\xea\\xb8\\x88\\xec\\x9c\\xbc\\xeb\\xa1\\x9c \\xec\\x9d\\xb4\\xeb\\x9f\\xb0 \\xec\\x96\\xb4\\xed\\x94\\x8c \\xeb\\xa7\\x8c\\xeb\\x93\\xa4\\xec\\x96\\xb4\\xeb\\x86\\x93\\xea\\xb3\\xa0 \\xec\\xa0\\x9c\\xeb\\x8c\\x80\\xeb\\xa1\\x9c \\xec\\x9a\\xb4\\xec\\x98\\x81\\xeb\\x8f\\x84 \\xec\\x95\\x88\\xed\\x95\\x98\\xeb\\x8a\\x94 \\xec\\x84\\x9c\\xec\\x9a\\xb8\\xec\\x8b\\x9c \\xec\\x96\\xb4\\xec\\x9d\\xb4\\xea\\xb0\\x80 \\xec\\x97\\x86\\xec\\x8a\\xb5\\xeb\\x8b\\x88\\xeb\\x8b\\xa4.</content>\\n\\t\\t\\t\\t\\n\\t\\t\\t\\t\\t<im:contentType term=\"Application\" label=\"\\xec\\x95\\xb1\"/>\\n\\t\\t\\t\\t\\n\\t\\t\\t\\t\\t<im:voteSum>0</im:voteSum>\\n\\t\\t\\t\\t\\n\\t\\t\\t\\t\\t<im:voteCount>0</im:voteCount>\\n\\t\\t\\t\\t\\n\\t\\t\\t\\t\\t<im:rating>1</im:rating>\\n\\t\\t\\t\\t\\n\\t\\t\\t\\t\\t<updated>2021-02-10T03:24:28-07:00</updated>\\n\\t\\t\\t\\t\\n\\t\\t\\t\\t\\t<im:version>1.1.44</im:version>\\n\\t\\t\\t\\t\\n\\t\\t\\t\\t\\t<author><name>\\xe3\\x85\\x87\\xe3\\x85\\x87\\xe3\\x85\\x87\\xe3\\x85\\x87!&#39;</name><uri>https://itunes.apple.com/kr/reviews/id1104042184</uri></author>\\n\\t\\t\\t\\t\\n\\t\\t\\t\\t\\t<link rel=\"related\" href=\"https://itunes.apple.com/kr/review?id=1318541802&amp;type=Purple%20Software\"/>\\n\\t\\t\\t\\t\\n\\t\\t\\t\\t\\n\\t\\t\\t\\t\\t<content type=\"html\">&lt;table border=&quot;0&quot; width=&quot;100%&quot;&gt;\\n    &lt;tr&gt;\\n        &lt;td&gt;\\n            &lt;table border=&quot;0&quot; width=&quot;100%&quot; cellspacing=&quot;0&quot; cellpadding=&quot;0&quot;&gt;\\n                &lt;tr valign=&quot;top&quot; align=&quot;left&quot;&gt;\\n                    \\n                    \\n                    \\t&lt;td width=&quot;100%&quot;&gt;\\n                    \\n                        &lt;b&gt;&lt;a href=&quot;https://apps.apple.com/kr/app/%EC%84%9C%EC%9A%B8%EC%8B%9C%EB%AF%BC%EC%B9%B4%EB%93%9C/id1318541802?uo=2&quot;&gt;\\xeb\\xb3\\x84 \\xec\\xa3\\xbc\\xea\\xb8\\xb0\\xeb\\x8f\\x84 \\xec\\x95\\x84\\xea\\xb9\\x8c\\xec\\x9b\\x80&lt;/a&gt;&lt;/b&gt;&lt;br/&gt;\\n                        \\n                        \\n                        \\n                        \\n\\n                        \\n\\n                       &lt;font size=&quot;2&quot; face=&quot;Helvetica,Arial,Geneva,Swiss,SunSans-Regular&quot;&gt;\\n\\t\\t\\t\\t\\t\\t\\n                        &lt;/font&gt;\\n                    &lt;/td&gt;\\n                &lt;/tr&gt;\\n            &lt;/table&gt;\\n        &lt;/td&gt;\\n    &lt;/tr&gt;\\n    &lt;tr&gt;\\n        &lt;td&gt;\\n            \\n                &lt;font size=&quot;2&quot; face=&quot;Helvetica,Arial,Geneva,Swiss,SunSans-Regular&quot;&gt;&lt;br/&gt;\\xeb\\x8f\\x84\\xec\\x84\\x9c\\xea\\xb4\\x80 \\xec\\x95\\xb1 \\xec\\x9d\\xb4\\xec\\x9a\\xa9\\xed\\x95\\x98\\xeb\\xa0\\xa4\\xea\\xb3\\xa0 \\xea\\xb0\\x80\\xec\\x9e\\x85\\xed\\x95\\x98\\xeb\\xa0\\xa4\\xeb\\x8a\\x94\\xeb\\x8d\\xb0 \\xeb\\xb3\\xb8\\xec\\x9d\\xb8\\xec\\x9d\\xb8\\xec\\xa6\\x9d \\xeb\\xaa\\xa8\\xeb\\x93\\xa0 \\xec\\x88\\x98\\xeb\\x8b\\xa8 \\xed\\x9c\\xb4\\xeb\\x8c\\x80\\xed\\x8f\\xb0\\xea\\xb3\\xbc \\xec\\x95\\x84\\xec\\x9d\\xb4\\xed\\x95\\x80 \\xec\\x9d\\xb8\\xec\\xa6\\x9d \\xeb\\x8b\\xa4 \\xec\\x95\\x88 \\xeb\\x90\\xa9\\xeb\\x8b\\x88\\xeb\\x8b\\xa4. 20\\xeb\\xb2\\x88 \\xec\\x8b\\x9c\\xeb\\x8f\\x84 \\xed\\x96\\x88\\xeb\\x8a\\x94\\xeb\\x8d\\xb0 \\xeb\\x8b\\xa4 \\xec\\x95\\x88\\xeb\\x90\\xa9\\xeb\\x8b\\x88\\xeb\\x8b\\xa4. \\xed\\x99\\x94\\xea\\xb0\\x80\\xeb\\x82\\x98\\xec\\x84\\x9c \\xec\\x9d\\xb4\\xec\\x9a\\xa9\\xed\\x95\\xa0 \\xec\\x88\\x98\\xea\\xb0\\x80 \\xec\\x97\\x86\\xeb\\x84\\xa4\\xec\\x9a\\x94. \\xec\\xbf\\xa0\\xed\\x82\\xa4\\xed\\x97\\x88\\xec\\x9a\\xa9 \\xeb\\x90\\x98\\xec\\x96\\xb4\\xec\\x9e\\x88\\xeb\\x8a\\x94\\xeb\\x8d\\xb0\\xeb\\x8f\\x84 \\xec\\xbf\\xa0\\xed\\x82\\xa4\\xec\\xb0\\xa8\\xeb\\x8b\\xa8 \\xed\\x97\\x88\\xec\\x9a\\xa9\\xed\\x95\\x98\\xeb\\x9d\\xbc\\xea\\xb3\\xa0 \\xeb\\xa9\\x94\\xec\\x84\\xb8\\xec\\xa7\\x80 \\xeb\\x9c\\xa8\\xea\\xb3\\xa0 \\xeb\\xb3\\xb4\\xec\\x95\\x88\\xeb\\xac\\xb8\\xec\\x9e\\x90 \\xec\\xa0\\x9c\\xeb\\x8c\\x80\\xeb\\xa1\\x9c \\xec\\x9e\\x85\\xeb\\xa0\\xa5\\xed\\x96\\x88\\xeb\\x8a\\x94\\xeb\\x8d\\xb0\\xeb\\x8f\\x84 \\xec\\x96\\xb4\\xed\\x94\\x8c\\xec\\x9d\\xb4 \\xea\\xb5\\xac\\xeb\\xa0\\xa4\\xec\\x84\\x9c \\xec\\x9d\\xb8\\xec\\x8b\\x9d\\xeb\\x8f\\x84 \\xeb\\xaa\\xbb\\xed\\x95\\x98\\xeb\\x84\\xa4\\xec\\x9a\\x94. \\xeb\\xaa\\x87\\xea\\xb0\\x9c\\xec\\x9b\\x94 \\xec\\xa0\\x84\\xeb\\xb6\\x80\\xed\\x84\\xb0 \\xec\\xa0\\x9c\\xea\\xb8\\xb0\\xeb\\x8f\\xbc\\xec\\x99\\x94\\xeb\\x8d\\x98 \\xeb\\xac\\xb8\\xec\\xa0\\x9c\\xea\\xb0\\x99\\xec\\x9d\\x80\\xeb\\x8d\\xb0 \\xec\\x84\\xb8\\xea\\xb8\\x88\\xec\\x9c\\xbc\\xeb\\xa1\\x9c \\xec\\x9d\\xb4\\xeb\\x9f\\xb0 \\xec\\x96\\xb4\\xed\\x94\\x8c \\xeb\\xa7\\x8c\\xeb\\x93\\xa4\\xec\\x96\\xb4\\xeb\\x86\\x93\\xea\\xb3\\xa0 \\xec\\xa0\\x9c\\xeb\\x8c\\x80\\xeb\\xa1\\x9c \\xec\\x9a\\xb4\\xec\\x98\\x81\\xeb\\x8f\\x84 \\xec\\x95\\x88\\xed\\x95\\x98\\xeb\\x8a\\x94 \\xec\\x84\\x9c\\xec\\x9a\\xb8\\xec\\x8b\\x9c \\xec\\x96\\xb4\\xec\\x9d\\xb4\\xea\\xb0\\x80 \\xec\\x97\\x86\\xec\\x8a\\xb5\\xeb\\x8b\\x88\\xeb\\x8b\\xa4.&lt;/font&gt;&lt;br/&gt;\\n            \\n            \\n            \\n        &lt;/td&gt;\\n    &lt;/tr&gt;\\n&lt;/table&gt;\\n</content>\\n\\t\\t\\t\\t\\n\\t\\t\\t</entry>\\n\\t\\t\\n\\t\\t\\t<entry>\\n\\t\\t\\t\\t\\n\\t\\t\\t\\t\\t<id>6780459855</id>\\n\\t\\t\\t\\t\\n\\t\\t\\t\\t\\t<title>\\xeb\\x8f\\x84\\xec\\x84\\x9c\\xea\\xb4\\x80 \\xec\\xb9\\xb4\\xeb\\x93\\x9c \\xeb\\xb0\\x9c\\xea\\xb8\\x89</title>\\n\\t\\t\\t\\t\\n\\t\\t\\t\\t\\t<content type=\"text\">\\xeb\\x8f\\x84\\xec\\x84\\x9c\\xea\\xb4\\x80 \\xec\\xb9\\xb4\\xeb\\x93\\x9c \\xeb\\xb0\\x9c\\xea\\xb8\\x89\\xed\\x95\\x98\\xeb\\xa0\\xa4\\xea\\xb3\\xa0 \\xec\\x8b\\x9c\\xeb\\xaf\\xbc\\xec\\xb9\\xb4\\xeb\\x93\\x9c \\xec\\x95\\xb1 \\xec\\x84\\xa4\\xec\\xb9\\x98 \\xec\\x8b\\x9c\\xeb\\xaf\\xbc\\xec\\xb9\\xb4\\xeb\\x93\\x9c \\xeb\\xb0\\x9c\\xea\\xb8\\x89 \\xeb\\xb0\\x9b\\xec\\x95\\x98\\xeb\\x8a\\x94\\xeb\\x8d\\xb0 \\xea\\xb4\\x91\\xec\\xa7\\x84\\xea\\xb5\\xac \\xeb\\x8f\\x84\\xec\\x84\\x9c\\xea\\xb4\\x80 \\xeb\\xb0\\x9c\\xea\\xb8\\x89\\xec\\x8b\\x9c \\xeb\\xb9\\x84\\xeb\\xb2\\x88\\xec\\x9d\\x84 \\xec\\x98\\x81\\xeb\\xac\\xb8\\xec\\x88\\xab\\xec\\x9e\\x90\\xed\\x8a\\xb9\\xec\\x88\\x98\\xea\\xb8\\xb0\\xed\\x98\\xb8 8\\xec\\x9e\\x90 \\xec\\x9d\\xb4\\xec\\x83\\x81 \\xec\\xa7\\x84\\xec\\xa7\\x9c \\xec\\xa1\\xb0\\xed\\x95\\xa9\\xec\\x9d\\x84 30\\xeb\\xb2\\x88\\xec\\x9d\\x80 \\xed\\x99\\x95\\xec\\x9d\\xb8\\xed\\x95\\x98\\xeb\\xa9\\xb4\\xec\\x84\\x9c \\xec\\x9e\\x85\\xeb\\xa0\\xa5\\xed\\x96\\x88\\xeb\\x8a\\x94\\xeb\\x8d\\xb0 \\xea\\xb3\\x84\\xec\\x86\\x8d \\xec\\x98\\x81\\xeb\\xac\\xb8\\xec\\x88\\xab\\xec\\x9e\\x90\\xed\\x8a\\xb9\\xec\\x88\\x98\\xea\\xb8\\xb0\\xed\\x98\\xb8 \\xec\\x9e\\x85\\xeb\\xa0\\xa5\\xed\\x95\\x98\\xeb\\x9d\\xbc\\xea\\xb3\\xa0 \\xeb\\x82\\x98\\xec\\x98\\xa4\\xeb\\x84\\xa4\\xec\\x9a\\x94 \\xe3\\x85\\x9c\\xe3\\x85\\x9c \\xeb\\x8f\\x84\\xeb\\x8c\\x80\\xec\\xb2\\xb4 \\xeb\\xad\\x98 \\xec\\x96\\xb4\\xec\\xa9\\x8c\\xeb\\x9d\\xbc\\xeb\\x8a\\x94 \\xea\\xb1\\xb4\\xec\\xa7\\x80... \\xec\\x8b\\x9c\\xeb\\xaf\\xbc\\xec\\xb9\\xb4\\xeb\\x93\\x9c\\xeb\\x8f\\x84 \\xeb\\x98\\x91\\xea\\xb0\\x99\\xec\\x9d\\xb4 \\xed\\x95\\xb4\\xec\\x84\\x9c \\xec\\x9e\\x98 \\xeb\\x93\\xb1\\xeb\\xa1\\x9d\\xeb\\x90\\x90\\xeb\\x8a\\x94\\xeb\\x8d\\xb0\\xec\\x9a\\x94.  \\xec\\x98\\xa4\\xeb\\xa5\\x98\\xec\\x9d\\xb8\\xec\\xa7\\x80 \\xed\\x99\\x95\\xec\\x9d\\xb8 \\xeb\\xb6\\x80\\xed\\x83\\x81\\xeb\\x93\\x9c\\xeb\\xa6\\xbd\\xeb\\x8b\\x88\\xeb\\x8b\\xa4.</content>\\n\\t\\t\\t\\t\\n\\t\\t\\t\\t\\t<im:contentType term=\"Application\" label=\"\\xec\\x95\\xb1\"/>\\n\\t\\t\\t\\t\\n\\t\\t\\t\\t\\t<im:voteSum>0</im:voteSum>\\n\\t\\t\\t\\t\\n\\t\\t\\t\\t\\t<im:voteCount>0</im:voteCount>\\n\\t\\t\\t\\t\\n\\t\\t\\t\\t\\t<im:rating>2</im:rating>\\n\\t\\t\\t\\t\\n\\t\\t\\t\\t\\t<updated>2020-12-22T00:27:07-07:00</updated>\\n\\t\\t\\t\\t\\n\\t\\t\\t\\t\\t<im:version>1.1.44</im:version>\\n\\t\\t\\t\\t\\n\\t\\t\\t\\t\\t<author><name>\\xed\\x83\\xac</name><uri>https://itunes.apple.com/kr/reviews/id154880750</uri></author>\\n\\t\\t\\t\\t\\n\\t\\t\\t\\t\\t<link rel=\"related\" href=\"https://itunes.apple.com/kr/review?id=1318541802&amp;type=Purple%20Software\"/>\\n\\t\\t\\t\\t\\n\\t\\t\\t\\t\\n\\t\\t\\t\\t\\t<content type=\"html\">&lt;table border=&quot;0&quot; width=&quot;100%&quot;&gt;\\n    &lt;tr&gt;\\n        &lt;td&gt;\\n            &lt;table border=&quot;0&quot; width=&quot;100%&quot; cellspacing=&quot;0&quot; cellpadding=&quot;0&quot;&gt;\\n                &lt;tr valign=&quot;top&quot; align=&quot;left&quot;&gt;\\n                    \\n                    \\n                    \\t&lt;td width=&quot;100%&quot;&gt;\\n                    \\n                        &lt;b&gt;&lt;a href=&quot;https://apps.apple.com/kr/app/%EC%84%9C%EC%9A%B8%EC%8B%9C%EB%AF%BC%EC%B9%B4%EB%93%9C/id1318541802?uo=2&quot;&gt;\\xeb\\x8f\\x84\\xec\\x84\\x9c\\xea\\xb4\\x80 \\xec\\xb9\\xb4\\xeb\\x93\\x9c \\xeb\\xb0\\x9c\\xea\\xb8\\x89&lt;/a&gt;&lt;/b&gt;&lt;br/&gt;\\n                        \\n                        \\n                        \\n                        \\n\\n                        \\n\\n                       &lt;font size=&quot;2&quot; face=&quot;Helvetica,Arial,Geneva,Swiss,SunSans-Regular&quot;&gt;\\n\\t\\t\\t\\t\\t\\t\\n                        &lt;/font&gt;\\n                    &lt;/td&gt;\\n                &lt;/tr&gt;\\n            &lt;/table&gt;\\n        &lt;/td&gt;\\n    &lt;/tr&gt;\\n    &lt;tr&gt;\\n        &lt;td&gt;\\n            \\n                &lt;font size=&quot;2&quot; face=&quot;Helvetica,Arial,Geneva,Swiss,SunSans-Regular&quot;&gt;&lt;br/&gt;\\xeb\\x8f\\x84\\xec\\x84\\x9c\\xea\\xb4\\x80 \\xec\\xb9\\xb4\\xeb\\x93\\x9c \\xeb\\xb0\\x9c\\xea\\xb8\\x89\\xed\\x95\\x98\\xeb\\xa0\\xa4\\xea\\xb3\\xa0 \\xec\\x8b\\x9c\\xeb\\xaf\\xbc\\xec\\xb9\\xb4\\xeb\\x93\\x9c \\xec\\x95\\xb1 \\xec\\x84\\xa4\\xec\\xb9\\x98 \\xec\\x8b\\x9c\\xeb\\xaf\\xbc\\xec\\xb9\\xb4\\xeb\\x93\\x9c \\xeb\\xb0\\x9c\\xea\\xb8\\x89 \\xeb\\xb0\\x9b\\xec\\x95\\x98\\xeb\\x8a\\x94\\xeb\\x8d\\xb0 \\xea\\xb4\\x91\\xec\\xa7\\x84\\xea\\xb5\\xac \\xeb\\x8f\\x84\\xec\\x84\\x9c\\xea\\xb4\\x80 \\xeb\\xb0\\x9c\\xea\\xb8\\x89\\xec\\x8b\\x9c \\xeb\\xb9\\x84\\xeb\\xb2\\x88\\xec\\x9d\\x84 \\xec\\x98\\x81\\xeb\\xac\\xb8\\xec\\x88\\xab\\xec\\x9e\\x90\\xed\\x8a\\xb9\\xec\\x88\\x98\\xea\\xb8\\xb0\\xed\\x98\\xb8 8\\xec\\x9e\\x90 \\xec\\x9d\\xb4\\xec\\x83\\x81 \\xec\\xa7\\x84\\xec\\xa7\\x9c \\xec\\xa1\\xb0\\xed\\x95\\xa9\\xec\\x9d\\x84 30\\xeb\\xb2\\x88\\xec\\x9d\\x80 \\xed\\x99\\x95\\xec\\x9d\\xb8\\xed\\x95\\x98\\xeb\\xa9\\xb4\\xec\\x84\\x9c \\xec\\x9e\\x85\\xeb\\xa0\\xa5\\xed\\x96\\x88\\xeb\\x8a\\x94\\xeb\\x8d\\xb0 \\xea\\xb3\\x84\\xec\\x86\\x8d \\xec\\x98\\x81\\xeb\\xac\\xb8\\xec\\x88\\xab\\xec\\x9e\\x90\\xed\\x8a\\xb9\\xec\\x88\\x98\\xea\\xb8\\xb0\\xed\\x98\\xb8 \\xec\\x9e\\x85\\xeb\\xa0\\xa5\\xed\\x95\\x98\\xeb\\x9d\\xbc\\xea\\xb3\\xa0 \\xeb\\x82\\x98\\xec\\x98\\xa4\\xeb\\x84\\xa4\\xec\\x9a\\x94 \\xe3\\x85\\x9c\\xe3\\x85\\x9c \\xeb\\x8f\\x84\\xeb\\x8c\\x80\\xec\\xb2\\xb4 \\xeb\\xad\\x98 \\xec\\x96\\xb4\\xec\\xa9\\x8c\\xeb\\x9d\\xbc\\xeb\\x8a\\x94 \\xea\\xb1\\xb4\\xec\\xa7\\x80... \\xec\\x8b\\x9c\\xeb\\xaf\\xbc\\xec\\xb9\\xb4\\xeb\\x93\\x9c\\xeb\\x8f\\x84 \\xeb\\x98\\x91\\xea\\xb0\\x99\\xec\\x9d\\xb4 \\xed\\x95\\xb4\\xec\\x84\\x9c \\xec\\x9e\\x98 \\xeb\\x93\\xb1\\xeb\\xa1\\x9d\\xeb\\x90\\x90\\xeb\\x8a\\x94\\xeb\\x8d\\xb0\\xec\\x9a\\x94.  \\xec\\x98\\xa4\\xeb\\xa5\\x98\\xec\\x9d\\xb8\\xec\\xa7\\x80 \\xed\\x99\\x95\\xec\\x9d\\xb8 \\xeb\\xb6\\x80\\xed\\x83\\x81\\xeb\\x93\\x9c\\xeb\\xa6\\xbd\\xeb\\x8b\\x88\\xeb\\x8b\\xa4.&lt;/font&gt;&lt;br/&gt;\\n            \\n            \\n            \\n        &lt;/td&gt;\\n    &lt;/tr&gt;\\n&lt;/table&gt;\\n</content>\\n\\t\\t\\t\\t\\n\\t\\t\\t</entry>\\n\\t\\t\\n\\t\\t\\t<entry>\\n\\t\\t\\t\\t\\n\\t\\t\\t\\t\\t<id>6628570611</id>\\n\\t\\t\\t\\t\\n\\t\\t\\t\\t\\t<title>\\xed\\x8e\\xb8\\xed\\x95\\xb4\\xec\\x9a\\x94</title>\\n\\t\\t\\t\\t\\n\\t\\t\\t\\t\\t<content type=\"text\">\\xec\\x95\\xb1\\xed\\x95\\x98\\xeb\\x82\\x98\\xeb\\xa1\\x9c \\xec\\x9d\\xb4\\xec\\x9a\\xa9\\xec\\x9d\\xb4 \\xed\\x8e\\xb8\\xeb\\xa6\\xac\\xed\\x95\\xb4\\xec\\x97\\xac</content>\\n\\t\\t\\t\\t\\n\\t\\t\\t\\t\\t<im:contentType term=\"Application\" label=\"\\xec\\x95\\xb1\"/>\\n\\t\\t\\t\\t\\n\\t\\t\\t\\t\\t<im:voteSum>0</im:voteSum>\\n\\t\\t\\t\\t\\n\\t\\t\\t\\t\\t<im:voteCount>0</im:voteCount>\\n\\t\\t\\t\\t\\n\\t\\t\\t\\t\\t<im:rating>5</im:rating>\\n\\t\\t\\t\\t\\n\\t\\t\\t\\t\\t<updated>2020-11-09T23:46:34-07:00</updated>\\n\\t\\t\\t\\t\\n\\t\\t\\t\\t\\t<im:version>1.1.37</im:version>\\n\\t\\t\\t\\t\\n\\t\\t\\t\\t\\t<author><name>Having 7</name><uri>https://itunes.apple.com/kr/reviews/id1041882066</uri></author>\\n\\t\\t\\t\\t\\n\\t\\t\\t\\t\\t<link rel=\"related\" href=\"https://itunes.apple.com/kr/review?id=1318541802&amp;type=Purple%20Software\"/>\\n\\t\\t\\t\\t\\n\\t\\t\\t\\t\\n\\t\\t\\t\\t\\t<content type=\"html\">&lt;table border=&quot;0&quot; width=&quot;100%&quot;&gt;\\n    &lt;tr&gt;\\n        &lt;td&gt;\\n            &lt;table border=&quot;0&quot; width=&quot;100%&quot; cellspacing=&quot;0&quot; cellpadding=&quot;0&quot;&gt;\\n                &lt;tr valign=&quot;top&quot; align=&quot;left&quot;&gt;\\n                    \\n                    \\n                    \\t&lt;td width=&quot;100%&quot;&gt;\\n                    \\n                        &lt;b&gt;&lt;a href=&quot;https://apps.apple.com/kr/app/%EC%84%9C%EC%9A%B8%EC%8B%9C%EB%AF%BC%EC%B9%B4%EB%93%9C/id1318541802?uo=2&quot;&gt;\\xed\\x8e\\xb8\\xed\\x95\\xb4\\xec\\x9a\\x94&lt;/a&gt;&lt;/b&gt;&lt;br/&gt;\\n                        \\n                        \\n                        \\n                        \\n\\n                        \\n\\n                       &lt;font size=&quot;2&quot; face=&quot;Helvetica,Arial,Geneva,Swiss,SunSans-Regular&quot;&gt;\\n\\t\\t\\t\\t\\t\\t\\n                        &lt;/font&gt;\\n                    &lt;/td&gt;\\n                &lt;/tr&gt;\\n            &lt;/table&gt;\\n        &lt;/td&gt;\\n    &lt;/tr&gt;\\n    &lt;tr&gt;\\n        &lt;td&gt;\\n            \\n                &lt;font size=&quot;2&quot; face=&quot;Helvetica,Arial,Geneva,Swiss,SunSans-Regular&quot;&gt;&lt;br/&gt;\\xec\\x95\\xb1\\xed\\x95\\x98\\xeb\\x82\\x98\\xeb\\xa1\\x9c \\xec\\x9d\\xb4\\xec\\x9a\\xa9\\xec\\x9d\\xb4 \\xed\\x8e\\xb8\\xeb\\xa6\\xac\\xed\\x95\\xb4\\xec\\x97\\xac&lt;/font&gt;&lt;br/&gt;\\n            \\n            \\n            \\n        &lt;/td&gt;\\n    &lt;/tr&gt;\\n&lt;/table&gt;\\n</content>\\n\\t\\t\\t\\t\\n\\t\\t\\t</entry>\\n\\t\\t\\n\\t\\t\\t<entry>\\n\\t\\t\\t\\t\\n\\t\\t\\t\\t\\t<id>6609584964</id>\\n\\t\\t\\t\\t\\n\\t\\t\\t\\t\\t<title>\\xec\\x8b\\x9c\\xec\\x84\\xa4\\xec\\xb9\\xb4\\xeb\\x93\\x9c\\xec\\xb6\\x94\\xea\\xb0\\x80\\xec\\x99\\x9c \\xec\\x95\\x88\\xeb\\x90\\x98\\xeb\\x82\\x98\\xec\\x9a\\x94??</title>\\n\\t\\t\\t\\t\\n\\t\\t\\t\\t\\t<content type=\"text\">\\xec\\x9c\\xa1\\xec\\x95\\x84\\xec\\xa2\\x85\\xed\\x95\\xa9\\xec\\xa7\\x80\\xec\\x9b\\x90\\xec\\xb9\\xb4\\xeb\\x93\\x9c \\xeb\\x93\\xb1\\xeb\\xa1\\x9d\\xed\\x95\\x98\\xeb\\xa0\\xa4\\xea\\xb3\\xa0 \\xed\\x95\\x98\\xeb\\x8a\\x94\\xeb\\x8d\\xb0 \\xea\\xb3\\x84\\xec\\x86\\x8d \\xec\\xa7\\x80\\xec\\x97\\xb0\\xeb\\x90\\x98\\xea\\xb3\\xa0 \\xeb\\x93\\xb1\\xeb\\xa1\\x9d\\xec\\x9d\\xb4 \\xec\\x95\\x88\\xeb\\x90\\x98\\xeb\\x84\\xa4\\xec\\x9a\\x94..</content>\\n\\t\\t\\t\\t\\n\\t\\t\\t\\t\\t<im:contentType term=\"Application\" label=\"\\xec\\x95\\xb1\"/>\\n\\t\\t\\t\\t\\n\\t\\t\\t\\t\\t<im:voteSum>0</im:voteSum>\\n\\t\\t\\t\\t\\n\\t\\t\\t\\t\\t<im:voteCount>0</im:voteCount>\\n\\t\\t\\t\\t\\n\\t\\t\\t\\t\\t<im:rating>5</im:rating>\\n\\t\\t\\t\\t\\n\\t\\t\\t\\t\\t<updated>2020-11-04T15:38:18-07:00</updated>\\n\\t\\t\\t\\t\\n\\t\\t\\t\\t\\t<im:version>1.1.37</im:version>\\n\\t\\t\\t\\t\\n\\t\\t\\t\\t\\t<author><name>\\xec\\x82\\xac\\xec\\x9a\\xa9\\xec\\x9e\\x90\\xec\\x9e\\x84\\xeb\\x8f\\xa0aa</name><uri>https://itunes.apple.com/kr/reviews/id225430277</uri></author>\\n\\t\\t\\t\\t\\n\\t\\t\\t\\t\\t<link rel=\"related\" href=\"https://itunes.apple.com/kr/review?id=1318541802&amp;type=Purple%20Software\"/>\\n\\t\\t\\t\\t\\n\\t\\t\\t\\t\\n\\t\\t\\t\\t\\t<content type=\"html\">&lt;table border=&quot;0&quot; width=&quot;100%&quot;&gt;\\n    &lt;tr&gt;\\n        &lt;td&gt;\\n            &lt;table border=&quot;0&quot; width=&quot;100%&quot; cellspacing=&quot;0&quot; cellpadding=&quot;0&quot;&gt;\\n                &lt;tr valign=&quot;top&quot; align=&quot;left&quot;&gt;\\n                    \\n                    \\n                    \\t&lt;td width=&quot;100%&quot;&gt;\\n                    \\n                        &lt;b&gt;&lt;a href=&quot;https://apps.apple.com/kr/app/%EC%84%9C%EC%9A%B8%EC%8B%9C%EB%AF%BC%EC%B9%B4%EB%93%9C/id1318541802?uo=2&quot;&gt;\\xec\\x8b\\x9c\\xec\\x84\\xa4\\xec\\xb9\\xb4\\xeb\\x93\\x9c\\xec\\xb6\\x94\\xea\\xb0\\x80\\xec\\x99\\x9c \\xec\\x95\\x88\\xeb\\x90\\x98\\xeb\\x82\\x98\\xec\\x9a\\x94??&lt;/a&gt;&lt;/b&gt;&lt;br/&gt;\\n                        \\n                        \\n                        \\n                        \\n\\n                        \\n\\n                       &lt;font size=&quot;2&quot; face=&quot;Helvetica,Arial,Geneva,Swiss,SunSans-Regular&quot;&gt;\\n\\t\\t\\t\\t\\t\\t\\n                        &lt;/font&gt;\\n                    &lt;/td&gt;\\n                &lt;/tr&gt;\\n            &lt;/table&gt;\\n        &lt;/td&gt;\\n    &lt;/tr&gt;\\n    &lt;tr&gt;\\n        &lt;td&gt;\\n            \\n                &lt;font size=&quot;2&quot; face=&quot;Helvetica,Arial,Geneva,Swiss,SunSans-Regular&quot;&gt;&lt;br/&gt;\\xec\\x9c\\xa1\\xec\\x95\\x84\\xec\\xa2\\x85\\xed\\x95\\xa9\\xec\\xa7\\x80\\xec\\x9b\\x90\\xec\\xb9\\xb4\\xeb\\x93\\x9c \\xeb\\x93\\xb1\\xeb\\xa1\\x9d\\xed\\x95\\x98\\xeb\\xa0\\xa4\\xea\\xb3\\xa0 \\xed\\x95\\x98\\xeb\\x8a\\x94\\xeb\\x8d\\xb0 \\xea\\xb3\\x84\\xec\\x86\\x8d \\xec\\xa7\\x80\\xec\\x97\\xb0\\xeb\\x90\\x98\\xea\\xb3\\xa0 \\xeb\\x93\\xb1\\xeb\\xa1\\x9d\\xec\\x9d\\xb4 \\xec\\x95\\x88\\xeb\\x90\\x98\\xeb\\x84\\xa4\\xec\\x9a\\x94..&lt;/font&gt;&lt;br/&gt;\\n            \\n            \\n            \\n        &lt;/td&gt;\\n    &lt;/tr&gt;\\n&lt;/table&gt;\\n</content>\\n\\t\\t\\t\\t\\n\\t\\t\\t</entry>\\n\\t\\t\\n\\t\\t\\t<entry>\\n\\t\\t\\t\\t\\n\\t\\t\\t\\t\\t<id>6528738458</id>\\n\\t\\t\\t\\t\\n\\t\\t\\t\\t\\t<title>\\xec\\x84\\xb8\\xec\\x85\\x98\\xea\\xb0\\x92\\xec\\x9d\\xb4 \\xec\\x9c\\xa0\\xed\\x9a\\xa8\\xed\\x95\\x98\\xec\\xa7\\x80\\xec\\x95\\x8a\\xeb\\x8d\\xb0\\xec\\x9a\\x94</title>\\n\\t\\t\\t\\t\\n\\t\\t\\t\\t\\t<content type=\"text\">pass \\xea\\xb3\\x84\\xec\\x86\\x8d\\xed\\x95\\x98\\xeb\\x8a\\x94\\xeb\\x8d\\xb0 \\xec\\x84\\xb8\\xec\\x85\\x98\\xea\\xb0\\x96\\xe3\\x85\\x85 \\xec\\x9c\\xa0\\xed\\x9a\\xa8\\xed\\x95\\x98\\xec\\xa7\\x80\\xec\\x95\\x8a\\xeb\\x8b\\xa4\\xea\\xb3\\xa0 \\xeb\\x9c\\xa8\\xea\\xb3\\xa0 \\xeb\\xb3\\xb4\\xec\\x95\\x88\\xeb\\xac\\xb8\\xec\\x9e\\x90\\xea\\xb0\\x80 \\xec\\x88\\xab\\xec\\x9e\\x90\\xec\\x97\\x86\\xec\\x96\\xb4\\xec\\xa7\\x80\\xea\\xb3\\xa0 \\xec\\x98\\x81\\xec\\x96\\xb4\\xeb\\xac\\xb8\\xec\\x9e\\x90\\xeb\\xa7\\x8c\\xeb\\x82\\x98\\xec\\x98\\xa4\\xeb\\x8a\\x94\\xeb\\x8d\\xb0 \\xec\\x95\\x84\\xec\\x98\\x88 \\xec\\x98\\x81\\xec\\x96\\xb4\\xeb\\xac\\xb8\\xec\\x9e\\x90\\xeb\\x8a\\x94 \\xec\\x9e\\x85\\xeb\\xa0\\xa5\\xeb\\x8f\\x84 \\xeb\\x90\\x98\\xec\\xa7\\x80\\xeb\\x8f\\x84\\xec\\x95\\x8a\\xeb\\x84\\xa4\\xec\\x9a\\x94\\n\\n\\xed\\x99\\x95\\xec\\x9d\\xb8\\xec\\xa2\\x80\\xed\\x95\\x98\\xea\\xb3\\xa0 \\xec\\x95\\xb1 \\xec\\x98\\xac\\xeb\\xa0\\xa4\\xec\\xa3\\xbc\\xec\\x85\\x94\\xec\\x95\\xbc\\xec\\xa3\\xa0 \\xec\\x98\\xa4\\xeb\\xa5\\x98\\xea\\xb0\\x80 \\xeb\\xa7\\x8e\\xec\\x95\\x84\\xeb\\xb3\\xb4\\xec\\x9d\\xb4\\xeb\\x84\\xa4\\xec\\x9a\\x94</content>\\n\\t\\t\\t\\t\\n\\t\\t\\t\\t\\t<im:contentType term=\"Application\" label=\"\\xec\\x95\\xb1\"/>\\n\\t\\t\\t\\t\\n\\t\\t\\t\\t\\t<im:voteSum>0</im:voteSum>\\n\\t\\t\\t\\t\\n\\t\\t\\t\\t\\t<im:voteCount>0</im:voteCount>\\n\\t\\t\\t\\t\\n\\t\\t\\t\\t\\t<im:rating>1</im:rating>\\n\\t\\t\\t\\t\\n\\t\\t\\t\\t\\t<updated>2020-10-12T14:52:13-07:00</updated>\\n\\t\\t\\t\\t\\n\\t\\t\\t\\t\\t<im:version>1.1.25</im:version>\\n\\t\\t\\t\\t\\n\\t\\t\\t\\t\\t<author><name>\\xec\\xb9\\xb4\\xed\\x86\\xa1duck13</name><uri>https://itunes.apple.com/kr/reviews/id103669412</uri></author>\\n\\t\\t\\t\\t\\n\\t\\t\\t\\t\\t<link rel=\"related\" href=\"https://itunes.apple.com/kr/review?id=1318541802&amp;type=Purple%20Software\"/>\\n\\t\\t\\t\\t\\n\\t\\t\\t\\t\\n\\t\\t\\t\\t\\t<content type=\"html\">&lt;table border=&quot;0&quot; width=&quot;100%&quot;&gt;\\n    &lt;tr&gt;\\n        &lt;td&gt;\\n            &lt;table border=&quot;0&quot; width=&quot;100%&quot; cellspacing=&quot;0&quot; cellpadding=&quot;0&quot;&gt;\\n                &lt;tr valign=&quot;top&quot; align=&quot;left&quot;&gt;\\n                    \\n                    \\n                    \\t&lt;td width=&quot;100%&quot;&gt;\\n                    \\n                        &lt;b&gt;&lt;a href=&quot;https://apps.apple.com/kr/app/%EC%84%9C%EC%9A%B8%EC%8B%9C%EB%AF%BC%EC%B9%B4%EB%93%9C/id1318541802?uo=2&quot;&gt;\\xec\\x84\\xb8\\xec\\x85\\x98\\xea\\xb0\\x92\\xec\\x9d\\xb4 \\xec\\x9c\\xa0\\xed\\x9a\\xa8\\xed\\x95\\x98\\xec\\xa7\\x80\\xec\\x95\\x8a\\xeb\\x8d\\xb0\\xec\\x9a\\x94&lt;/a&gt;&lt;/b&gt;&lt;br/&gt;\\n                        \\n                        \\n                        \\n                        \\n\\n                        \\n\\n                       &lt;font size=&quot;2&quot; face=&quot;Helvetica,Arial,Geneva,Swiss,SunSans-Regular&quot;&gt;\\n\\t\\t\\t\\t\\t\\t\\n                        &lt;/font&gt;\\n                    &lt;/td&gt;\\n                &lt;/tr&gt;\\n            &lt;/table&gt;\\n        &lt;/td&gt;\\n    &lt;/tr&gt;\\n    &lt;tr&gt;\\n        &lt;td&gt;\\n            \\n                &lt;font size=&quot;2&quot; face=&quot;Helvetica,Arial,Geneva,Swiss,SunSans-Regular&quot;&gt;&lt;br/&gt;pass \\xea\\xb3\\x84\\xec\\x86\\x8d\\xed\\x95\\x98\\xeb\\x8a\\x94\\xeb\\x8d\\xb0 \\xec\\x84\\xb8\\xec\\x85\\x98\\xea\\xb0\\x96\\xe3\\x85\\x85 \\xec\\x9c\\xa0\\xed\\x9a\\xa8\\xed\\x95\\x98\\xec\\xa7\\x80\\xec\\x95\\x8a\\xeb\\x8b\\xa4\\xea\\xb3\\xa0 \\xeb\\x9c\\xa8\\xea\\xb3\\xa0 \\xeb\\xb3\\xb4\\xec\\x95\\x88\\xeb\\xac\\xb8\\xec\\x9e\\x90\\xea\\xb0\\x80 \\xec\\x88\\xab\\xec\\x9e\\x90\\xec\\x97\\x86\\xec\\x96\\xb4\\xec\\xa7\\x80\\xea\\xb3\\xa0 \\xec\\x98\\x81\\xec\\x96\\xb4\\xeb\\xac\\xb8\\xec\\x9e\\x90\\xeb\\xa7\\x8c\\xeb\\x82\\x98\\xec\\x98\\xa4\\xeb\\x8a\\x94\\xeb\\x8d\\xb0 \\xec\\x95\\x84\\xec\\x98\\x88 \\xec\\x98\\x81\\xec\\x96\\xb4\\xeb\\xac\\xb8\\xec\\x9e\\x90\\xeb\\x8a\\x94 \\xec\\x9e\\x85\\xeb\\xa0\\xa5\\xeb\\x8f\\x84 \\xeb\\x90\\x98\\xec\\xa7\\x80\\xeb\\x8f\\x84\\xec\\x95\\x8a\\xeb\\x84\\xa4\\xec\\x9a\\x94&lt;br/&gt;&lt;br/&gt;\\xed\\x99\\x95\\xec\\x9d\\xb8\\xec\\xa2\\x80\\xed\\x95\\x98\\xea\\xb3\\xa0 \\xec\\x95\\xb1 \\xec\\x98\\xac\\xeb\\xa0\\xa4\\xec\\xa3\\xbc\\xec\\x85\\x94\\xec\\x95\\xbc\\xec\\xa3\\xa0 \\xec\\x98\\xa4\\xeb\\xa5\\x98\\xea\\xb0\\x80 \\xeb\\xa7\\x8e\\xec\\x95\\x84\\xeb\\xb3\\xb4\\xec\\x9d\\xb4\\xeb\\x84\\xa4\\xec\\x9a\\x94&lt;/font&gt;&lt;br/&gt;\\n            \\n            \\n            \\n        &lt;/td&gt;\\n    &lt;/tr&gt;\\n&lt;/table&gt;\\n</content>\\n\\t\\t\\t\\t\\n\\t\\t\\t</entry>\\n\\t\\t\\n\\t\\t\\t<entry>\\n\\t\\t\\t\\t\\n\\t\\t\\t\\t\\t<id>6235194146</id>\\n\\t\\t\\t\\t\\n\\t\\t\\t\\t\\t<title>\\xeb\\xb0\\x94\\xec\\xbd\\x94\\xeb\\x93\\x9c \\xec\\x9d\\xb8\\xec\\x8b\\x9d\\xec\\x95\\x88\\xeb\\x90\\x98\\xec\\x9e\\x90\\xeb\\x82\\x98\\xec\\x9a\\x94\\xe3\\x85\\xa1\\xe3\\x85\\xa1</title>\\n\\t\\t\\t\\t\\n\\t\\t\\t\\t\\t<content type=\"text\">\\xeb\\xb0\\x94\\xec\\xbd\\x94\\xeb\\x93\\x9c\\xeb\\xa5\\xbc \\xec\\xa2\\x80 \\xed\\x81\\xac\\xea\\xb2\\x8c \\xeb\\xa7\\x8c\\xeb\\x93\\xa4\\xeb\\x8d\\x98\\xec\\xa7\\x80 \\xec\\x99\\x9c\\xec\\x9d\\xb4\\xeb\\xa0\\x87\\xea\\xb2\\x8c \\xec\\x9e\\x91 \\xea\\xb2\\x8c \\xeb\\xa7\\x8c\\xeb\\x93\\xa4\\xec\\x96\\xb4\\xec\\x84\\x9c\\xeb\\x8c\\x80\\xec\\xb6\\x9c\\xeb\\x8f\\x84 \\xeb\\xaa\\xbb\\xed\\x95\\x98\\xea\\xb2\\x8c\\xeb\\x81\\x94 \\xeb\\xa7\\x8c\\xeb\\x93\\xa4\\xec\\x96\\xb4\\xec\\x9a\\x94</content>\\n\\t\\t\\t\\t\\n\\t\\t\\t\\t\\t<im:contentType term=\"Application\" label=\"\\xec\\x95\\xb1\"/>\\n\\t\\t\\t\\t\\n\\t\\t\\t\\t\\t<im:voteSum>0</im:voteSum>\\n\\t\\t\\t\\t\\n\\t\\t\\t\\t\\t<im:voteCount>0</im:voteCount>\\n\\t\\t\\t\\t\\n\\t\\t\\t\\t\\t<im:rating>1</im:rating>\\n\\t\\t\\t\\t\\n\\t\\t\\t\\t\\t<updated>2020-07-24T00:30:07-07:00</updated>\\n\\t\\t\\t\\t\\n\\t\\t\\t\\t\\t<im:version>1.0.5</im:version>\\n\\t\\t\\t\\t\\n\\t\\t\\t\\t\\t<author><name>\\xec\\x8b\\x9c\\xeb\\xb0\\x9c\\xe3\\x84\\xb9\\xe3\\x84\\xb9\\xe3\\x84\\xb9\\xe3\\x84\\xb9</name><uri>https://itunes.apple.com/kr/reviews/id479693039</uri></author>\\n\\t\\t\\t\\t\\n\\t\\t\\t\\t\\t<link rel=\"related\" href=\"https://itunes.apple.com/kr/review?id=1318541802&amp;type=Purple%20Software\"/>\\n\\t\\t\\t\\t\\n\\t\\t\\t\\t\\n\\t\\t\\t\\t\\t<content type=\"html\">&lt;table border=&quot;0&quot; width=&quot;100%&quot;&gt;\\n    &lt;tr&gt;\\n        &lt;td&gt;\\n            &lt;table border=&quot;0&quot; width=&quot;100%&quot; cellspacing=&quot;0&quot; cellpadding=&quot;0&quot;&gt;\\n                &lt;tr valign=&quot;top&quot; align=&quot;left&quot;&gt;\\n                    \\n                    \\n                    \\t&lt;td width=&quot;100%&quot;&gt;\\n                    \\n                        &lt;b&gt;&lt;a href=&quot;https://apps.apple.com/kr/app/%EC%84%9C%EC%9A%B8%EC%8B%9C%EB%AF%BC%EC%B9%B4%EB%93%9C/id1318541802?uo=2&quot;&gt;\\xeb\\xb0\\x94\\xec\\xbd\\x94\\xeb\\x93\\x9c \\xec\\x9d\\xb8\\xec\\x8b\\x9d\\xec\\x95\\x88\\xeb\\x90\\x98\\xec\\x9e\\x90\\xeb\\x82\\x98\\xec\\x9a\\x94\\xe3\\x85\\xa1\\xe3\\x85\\xa1&lt;/a&gt;&lt;/b&gt;&lt;br/&gt;\\n                        \\n                        \\n                        \\n                        \\n\\n                        \\n\\n                       &lt;font size=&quot;2&quot; face=&quot;Helvetica,Arial,Geneva,Swiss,SunSans-Regular&quot;&gt;\\n\\t\\t\\t\\t\\t\\t\\n                        &lt;/font&gt;\\n                    &lt;/td&gt;\\n                &lt;/tr&gt;\\n            &lt;/table&gt;\\n        &lt;/td&gt;\\n    &lt;/tr&gt;\\n    &lt;tr&gt;\\n        &lt;td&gt;\\n            \\n                &lt;font size=&quot;2&quot; face=&quot;Helvetica,Arial,Geneva,Swiss,SunSans-Regular&quot;&gt;&lt;br/&gt;\\xeb\\xb0\\x94\\xec\\xbd\\x94\\xeb\\x93\\x9c\\xeb\\xa5\\xbc \\xec\\xa2\\x80 \\xed\\x81\\xac\\xea\\xb2\\x8c \\xeb\\xa7\\x8c\\xeb\\x93\\xa4\\xeb\\x8d\\x98\\xec\\xa7\\x80 \\xec\\x99\\x9c\\xec\\x9d\\xb4\\xeb\\xa0\\x87\\xea\\xb2\\x8c \\xec\\x9e\\x91 \\xea\\xb2\\x8c \\xeb\\xa7\\x8c\\xeb\\x93\\xa4\\xec\\x96\\xb4\\xec\\x84\\x9c\\xeb\\x8c\\x80\\xec\\xb6\\x9c\\xeb\\x8f\\x84 \\xeb\\xaa\\xbb\\xed\\x95\\x98\\xea\\xb2\\x8c\\xeb\\x81\\x94 \\xeb\\xa7\\x8c\\xeb\\x93\\xa4\\xec\\x96\\xb4\\xec\\x9a\\x94&lt;/font&gt;&lt;br/&gt;\\n            \\n            \\n            \\n        &lt;/td&gt;\\n    &lt;/tr&gt;\\n&lt;/table&gt;\\n</content>\\n\\t\\t\\t\\t\\n\\t\\t\\t</entry>\\n\\t\\t\\n\\t\\t\\t<entry>\\n\\t\\t\\t\\t\\n\\t\\t\\t\\t\\t<id>5943004860</id>\\n\\t\\t\\t\\t\\n\\t\\t\\t\\t\\t<title>\\xec\\x95\\xb1\\xec\\x9d\\xb4 \\xec\\x8b\\xa4\\xed\\x96\\x89\\xec\\x9d\\xb4 \\xec\\x95\\x88\\xeb\\x90\\x98\\xec\\x9a\\x94</title>\\n\\t\\t\\t\\t\\n\\t\\t\\t\\t\\t<content type=\"text\">\\xec\\x95\\xb1\\xec\\x9d\\xb4 \\xec\\xa0\\x84\\xed\\x98\\x80 \\xec\\x95\\x88\\xeb\\x90\\xa9\\xeb\\x8b\\x88\\xeb\\x8b\\xa4 \\xec\\x88\\x98\\xec\\xa0\\x95\\xed\\x95\\xb4\\xec\\xa3\\xbc\\xec\\x84\\xb8\\xec\\x9a\\x94</content>\\n\\t\\t\\t\\t\\n\\t\\t\\t\\t\\t<im:contentType term=\"Application\" label=\"\\xec\\x95\\xb1\"/>\\n\\t\\t\\t\\t\\n\\t\\t\\t\\t\\t<im:voteSum>0</im:voteSum>\\n\\t\\t\\t\\t\\n\\t\\t\\t\\t\\t<im:voteCount>0</im:voteCount>\\n\\t\\t\\t\\t\\n\\t\\t\\t\\t\\t<im:rating>2</im:rating>\\n\\t\\t\\t\\t\\n\\t\\t\\t\\t\\t<updated>2020-05-13T23:10:19-07:00</updated>\\n\\t\\t\\t\\t\\n\\t\\t\\t\\t\\t<im:version>1.0.4</im:version>\\n\\t\\t\\t\\t\\n\\t\\t\\t\\t\\t<author><name>\\xeb\\x82\\x98\\xec\\x9c\\xbc\\xec\\x98\\xa4</name><uri>https://itunes.apple.com/kr/reviews/id1070812058</uri></author>\\n\\t\\t\\t\\t\\n\\t\\t\\t\\t\\t<link rel=\"related\" href=\"https://itunes.apple.com/kr/review?id=1318541802&amp;type=Purple%20Software\"/>\\n\\t\\t\\t\\t\\n\\t\\t\\t\\t\\n\\t\\t\\t\\t\\t<content type=\"html\">&lt;table border=&quot;0&quot; width=&quot;100%&quot;&gt;\\n    &lt;tr&gt;\\n        &lt;td&gt;\\n            &lt;table border=&quot;0&quot; width=&quot;100%&quot; cellspacing=&quot;0&quot; cellpadding=&quot;0&quot;&gt;\\n                &lt;tr valign=&quot;top&quot; align=&quot;left&quot;&gt;\\n                    \\n                    \\n                    \\t&lt;td width=&quot;100%&quot;&gt;\\n                    \\n                        &lt;b&gt;&lt;a href=&quot;https://apps.apple.com/kr/app/%EC%84%9C%EC%9A%B8%EC%8B%9C%EB%AF%BC%EC%B9%B4%EB%93%9C/id1318541802?uo=2&quot;&gt;\\xec\\x95\\xb1\\xec\\x9d\\xb4 \\xec\\x8b\\xa4\\xed\\x96\\x89\\xec\\x9d\\xb4 \\xec\\x95\\x88\\xeb\\x90\\x98\\xec\\x9a\\x94&lt;/a&gt;&lt;/b&gt;&lt;br/&gt;\\n                        \\n                        \\n                        \\n                        \\n\\n                        \\n\\n                       &lt;font size=&quot;2&quot; face=&quot;Helvetica,Arial,Geneva,Swiss,SunSans-Regular&quot;&gt;\\n\\t\\t\\t\\t\\t\\t\\n                        &lt;/font&gt;\\n                    &lt;/td&gt;\\n                &lt;/tr&gt;\\n            &lt;/table&gt;\\n        &lt;/td&gt;\\n    &lt;/tr&gt;\\n    &lt;tr&gt;\\n        &lt;td&gt;\\n            \\n                &lt;font size=&quot;2&quot; face=&quot;Helvetica,Arial,Geneva,Swiss,SunSans-Regular&quot;&gt;&lt;br/&gt;\\xec\\x95\\xb1\\xec\\x9d\\xb4 \\xec\\xa0\\x84\\xed\\x98\\x80 \\xec\\x95\\x88\\xeb\\x90\\xa9\\xeb\\x8b\\x88\\xeb\\x8b\\xa4 \\xec\\x88\\x98\\xec\\xa0\\x95\\xed\\x95\\xb4\\xec\\xa3\\xbc\\xec\\x84\\xb8\\xec\\x9a\\x94&lt;/font&gt;&lt;br/&gt;\\n            \\n            \\n            \\n        &lt;/td&gt;\\n    &lt;/tr&gt;\\n&lt;/table&gt;\\n</content>\\n\\t\\t\\t\\t\\n\\t\\t\\t</entry>\\n\\t\\t\\n\\t\\t\\t<entry>\\n\\t\\t\\t\\t\\n\\t\\t\\t\\t\\t<id>5875152648</id>\\n\\t\\t\\t\\t\\n\\t\\t\\t\\t\\t<title>\\xec\\x8b\\xa4\\xed\\x96\\x89\\xeb\\xb6\\x88\\xea\\xb0\\x80</title>\\n\\t\\t\\t\\t\\n\\t\\t\\t\\t\\t<content type=\"text\">\\xeb\\xaa\\x87\\xec\\x9d\\xbc\\xec\\xa7\\xb8 \\xec\\x8b\\xa4\\xed\\x96\\x89\\xec\\x9d\\xb4 \\xec\\x95\\x88\\xeb\\x90\\x98\\xea\\xb3\\xa0 \\xed\\x8a\\x95\\xea\\xb8\\xb0\\xea\\xb3\\xa0 \\xea\\xba\\xbc\\xec\\xa7\\x90\\n\\xeb\\xaa\\x87\\xec\\x9d\\xbc\\xec\\xa7\\xb8...</content>\\n\\t\\t\\t\\t\\n\\t\\t\\t\\t\\t<im:contentType term=\"Application\" label=\"\\xec\\x95\\xb1\"/>\\n\\t\\t\\t\\t\\n\\t\\t\\t\\t\\t<im:voteSum>0</im:voteSum>\\n\\t\\t\\t\\t\\n\\t\\t\\t\\t\\t<im:voteCount>0</im:voteCount>\\n\\t\\t\\t\\t\\n\\t\\t\\t\\t\\t<im:rating>1</im:rating>\\n\\t\\t\\t\\t\\n\\t\\t\\t\\t\\t<updated>2020-04-28T06:09:20-07:00</updated>\\n\\t\\t\\t\\t\\n\\t\\t\\t\\t\\t<im:version>1.0.4</im:version>\\n\\t\\t\\t\\t\\n\\t\\t\\t\\t\\t<author><name>\\xed\\x83\\x9c\\xeb\\xb8\\x94\\xeb\\xa6\\xbf \\xeb\\xb2\\x84\\xec\\xa0\\x84\\xec\\x9d\\x80 \\xec\\x96\\xb8\\xec\\xa0\\x9c?</name><uri>https://itunes.apple.com/kr/reviews/id379332193</uri></author>\\n\\t\\t\\t\\t\\n\\t\\t\\t\\t\\t<link rel=\"related\" href=\"https://itunes.apple.com/kr/review?id=1318541802&amp;type=Purple%20Software\"/>\\n\\t\\t\\t\\t\\n\\t\\t\\t\\t\\n\\t\\t\\t\\t\\t<content type=\"html\">&lt;table border=&quot;0&quot; width=&quot;100%&quot;&gt;\\n    &lt;tr&gt;\\n        &lt;td&gt;\\n            &lt;table border=&quot;0&quot; width=&quot;100%&quot; cellspacing=&quot;0&quot; cellpadding=&quot;0&quot;&gt;\\n                &lt;tr valign=&quot;top&quot; align=&quot;left&quot;&gt;\\n                    \\n                    \\n                    \\t&lt;td width=&quot;100%&quot;&gt;\\n                    \\n                        &lt;b&gt;&lt;a href=&quot;https://apps.apple.com/kr/app/%EC%84%9C%EC%9A%B8%EC%8B%9C%EB%AF%BC%EC%B9%B4%EB%93%9C/id1318541802?uo=2&quot;&gt;\\xec\\x8b\\xa4\\xed\\x96\\x89\\xeb\\xb6\\x88\\xea\\xb0\\x80&lt;/a&gt;&lt;/b&gt;&lt;br/&gt;\\n                        \\n                        \\n                        \\n                        \\n\\n                        \\n\\n                       &lt;font size=&quot;2&quot; face=&quot;Helvetica,Arial,Geneva,Swiss,SunSans-Regular&quot;&gt;\\n\\t\\t\\t\\t\\t\\t\\n                        &lt;/font&gt;\\n                    &lt;/td&gt;\\n                &lt;/tr&gt;\\n            &lt;/table&gt;\\n        &lt;/td&gt;\\n    &lt;/tr&gt;\\n    &lt;tr&gt;\\n        &lt;td&gt;\\n            \\n                &lt;font size=&quot;2&quot; face=&quot;Helvetica,Arial,Geneva,Swiss,SunSans-Regular&quot;&gt;&lt;br/&gt;\\xeb\\xaa\\x87\\xec\\x9d\\xbc\\xec\\xa7\\xb8 \\xec\\x8b\\xa4\\xed\\x96\\x89\\xec\\x9d\\xb4 \\xec\\x95\\x88\\xeb\\x90\\x98\\xea\\xb3\\xa0 \\xed\\x8a\\x95\\xea\\xb8\\xb0\\xea\\xb3\\xa0 \\xea\\xba\\xbc\\xec\\xa7\\x90&lt;br/&gt;\\xeb\\xaa\\x87\\xec\\x9d\\xbc\\xec\\xa7\\xb8...&lt;/font&gt;&lt;br/&gt;\\n            \\n            \\n            \\n        &lt;/td&gt;\\n    &lt;/tr&gt;\\n&lt;/table&gt;\\n</content>\\n\\t\\t\\t\\t\\n\\t\\t\\t</entry>\\n\\t\\t\\n\\t\\t\\t<entry>\\n\\t\\t\\t\\t\\n\\t\\t\\t\\t\\t<id>5857616623</id>\\n\\t\\t\\t\\t\\n\\t\\t\\t\\t\\t<title>0424\\xec\\x9d\\xbc\\xec\\x9e\\x90 \\xec\\x97\\x85\\xeb\\x8e\\x83\\xed\\x95\\xb4\\xeb\\x8f\\x84 \\xec\\x95\\xb1\\xec\\x9e\\x90\\xea\\xbe\\xb8\\xec\\xa3\\xbd\\xeb\\x84\\xa4\\xec\\x9a\\x94. \\xed\\x98\\x88\\xec\\x84\\xb8 \\xec\\x8d\\xa8\\xec\\x84\\x9c \\xeb\\xad\\x90\\xed\\x95\\x98\\xeb\\x82\\x98\\xec\\x9a\\x94</title>\\n\\t\\t\\t\\t\\n\\t\\t\\t\\t\\t<content type=\"text\">\\xec\\xa3\\xbd\\xec\\x96\\xb4\\xec\\x9a\\x94 \\xec\\x95\\x84\\xec\\x9d\\xb4\\xed\\x8f\\xb0xs \\xea\\xb0\\x80\\xec\\x9e\\xa5 \\xec\\xb5\\x9c\\xec\\x8b\\xa0 ios</content>\\n\\t\\t\\t\\t\\n\\t\\t\\t\\t\\t<im:contentType term=\"Application\" label=\"\\xec\\x95\\xb1\"/>\\n\\t\\t\\t\\t\\n\\t\\t\\t\\t\\t<im:voteSum>0</im:voteSum>\\n\\t\\t\\t\\t\\n\\t\\t\\t\\t\\t<im:voteCount>0</im:voteCount>\\n\\t\\t\\t\\t\\n\\t\\t\\t\\t\\t<im:rating>1</im:rating>\\n\\t\\t\\t\\t\\n\\t\\t\\t\\t\\t<updated>2020-04-24T07:07:31-07:00</updated>\\n\\t\\t\\t\\t\\n\\t\\t\\t\\t\\t<im:version>1.0.3</im:version>\\n\\t\\t\\t\\t\\n\\t\\t\\t\\t\\t<author><name>\\xec\\x85\\xb0\\xed\\x94\\x84\\xeb\\x9d\\xbc\\xec\\x9d\\xb4\\xec\\x96\\xb8</name><uri>https://itunes.apple.com/kr/reviews/id1049515931</uri></author>\\n\\t\\t\\t\\t\\n\\t\\t\\t\\t\\t<link rel=\"related\" href=\"https://itunes.apple.com/kr/review?id=1318541802&amp;type=Purple%20Software\"/>\\n\\t\\t\\t\\t\\n\\t\\t\\t\\t\\n\\t\\t\\t\\t\\t<content type=\"html\">&lt;table border=&quot;0&quot; width=&quot;100%&quot;&gt;\\n    &lt;tr&gt;\\n        &lt;td&gt;\\n            &lt;table border=&quot;0&quot; width=&quot;100%&quot; cellspacing=&quot;0&quot; cellpadding=&quot;0&quot;&gt;\\n                &lt;tr valign=&quot;top&quot; align=&quot;left&quot;&gt;\\n                    \\n                    \\n                    \\t&lt;td width=&quot;100%&quot;&gt;\\n                    \\n                        &lt;b&gt;&lt;a href=&quot;https://apps.apple.com/kr/app/%EC%84%9C%EC%9A%B8%EC%8B%9C%EB%AF%BC%EC%B9%B4%EB%93%9C/id1318541802?uo=2&quot;&gt;0424\\xec\\x9d\\xbc\\xec\\x9e\\x90 \\xec\\x97\\x85\\xeb\\x8e\\x83\\xed\\x95\\xb4\\xeb\\x8f\\x84 \\xec\\x95\\xb1\\xec\\x9e\\x90\\xea\\xbe\\xb8\\xec\\xa3\\xbd\\xeb\\x84\\xa4\\xec\\x9a\\x94. \\xed\\x98\\x88\\xec\\x84\\xb8 \\xec\\x8d\\xa8\\xec\\x84\\x9c \\xeb\\xad\\x90\\xed\\x95\\x98\\xeb\\x82\\x98\\xec\\x9a\\x94&lt;/a&gt;&lt;/b&gt;&lt;br/&gt;\\n                        \\n                        \\n                        \\n                        \\n\\n                        \\n\\n                       &lt;font size=&quot;2&quot; face=&quot;Helvetica,Arial,Geneva,Swiss,SunSans-Regular&quot;&gt;\\n\\t\\t\\t\\t\\t\\t\\n                        &lt;/font&gt;\\n                    &lt;/td&gt;\\n                &lt;/tr&gt;\\n            &lt;/table&gt;\\n        &lt;/td&gt;\\n    &lt;/tr&gt;\\n    &lt;tr&gt;\\n        &lt;td&gt;\\n            \\n                &lt;font size=&quot;2&quot; face=&quot;Helvetica,Arial,Geneva,Swiss,SunSans-Regular&quot;&gt;&lt;br/&gt;\\xec\\xa3\\xbd\\xec\\x96\\xb4\\xec\\x9a\\x94 \\xec\\x95\\x84\\xec\\x9d\\xb4\\xed\\x8f\\xb0xs \\xea\\xb0\\x80\\xec\\x9e\\xa5 \\xec\\xb5\\x9c\\xec\\x8b\\xa0 ios&lt;/font&gt;&lt;br/&gt;\\n            \\n            \\n            \\n        &lt;/td&gt;\\n    &lt;/tr&gt;\\n&lt;/table&gt;\\n</content>\\n\\t\\t\\t\\t\\n\\t\\t\\t</entry>\\n\\t\\t\\n\\t\\t\\t<entry>\\n\\t\\t\\t\\t\\n\\t\\t\\t\\t\\t<id>5857407373</id>\\n\\t\\t\\t\\t\\n\\t\\t\\t\\t\\t<title>\\xec\\xa0\\x91\\xec\\x86\\x8d\\xec\\x95\\x88\\xeb\\x90\\x98\\xec\\x9a\\x94.!! \\xec\\x98\\xa4\\xeb\\x8a\\x98\\xeb\\x8f\\x84 \\xec\\x95\\x88\\xeb\\x90\\x98\\xec\\x9a\\x94</title>\\n\\t\\t\\t\\t\\n\\t\\t\\t\\t\\t<content type=\"text\">\\xec\\x95\\x84\\xec\\x9d\\xb4\\xed\\x8f\\xb0\\xec\\x97\\x90\\xec\\x84\\x9c \\xec\\x95\\x88\\xeb\\x90\\x98\\xeb\\x8a\\x94\\xeb\\x8d\\xb0.\\n\\xeb\\x8f\\x84\\xeb\\x8c\\x80\\xec\\xb2\\xb4 \\xec\\x98\\xa4\\xeb\\x8a\\x98\\xec\\x9d\\x80  \\xeb\\xad\\x98 \\xec\\x97\\x85\\xeb\\x8d\\xb0\\xec\\x9d\\xb4\\xed\\x8a\\xb8 \\xed\\x95\\x9c\\xea\\xb1\\xb4\\xec\\xa7\\x80!!</content>\\n\\t\\t\\t\\t\\n\\t\\t\\t\\t\\t<im:contentType term=\"Application\" label=\"\\xec\\x95\\xb1\"/>\\n\\t\\t\\t\\t\\n\\t\\t\\t\\t\\t<im:voteSum>0</im:voteSum>\\n\\t\\t\\t\\t\\n\\t\\t\\t\\t\\t<im:voteCount>0</im:voteCount>\\n\\t\\t\\t\\t\\n\\t\\t\\t\\t\\t<im:rating>1</im:rating>\\n\\t\\t\\t\\t\\n\\t\\t\\t\\t\\t<updated>2020-04-24T06:13:12-07:00</updated>\\n\\t\\t\\t\\t\\n\\t\\t\\t\\t\\t<im:version>1.0.3</im:version>\\n\\t\\t\\t\\t\\n\\t\\t\\t\\t\\t<author><name>\\xec\\xa7\\x80\\xea\\xb3\\xb5\\xec\\x84\\xa0\\xec\\x82\\xac</name><uri>https://itunes.apple.com/kr/reviews/id367382912</uri></author>\\n\\t\\t\\t\\t\\n\\t\\t\\t\\t\\t<link rel=\"related\" href=\"https://itunes.apple.com/kr/review?id=1318541802&amp;type=Purple%20Software\"/>\\n\\t\\t\\t\\t\\n\\t\\t\\t\\t\\n\\t\\t\\t\\t\\t<content type=\"html\">&lt;table border=&quot;0&quot; width=&quot;100%&quot;&gt;\\n    &lt;tr&gt;\\n        &lt;td&gt;\\n            &lt;table border=&quot;0&quot; width=&quot;100%&quot; cellspacing=&quot;0&quot; cellpadding=&quot;0&quot;&gt;\\n                &lt;tr valign=&quot;top&quot; align=&quot;left&quot;&gt;\\n                    \\n                    \\n                    \\t&lt;td width=&quot;100%&quot;&gt;\\n                    \\n                        &lt;b&gt;&lt;a href=&quot;https://apps.apple.com/kr/app/%EC%84%9C%EC%9A%B8%EC%8B%9C%EB%AF%BC%EC%B9%B4%EB%93%9C/id1318541802?uo=2&quot;&gt;\\xec\\xa0\\x91\\xec\\x86\\x8d\\xec\\x95\\x88\\xeb\\x90\\x98\\xec\\x9a\\x94.!! \\xec\\x98\\xa4\\xeb\\x8a\\x98\\xeb\\x8f\\x84 \\xec\\x95\\x88\\xeb\\x90\\x98\\xec\\x9a\\x94&lt;/a&gt;&lt;/b&gt;&lt;br/&gt;\\n                        \\n                        \\n                        \\n                        \\n\\n                        \\n\\n                       &lt;font size=&quot;2&quot; face=&quot;Helvetica,Arial,Geneva,Swiss,SunSans-Regular&quot;&gt;\\n\\t\\t\\t\\t\\t\\t\\n                        &lt;/font&gt;\\n                    &lt;/td&gt;\\n                &lt;/tr&gt;\\n            &lt;/table&gt;\\n        &lt;/td&gt;\\n    &lt;/tr&gt;\\n    &lt;tr&gt;\\n        &lt;td&gt;\\n            \\n                &lt;font size=&quot;2&quot; face=&quot;Helvetica,Arial,Geneva,Swiss,SunSans-Regular&quot;&gt;&lt;br/&gt;\\xec\\x95\\x84\\xec\\x9d\\xb4\\xed\\x8f\\xb0\\xec\\x97\\x90\\xec\\x84\\x9c \\xec\\x95\\x88\\xeb\\x90\\x98\\xeb\\x8a\\x94\\xeb\\x8d\\xb0.&lt;br/&gt;\\xeb\\x8f\\x84\\xeb\\x8c\\x80\\xec\\xb2\\xb4 \\xec\\x98\\xa4\\xeb\\x8a\\x98\\xec\\x9d\\x80  \\xeb\\xad\\x98 \\xec\\x97\\x85\\xeb\\x8d\\xb0\\xec\\x9d\\xb4\\xed\\x8a\\xb8 \\xed\\x95\\x9c\\xea\\xb1\\xb4\\xec\\xa7\\x80!!&lt;/font&gt;&lt;br/&gt;\\n            \\n            \\n            \\n        &lt;/td&gt;\\n    &lt;/tr&gt;\\n&lt;/table&gt;\\n</content>\\n\\t\\t\\t\\t\\n\\t\\t\\t</entry>\\n\\t\\t\\n\\t\\t\\t<entry>\\n\\t\\t\\t\\t\\n\\t\\t\\t\\t\\t<id>5854973906</id>\\n\\t\\t\\t\\t\\n\\t\\t\\t\\t\\t<title>\\xed\\x9a\\x8c\\xec\\x9b\\x90\\xec\\x9d\\xb8\\xec\\xa6\\x9d \\xec\\x8b\\x9c pass</title>\\n\\t\\t\\t\\t\\n\\t\\t\\t\\t\\t<content type=\"text\">\\xeb\\xac\\xb4\\xec\\xa1\\xb0\\xea\\xb1\\xb4 \\xec\\x9d\\xb8\\xec\\xa6\\x9d\\xed\\x95\\xb4\\xec\\x95\\xbc\\xeb\\xa7\\x8c \\xeb\\xaa\\xa8\\xeb\\x93\\xa0 \\xeb\\xa9\\x94\\xeb\\x89\\xb4 \\xec\\x9d\\xb4\\xec\\x9a\\xa9\\xea\\xb0\\x80\\xeb\\x8a\\xa5\\xed\\x95\\x98\\xea\\xb3\\xa0 \\xec\\x9d\\xb8\\xec\\xa6\\x9d\\xed\\x95\\x98\\xeb\\xa0\\xa4\\xeb\\xa9\\xb4 pass \\xec\\x9d\\xb4\\xec\\x9a\\xa9\\xed\\x95\\xb4\\xec\\x95\\xbc\\xeb\\xa7\\x8c \\xed\\x95\\x98\\xeb\\x8d\\x98\\xeb\\x8d\\xb0 \\xec\\x9d\\xbc\\xeb\\xb0\\x98 \\xeb\\xac\\xb8\\xec\\x9e\\x90\\xeb\\x8f\\x84 \\xeb\\x90\\x98\\xea\\xb2\\x8c \\xec\\xa2\\x80 \\xeb\\xb0\\x94\\xea\\xbf\\x94\\xec\\xa3\\xbc\\xec\\x84\\xb8\\xec\\x9a\\x94. \\xec\\x9d\\xb8\\xec\\xa6\\x9d\\xed\\x95\\x98\\xeb\\xa0\\xa4\\xeb\\xa9\\xb4 \\xec\\x84\\xb8\\xec\\x85\\x98\\xec\\x9d\\xb4 \\xec\\xa2\\x85\\xeb\\xa3\\x8c\\xeb\\x90\\x98\\xec\\x97\\x88\\xeb\\x8b\\xa4\\xea\\xb3\\xa0 \\xea\\xb3\\x84\\xec\\x86\\x8d \\xeb\\x9c\\xa8\\xea\\xb3\\xa0 \\xec\\xbf\\xa0\\xed\\x82\\xa4\\xed\\x97\\x88\\xec\\x9a\\xa9\\xed\\x95\\xb4\\xeb\\x8f\\x84 \\xeb\\xa7\\x88\\xec\\xb0\\xac\\xea\\xb0\\x80\\xec\\xa7\\x80\\xec\\x97\\x90\\xec\\x9a\\x94</content>\\n\\t\\t\\t\\t\\n\\t\\t\\t\\t\\t<im:contentType term=\"Application\" label=\"\\xec\\x95\\xb1\"/>\\n\\t\\t\\t\\t\\n\\t\\t\\t\\t\\t<im:voteSum>0</im:voteSum>\\n\\t\\t\\t\\t\\n\\t\\t\\t\\t\\t<im:voteCount>0</im:voteCount>\\n\\t\\t\\t\\t\\n\\t\\t\\t\\t\\t<im:rating>1</im:rating>\\n\\t\\t\\t\\t\\n\\t\\t\\t\\t\\t<updated>2020-04-23T17:20:36-07:00</updated>\\n\\t\\t\\t\\t\\n\\t\\t\\t\\t\\t<im:version>1.0.2</im:version>\\n\\t\\t\\t\\t\\n\\t\\t\\t\\t\\t<author><name>pleasenopass</name><uri>https://itunes.apple.com/kr/reviews/id668601881</uri></author>\\n\\t\\t\\t\\t\\n\\t\\t\\t\\t\\t<link rel=\"related\" href=\"https://itunes.apple.com/kr/review?id=1318541802&amp;type=Purple%20Software\"/>\\n\\t\\t\\t\\t\\n\\t\\t\\t\\t\\n\\t\\t\\t\\t\\t<content type=\"html\">&lt;table border=&quot;0&quot; width=&quot;100%&quot;&gt;\\n    &lt;tr&gt;\\n        &lt;td&gt;\\n            &lt;table border=&quot;0&quot; width=&quot;100%&quot; cellspacing=&quot;0&quot; cellpadding=&quot;0&quot;&gt;\\n                &lt;tr valign=&quot;top&quot; align=&quot;left&quot;&gt;\\n                    \\n                    \\n                    \\t&lt;td width=&quot;100%&quot;&gt;\\n                    \\n                        &lt;b&gt;&lt;a href=&quot;https://apps.apple.com/kr/app/%EC%84%9C%EC%9A%B8%EC%8B%9C%EB%AF%BC%EC%B9%B4%EB%93%9C/id1318541802?uo=2&quot;&gt;\\xed\\x9a\\x8c\\xec\\x9b\\x90\\xec\\x9d\\xb8\\xec\\xa6\\x9d \\xec\\x8b\\x9c pass&lt;/a&gt;&lt;/b&gt;&lt;br/&gt;\\n                        \\n                        \\n                        \\n                        \\n\\n                        \\n\\n                       &lt;font size=&quot;2&quot; face=&quot;Helvetica,Arial,Geneva,Swiss,SunSans-Regular&quot;&gt;\\n\\t\\t\\t\\t\\t\\t\\n                        &lt;/font&gt;\\n                    &lt;/td&gt;\\n                &lt;/tr&gt;\\n            &lt;/table&gt;\\n        &lt;/td&gt;\\n    &lt;/tr&gt;\\n    &lt;tr&gt;\\n        &lt;td&gt;\\n            \\n                &lt;font size=&quot;2&quot; face=&quot;Helvetica,Arial,Geneva,Swiss,SunSans-Regular&quot;&gt;&lt;br/&gt;\\xeb\\xac\\xb4\\xec\\xa1\\xb0\\xea\\xb1\\xb4 \\xec\\x9d\\xb8\\xec\\xa6\\x9d\\xed\\x95\\xb4\\xec\\x95\\xbc\\xeb\\xa7\\x8c \\xeb\\xaa\\xa8\\xeb\\x93\\xa0 \\xeb\\xa9\\x94\\xeb\\x89\\xb4 \\xec\\x9d\\xb4\\xec\\x9a\\xa9\\xea\\xb0\\x80\\xeb\\x8a\\xa5\\xed\\x95\\x98\\xea\\xb3\\xa0 \\xec\\x9d\\xb8\\xec\\xa6\\x9d\\xed\\x95\\x98\\xeb\\xa0\\xa4\\xeb\\xa9\\xb4 pass \\xec\\x9d\\xb4\\xec\\x9a\\xa9\\xed\\x95\\xb4\\xec\\x95\\xbc\\xeb\\xa7\\x8c \\xed\\x95\\x98\\xeb\\x8d\\x98\\xeb\\x8d\\xb0 \\xec\\x9d\\xbc\\xeb\\xb0\\x98 \\xeb\\xac\\xb8\\xec\\x9e\\x90\\xeb\\x8f\\x84 \\xeb\\x90\\x98\\xea\\xb2\\x8c \\xec\\xa2\\x80 \\xeb\\xb0\\x94\\xea\\xbf\\x94\\xec\\xa3\\xbc\\xec\\x84\\xb8\\xec\\x9a\\x94. \\xec\\x9d\\xb8\\xec\\xa6\\x9d\\xed\\x95\\x98\\xeb\\xa0\\xa4\\xeb\\xa9\\xb4 \\xec\\x84\\xb8\\xec\\x85\\x98\\xec\\x9d\\xb4 \\xec\\xa2\\x85\\xeb\\xa3\\x8c\\xeb\\x90\\x98\\xec\\x97\\x88\\xeb\\x8b\\xa4\\xea\\xb3\\xa0 \\xea\\xb3\\x84\\xec\\x86\\x8d \\xeb\\x9c\\xa8\\xea\\xb3\\xa0 \\xec\\xbf\\xa0\\xed\\x82\\xa4\\xed\\x97\\x88\\xec\\x9a\\xa9\\xed\\x95\\xb4\\xeb\\x8f\\x84 \\xeb\\xa7\\x88\\xec\\xb0\\xac\\xea\\xb0\\x80\\xec\\xa7\\x80\\xec\\x97\\x90\\xec\\x9a\\x94&lt;/font&gt;&lt;br/&gt;\\n            \\n            \\n            \\n        &lt;/td&gt;\\n    &lt;/tr&gt;\\n&lt;/table&gt;\\n</content>\\n\\t\\t\\t\\t\\n\\t\\t\\t</entry>\\n\\t\\t\\n\\t\\t\\t<entry>\\n\\t\\t\\t\\t\\n\\t\\t\\t\\t\\t<id>5835286798</id>\\n\\t\\t\\t\\t\\n\\t\\t\\t\\t\\t<title>\\xec\\x97\\x85\\xeb\\x8d\\xb0\\xec\\x9d\\xb4\\xed\\x8a\\xb8 \\xec\\x96\\xb8\\xec\\xa0\\x9c\\xeb\\x90\\x98\\xeb\\x82\\x98\\xec\\x9a\\x94</title>\\n\\t\\t\\t\\t\\n\\t\\t\\t\\t\\t<content type=\"text\">\\xec\\xb1\\x85\\xec\\x9d\\x84 \\xeb\\xb9\\x8c\\xeb\\xa0\\xa4\\xec\\x95\\xbc \\xed\\x95\\x98\\xeb\\x8a\\x94\\xeb\\x8d\\xb0 \\xec\\x96\\xb4\\xed\\x94\\x8c\\xec\\x9d\\xb4 \\xed\\x8a\\x95\\xea\\xb2\\xa8\\xec\\x84\\x9c \\xeb\\x93\\xa4\\xec\\x96\\xb4\\xea\\xb0\\x80\\xec\\xa7\\x88 \\xeb\\xaa\\xbb\\xed\\x95\\x98\\xeb\\x8b\\x88 \\xeb\\xb9\\x8c\\xeb\\xa6\\xb4 \\xec\\x88\\x98\\xea\\xb0\\x80 \\xec\\x97\\x86\\xeb\\x84\\xa4\\xec\\x9a\\x94 4\\xec\\x9b\\x94\\xec\\xa4\\x91\\xec\\x9c\\xbc\\xeb\\xa1\\x9c \\xec\\x97\\x85\\xeb\\x8d\\xb0\\xec\\x9d\\xb4\\xed\\x8a\\xb8 \\xed\\x95\\x98\\xec\\x8b\\xa0\\xeb\\x8b\\xa4\\xea\\xb3\\xa0 \\xed\\x95\\x98\\xec\\x85\\xa8\\xeb\\x8a\\x94\\xeb\\x8d\\xb0 \\xec\\x96\\xb8\\xec\\xa0\\x9c \\xeb\\x90\\x98\\xeb\\x8a\\x94 \\xea\\xb1\\xb4\\xea\\xb0\\x80\\xec\\x9a\\x94 \\xed\\x99\\x95\\xec\\x8b\\xa4\\xed\\x95\\x9c \\xeb\\x8b\\xb5\\xeb\\xb3\\x80 \\xeb\\xb6\\x80\\xed\\x83\\x81\\xeb\\x93\\x9c\\xeb\\xa6\\xbd\\xeb\\x8b\\x88\\xeb\\x8b\\xa4</content>\\n\\t\\t\\t\\t\\n\\t\\t\\t\\t\\t<im:contentType term=\"Application\" label=\"\\xec\\x95\\xb1\"/>\\n\\t\\t\\t\\t\\n\\t\\t\\t\\t\\t<im:voteSum>0</im:voteSum>\\n\\t\\t\\t\\t\\n\\t\\t\\t\\t\\t<im:voteCount>0</im:voteCount>\\n\\t\\t\\t\\t\\n\\t\\t\\t\\t\\t<im:rating>1</im:rating>\\n\\t\\t\\t\\t\\n\\t\\t\\t\\t\\t<updated>2020-04-19T10:52:28-07:00</updated>\\n\\t\\t\\t\\t\\n\\t\\t\\t\\t\\t<im:version>1.0.2</im:version>\\n\\t\\t\\t\\t\\n\\t\\t\\t\\t\\t<author><name>\\xe3\\x85\\x87\\xe3\\x85\\x88\\xe3\\x85\\x86\\xe3\\x84\\xb4</name><uri>https://itunes.apple.com/kr/reviews/id490956030</uri></author>\\n\\t\\t\\t\\t\\n\\t\\t\\t\\t\\t<link rel=\"related\" href=\"https://itunes.apple.com/kr/review?id=1318541802&amp;type=Purple%20Software\"/>\\n\\t\\t\\t\\t\\n\\t\\t\\t\\t\\n\\t\\t\\t\\t\\t<content type=\"html\">&lt;table border=&quot;0&quot; width=&quot;100%&quot;&gt;\\n    &lt;tr&gt;\\n        &lt;td&gt;\\n            &lt;table border=&quot;0&quot; width=&quot;100%&quot; cellspacing=&quot;0&quot; cellpadding=&quot;0&quot;&gt;\\n                &lt;tr valign=&quot;top&quot; align=&quot;left&quot;&gt;\\n                    \\n                    \\n                    \\t&lt;td width=&quot;100%&quot;&gt;\\n                    \\n                        &lt;b&gt;&lt;a href=&quot;https://apps.apple.com/kr/app/%EC%84%9C%EC%9A%B8%EC%8B%9C%EB%AF%BC%EC%B9%B4%EB%93%9C/id1318541802?uo=2&quot;&gt;\\xec\\x97\\x85\\xeb\\x8d\\xb0\\xec\\x9d\\xb4\\xed\\x8a\\xb8 \\xec\\x96\\xb8\\xec\\xa0\\x9c\\xeb\\x90\\x98\\xeb\\x82\\x98\\xec\\x9a\\x94&lt;/a&gt;&lt;/b&gt;&lt;br/&gt;\\n                        \\n                        \\n                        \\n                        \\n\\n                        \\n\\n                       &lt;font size=&quot;2&quot; face=&quot;Helvetica,Arial,Geneva,Swiss,SunSans-Regular&quot;&gt;\\n\\t\\t\\t\\t\\t\\t\\n                        &lt;/font&gt;\\n                    &lt;/td&gt;\\n                &lt;/tr&gt;\\n            &lt;/table&gt;\\n        &lt;/td&gt;\\n    &lt;/tr&gt;\\n    &lt;tr&gt;\\n        &lt;td&gt;\\n            \\n                &lt;font size=&quot;2&quot; face=&quot;Helvetica,Arial,Geneva,Swiss,SunSans-Regular&quot;&gt;&lt;br/&gt;\\xec\\xb1\\x85\\xec\\x9d\\x84 \\xeb\\xb9\\x8c\\xeb\\xa0\\xa4\\xec\\x95\\xbc \\xed\\x95\\x98\\xeb\\x8a\\x94\\xeb\\x8d\\xb0 \\xec\\x96\\xb4\\xed\\x94\\x8c\\xec\\x9d\\xb4 \\xed\\x8a\\x95\\xea\\xb2\\xa8\\xec\\x84\\x9c \\xeb\\x93\\xa4\\xec\\x96\\xb4\\xea\\xb0\\x80\\xec\\xa7\\x88 \\xeb\\xaa\\xbb\\xed\\x95\\x98\\xeb\\x8b\\x88 \\xeb\\xb9\\x8c\\xeb\\xa6\\xb4 \\xec\\x88\\x98\\xea\\xb0\\x80 \\xec\\x97\\x86\\xeb\\x84\\xa4\\xec\\x9a\\x94 4\\xec\\x9b\\x94\\xec\\xa4\\x91\\xec\\x9c\\xbc\\xeb\\xa1\\x9c \\xec\\x97\\x85\\xeb\\x8d\\xb0\\xec\\x9d\\xb4\\xed\\x8a\\xb8 \\xed\\x95\\x98\\xec\\x8b\\xa0\\xeb\\x8b\\xa4\\xea\\xb3\\xa0 \\xed\\x95\\x98\\xec\\x85\\xa8\\xeb\\x8a\\x94\\xeb\\x8d\\xb0 \\xec\\x96\\xb8\\xec\\xa0\\x9c \\xeb\\x90\\x98\\xeb\\x8a\\x94 \\xea\\xb1\\xb4\\xea\\xb0\\x80\\xec\\x9a\\x94 \\xed\\x99\\x95\\xec\\x8b\\xa4\\xed\\x95\\x9c \\xeb\\x8b\\xb5\\xeb\\xb3\\x80 \\xeb\\xb6\\x80\\xed\\x83\\x81\\xeb\\x93\\x9c\\xeb\\xa6\\xbd\\xeb\\x8b\\x88\\xeb\\x8b\\xa4&lt;/font&gt;&lt;br/&gt;\\n            \\n            \\n            \\n        &lt;/td&gt;\\n    &lt;/tr&gt;\\n&lt;/table&gt;\\n</content>\\n\\t\\t\\t\\t\\n\\t\\t\\t</entry>\\n\\t\\t\\n\\t\\t\\t<entry>\\n\\t\\t\\t\\t\\n\\t\\t\\t\\t\\t<id>5823560126</id>\\n\\t\\t\\t\\t\\n\\t\\t\\t\\t\\t<title>\\xec\\xa0\\x84\\xec\\x9e\\x90\\xeb\\x8f\\x84\\xec\\x84\\x9c\\xea\\xb4\\x80 \\xec\\x9d\\xb4\\xec\\x9a\\xa9\\xed\\x95\\x98\\xeb\\x9d\\xbc\\xeb\\x8a\\x94\\xeb\\x8d\\xb0 \\xec\\x95\\xb1 \\xec\\x8b\\xa4\\xed\\x96\\x89\\xec\\x9d\\xb4\\xec\\x95\\x88\\xeb\\x90\\x98\\xeb\\x84\\xa4\\xec\\x9a\\xa9</title>\\n\\t\\t\\t\\t\\n\\t\\t\\t\\t\\t<content type=\"text\">\\xea\\xb3\\xa0\\xec\\xb3\\x90\\xec\\xa3\\xbc\\xec\\x84\\xb8\\xec\\x9a\\x94 \\xe3\\x85\\xa0\\xe3\\x85\\xa0</content>\\n\\t\\t\\t\\t\\n\\t\\t\\t\\t\\t<im:contentType term=\"Application\" label=\"\\xec\\x95\\xb1\"/>\\n\\t\\t\\t\\t\\n\\t\\t\\t\\t\\t<im:voteSum>0</im:voteSum>\\n\\t\\t\\t\\t\\n\\t\\t\\t\\t\\t<im:voteCount>0</im:voteCount>\\n\\t\\t\\t\\t\\n\\t\\t\\t\\t\\t<im:rating>1</im:rating>\\n\\t\\t\\t\\t\\n\\t\\t\\t\\t\\t<updated>2020-04-17T00:25:01-07:00</updated>\\n\\t\\t\\t\\t\\n\\t\\t\\t\\t\\t<im:version>1.0.2</im:version>\\n\\t\\t\\t\\t\\n\\t\\t\\t\\t\\t<author><name>subong23</name><uri>https://itunes.apple.com/kr/reviews/id210471578</uri></author>\\n\\t\\t\\t\\t\\n\\t\\t\\t\\t\\t<link rel=\"related\" href=\"https://itunes.apple.com/kr/review?id=1318541802&amp;type=Purple%20Software\"/>\\n\\t\\t\\t\\t\\n\\t\\t\\t\\t\\n\\t\\t\\t\\t\\t<content type=\"html\">&lt;table border=&quot;0&quot; width=&quot;100%&quot;&gt;\\n    &lt;tr&gt;\\n        &lt;td&gt;\\n            &lt;table border=&quot;0&quot; width=&quot;100%&quot; cellspacing=&quot;0&quot; cellpadding=&quot;0&quot;&gt;\\n                &lt;tr valign=&quot;top&quot; align=&quot;left&quot;&gt;\\n                    \\n                    \\n                    \\t&lt;td width=&quot;100%&quot;&gt;\\n                    \\n                        &lt;b&gt;&lt;a href=&quot;https://apps.apple.com/kr/app/%EC%84%9C%EC%9A%B8%EC%8B%9C%EB%AF%BC%EC%B9%B4%EB%93%9C/id1318541802?uo=2&quot;&gt;\\xec\\xa0\\x84\\xec\\x9e\\x90\\xeb\\x8f\\x84\\xec\\x84\\x9c\\xea\\xb4\\x80 \\xec\\x9d\\xb4\\xec\\x9a\\xa9\\xed\\x95\\x98\\xeb\\x9d\\xbc\\xeb\\x8a\\x94\\xeb\\x8d\\xb0 \\xec\\x95\\xb1 \\xec\\x8b\\xa4\\xed\\x96\\x89\\xec\\x9d\\xb4\\xec\\x95\\x88\\xeb\\x90\\x98\\xeb\\x84\\xa4\\xec\\x9a\\xa9&lt;/a&gt;&lt;/b&gt;&lt;br/&gt;\\n                        \\n                        \\n                        \\n                        \\n\\n                        \\n\\n                       &lt;font size=&quot;2&quot; face=&quot;Helvetica,Arial,Geneva,Swiss,SunSans-Regular&quot;&gt;\\n\\t\\t\\t\\t\\t\\t\\n                        &lt;/font&gt;\\n                    &lt;/td&gt;\\n                &lt;/tr&gt;\\n            &lt;/table&gt;\\n        &lt;/td&gt;\\n    &lt;/tr&gt;\\n    &lt;tr&gt;\\n        &lt;td&gt;\\n            \\n                &lt;font size=&quot;2&quot; face=&quot;Helvetica,Arial,Geneva,Swiss,SunSans-Regular&quot;&gt;&lt;br/&gt;\\xea\\xb3\\xa0\\xec\\xb3\\x90\\xec\\xa3\\xbc\\xec\\x84\\xb8\\xec\\x9a\\x94 \\xe3\\x85\\xa0\\xe3\\x85\\xa0&lt;/font&gt;&lt;br/&gt;\\n            \\n            \\n            \\n        &lt;/td&gt;\\n    &lt;/tr&gt;\\n&lt;/table&gt;\\n</content>\\n\\t\\t\\t\\t\\n\\t\\t\\t</entry>\\n\\t\\t\\n\\t\\t\\t<entry>\\n\\t\\t\\t\\t\\n\\t\\t\\t\\t\\t<id>5822768556</id>\\n\\t\\t\\t\\t\\n\\t\\t\\t\\t\\t<title>\\xec\\x95\\xb1 \\xea\\xb5\\xac\\xeb\\x8f\\x99\\xec\\x9d\\xb4 \\xec\\x95\\x88\\xeb\\x90\\xa9\\xeb\\x8b\\x88\\xeb\\x8b\\xa4</title>\\n\\t\\t\\t\\t\\n\\t\\t\\t\\t\\t<content type=\"text\">\\xec\\xa0\\x84\\xec\\x9e\\x90\\xeb\\x8f\\x84\\xec\\x84\\x9c\\xea\\xb4\\x80 \\xec\\x9d\\xb4\\xec\\x9a\\xa9\\xea\\xb0\\x80\\xeb\\x8a\\xa5\\xed\\x95\\x98\\xeb\\x8b\\xa4 \\xed\\x95\\xb4\\xec\\x84\\x9c \\xec\\x97\\xb4\\xec\\x96\\xb4\\xeb\\xb3\\xb4\\xeb\\xa0\\xa4\\xeb\\x8a\\x94\\xeb\\x8d\\xb0. \\xec\\x97\\xb4\\xeb\\xa6\\xac\\xec\\xa7\\x80\\xeb\\xa5\\xbc \\xec\\x95\\x8a\\xec\\x8a\\xb5\\xeb\\x8b\\x88\\xeb\\x8b\\xa4!!</content>\\n\\t\\t\\t\\t\\n\\t\\t\\t\\t\\t<im:contentType term=\"Application\" label=\"\\xec\\x95\\xb1\"/>\\n\\t\\t\\t\\t\\n\\t\\t\\t\\t\\t<im:voteSum>0</im:voteSum>\\n\\t\\t\\t\\t\\n\\t\\t\\t\\t\\t<im:voteCount>0</im:voteCount>\\n\\t\\t\\t\\t\\n\\t\\t\\t\\t\\t<im:rating>1</im:rating>\\n\\t\\t\\t\\t\\n\\t\\t\\t\\t\\t<updated>2020-04-16T20:11:16-07:00</updated>\\n\\t\\t\\t\\t\\n\\t\\t\\t\\t\\t<im:version>1.0.2</im:version>\\n\\t\\t\\t\\t\\n\\t\\t\\t\\t\\t<author><name>syc0520</name><uri>https://itunes.apple.com/kr/reviews/id1006137701</uri></author>\\n\\t\\t\\t\\t\\n\\t\\t\\t\\t\\t<link rel=\"related\" href=\"https://itunes.apple.com/kr/review?id=1318541802&amp;type=Purple%20Software\"/>\\n\\t\\t\\t\\t\\n\\t\\t\\t\\t\\n\\t\\t\\t\\t\\t<content type=\"html\">&lt;table border=&quot;0&quot; width=&quot;100%&quot;&gt;\\n    &lt;tr&gt;\\n        &lt;td&gt;\\n            &lt;table border=&quot;0&quot; width=&quot;100%&quot; cellspacing=&quot;0&quot; cellpadding=&quot;0&quot;&gt;\\n                &lt;tr valign=&quot;top&quot; align=&quot;left&quot;&gt;\\n                    \\n                    \\n                    \\t&lt;td width=&quot;100%&quot;&gt;\\n                    \\n                        &lt;b&gt;&lt;a href=&quot;https://apps.apple.com/kr/app/%EC%84%9C%EC%9A%B8%EC%8B%9C%EB%AF%BC%EC%B9%B4%EB%93%9C/id1318541802?uo=2&quot;&gt;\\xec\\x95\\xb1 \\xea\\xb5\\xac\\xeb\\x8f\\x99\\xec\\x9d\\xb4 \\xec\\x95\\x88\\xeb\\x90\\xa9\\xeb\\x8b\\x88\\xeb\\x8b\\xa4&lt;/a&gt;&lt;/b&gt;&lt;br/&gt;\\n                        \\n                        \\n                        \\n                        \\n\\n                        \\n\\n                       &lt;font size=&quot;2&quot; face=&quot;Helvetica,Arial,Geneva,Swiss,SunSans-Regular&quot;&gt;\\n\\t\\t\\t\\t\\t\\t\\n                        &lt;/font&gt;\\n                    &lt;/td&gt;\\n                &lt;/tr&gt;\\n            &lt;/table&gt;\\n        &lt;/td&gt;\\n    &lt;/tr&gt;\\n    &lt;tr&gt;\\n        &lt;td&gt;\\n            \\n                &lt;font size=&quot;2&quot; face=&quot;Helvetica,Arial,Geneva,Swiss,SunSans-Regular&quot;&gt;&lt;br/&gt;\\xec\\xa0\\x84\\xec\\x9e\\x90\\xeb\\x8f\\x84\\xec\\x84\\x9c\\xea\\xb4\\x80 \\xec\\x9d\\xb4\\xec\\x9a\\xa9\\xea\\xb0\\x80\\xeb\\x8a\\xa5\\xed\\x95\\x98\\xeb\\x8b\\xa4 \\xed\\x95\\xb4\\xec\\x84\\x9c \\xec\\x97\\xb4\\xec\\x96\\xb4\\xeb\\xb3\\xb4\\xeb\\xa0\\xa4\\xeb\\x8a\\x94\\xeb\\x8d\\xb0. \\xec\\x97\\xb4\\xeb\\xa6\\xac\\xec\\xa7\\x80\\xeb\\xa5\\xbc \\xec\\x95\\x8a\\xec\\x8a\\xb5\\xeb\\x8b\\x88\\xeb\\x8b\\xa4!!&lt;/font&gt;&lt;br/&gt;\\n            \\n            \\n            \\n        &lt;/td&gt;\\n    &lt;/tr&gt;\\n&lt;/table&gt;\\n</content>\\n\\t\\t\\t\\t\\n\\t\\t\\t</entry>\\n\\t\\t\\n\\t\\t\\t<entry>\\n\\t\\t\\t\\t\\n\\t\\t\\t\\t\\t<id>5805139135</id>\\n\\t\\t\\t\\t\\n\\t\\t\\t\\t\\t<title>\\xec\\x95\\x84\\xec\\x9d\\xb4\\xed\\x8f\\xb0 11 iOS 13.4.1 \\xed\\x8a\\x95\\xea\\xb9\\x81\\xeb\\x8b\\x88\\xeb\\x8b\\xa4</title>\\n\\t\\t\\t\\t\\n\\t\\t\\t\\t\\t<content type=\"text\">\\xed\\x94\\x8c\\xeb\\x9d\\xbc\\xec\\x8a\\xa4\\xed\\x8b\\xb1 \\xec\\xb9\\xb4\\xeb\\x93\\x9c \\xeb\\x8c\\x80\\xec\\x8b\\xa0 \\xec\\x95\\xb1\\xec\\x9c\\xbc\\xeb\\xa1\\x9c \\xeb\\x8f\\x84\\xec\\x84\\x9c\\xea\\xb4\\x80, \\xeb\\xb3\\xb5\\xec\\xa7\\x80\\xea\\xb4\\x80 \\xec\\x9e\\x98 \\xec\\x9d\\xb4\\xec\\x9a\\xa9\\xed\\x96\\x88\\xec\\x97\\x88\\xeb\\x8a\\x94\\xeb\\x8d\\xb0 \\xec\\x96\\xb4\\xeb\\x8a\\x90\\xec\\x88\\x9c\\xea\\xb0\\x84\\xeb\\xb6\\x80\\xed\\x84\\xb0 \\xed\\x8a\\x95\\xea\\xb8\\xb0\\xea\\xb3\\xa0 \\xec\\xa7\\x84\\xec\\x9e\\x85\\xec\\x9d\\xb4 \\xec\\x95\\x84\\xec\\x98\\x88 \\xec\\x95\\x88\\xeb\\x90\\xa9\\xeb\\x8b\\x88\\xeb\\x8b\\xa4. \\xec\\xbd\\x94\\xeb\\xa1\\x9c\\xeb\\x82\\x98 \\xeb\\x81\\x9d\\xeb\\x82\\x98\\xeb\\xa9\\xb4 \\xeb\\x8f\\x84\\xec\\x84\\x9c\\xea\\xb4\\x80 \\xea\\xb0\\x80\\xeb\\xa0\\xa4\\xea\\xb3\\xa0 \\xed\\x95\\x98\\xeb\\x8a\\x94\\xeb\\x8d\\xb0 \\xec\\x9d\\xb4\\xea\\xb1\\xb0 \\xea\\xb3\\xa0\\xec\\xb3\\x90\\xec\\xa3\\xbc\\xec\\x8b\\x9c\\xea\\xb8\\xb0 \\xeb\\xb0\\x94\\xeb\\x9e\\x8d\\xeb\\x8b\\x88\\xeb\\x8b\\xa4.</content>\\n\\t\\t\\t\\t\\n\\t\\t\\t\\t\\t<im:contentType term=\"Application\" label=\"\\xec\\x95\\xb1\"/>\\n\\t\\t\\t\\t\\n\\t\\t\\t\\t\\t<im:voteSum>0</im:voteSum>\\n\\t\\t\\t\\t\\n\\t\\t\\t\\t\\t<im:voteCount>0</im:voteCount>\\n\\t\\t\\t\\t\\n\\t\\t\\t\\t\\t<im:rating>1</im:rating>\\n\\t\\t\\t\\t\\n\\t\\t\\t\\t\\t<updated>2020-04-13T04:36:42-07:00</updated>\\n\\t\\t\\t\\t\\n\\t\\t\\t\\t\\t<im:version>1.0.2</im:version>\\n\\t\\t\\t\\t\\n\\t\\t\\t\\t\\t<author><name>\\xeb\\xb6\\x80\\xed\\x8b\\xb0\\xeb\\x82\\x98\\xea\\xb2\\x8c</name><uri>https://itunes.apple.com/kr/reviews/id333718176</uri></author>\\n\\t\\t\\t\\t\\n\\t\\t\\t\\t\\t<link rel=\"related\" href=\"https://itunes.apple.com/kr/review?id=1318541802&amp;type=Purple%20Software\"/>\\n\\t\\t\\t\\t\\n\\t\\t\\t\\t\\n\\t\\t\\t\\t\\t<content type=\"html\">&lt;table border=&quot;0&quot; width=&quot;100%&quot;&gt;\\n    &lt;tr&gt;\\n        &lt;td&gt;\\n            &lt;table border=&quot;0&quot; width=&quot;100%&quot; cellspacing=&quot;0&quot; cellpadding=&quot;0&quot;&gt;\\n                &lt;tr valign=&quot;top&quot; align=&quot;left&quot;&gt;\\n                    \\n                    \\n                    \\t&lt;td width=&quot;100%&quot;&gt;\\n                    \\n                        &lt;b&gt;&lt;a href=&quot;https://apps.apple.com/kr/app/%EC%84%9C%EC%9A%B8%EC%8B%9C%EB%AF%BC%EC%B9%B4%EB%93%9C/id1318541802?uo=2&quot;&gt;\\xec\\x95\\x84\\xec\\x9d\\xb4\\xed\\x8f\\xb0 11 iOS 13.4.1 \\xed\\x8a\\x95\\xea\\xb9\\x81\\xeb\\x8b\\x88\\xeb\\x8b\\xa4&lt;/a&gt;&lt;/b&gt;&lt;br/&gt;\\n                        \\n                        \\n                        \\n                        \\n\\n                        \\n\\n                       &lt;font size=&quot;2&quot; face=&quot;Helvetica,Arial,Geneva,Swiss,SunSans-Regular&quot;&gt;\\n\\t\\t\\t\\t\\t\\t\\n                        &lt;/font&gt;\\n                    &lt;/td&gt;\\n                &lt;/tr&gt;\\n            &lt;/table&gt;\\n        &lt;/td&gt;\\n    &lt;/tr&gt;\\n    &lt;tr&gt;\\n        &lt;td&gt;\\n            \\n                &lt;font size=&quot;2&quot; face=&quot;Helvetica,Arial,Geneva,Swiss,SunSans-Regular&quot;&gt;&lt;br/&gt;\\xed\\x94\\x8c\\xeb\\x9d\\xbc\\xec\\x8a\\xa4\\xed\\x8b\\xb1 \\xec\\xb9\\xb4\\xeb\\x93\\x9c \\xeb\\x8c\\x80\\xec\\x8b\\xa0 \\xec\\x95\\xb1\\xec\\x9c\\xbc\\xeb\\xa1\\x9c \\xeb\\x8f\\x84\\xec\\x84\\x9c\\xea\\xb4\\x80, \\xeb\\xb3\\xb5\\xec\\xa7\\x80\\xea\\xb4\\x80 \\xec\\x9e\\x98 \\xec\\x9d\\xb4\\xec\\x9a\\xa9\\xed\\x96\\x88\\xec\\x97\\x88\\xeb\\x8a\\x94\\xeb\\x8d\\xb0 \\xec\\x96\\xb4\\xeb\\x8a\\x90\\xec\\x88\\x9c\\xea\\xb0\\x84\\xeb\\xb6\\x80\\xed\\x84\\xb0 \\xed\\x8a\\x95\\xea\\xb8\\xb0\\xea\\xb3\\xa0 \\xec\\xa7\\x84\\xec\\x9e\\x85\\xec\\x9d\\xb4 \\xec\\x95\\x84\\xec\\x98\\x88 \\xec\\x95\\x88\\xeb\\x90\\xa9\\xeb\\x8b\\x88\\xeb\\x8b\\xa4. \\xec\\xbd\\x94\\xeb\\xa1\\x9c\\xeb\\x82\\x98 \\xeb\\x81\\x9d\\xeb\\x82\\x98\\xeb\\xa9\\xb4 \\xeb\\x8f\\x84\\xec\\x84\\x9c\\xea\\xb4\\x80 \\xea\\xb0\\x80\\xeb\\xa0\\xa4\\xea\\xb3\\xa0 \\xed\\x95\\x98\\xeb\\x8a\\x94\\xeb\\x8d\\xb0 \\xec\\x9d\\xb4\\xea\\xb1\\xb0 \\xea\\xb3\\xa0\\xec\\xb3\\x90\\xec\\xa3\\xbc\\xec\\x8b\\x9c\\xea\\xb8\\xb0 \\xeb\\xb0\\x94\\xeb\\x9e\\x8d\\xeb\\x8b\\x88\\xeb\\x8b\\xa4.&lt;/font&gt;&lt;br/&gt;\\n            \\n            \\n            \\n        &lt;/td&gt;\\n    &lt;/tr&gt;\\n&lt;/table&gt;\\n</content>\\n\\t\\t\\t\\t\\n\\t\\t\\t</entry>\\n\\t\\t\\n\\t\\t\\t<entry>\\n\\t\\t\\t\\t\\n\\t\\t\\t\\t\\t<id>5774786598</id>\\n\\t\\t\\t\\t\\n\\t\\t\\t\\t\\t<title>ios 13.4 \\xec\\x95\\xb1\\xed\\x81\\xac\\xeb\\x9f\\xac\\xec\\x8b\\x9c \\xeb\\x8c\\x80\\xec\\x9d\\x91</title>\\n\\t\\t\\t\\t\\n\\t\\t\\t\\t\\t<content type=\"text\">ios 13.4 \\xec\\x97\\x85\\xea\\xb7\\xb8\\xeb\\xa0\\x88\\xec\\x9d\\xb4\\xeb\\x93\\x9c\\xeb\\x90\\x98\\xea\\xb3\\xa0 \\xec\\x95\\xb1 \\xed\\x81\\xac\\xeb\\x9f\\xac\\xec\\x8b\\x9c \\xeb\\x82\\x98\\xeb\\xa9\\xb4\\xec\\x84\\x9c \\xeb\\x8f\\x99\\xec\\x9e\\x91\\xec\\x95\\x88\\xed\\x95\\x9c\\xec\\xa7\\x80\\xea\\xb0\\x80 2\\xec\\xa3\\xbc\\xea\\xb0\\x80 \\xeb\\x84\\x98\\xeb\\x8a\\x94\\xeb\\x8d\\xb0 \\xeb\\x8c\\x80\\xec\\x9d\\x91\\xec\\x95\\x88\\xed\\x95\\x98\\xeb\\x82\\x98\\xec\\x9a\\x94?\\n\\xec\\x84\\xb8\\xea\\xb8\\x88\\xec\\x9c\\xbc\\xeb\\xa1\\x9c \\xec\\x9a\\xb4\\xec\\x98\\x81\\xed\\x95\\x98\\xeb\\x8a\\x94\\xea\\xb1\\xb4\\xeb\\x8d\\xb0 \\xeb\\x82\\xa9\\xec\\x84\\xb8\\xec\\x9e\\x90 \\xec\\x8b\\x9c\\xeb\\xaf\\xbc\\xec\\x9d\\x98 \\xec\\x82\\xac\\xec\\x9a\\xa9\\xeb\\xb6\\x88\\xed\\x8e\\xb8\\xec\\x97\\x90 \\xec\\x8b\\xa0\\xec\\x86\\x8d\\xed\\x9e\\x88 \\xeb\\x8c\\x80\\xec\\x9d\\x91\\xeb\\xb0\\x94\\xeb\\x9e\\x8d\\xeb\\x8b\\x88\\xeb\\x8b\\xa4</content>\\n\\t\\t\\t\\t\\n\\t\\t\\t\\t\\t<im:contentType term=\"Application\" label=\"\\xec\\x95\\xb1\"/>\\n\\t\\t\\t\\t\\n\\t\\t\\t\\t\\t<im:voteSum>0</im:voteSum>\\n\\t\\t\\t\\t\\n\\t\\t\\t\\t\\t<im:voteCount>0</im:voteCount>\\n\\t\\t\\t\\t\\n\\t\\t\\t\\t\\t<im:rating>1</im:rating>\\n\\t\\t\\t\\t\\n\\t\\t\\t\\t\\t<updated>2020-04-07T00:54:02-07:00</updated>\\n\\t\\t\\t\\t\\n\\t\\t\\t\\t\\t<im:version>1.0.2</im:version>\\n\\t\\t\\t\\t\\n\\t\\t\\t\\t\\t<author><name>\\xec\\x95\\xa0\\xed\\x94\\x8c\\xec\\x95\\xb1\\xed\\x9d\\x98\\xeb\\xb9\\xa0</name><uri>https://itunes.apple.com/kr/reviews/id267326822</uri></author>\\n\\t\\t\\t\\t\\n\\t\\t\\t\\t\\t<link rel=\"related\" href=\"https://itunes.apple.com/kr/review?id=1318541802&amp;type=Purple%20Software\"/>\\n\\t\\t\\t\\t\\n\\t\\t\\t\\t\\n\\t\\t\\t\\t\\t<content type=\"html\">&lt;table border=&quot;0&quot; width=&quot;100%&quot;&gt;\\n    &lt;tr&gt;\\n        &lt;td&gt;\\n            &lt;table border=&quot;0&quot; width=&quot;100%&quot; cellspacing=&quot;0&quot; cellpadding=&quot;0&quot;&gt;\\n                &lt;tr valign=&quot;top&quot; align=&quot;left&quot;&gt;\\n                    \\n                    \\n                    \\t&lt;td width=&quot;100%&quot;&gt;\\n                    \\n                        &lt;b&gt;&lt;a href=&quot;https://apps.apple.com/kr/app/%EC%84%9C%EC%9A%B8%EC%8B%9C%EB%AF%BC%EC%B9%B4%EB%93%9C/id1318541802?uo=2&quot;&gt;ios 13.4 \\xec\\x95\\xb1\\xed\\x81\\xac\\xeb\\x9f\\xac\\xec\\x8b\\x9c \\xeb\\x8c\\x80\\xec\\x9d\\x91&lt;/a&gt;&lt;/b&gt;&lt;br/&gt;\\n                        \\n                        \\n                        \\n                        \\n\\n                        \\n\\n                       &lt;font size=&quot;2&quot; face=&quot;Helvetica,Arial,Geneva,Swiss,SunSans-Regular&quot;&gt;\\n\\t\\t\\t\\t\\t\\t\\n                        &lt;/font&gt;\\n                    &lt;/td&gt;\\n                &lt;/tr&gt;\\n            &lt;/table&gt;\\n        &lt;/td&gt;\\n    &lt;/tr&gt;\\n    &lt;tr&gt;\\n        &lt;td&gt;\\n            \\n                &lt;font size=&quot;2&quot; face=&quot;Helvetica,Arial,Geneva,Swiss,SunSans-Regular&quot;&gt;&lt;br/&gt;ios 13.4 \\xec\\x97\\x85\\xea\\xb7\\xb8\\xeb\\xa0\\x88\\xec\\x9d\\xb4\\xeb\\x93\\x9c\\xeb\\x90\\x98\\xea\\xb3\\xa0 \\xec\\x95\\xb1 \\xed\\x81\\xac\\xeb\\x9f\\xac\\xec\\x8b\\x9c \\xeb\\x82\\x98\\xeb\\xa9\\xb4\\xec\\x84\\x9c \\xeb\\x8f\\x99\\xec\\x9e\\x91\\xec\\x95\\x88\\xed\\x95\\x9c\\xec\\xa7\\x80\\xea\\xb0\\x80 2\\xec\\xa3\\xbc\\xea\\xb0\\x80 \\xeb\\x84\\x98\\xeb\\x8a\\x94\\xeb\\x8d\\xb0 \\xeb\\x8c\\x80\\xec\\x9d\\x91\\xec\\x95\\x88\\xed\\x95\\x98\\xeb\\x82\\x98\\xec\\x9a\\x94?&lt;br/&gt;\\xec\\x84\\xb8\\xea\\xb8\\x88\\xec\\x9c\\xbc\\xeb\\xa1\\x9c \\xec\\x9a\\xb4\\xec\\x98\\x81\\xed\\x95\\x98\\xeb\\x8a\\x94\\xea\\xb1\\xb4\\xeb\\x8d\\xb0 \\xeb\\x82\\xa9\\xec\\x84\\xb8\\xec\\x9e\\x90 \\xec\\x8b\\x9c\\xeb\\xaf\\xbc\\xec\\x9d\\x98 \\xec\\x82\\xac\\xec\\x9a\\xa9\\xeb\\xb6\\x88\\xed\\x8e\\xb8\\xec\\x97\\x90 \\xec\\x8b\\xa0\\xec\\x86\\x8d\\xed\\x9e\\x88 \\xeb\\x8c\\x80\\xec\\x9d\\x91\\xeb\\xb0\\x94\\xeb\\x9e\\x8d\\xeb\\x8b\\x88\\xeb\\x8b\\xa4&lt;/font&gt;&lt;br/&gt;\\n            \\n            \\n            \\n        &lt;/td&gt;\\n    &lt;/tr&gt;\\n&lt;/table&gt;\\n</content>\\n\\t\\t\\t\\t\\n\\t\\t\\t</entry>\\n\\t\\t\\n\\t\\t\\t<entry>\\n\\t\\t\\t\\t\\n\\t\\t\\t\\t\\t<id>5755644296</id>\\n\\t\\t\\t\\t\\n\\t\\t\\t\\t\\t<title>\\xeb\\xad\\x94\\xeb\\x86\\x88\\xec\\x9d\\x98 \\xec\\x95\\xb1\\xec\\x9d\\xb4 \\xec\\x9d\\xb8\\xec\\xa6\\x9d\\xeb\\x8f\\x84 \\xec\\x95\\x88\\xeb\\x90\\x98\\xeb\\x82\\x98.?</title>\\n\\t\\t\\t\\t\\n\\t\\t\\t\\t\\t<content type=\"text\">\\xeb\\xb3\\xb8\\xec\\x9d\\xb8 \\xec\\x9d\\xb8\\xec\\xa6\\x9d \\xed\\x95\\x98\\xeb\\x9d\\xbc\\xeb\\xa9\\xb4\\xec\\x84\\x9c \\xec\\x9d\\xb8\\xec\\xa6\\x9d \\xed\\x95\\x98\\xeb\\xa0\\xa4\\xea\\xb3\\xa0 \\xed\\x95\\x98\\xeb\\xa9\\xb4 \\xec\\x84\\xb8\\xec\\x85\\x98 \\xeb\\xa7\\x8c\\xeb\\xa3\\x8c \\xeb\\x9d\\xbc\\xea\\xb3\\xa0 \\xeb\\x9c\\xa8\\xea\\xb3\\xa0 \\xeb\\xb3\\xb4\\xec\\x95\\x88\\xeb\\xb2\\x88\\xed\\x98\\xb8 \\xec\\x9e\\x85\\xeb\\xa0\\xa5\\xed\\x95\\x98\\xeb\\xa0\\xa4\\xea\\xb3\\xa0 \\xed\\x95\\x98\\xeb\\x8b\\x88 \\xec\\x9d\\xb4\\xeb\\xaf\\xb8\\xec\\xa7\\x80\\xea\\xb0\\x80 \\xec\\xbb\\xa4\\xec\\xa0\\xb8\\xec\\x84\\x9c \\xec\\xb0\\xbd\\xec\\x9d\\x84 \\xea\\xb0\\x80\\xeb\\xa0\\xa4 \\xeb\\xb2\\x84\\xeb\\xa6\\xac\\xea\\xb3\\xa0..  \\xec\\x95\\xb1 \\xeb\\xa7\\x8c\\xeb\\x93\\xa4\\xea\\xb3\\xa0 \\xec\\x98\\xac\\xeb\\xa6\\xac\\xeb\\x8a\\x94\\xea\\xb2\\x8c \\xeb\\x8b\\xa4\\xea\\xb0\\x80 \\xec\\x95\\x84\\xeb\\x8b\\x88\\xeb\\x9d\\xbc \\xeb\\x90\\x98\\xeb\\x8a\\x94\\xec\\xa7\\x80 \\xec\\x95\\x88\\xeb\\x90\\x98\\xeb\\x8a\\x94\\xec\\xa7\\x80 \\xed\\x99\\x95\\xec\\x9d\\xb8 \\xec\\xa2\\x80 \\xed\\x95\\xb4\\xeb\\x9d\\xbc.</content>\\n\\t\\t\\t\\t\\n\\t\\t\\t\\t\\t<im:contentType term=\"Application\" label=\"\\xec\\x95\\xb1\"/>\\n\\t\\t\\t\\t\\n\\t\\t\\t\\t\\t<im:voteSum>0</im:voteSum>\\n\\t\\t\\t\\t\\n\\t\\t\\t\\t\\t<im:voteCount>0</im:voteCount>\\n\\t\\t\\t\\t\\n\\t\\t\\t\\t\\t<im:rating>1</im:rating>\\n\\t\\t\\t\\t\\n\\t\\t\\t\\t\\t<updated>2020-04-03T05:04:33-07:00</updated>\\n\\t\\t\\t\\t\\n\\t\\t\\t\\t\\t<im:version>1.0.2</im:version>\\n\\t\\t\\t\\t\\n\\t\\t\\t\\t\\t<author><name>noaec</name><uri>https://itunes.apple.com/kr/reviews/id121398851</uri></author>\\n\\t\\t\\t\\t\\n\\t\\t\\t\\t\\t<link rel=\"related\" href=\"https://itunes.apple.com/kr/review?id=1318541802&amp;type=Purple%20Software\"/>\\n\\t\\t\\t\\t\\n\\t\\t\\t\\t\\n\\t\\t\\t\\t\\t<content type=\"html\">&lt;table border=&quot;0&quot; width=&quot;100%&quot;&gt;\\n    &lt;tr&gt;\\n        &lt;td&gt;\\n            &lt;table border=&quot;0&quot; width=&quot;100%&quot; cellspacing=&quot;0&quot; cellpadding=&quot;0&quot;&gt;\\n                &lt;tr valign=&quot;top&quot; align=&quot;left&quot;&gt;\\n                    \\n                    \\n                    \\t&lt;td width=&quot;100%&quot;&gt;\\n                    \\n                        &lt;b&gt;&lt;a href=&quot;https://apps.apple.com/kr/app/%EC%84%9C%EC%9A%B8%EC%8B%9C%EB%AF%BC%EC%B9%B4%EB%93%9C/id1318541802?uo=2&quot;&gt;\\xeb\\xad\\x94\\xeb\\x86\\x88\\xec\\x9d\\x98 \\xec\\x95\\xb1\\xec\\x9d\\xb4 \\xec\\x9d\\xb8\\xec\\xa6\\x9d\\xeb\\x8f\\x84 \\xec\\x95\\x88\\xeb\\x90\\x98\\xeb\\x82\\x98.?&lt;/a&gt;&lt;/b&gt;&lt;br/&gt;\\n                        \\n                        \\n                        \\n                        \\n\\n                        \\n\\n                       &lt;font size=&quot;2&quot; face=&quot;Helvetica,Arial,Geneva,Swiss,SunSans-Regular&quot;&gt;\\n\\t\\t\\t\\t\\t\\t\\n                        &lt;/font&gt;\\n                    &lt;/td&gt;\\n                &lt;/tr&gt;\\n            &lt;/table&gt;\\n        &lt;/td&gt;\\n    &lt;/tr&gt;\\n    &lt;tr&gt;\\n        &lt;td&gt;\\n            \\n                &lt;font size=&quot;2&quot; face=&quot;Helvetica,Arial,Geneva,Swiss,SunSans-Regular&quot;&gt;&lt;br/&gt;\\xeb\\xb3\\xb8\\xec\\x9d\\xb8 \\xec\\x9d\\xb8\\xec\\xa6\\x9d \\xed\\x95\\x98\\xeb\\x9d\\xbc\\xeb\\xa9\\xb4\\xec\\x84\\x9c \\xec\\x9d\\xb8\\xec\\xa6\\x9d \\xed\\x95\\x98\\xeb\\xa0\\xa4\\xea\\xb3\\xa0 \\xed\\x95\\x98\\xeb\\xa9\\xb4 \\xec\\x84\\xb8\\xec\\x85\\x98 \\xeb\\xa7\\x8c\\xeb\\xa3\\x8c \\xeb\\x9d\\xbc\\xea\\xb3\\xa0 \\xeb\\x9c\\xa8\\xea\\xb3\\xa0 \\xeb\\xb3\\xb4\\xec\\x95\\x88\\xeb\\xb2\\x88\\xed\\x98\\xb8 \\xec\\x9e\\x85\\xeb\\xa0\\xa5\\xed\\x95\\x98\\xeb\\xa0\\xa4\\xea\\xb3\\xa0 \\xed\\x95\\x98\\xeb\\x8b\\x88 \\xec\\x9d\\xb4\\xeb\\xaf\\xb8\\xec\\xa7\\x80\\xea\\xb0\\x80 \\xec\\xbb\\xa4\\xec\\xa0\\xb8\\xec\\x84\\x9c \\xec\\xb0\\xbd\\xec\\x9d\\x84 \\xea\\xb0\\x80\\xeb\\xa0\\xa4 \\xeb\\xb2\\x84\\xeb\\xa6\\xac\\xea\\xb3\\xa0..  \\xec\\x95\\xb1 \\xeb\\xa7\\x8c\\xeb\\x93\\xa4\\xea\\xb3\\xa0 \\xec\\x98\\xac\\xeb\\xa6\\xac\\xeb\\x8a\\x94\\xea\\xb2\\x8c \\xeb\\x8b\\xa4\\xea\\xb0\\x80 \\xec\\x95\\x84\\xeb\\x8b\\x88\\xeb\\x9d\\xbc \\xeb\\x90\\x98\\xeb\\x8a\\x94\\xec\\xa7\\x80 \\xec\\x95\\x88\\xeb\\x90\\x98\\xeb\\x8a\\x94\\xec\\xa7\\x80 \\xed\\x99\\x95\\xec\\x9d\\xb8 \\xec\\xa2\\x80 \\xed\\x95\\xb4\\xeb\\x9d\\xbc.&lt;/font&gt;&lt;br/&gt;\\n            \\n            \\n            \\n        &lt;/td&gt;\\n    &lt;/tr&gt;\\n&lt;/table&gt;\\n</content>\\n\\t\\t\\t\\t\\n\\t\\t\\t</entry>\\n\\t\\t\\n\\t\\t\\t<entry>\\n\\t\\t\\t\\t\\n\\t\\t\\t\\t\\t<id>5719719021</id>\\n\\t\\t\\t\\t\\n\\t\\t\\t\\t\\t<title>\\xec\\xa0\\x91\\xec\\x86\\x8d \\xeb\\xb6\\x88\\xea\\xb0\\x80</title>\\n\\t\\t\\t\\t\\n\\t\\t\\t\\t\\t<content type=\"text\">\\xec\\x95\\xb1 \\xec\\xa0\\x91\\xec\\x86\\x8d\\xec\\x9d\\xb4 \\xeb\\xb6\\x88\\xea\\xb0\\x80\\xeb\\x8a\\xa5\\xed\\x95\\xa9\\xeb\\x8b\\x88\\xeb\\x8b\\xa4. \\xec\\x95\\xb1\\xec\\x9d\\x84 \\xed\\x81\\xb4\\xeb\\xa6\\xad\\xed\\x95\\x98\\xeb\\xa9\\xb4 \\xeb\\xb8\\x94\\xeb\\xa3\\xa8\\xed\\x88\\xac\\xec\\x8a\\xa4\\xeb\\xa5\\xbc \\xec\\x97\\xb0\\xea\\xb2\\xb0\\xed\\x95\\x98\\xeb\\x9d\\xbc\\xeb\\xa9\\xb4\\xec\\x84\\x9c \\xec\\xa2\\x85\\xeb\\xa3\\x8c\\xea\\xb0\\x80 \\xeb\\x90\\xa9\\xeb\\x8b\\x88\\xeb\\x8b\\xa4. \\xec\\x95\\xb1 \\xec\\xa0\\x91\\xec\\x86\\x8d \\xec\\xa2\\x80 \\xed\\x95\\x98\\xea\\xb3\\xa0\\xec\\x8b\\xb6\\xec\\x8a\\xb5\\xeb\\x8b\\x88\\xeb\\x8b\\xa4 \\xeb\\xb9\\xa0\\xeb\\xa5\\xb8 \\xea\\xb0\\x9c\\xec\\x84\\xa0 \\xeb\\xb6\\x80\\xed\\x83\\x81\\xeb\\x93\\x9c\\xeb\\xa0\\xa4\\xec\\x9a\\x94</content>\\n\\t\\t\\t\\t\\n\\t\\t\\t\\t\\t<im:contentType term=\"Application\" label=\"\\xec\\x95\\xb1\"/>\\n\\t\\t\\t\\t\\n\\t\\t\\t\\t\\t<im:voteSum>0</im:voteSum>\\n\\t\\t\\t\\t\\n\\t\\t\\t\\t\\t<im:voteCount>0</im:voteCount>\\n\\t\\t\\t\\t\\n\\t\\t\\t\\t\\t<im:rating>1</im:rating>\\n\\t\\t\\t\\t\\n\\t\\t\\t\\t\\t<updated>2020-03-26T23:31:40-07:00</updated>\\n\\t\\t\\t\\t\\n\\t\\t\\t\\t\\t<im:version>1.0.2</im:version>\\n\\t\\t\\t\\t\\n\\t\\t\\t\\t\\t<author><name>\\xec\\x98\\xa4\\xec\\x9b\\x85\\xec\\x9a\\xb0\\xeb\\xa3\\xa8\\xec\\x9a\\xb0\\xec\\x9b\\x85</name><uri>https://itunes.apple.com/kr/reviews/id930784886</uri></author>\\n\\t\\t\\t\\t\\n\\t\\t\\t\\t\\t<link rel=\"related\" href=\"https://itunes.apple.com/kr/review?id=1318541802&amp;type=Purple%20Software\"/>\\n\\t\\t\\t\\t\\n\\t\\t\\t\\t\\n\\t\\t\\t\\t\\t<content type=\"html\">&lt;table border=&quot;0&quot; width=&quot;100%&quot;&gt;\\n    &lt;tr&gt;\\n        &lt;td&gt;\\n            &lt;table border=&quot;0&quot; width=&quot;100%&quot; cellspacing=&quot;0&quot; cellpadding=&quot;0&quot;&gt;\\n                &lt;tr valign=&quot;top&quot; align=&quot;left&quot;&gt;\\n                    \\n                    \\n                    \\t&lt;td width=&quot;100%&quot;&gt;\\n                    \\n                        &lt;b&gt;&lt;a href=&quot;https://apps.apple.com/kr/app/%EC%84%9C%EC%9A%B8%EC%8B%9C%EB%AF%BC%EC%B9%B4%EB%93%9C/id1318541802?uo=2&quot;&gt;\\xec\\xa0\\x91\\xec\\x86\\x8d \\xeb\\xb6\\x88\\xea\\xb0\\x80&lt;/a&gt;&lt;/b&gt;&lt;br/&gt;\\n                        \\n                        \\n                        \\n                        \\n\\n                        \\n\\n                       &lt;font size=&quot;2&quot; face=&quot;Helvetica,Arial,Geneva,Swiss,SunSans-Regular&quot;&gt;\\n\\t\\t\\t\\t\\t\\t\\n                        &lt;/font&gt;\\n                    &lt;/td&gt;\\n                &lt;/tr&gt;\\n            &lt;/table&gt;\\n        &lt;/td&gt;\\n    &lt;/tr&gt;\\n    &lt;tr&gt;\\n        &lt;td&gt;\\n            \\n                &lt;font size=&quot;2&quot; face=&quot;Helvetica,Arial,Geneva,Swiss,SunSans-Regular&quot;&gt;&lt;br/&gt;\\xec\\x95\\xb1 \\xec\\xa0\\x91\\xec\\x86\\x8d\\xec\\x9d\\xb4 \\xeb\\xb6\\x88\\xea\\xb0\\x80\\xeb\\x8a\\xa5\\xed\\x95\\xa9\\xeb\\x8b\\x88\\xeb\\x8b\\xa4. \\xec\\x95\\xb1\\xec\\x9d\\x84 \\xed\\x81\\xb4\\xeb\\xa6\\xad\\xed\\x95\\x98\\xeb\\xa9\\xb4 \\xeb\\xb8\\x94\\xeb\\xa3\\xa8\\xed\\x88\\xac\\xec\\x8a\\xa4\\xeb\\xa5\\xbc \\xec\\x97\\xb0\\xea\\xb2\\xb0\\xed\\x95\\x98\\xeb\\x9d\\xbc\\xeb\\xa9\\xb4\\xec\\x84\\x9c \\xec\\xa2\\x85\\xeb\\xa3\\x8c\\xea\\xb0\\x80 \\xeb\\x90\\xa9\\xeb\\x8b\\x88\\xeb\\x8b\\xa4. \\xec\\x95\\xb1 \\xec\\xa0\\x91\\xec\\x86\\x8d \\xec\\xa2\\x80 \\xed\\x95\\x98\\xea\\xb3\\xa0\\xec\\x8b\\xb6\\xec\\x8a\\xb5\\xeb\\x8b\\x88\\xeb\\x8b\\xa4 \\xeb\\xb9\\xa0\\xeb\\xa5\\xb8 \\xea\\xb0\\x9c\\xec\\x84\\xa0 \\xeb\\xb6\\x80\\xed\\x83\\x81\\xeb\\x93\\x9c\\xeb\\xa0\\xa4\\xec\\x9a\\x94&lt;/font&gt;&lt;br/&gt;\\n            \\n            \\n            \\n        &lt;/td&gt;\\n    &lt;/tr&gt;\\n&lt;/table&gt;\\n</content>\\n\\t\\t\\t\\t\\n\\t\\t\\t</entry>\\n\\t\\t\\n\\t\\t\\t<entry>\\n\\t\\t\\t\\t\\n\\t\\t\\t\\t\\t<id>5561832339</id>\\n\\t\\t\\t\\t\\n\\t\\t\\t\\t\\t<title>\\xec\\xa7\\x84\\xec\\x9e\\x85 \\xec\\x98\\xa4\\xeb\\xa5\\x98</title>\\n\\t\\t\\t\\t\\n\\t\\t\\t\\t\\t<content type=\"text\">\\xeb\\x8f\\x84\\xec\\x84\\x9c\\xea\\xb4\\x80\\xec\\xb9\\xb4\\xeb\\x93\\x9c, \\xeb\\xac\\xb8\\xed\\x99\\x94\\xec\\xb2\\xb4\\xec\\x9c\\xa1\\xec\\x84\\xbc\\xed\\x84\\xb0 \\xec\\xb9\\xb4\\xeb\\x93\\x9c \\xec\\x97\\xb0\\xeb\\x8f\\x99\\xed\\x95\\x98\\xec\\x97\\xac \\xea\\xbe\\xb8\\xec\\xa4\\x80\\xed\\x9e\\x88 \\xec\\x9e\\x98 \\xec\\x82\\xac\\xec\\x9a\\xa9\\xed\\x95\\x98\\xeb\\x8d\\x98 \\xec\\x8b\\x9c\\xeb\\xaf\\xbc\\xec\\x9e\\x85\\xeb\\x8b\\x88\\xeb\\x8b\\xa4. \\xea\\xb8\\x88\\xec\\x9d\\xbc \\xea\\xb0\\x91\\xec\\x9e\\x90\\xea\\xb8\\xb0 \\xeb\\xb8\\x94\\xeb\\xa3\\xa8\\xed\\x88\\xac\\xec\\x8a\\xa4 \\xec\\x97\\xb0\\xea\\xb2\\xb0\\xed\\x95\\x98\\xeb\\x9d\\xbc\\xeb\\x8a\\x94 \\xed\\x8c\\x9d\\xec\\x97\\x85\\xec\\x9d\\xb4 \\xeb\\x9c\\xa8\\xeb\\xa9\\xb4\\xec\\x84\\x9c\\xeb\\xb6\\x80\\xed\\x84\\xb0 \\xec\\x96\\xb4\\xed\\x94\\x8c \\xec\\xa7\\x84\\xec\\x9e\\x85\\xec\\x9d\\xb4 \\xeb\\xb6\\x88\\xea\\xb0\\x80\\xed\\x95\\x98\\xeb\\x84\\xa4\\xec\\x9a\\x94. \\xeb\\x8b\\xab\\xea\\xb8\\xb0 \\xeb\\xb2\\x84\\xed\\x8a\\xbc\\xec\\x9d\\x84 \\xeb\\x88\\x84\\xeb\\xa5\\xb4\\xeb\\xa9\\xb4 \\xeb\\x84\\xa4\\xed\\x8a\\xb8\\xec\\x9b\\x8c\\xed\\x81\\xac \\xec\\x97\\xb0\\xea\\xb2\\xb0\\xec\\x9d\\x84 \\xec\\x9e\\xac\\xed\\x99\\x95\\xec\\x9d\\xb8 \\xed\\x95\\x98\\xeb\\x9d\\xbc\\xeb\\x8a\\x94 \\xec\\x95\\x8c\\xeb\\xa6\\xbc \\xed\\x9b\\x84 \\xec\\x95\\xb1 \\xec\\xa2\\x85\\xeb\\xa3\\x8c \\xeb\\x90\\x98\\xeb\\x8a\\x94 \\xec\\x98\\xa4\\xeb\\xa5\\x98 \\xeb\\xb0\\x9c\\xec\\x83\\x9d\\xed\\x95\\xa9\\xeb\\x8b\\x88\\xeb\\x8b\\xa4. \\xeb\\x8f\\x84\\xec\\x84\\x9c \\xec\\x88\\x98\\xeb\\xa0\\xb9\\xed\\x95\\x98\\xeb\\x9f\\xac \\xea\\xb0\\x94\\xeb\\x8b\\xa4\\xea\\xb0\\x80 \\xeb\\xb6\\x88\\xed\\x8e\\xb8\\xec\\x9d\\x84 \\xea\\xb2\\xaa\\xec\\x97\\x88\\xeb\\x84\\xa4\\xec\\x9a\\x94.. \\xeb\\xb9\\xa0\\xeb\\xa5\\xb8 \\xed\\x99\\x95\\xec\\x9d\\xb8 \\xeb\\xb6\\x80\\xed\\x83\\x81\\xeb\\x93\\x9c\\xeb\\xa0\\xa4\\xec\\x9a\\x94..</content>\\n\\t\\t\\t\\t\\n\\t\\t\\t\\t\\t<im:contentType term=\"Application\" label=\"\\xec\\x95\\xb1\"/>\\n\\t\\t\\t\\t\\n\\t\\t\\t\\t\\t<im:voteSum>1</im:voteSum>\\n\\t\\t\\t\\t\\n\\t\\t\\t\\t\\t<im:voteCount>1</im:voteCount>\\n\\t\\t\\t\\t\\n\\t\\t\\t\\t\\t<im:rating>4</im:rating>\\n\\t\\t\\t\\t\\n\\t\\t\\t\\t\\t<updated>2020-02-21T09:19:06-07:00</updated>\\n\\t\\t\\t\\t\\n\\t\\t\\t\\t\\t<im:version>1.0.2</im:version>\\n\\t\\t\\t\\t\\n\\t\\t\\t\\t\\t<author><name>meyoungone</name><uri>https://itunes.apple.com/kr/reviews/id139380834</uri></author>\\n\\t\\t\\t\\t\\n\\t\\t\\t\\t\\t<link rel=\"related\" href=\"https://itunes.apple.com/kr/review?id=1318541802&amp;type=Purple%20Software\"/>\\n\\t\\t\\t\\t\\n\\t\\t\\t\\t\\n\\t\\t\\t\\t\\t<content type=\"html\">&lt;table border=&quot;0&quot; width=&quot;100%&quot;&gt;\\n    &lt;tr&gt;\\n        &lt;td&gt;\\n            &lt;table border=&quot;0&quot; width=&quot;100%&quot; cellspacing=&quot;0&quot; cellpadding=&quot;0&quot;&gt;\\n                &lt;tr valign=&quot;top&quot; align=&quot;left&quot;&gt;\\n                    \\n                    \\n                    \\t&lt;td width=&quot;100%&quot;&gt;\\n                    \\n                        &lt;b&gt;&lt;a href=&quot;https://apps.apple.com/kr/app/%EC%84%9C%EC%9A%B8%EC%8B%9C%EB%AF%BC%EC%B9%B4%EB%93%9C/id1318541802?uo=2&quot;&gt;\\xec\\xa7\\x84\\xec\\x9e\\x85 \\xec\\x98\\xa4\\xeb\\xa5\\x98&lt;/a&gt;&lt;/b&gt;&lt;br/&gt;\\n                        \\n                        \\n                        \\n                        \\n\\n                        \\n\\n                       &lt;font size=&quot;2&quot; face=&quot;Helvetica,Arial,Geneva,Swiss,SunSans-Regular&quot;&gt;\\n\\t\\t\\t\\t\\t\\t\\n                        &lt;/font&gt;\\n                    &lt;/td&gt;\\n                &lt;/tr&gt;\\n            &lt;/table&gt;\\n        &lt;/td&gt;\\n    &lt;/tr&gt;\\n    &lt;tr&gt;\\n        &lt;td&gt;\\n            \\n                &lt;font size=&quot;2&quot; face=&quot;Helvetica,Arial,Geneva,Swiss,SunSans-Regular&quot;&gt;&lt;br/&gt;\\xeb\\x8f\\x84\\xec\\x84\\x9c\\xea\\xb4\\x80\\xec\\xb9\\xb4\\xeb\\x93\\x9c, \\xeb\\xac\\xb8\\xed\\x99\\x94\\xec\\xb2\\xb4\\xec\\x9c\\xa1\\xec\\x84\\xbc\\xed\\x84\\xb0 \\xec\\xb9\\xb4\\xeb\\x93\\x9c \\xec\\x97\\xb0\\xeb\\x8f\\x99\\xed\\x95\\x98\\xec\\x97\\xac \\xea\\xbe\\xb8\\xec\\xa4\\x80\\xed\\x9e\\x88 \\xec\\x9e\\x98 \\xec\\x82\\xac\\xec\\x9a\\xa9\\xed\\x95\\x98\\xeb\\x8d\\x98 \\xec\\x8b\\x9c\\xeb\\xaf\\xbc\\xec\\x9e\\x85\\xeb\\x8b\\x88\\xeb\\x8b\\xa4. \\xea\\xb8\\x88\\xec\\x9d\\xbc \\xea\\xb0\\x91\\xec\\x9e\\x90\\xea\\xb8\\xb0 \\xeb\\xb8\\x94\\xeb\\xa3\\xa8\\xed\\x88\\xac\\xec\\x8a\\xa4 \\xec\\x97\\xb0\\xea\\xb2\\xb0\\xed\\x95\\x98\\xeb\\x9d\\xbc\\xeb\\x8a\\x94 \\xed\\x8c\\x9d\\xec\\x97\\x85\\xec\\x9d\\xb4 \\xeb\\x9c\\xa8\\xeb\\xa9\\xb4\\xec\\x84\\x9c\\xeb\\xb6\\x80\\xed\\x84\\xb0 \\xec\\x96\\xb4\\xed\\x94\\x8c \\xec\\xa7\\x84\\xec\\x9e\\x85\\xec\\x9d\\xb4 \\xeb\\xb6\\x88\\xea\\xb0\\x80\\xed\\x95\\x98\\xeb\\x84\\xa4\\xec\\x9a\\x94. \\xeb\\x8b\\xab\\xea\\xb8\\xb0 \\xeb\\xb2\\x84\\xed\\x8a\\xbc\\xec\\x9d\\x84 \\xeb\\x88\\x84\\xeb\\xa5\\xb4\\xeb\\xa9\\xb4 \\xeb\\x84\\xa4\\xed\\x8a\\xb8\\xec\\x9b\\x8c\\xed\\x81\\xac \\xec\\x97\\xb0\\xea\\xb2\\xb0\\xec\\x9d\\x84 \\xec\\x9e\\xac\\xed\\x99\\x95\\xec\\x9d\\xb8 \\xed\\x95\\x98\\xeb\\x9d\\xbc\\xeb\\x8a\\x94 \\xec\\x95\\x8c\\xeb\\xa6\\xbc \\xed\\x9b\\x84 \\xec\\x95\\xb1 \\xec\\xa2\\x85\\xeb\\xa3\\x8c \\xeb\\x90\\x98\\xeb\\x8a\\x94 \\xec\\x98\\xa4\\xeb\\xa5\\x98 \\xeb\\xb0\\x9c\\xec\\x83\\x9d\\xed\\x95\\xa9\\xeb\\x8b\\x88\\xeb\\x8b\\xa4. \\xeb\\x8f\\x84\\xec\\x84\\x9c \\xec\\x88\\x98\\xeb\\xa0\\xb9\\xed\\x95\\x98\\xeb\\x9f\\xac \\xea\\xb0\\x94\\xeb\\x8b\\xa4\\xea\\xb0\\x80 \\xeb\\xb6\\x88\\xed\\x8e\\xb8\\xec\\x9d\\x84 \\xea\\xb2\\xaa\\xec\\x97\\x88\\xeb\\x84\\xa4\\xec\\x9a\\x94.. \\xeb\\xb9\\xa0\\xeb\\xa5\\xb8 \\xed\\x99\\x95\\xec\\x9d\\xb8 \\xeb\\xb6\\x80\\xed\\x83\\x81\\xeb\\x93\\x9c\\xeb\\xa0\\xa4\\xec\\x9a\\x94..&lt;/font&gt;&lt;br/&gt;\\n            \\n            \\n            \\n        &lt;/td&gt;\\n    &lt;/tr&gt;\\n&lt;/table&gt;\\n</content>\\n\\t\\t\\t\\t\\n\\t\\t\\t</entry>\\n\\t\\t\\n\\t\\t\\t<entry>\\n\\t\\t\\t\\t\\n\\t\\t\\t\\t\\t<id>5561161003</id>\\n\\t\\t\\t\\t\\n\\t\\t\\t\\t\\t<title>\\xec\\x84\\x9c\\xec\\x9a\\xb8 \\xec\\x8b\\x9c\\xeb\\xaf\\xbc\\xec\\xb9\\xb4\\xeb\\x93\\x9c \\xec\\x96\\xb4\\xed\\x94\\x8c\\xec\\x9d\\x84 \\xea\\xb9\\x94\\xec\\x95\\x98\\xeb\\x8a\\x94\\xeb\\x8d\\xb0</title>\\n\\t\\t\\t\\t\\n\\t\\t\\t\\t\\t<content type=\"text\">\\xec\\x95\\x84\\xeb\\xac\\xb4\\xeb\\xa6\\xac \\xeb\\x88\\x8c\\xeb\\x9f\\xac\\xeb\\x8f\\x84 \\xeb\\x84\\xa4\\xed\\x8a\\xb8\\xec\\x9b\\x8c\\xed\\x81\\xac \\xec\\x97\\xb0\\xea\\xb2\\xb0\\xec\\x83\\x81\\xed\\x83\\x9c \\xed\\x99\\x95\\xec\\x9d\\xb8 \\xed\\x9b\\x84 \\xeb\\x8b\\xa4\\xec\\x8b\\x9c \\xec\\x8b\\x9c\\xeb\\x8f\\x84\\xed\\x95\\xb4\\xec\\xa3\\xbc\\xec\\x84\\xb8\\xec\\x9a\\x94 \\xeb\\x9d\\xbc\\xeb\\x8a\\x94 \\xeb\\xa9\\x94\\xec\\x84\\xb8\\xec\\xa7\\x80\\xeb\\xa7\\x8c \\xeb\\x9c\\xa8\\xea\\xb3\\xa0 \\xec\\xa0\\x91\\xec\\x86\\x8d\\xec\\x9d\\xb4 \\xec\\x95\\x88\\xeb\\x90\\xa9\\xeb\\x8b\\x88\\xeb\\x8b\\xa4.\\n\\n\\xec\\x96\\xb4\\xed\\x94\\x8c \\xec\\xa7\\x80\\xec\\x9a\\xb0\\xea\\xb3\\xa0 \\xeb\\x8b\\xa4\\xec\\x8b\\x9c \\xea\\xb9\\x94\\xec\\x95\\x84\\xeb\\x8f\\x84 \\xeb\\xac\\xb8\\xec\\xa0\\x9c\\xea\\xb0\\x80 \\xeb\\xb0\\x98\\xeb\\xb3\\xb5\\xeb\\x90\\x98\\xea\\xb3\\xa0, \\xec\\x95\\x88\\xec\\xa0\\x95\\xec\\xa0\\x81\\xec\\x9d\\xb8 \\xec\\x99\\x80\\xec\\x9d\\xb4\\xed\\x8c\\x8c\\xec\\x9d\\xb4 \\xed\\x99\\x98\\xea\\xb2\\xbd\\xec\\x97\\x90\\xec\\x84\\x9c\\xeb\\x8f\\x84, \\xed\\x95\\xb4\\xeb\\x8b\\xb9 \\xec\\x96\\xb4\\xed\\x94\\x8c\\xec\\x97\\x90 \\xeb\\x8c\\x80\\xed\\x95\\x9c \\xec\\x85\\x80\\xeb\\xa3\\xb0\\xeb\\x9f\\xac \\xeb\\x8d\\xb0\\xec\\x9d\\xb4\\xed\\x84\\xb0\\xeb\\xa5\\xbc \\xec\\xbc\\xa0 \\xec\\x83\\x81\\xed\\x83\\x9c\\xec\\x97\\x90\\xec\\x84\\x9c\\xeb\\x8f\\x84, \\xec\\x96\\xb4\\xed\\x94\\x8c\\xec\\x97\\x90\\xec\\x84\\x9c \\xec\\x9a\\x94\\xea\\xb5\\xac\\xed\\x95\\x98\\xeb\\x8a\\x94 \\xeb\\xb8\\x94\\xeb\\xa3\\xa8\\xed\\x88\\xac\\xec\\x8a\\xa4\\xeb\\x82\\x98 \\xed\\x95\\xb4\\xeb\\x8b\\xb9 \\xec\\x95\\xb1\\xec\\x97\\x90 \\xeb\\x8c\\x80\\xed\\x95\\x9c \\xec\\x9c\\x84\\xec\\xb9\\x98 \\xec\\x84\\x9c\\xeb\\xb9\\x84\\xec\\x8a\\xa4 \\xea\\xb8\\xb0\\xeb\\x8a\\xa5\\xec\\x9d\\x84 \\xec\\xbc\\xa0 \\xec\\x83\\x81\\xed\\x83\\x9c\\xec\\x97\\x90\\xec\\x84\\x9c\\xeb\\x8f\\x84 \\xeb\\xaa\\xa8\\xeb\\x91\\x90 \\xea\\xb3\\x84\\xec\\x86\\x8d \\xec\\x9c\\x84\\xec\\x9d\\x98 \\xec\\xa0\\x80 \\xeb\\xa9\\x94\\xec\\x8b\\x9c\\xec\\xa7\\x80\\xeb\\xa7\\x8c \\xeb\\x9c\\xa8\\xea\\xb3\\xa0 \\xec\\xa0\\x91\\xec\\x86\\x8d\\xec\\x9d\\xb4 \\xec\\x95\\x88\\xeb\\x8f\\xbc\\xec\\x9a\\x94.\\n\\n\\xec\\x95\\x84\\xeb\\x9e\\x98 \\xeb\\x8b\\xb5\\xeb\\xb3\\x80\\xeb\\x93\\xa4\\xec\\x97\\x90 \\xeb\\x82\\x98\\xec\\x98\\xa8 \\xec\\xa0\\x84\\xed\\x99\\x94\\xeb\\xb2\\x88\\xed\\x98\\xb8\\xeb\\xa1\\x9c \\xeb\\xac\\xb8\\xec\\x9d\\x98\\xed\\x95\\xb4\\xec\\x95\\xbc\\xed\\x95\\xa0\\xea\\xb9\\x8c\\xec\\x9a\\x94?</content>\\n\\t\\t\\t\\t\\n\\t\\t\\t\\t\\t<im:contentType term=\"Application\" label=\"\\xec\\x95\\xb1\"/>\\n\\t\\t\\t\\t\\n\\t\\t\\t\\t\\t<im:voteSum>0</im:voteSum>\\n\\t\\t\\t\\t\\n\\t\\t\\t\\t\\t<im:voteCount>0</im:voteCount>\\n\\t\\t\\t\\t\\n\\t\\t\\t\\t\\t<im:rating>1</im:rating>\\n\\t\\t\\t\\t\\n\\t\\t\\t\\t\\t<updated>2020-02-21T05:53:55-07:00</updated>\\n\\t\\t\\t\\t\\n\\t\\t\\t\\t\\t<im:version>1.0.2</im:version>\\n\\t\\t\\t\\t\\n\\t\\t\\t\\t\\t<author><name>LOL SEOUL</name><uri>https://itunes.apple.com/kr/reviews/id276521066</uri></author>\\n\\t\\t\\t\\t\\n\\t\\t\\t\\t\\t<link rel=\"related\" href=\"https://itunes.apple.com/kr/review?id=1318541802&amp;type=Purple%20Software\"/>\\n\\t\\t\\t\\t\\n\\t\\t\\t\\t\\n\\t\\t\\t\\t\\t<content type=\"html\">&lt;table border=&quot;0&quot; width=&quot;100%&quot;&gt;\\n    &lt;tr&gt;\\n        &lt;td&gt;\\n            &lt;table border=&quot;0&quot; width=&quot;100%&quot; cellspacing=&quot;0&quot; cellpadding=&quot;0&quot;&gt;\\n                &lt;tr valign=&quot;top&quot; align=&quot;left&quot;&gt;\\n                    \\n                    \\n                    \\t&lt;td width=&quot;100%&quot;&gt;\\n                    \\n                        &lt;b&gt;&lt;a href=&quot;https://apps.apple.com/kr/app/%EC%84%9C%EC%9A%B8%EC%8B%9C%EB%AF%BC%EC%B9%B4%EB%93%9C/id1318541802?uo=2&quot;&gt;\\xec\\x84\\x9c\\xec\\x9a\\xb8 \\xec\\x8b\\x9c\\xeb\\xaf\\xbc\\xec\\xb9\\xb4\\xeb\\x93\\x9c \\xec\\x96\\xb4\\xed\\x94\\x8c\\xec\\x9d\\x84 \\xea\\xb9\\x94\\xec\\x95\\x98\\xeb\\x8a\\x94\\xeb\\x8d\\xb0&lt;/a&gt;&lt;/b&gt;&lt;br/&gt;\\n                        \\n                        \\n                        \\n                        \\n\\n                        \\n\\n                       &lt;font size=&quot;2&quot; face=&quot;Helvetica,Arial,Geneva,Swiss,SunSans-Regular&quot;&gt;\\n\\t\\t\\t\\t\\t\\t\\n                        &lt;/font&gt;\\n                    &lt;/td&gt;\\n                &lt;/tr&gt;\\n            &lt;/table&gt;\\n        &lt;/td&gt;\\n    &lt;/tr&gt;\\n    &lt;tr&gt;\\n        &lt;td&gt;\\n            \\n                &lt;font size=&quot;2&quot; face=&quot;Helvetica,Arial,Geneva,Swiss,SunSans-Regular&quot;&gt;&lt;br/&gt;\\xec\\x95\\x84\\xeb\\xac\\xb4\\xeb\\xa6\\xac \\xeb\\x88\\x8c\\xeb\\x9f\\xac\\xeb\\x8f\\x84 \\xeb\\x84\\xa4\\xed\\x8a\\xb8\\xec\\x9b\\x8c\\xed\\x81\\xac \\xec\\x97\\xb0\\xea\\xb2\\xb0\\xec\\x83\\x81\\xed\\x83\\x9c \\xed\\x99\\x95\\xec\\x9d\\xb8 \\xed\\x9b\\x84 \\xeb\\x8b\\xa4\\xec\\x8b\\x9c \\xec\\x8b\\x9c\\xeb\\x8f\\x84\\xed\\x95\\xb4\\xec\\xa3\\xbc\\xec\\x84\\xb8\\xec\\x9a\\x94 \\xeb\\x9d\\xbc\\xeb\\x8a\\x94 \\xeb\\xa9\\x94\\xec\\x84\\xb8\\xec\\xa7\\x80\\xeb\\xa7\\x8c \\xeb\\x9c\\xa8\\xea\\xb3\\xa0 \\xec\\xa0\\x91\\xec\\x86\\x8d\\xec\\x9d\\xb4 \\xec\\x95\\x88\\xeb\\x90\\xa9\\xeb\\x8b\\x88\\xeb\\x8b\\xa4.&lt;br/&gt;&lt;br/&gt;\\xec\\x96\\xb4\\xed\\x94\\x8c \\xec\\xa7\\x80\\xec\\x9a\\xb0\\xea\\xb3\\xa0 \\xeb\\x8b\\xa4\\xec\\x8b\\x9c \\xea\\xb9\\x94\\xec\\x95\\x84\\xeb\\x8f\\x84 \\xeb\\xac\\xb8\\xec\\xa0\\x9c\\xea\\xb0\\x80 \\xeb\\xb0\\x98\\xeb\\xb3\\xb5\\xeb\\x90\\x98\\xea\\xb3\\xa0, \\xec\\x95\\x88\\xec\\xa0\\x95\\xec\\xa0\\x81\\xec\\x9d\\xb8 \\xec\\x99\\x80\\xec\\x9d\\xb4\\xed\\x8c\\x8c\\xec\\x9d\\xb4 \\xed\\x99\\x98\\xea\\xb2\\xbd\\xec\\x97\\x90\\xec\\x84\\x9c\\xeb\\x8f\\x84, \\xed\\x95\\xb4\\xeb\\x8b\\xb9 \\xec\\x96\\xb4\\xed\\x94\\x8c\\xec\\x97\\x90 \\xeb\\x8c\\x80\\xed\\x95\\x9c \\xec\\x85\\x80\\xeb\\xa3\\xb0\\xeb\\x9f\\xac \\xeb\\x8d\\xb0\\xec\\x9d\\xb4\\xed\\x84\\xb0\\xeb\\xa5\\xbc \\xec\\xbc\\xa0 \\xec\\x83\\x81\\xed\\x83\\x9c\\xec\\x97\\x90\\xec\\x84\\x9c\\xeb\\x8f\\x84, \\xec\\x96\\xb4\\xed\\x94\\x8c\\xec\\x97\\x90\\xec\\x84\\x9c \\xec\\x9a\\x94\\xea\\xb5\\xac\\xed\\x95\\x98\\xeb\\x8a\\x94 \\xeb\\xb8\\x94\\xeb\\xa3\\xa8\\xed\\x88\\xac\\xec\\x8a\\xa4\\xeb\\x82\\x98 \\xed\\x95\\xb4\\xeb\\x8b\\xb9 \\xec\\x95\\xb1\\xec\\x97\\x90 \\xeb\\x8c\\x80\\xed\\x95\\x9c \\xec\\x9c\\x84\\xec\\xb9\\x98 \\xec\\x84\\x9c\\xeb\\xb9\\x84\\xec\\x8a\\xa4 \\xea\\xb8\\xb0\\xeb\\x8a\\xa5\\xec\\x9d\\x84 \\xec\\xbc\\xa0 \\xec\\x83\\x81\\xed\\x83\\x9c\\xec\\x97\\x90\\xec\\x84\\x9c\\xeb\\x8f\\x84 \\xeb\\xaa\\xa8\\xeb\\x91\\x90 \\xea\\xb3\\x84\\xec\\x86\\x8d \\xec\\x9c\\x84\\xec\\x9d\\x98 \\xec\\xa0\\x80 \\xeb\\xa9\\x94\\xec\\x8b\\x9c\\xec\\xa7\\x80\\xeb\\xa7\\x8c \\xeb\\x9c\\xa8\\xea\\xb3\\xa0 \\xec\\xa0\\x91\\xec\\x86\\x8d\\xec\\x9d\\xb4 \\xec\\x95\\x88\\xeb\\x8f\\xbc\\xec\\x9a\\x94.&lt;br/&gt;&lt;br/&gt;\\xec\\x95\\x84\\xeb\\x9e\\x98 \\xeb\\x8b\\xb5\\xeb\\xb3\\x80\\xeb\\x93\\xa4\\xec\\x97\\x90 \\xeb\\x82\\x98\\xec\\x98\\xa8 \\xec\\xa0\\x84\\xed\\x99\\x94\\xeb\\xb2\\x88\\xed\\x98\\xb8\\xeb\\xa1\\x9c \\xeb\\xac\\xb8\\xec\\x9d\\x98\\xed\\x95\\xb4\\xec\\x95\\xbc\\xed\\x95\\xa0\\xea\\xb9\\x8c\\xec\\x9a\\x94?&lt;/font&gt;&lt;br/&gt;\\n            \\n            \\n            \\n        &lt;/td&gt;\\n    &lt;/tr&gt;\\n&lt;/table&gt;\\n</content>\\n\\t\\t\\t\\t\\n\\t\\t\\t</entry>\\n\\t\\t\\n\\t\\t\\t<entry>\\n\\t\\t\\t\\t\\n\\t\\t\\t\\t\\t<id>4880431551</id>\\n\\t\\t\\t\\t\\n\\t\\t\\t\\t\\t<title>\\xec\\x84\\x9c\\xec\\x9a\\xb8\\xec\\x8b\\x9c\\xeb\\xaf\\xbc\\xec\\xb9\\xb4\\xeb\\x93\\x9c \\xeb\\xb0\\x9c\\xea\\xb8\\x89 \\xec\\x9d\\xb8\\xec\\xa6\\x9d \\xec\\x95\\x88\\xeb\\x90\\xa9\\xeb\\x8b\\x88\\xeb\\x8b\\xa4</title>\\n\\t\\t\\t\\t\\n\\t\\t\\t\\t\\t<content type=\"text\">\\xec\\x84\\x9c\\xec\\x9a\\xb8\\xec\\x8b\\x9c\\xeb\\xaf\\xbc\\xec\\xb9\\xb4\\xeb\\x93\\x9c \\xeb\\xb0\\x9c\\xea\\xb8\\x89 \\xec\\x9d\\xb8\\xec\\xa6\\x9d \\xec\\x95\\x88\\xeb\\x90\\x98\\xec\\x9a\\x94\\n\\xec\\x9d\\xb8\\xec\\xa6\\x9d\\xed\\x97\\x88\\xec\\x8b\\x9c\\xea\\xb2\\xa0\\xec\\x8a\\xb5\\xeb\\x8b\\x88\\xea\\xb9\\x8c \\xec\\x98\\x88 \\xeb\\x88\\x8c\\xeb\\x9f\\xac\\xeb\\x8f\\x84 \\xec\\x95\\x84\\xeb\\xac\\xb4\\n\\xeb\\xb0\\x98\\xec\\x9d\\x91\\xec\\x9d\\xb4 \\xec\\x97\\x86\\xeb\\x84\\xa4\\xec\\x9a\\x94</content>\\n\\t\\t\\t\\t\\n\\t\\t\\t\\t\\t<im:contentType term=\"Application\" label=\"\\xec\\x95\\xb1\"/>\\n\\t\\t\\t\\t\\n\\t\\t\\t\\t\\t<im:voteSum>0</im:voteSum>\\n\\t\\t\\t\\t\\n\\t\\t\\t\\t\\t<im:voteCount>0</im:voteCount>\\n\\t\\t\\t\\t\\n\\t\\t\\t\\t\\t<im:rating>1</im:rating>\\n\\t\\t\\t\\t\\n\\t\\t\\t\\t\\t<updated>2019-10-03T17:35:19-07:00</updated>\\n\\t\\t\\t\\t\\n\\t\\t\\t\\t\\t<im:version>1.0.2</im:version>\\n\\t\\t\\t\\t\\n\\t\\t\\t\\t\\t<author><name>_Gyun\\xe3\\x80\\x83</name><uri>https://itunes.apple.com/kr/reviews/id363204950</uri></author>\\n\\t\\t\\t\\t\\n\\t\\t\\t\\t\\t<link rel=\"related\" href=\"https://itunes.apple.com/kr/review?id=1318541802&amp;type=Purple%20Software\"/>\\n\\t\\t\\t\\t\\n\\t\\t\\t\\t\\n\\t\\t\\t\\t\\t<content type=\"html\">&lt;table border=&quot;0&quot; width=&quot;100%&quot;&gt;\\n    &lt;tr&gt;\\n        &lt;td&gt;\\n            &lt;table border=&quot;0&quot; width=&quot;100%&quot; cellspacing=&quot;0&quot; cellpadding=&quot;0&quot;&gt;\\n                &lt;tr valign=&quot;top&quot; align=&quot;left&quot;&gt;\\n                    \\n                    \\n                    \\t&lt;td width=&quot;100%&quot;&gt;\\n                    \\n                        &lt;b&gt;&lt;a href=&quot;https://apps.apple.com/kr/app/%EC%84%9C%EC%9A%B8%EC%8B%9C%EB%AF%BC%EC%B9%B4%EB%93%9C/id1318541802?uo=2&quot;&gt;\\xec\\x84\\x9c\\xec\\x9a\\xb8\\xec\\x8b\\x9c\\xeb\\xaf\\xbc\\xec\\xb9\\xb4\\xeb\\x93\\x9c \\xeb\\xb0\\x9c\\xea\\xb8\\x89 \\xec\\x9d\\xb8\\xec\\xa6\\x9d \\xec\\x95\\x88\\xeb\\x90\\xa9\\xeb\\x8b\\x88\\xeb\\x8b\\xa4&lt;/a&gt;&lt;/b&gt;&lt;br/&gt;\\n                        \\n                        \\n                        \\n                        \\n\\n                        \\n\\n                       &lt;font size=&quot;2&quot; face=&quot;Helvetica,Arial,Geneva,Swiss,SunSans-Regular&quot;&gt;\\n\\t\\t\\t\\t\\t\\t\\n                        &lt;/font&gt;\\n                    &lt;/td&gt;\\n                &lt;/tr&gt;\\n            &lt;/table&gt;\\n        &lt;/td&gt;\\n    &lt;/tr&gt;\\n    &lt;tr&gt;\\n        &lt;td&gt;\\n            \\n                &lt;font size=&quot;2&quot; face=&quot;Helvetica,Arial,Geneva,Swiss,SunSans-Regular&quot;&gt;&lt;br/&gt;\\xec\\x84\\x9c\\xec\\x9a\\xb8\\xec\\x8b\\x9c\\xeb\\xaf\\xbc\\xec\\xb9\\xb4\\xeb\\x93\\x9c \\xeb\\xb0\\x9c\\xea\\xb8\\x89 \\xec\\x9d\\xb8\\xec\\xa6\\x9d \\xec\\x95\\x88\\xeb\\x90\\x98\\xec\\x9a\\x94&lt;br/&gt;\\xec\\x9d\\xb8\\xec\\xa6\\x9d\\xed\\x97\\x88\\xec\\x8b\\x9c\\xea\\xb2\\xa0\\xec\\x8a\\xb5\\xeb\\x8b\\x88\\xea\\xb9\\x8c \\xec\\x98\\x88 \\xeb\\x88\\x8c\\xeb\\x9f\\xac\\xeb\\x8f\\x84 \\xec\\x95\\x84\\xeb\\xac\\xb4&lt;br/&gt;\\xeb\\xb0\\x98\\xec\\x9d\\x91\\xec\\x9d\\xb4 \\xec\\x97\\x86\\xeb\\x84\\xa4\\xec\\x9a\\x94&lt;/font&gt;&lt;br/&gt;\\n            \\n            \\n            \\n        &lt;/td&gt;\\n    &lt;/tr&gt;\\n&lt;/table&gt;\\n</content>\\n\\t\\t\\t\\t\\n\\t\\t\\t</entry>\\n\\t\\t\\n\\t\\t\\t<entry>\\n\\t\\t\\t\\t\\n\\t\\t\\t\\t\\t<id>4021929010</id>\\n\\t\\t\\t\\t\\n\\t\\t\\t\\t\\t<title>\\xea\\xb1\\xb0\\xec\\xa3\\xbc\\xec\\xa7\\x80\\xec\\x9e\\x85\\xeb\\xa0\\xa5 \\xea\\xb5\\xac\\xec\\xa1\\xb0 \\xea\\xb0\\x9c\\xec\\x84\\xa0 \\xec\\x9a\\x94\\xea\\xb5\\xac</title>\\n\\t\\t\\t\\t\\n\\t\\t\\t\\t\\t<content type=\"text\">\\xea\\xb1\\xb0\\xec\\xa3\\xbc\\xec\\xa7\\x80 \\xec\\x9e\\x85\\xeb\\xa0\\xa5\\xec\\x9d\\x84 \\xea\\xb5\\xac \\xec\\xa3\\xbc\\xec\\x86\\x8c\\xeb\\xa1\\x9c \\xec\\x9e\\x85\\xeb\\xa0\\xa5\\xed\\x95\\x98\\xea\\xb2\\x8c\\xeb\\x90\\x98\\xec\\x96\\xb4 \\xec\\x9e\\x88\\xeb\\x8a\\x94 \\xea\\xb2\\x83\\xec\\x9d\\xb4 \\xec\\x95\\x84\\xec\\x89\\xac\\xec\\x9b\\x8c\\xec\\x9a\\x94. \\n\\xea\\xb5\\xad\\xea\\xb0\\x80\\xec\\xb0\\xa8\\xec\\x9b\\x90\\xec\\x97\\x90\\xec\\x84\\x9c \\xeb\\x8f\\x84\\xeb\\xa1\\x9c\\xeb\\xaa\\x85\\xec\\xa3\\xbc\\xec\\x86\\x8c\\xeb\\xa1\\x9c \\xeb\\xb0\\x94\\xea\\xbe\\xb8\\xeb\\x8a\\x94 \\xea\\xb1\\xb8 \\xec\\xb6\\x94\\xec\\xa7\\x84\\xed\\x95\\x98\\xea\\xb3\\xa0 \\xec\\x9e\\x88\\xeb\\x8a\\x94\\xeb\\x8d\\xb0, \\xea\\xb3\\xb5\\xea\\xb3\\xb5\\xec\\x95\\xb1\\xec\\x97\\x90\\xec\\x88\\x98 \\xeb\\x8f\\x99\\xeb\\x8b\\xa8\\xec\\x9c\\x84\\xeb\\xa1\\x9c \\xea\\xb1\\xb0\\xec\\xa3\\xbc\\xec\\xa7\\x80\\xeb\\xa5\\xbc \\xec\\x9e\\x85\\xeb\\xa0\\xa5\\xed\\x95\\x98\\xea\\xb2\\x8c\\xed\\x95\\x98\\xeb\\xa9\\xb4....\\n\\xeb\\x8f\\x84\\xeb\\xa1\\x9c\\xeb\\xaa\\x85\\xec\\xa3\\xbc\\xec\\x86\\x8c\\xeb\\x8a\\x94 \\xec\\x95\\x8c\\xec\\x95\\x84\\xeb\\x8f\\x84 \\xeb\\x8f\\x99, \\xec\\xa7\\x80\\xeb\\xb2\\x88\\xec\\xa3\\xbc\\xec\\x86\\x8c\\xeb\\x8a\\x94 \\xeb\\xaa\\xa8\\xeb\\xa5\\xb4\\xeb\\x8a\\x94\\xeb\\x8d\\xb0 \\xec\\x9d\\xb4\\xea\\xb1\\xb8 \\xec\\x9d\\xbc\\xeb\\xb6\\x80\\xeb\\x9f\\xac \\xec\\xb0\\xbe\\xec\\x95\\x84\\xec\\x95\\xbc \\xed\\x95\\x98\\xeb\\x8a\\x94 \\xec\\x83\\x81\\xed\\x99\\xa9...</content>\\n\\t\\t\\t\\t\\n\\t\\t\\t\\t\\t<im:contentType term=\"Application\" label=\"\\xec\\x95\\xb1\"/>\\n\\t\\t\\t\\t\\n\\t\\t\\t\\t\\t<im:voteSum>0</im:voteSum>\\n\\t\\t\\t\\t\\n\\t\\t\\t\\t\\t<im:voteCount>0</im:voteCount>\\n\\t\\t\\t\\t\\n\\t\\t\\t\\t\\t<im:rating>4</im:rating>\\n\\t\\t\\t\\t\\n\\t\\t\\t\\t\\t<updated>2019-04-16T17:50:46-07:00</updated>\\n\\t\\t\\t\\t\\n\\t\\t\\t\\t\\t<im:version>1.0.0</im:version>\\n\\t\\t\\t\\t\\n\\t\\t\\t\\t\\t<author><name>\\xec\\x84\\xb8\\xeb\\xaa\\xb9\\xe3\\x84\\xb4\\xe3\\x85\\x81</name><uri>https://itunes.apple.com/kr/reviews/id424791048</uri></author>\\n\\t\\t\\t\\t\\n\\t\\t\\t\\t\\t<link rel=\"related\" href=\"https://itunes.apple.com/kr/review?id=1318541802&amp;type=Purple%20Software\"/>\\n\\t\\t\\t\\t\\n\\t\\t\\t\\t\\n\\t\\t\\t\\t\\t<content type=\"html\">&lt;table border=&quot;0&quot; width=&quot;100%&quot;&gt;\\n    &lt;tr&gt;\\n        &lt;td&gt;\\n            &lt;table border=&quot;0&quot; width=&quot;100%&quot; cellspacing=&quot;0&quot; cellpadding=&quot;0&quot;&gt;\\n                &lt;tr valign=&quot;top&quot; align=&quot;left&quot;&gt;\\n                    \\n                    \\n                    \\t&lt;td width=&quot;100%&quot;&gt;\\n                    \\n                        &lt;b&gt;&lt;a href=&quot;https://apps.apple.com/kr/app/%EC%84%9C%EC%9A%B8%EC%8B%9C%EB%AF%BC%EC%B9%B4%EB%93%9C/id1318541802?uo=2&quot;&gt;\\xea\\xb1\\xb0\\xec\\xa3\\xbc\\xec\\xa7\\x80\\xec\\x9e\\x85\\xeb\\xa0\\xa5 \\xea\\xb5\\xac\\xec\\xa1\\xb0 \\xea\\xb0\\x9c\\xec\\x84\\xa0 \\xec\\x9a\\x94\\xea\\xb5\\xac&lt;/a&gt;&lt;/b&gt;&lt;br/&gt;\\n                        \\n                        \\n                        \\n                        \\n\\n                        \\n\\n                       &lt;font size=&quot;2&quot; face=&quot;Helvetica,Arial,Geneva,Swiss,SunSans-Regular&quot;&gt;\\n\\t\\t\\t\\t\\t\\t\\n                        &lt;/font&gt;\\n                    &lt;/td&gt;\\n                &lt;/tr&gt;\\n            &lt;/table&gt;\\n        &lt;/td&gt;\\n    &lt;/tr&gt;\\n    &lt;tr&gt;\\n        &lt;td&gt;\\n            \\n                &lt;font size=&quot;2&quot; face=&quot;Helvetica,Arial,Geneva,Swiss,SunSans-Regular&quot;&gt;&lt;br/&gt;\\xea\\xb1\\xb0\\xec\\xa3\\xbc\\xec\\xa7\\x80 \\xec\\x9e\\x85\\xeb\\xa0\\xa5\\xec\\x9d\\x84 \\xea\\xb5\\xac \\xec\\xa3\\xbc\\xec\\x86\\x8c\\xeb\\xa1\\x9c \\xec\\x9e\\x85\\xeb\\xa0\\xa5\\xed\\x95\\x98\\xea\\xb2\\x8c\\xeb\\x90\\x98\\xec\\x96\\xb4 \\xec\\x9e\\x88\\xeb\\x8a\\x94 \\xea\\xb2\\x83\\xec\\x9d\\xb4 \\xec\\x95\\x84\\xec\\x89\\xac\\xec\\x9b\\x8c\\xec\\x9a\\x94. &lt;br/&gt;\\xea\\xb5\\xad\\xea\\xb0\\x80\\xec\\xb0\\xa8\\xec\\x9b\\x90\\xec\\x97\\x90\\xec\\x84\\x9c \\xeb\\x8f\\x84\\xeb\\xa1\\x9c\\xeb\\xaa\\x85\\xec\\xa3\\xbc\\xec\\x86\\x8c\\xeb\\xa1\\x9c \\xeb\\xb0\\x94\\xea\\xbe\\xb8\\xeb\\x8a\\x94 \\xea\\xb1\\xb8 \\xec\\xb6\\x94\\xec\\xa7\\x84\\xed\\x95\\x98\\xea\\xb3\\xa0 \\xec\\x9e\\x88\\xeb\\x8a\\x94\\xeb\\x8d\\xb0, \\xea\\xb3\\xb5\\xea\\xb3\\xb5\\xec\\x95\\xb1\\xec\\x97\\x90\\xec\\x88\\x98 \\xeb\\x8f\\x99\\xeb\\x8b\\xa8\\xec\\x9c\\x84\\xeb\\xa1\\x9c \\xea\\xb1\\xb0\\xec\\xa3\\xbc\\xec\\xa7\\x80\\xeb\\xa5\\xbc \\xec\\x9e\\x85\\xeb\\xa0\\xa5\\xed\\x95\\x98\\xea\\xb2\\x8c\\xed\\x95\\x98\\xeb\\xa9\\xb4....&lt;br/&gt;\\xeb\\x8f\\x84\\xeb\\xa1\\x9c\\xeb\\xaa\\x85\\xec\\xa3\\xbc\\xec\\x86\\x8c\\xeb\\x8a\\x94 \\xec\\x95\\x8c\\xec\\x95\\x84\\xeb\\x8f\\x84 \\xeb\\x8f\\x99, \\xec\\xa7\\x80\\xeb\\xb2\\x88\\xec\\xa3\\xbc\\xec\\x86\\x8c\\xeb\\x8a\\x94 \\xeb\\xaa\\xa8\\xeb\\xa5\\xb4\\xeb\\x8a\\x94\\xeb\\x8d\\xb0 \\xec\\x9d\\xb4\\xea\\xb1\\xb8 \\xec\\x9d\\xbc\\xeb\\xb6\\x80\\xeb\\x9f\\xac \\xec\\xb0\\xbe\\xec\\x95\\x84\\xec\\x95\\xbc \\xed\\x95\\x98\\xeb\\x8a\\x94 \\xec\\x83\\x81\\xed\\x99\\xa9...&lt;/font&gt;&lt;br/&gt;\\n            \\n            \\n            \\n        &lt;/td&gt;\\n    &lt;/tr&gt;\\n&lt;/table&gt;\\n</content>\\n\\t\\t\\t\\t\\n\\t\\t\\t</entry>\\n\\t\\t\\n\\t\\t\\t<entry>\\n\\t\\t\\t\\t\\n\\t\\t\\t\\t\\t<id>3968552039</id>\\n\\t\\t\\t\\t\\n\\t\\t\\t\\t\\t<title>\\xec\\x84\\x9c\\xec\\x9a\\xb8\\xed\\x8a\\xb9\\xeb\\xb3\\x84\\xec\\x8b\\x9c \\xea\\xb5\\x90\\xec\\x9c\\xa1\\xec\\xb2\\xad \\xeb\\x8f\\x84\\xec\\x84\\x9c\\xea\\xb4\\x80 \\xea\\xb0\\x80\\xeb\\x8f\\x84 \\xec\\x97\\xb0\\xeb\\x8f\\x99\\xec\\x9d\\xb4 \\xeb\\x90\\x98\\xec\\x97\\x88\\xec\\x9c\\xbc\\xeb\\xa9\\xb4 \\xed\\x95\\xa9\\xeb\\x8b\\x88\\xeb\\x8b\\xa4...</title>\\n\\t\\t\\t\\t\\n\\t\\t\\t\\t\\t<content type=\"text\">\\xea\\xb5\\x90\\xec\\x9c\\xa1\\xec\\xb2\\xad \\xeb\\x8f\\x84\\xec\\x84\\x9c\\xea\\xb4\\x80\\xeb\\x8f\\x84 \\xec\\x97\\xb0\\xeb\\x8f\\x99\\xec\\x9d\\xb4 \\xeb\\x90\\x98\\xec\\x97\\x88\\xec\\x9c\\xbc\\xeb\\xa9\\xb4 \\xed\\x95\\xa9\\xeb\\x8b\\x88\\xeb\\x8b\\xa4...</content>\\n\\t\\t\\t\\t\\n\\t\\t\\t\\t\\t<im:contentType term=\"Application\" label=\"\\xec\\x95\\xb1\"/>\\n\\t\\t\\t\\t\\n\\t\\t\\t\\t\\t<im:voteSum>0</im:voteSum>\\n\\t\\t\\t\\t\\n\\t\\t\\t\\t\\t<im:voteCount>0</im:voteCount>\\n\\t\\t\\t\\t\\n\\t\\t\\t\\t\\t<im:rating>3</im:rating>\\n\\t\\t\\t\\t\\n\\t\\t\\t\\t\\t<updated>2019-04-04T06:43:53-07:00</updated>\\n\\t\\t\\t\\t\\n\\t\\t\\t\\t\\t<im:version>1.0.0</im:version>\\n\\t\\t\\t\\t\\n\\t\\t\\t\\t\\t<author><name>\\xeb\\x82\\xb4\\xec\\x82\\xac\\xeb\\x9e\\x91\\xeb\\xaa\\x85\\xed\\x95\\xa8</name><uri>https://itunes.apple.com/kr/reviews/id815154039</uri></author>\\n\\t\\t\\t\\t\\n\\t\\t\\t\\t\\t<link rel=\"related\" href=\"https://itunes.apple.com/kr/review?id=1318541802&amp;type=Purple%20Software\"/>\\n\\t\\t\\t\\t\\n\\t\\t\\t\\t\\n\\t\\t\\t\\t\\t<content type=\"html\">&lt;table border=&quot;0&quot; width=&quot;100%&quot;&gt;\\n    &lt;tr&gt;\\n        &lt;td&gt;\\n            &lt;table border=&quot;0&quot; width=&quot;100%&quot; cellspacing=&quot;0&quot; cellpadding=&quot;0&quot;&gt;\\n                &lt;tr valign=&quot;top&quot; align=&quot;left&quot;&gt;\\n                    \\n                    \\n                    \\t&lt;td width=&quot;100%&quot;&gt;\\n                    \\n                        &lt;b&gt;&lt;a href=&quot;https://apps.apple.com/kr/app/%EC%84%9C%EC%9A%B8%EC%8B%9C%EB%AF%BC%EC%B9%B4%EB%93%9C/id1318541802?uo=2&quot;&gt;\\xec\\x84\\x9c\\xec\\x9a\\xb8\\xed\\x8a\\xb9\\xeb\\xb3\\x84\\xec\\x8b\\x9c \\xea\\xb5\\x90\\xec\\x9c\\xa1\\xec\\xb2\\xad \\xeb\\x8f\\x84\\xec\\x84\\x9c\\xea\\xb4\\x80 \\xea\\xb0\\x80\\xeb\\x8f\\x84 \\xec\\x97\\xb0\\xeb\\x8f\\x99\\xec\\x9d\\xb4 \\xeb\\x90\\x98\\xec\\x97\\x88\\xec\\x9c\\xbc\\xeb\\xa9\\xb4 \\xed\\x95\\xa9\\xeb\\x8b\\x88\\xeb\\x8b\\xa4...&lt;/a&gt;&lt;/b&gt;&lt;br/&gt;\\n                        \\n                        \\n                        \\n                        \\n\\n                        \\n\\n                       &lt;font size=&quot;2&quot; face=&quot;Helvetica,Arial,Geneva,Swiss,SunSans-Regular&quot;&gt;\\n\\t\\t\\t\\t\\t\\t\\n                        &lt;/font&gt;\\n                    &lt;/td&gt;\\n                &lt;/tr&gt;\\n            &lt;/table&gt;\\n        &lt;/td&gt;\\n    &lt;/tr&gt;\\n    &lt;tr&gt;\\n        &lt;td&gt;\\n            \\n                &lt;font size=&quot;2&quot; face=&quot;Helvetica,Arial,Geneva,Swiss,SunSans-Regular&quot;&gt;&lt;br/&gt;\\xea\\xb5\\x90\\xec\\x9c\\xa1\\xec\\xb2\\xad \\xeb\\x8f\\x84\\xec\\x84\\x9c\\xea\\xb4\\x80\\xeb\\x8f\\x84 \\xec\\x97\\xb0\\xeb\\x8f\\x99\\xec\\x9d\\xb4 \\xeb\\x90\\x98\\xec\\x97\\x88\\xec\\x9c\\xbc\\xeb\\xa9\\xb4 \\xed\\x95\\xa9\\xeb\\x8b\\x88\\xeb\\x8b\\xa4...&lt;/font&gt;&lt;br/&gt;\\n            \\n            \\n            \\n        &lt;/td&gt;\\n    &lt;/tr&gt;\\n&lt;/table&gt;\\n</content>\\n\\t\\t\\t\\t\\n\\t\\t\\t</entry>\\n\\t\\t\\n\\t\\t\\t<entry>\\n\\t\\t\\t\\t\\n\\t\\t\\t\\t\\t<id>3832174160</id>\\n\\t\\t\\t\\t\\n\\t\\t\\t\\t\\t<title>\\xec\\x84\\x9c\\xec\\x9a\\xb8\\xec\\x8b\\x9c\\xeb\\xaf\\xbc\\xec\\xb9\\xb4\\xeb\\x93\\x9c \\xec\\x95\\xb1 \\xeb\\x82\\xb4 \\xec\\x82\\xac\\xec\\x9a\\xa9\\xec\\x9e\\x90 \\xea\\xb2\\x8c\\xec\\x8b\\x9c\\xed\\x8c\\x90 \\xeb\\xa7\\x8c\\xeb\\x93\\xa4\\xec\\x96\\xb4\\xec\\xa3\\xbc\\xec\\x84\\xb8\\xec\\x9a\\x94</title>\\n\\t\\t\\t\\t\\n\\t\\t\\t\\t\\t<content type=\"text\">\\xec\\xb6\\x94\\xea\\xb0\\x80\\xea\\xb0\\x80 \\xed\\x95\\x84\\xec\\x9a\\x94\\xed\\x95\\x9c \\xec\\xa0\\x95\\xeb\\xb3\\xb4\\xeb\\x82\\x98 \\xec\\x88\\x98\\xec\\xa0\\x95\\xec\\x9d\\xb4 \\xed\\x95\\x84\\xec\\x9a\\x94\\xed\\x95\\x9c \\xec\\xa0\\x95\\xeb\\xb3\\xb4\\xea\\xb0\\x80 \\xec\\x9e\\x88\\xeb\\x8a\\x94\\xeb\\x8d\\xb0 \\xec\\x9d\\x98\\xea\\xb2\\xac\\xec\\x9d\\x84 \\xeb\\xb0\\x98\\xec\\x98\\x81\\xed\\x95\\xa0 \\xec\\x88\\x98 \\xec\\x9e\\x88\\xeb\\x8a\\x94 \\xec\\xb9\\xb8\\xec\\x9d\\xb4 \\xec\\x97\\x86\\xeb\\x84\\xa4\\xec\\x9a\\x94.\\n\\n\\xec\\x98\\x88\\xeb\\xa5\\xbc\\xeb\\x93\\xa4\\xec\\x96\\xb4 \\xeb\\x8f\\x84\\xec\\x84\\x9c\\xea\\xb4\\x80\\xec\\x9d\\x98 \\xea\\xb2\\xbd\\xec\\x9a\\xb0 \\xec\\x9d\\xb4\\xec\\x9a\\xa9\\xec\\x8b\\x9c\\xea\\xb0\\x84\\xea\\xb3\\xbc \\xed\\x9c\\xb4\\xeb\\xac\\xb4\\xec\\x9d\\xbc\\xec\\x9d\\xb4 \\xeb\\x82\\x98\\xec\\x99\\x80\\xec\\x9e\\x88\\xec\\xa7\\x80 \\xec\\x95\\x8a\\xec\\x9d\\x80 \\xea\\xb2\\xbd\\xec\\x9a\\xb0\\xea\\xb0\\x80 \\xeb\\xa7\\x8e\\xec\\x95\\x84 \\xec\\x9d\\xbc\\xec\\x9d\\xbc\\xec\\x9d\\xb4 \\xed\\x99\\x88\\xed\\x8e\\x98\\xec\\x9d\\xb4\\xec\\xa7\\x80\\xeb\\xa5\\xbc \\xeb\\x93\\xa4\\xec\\x96\\xb4\\xea\\xb0\\x80\\xec\\x84\\x9c \\xec\\xb0\\xbe\\xec\\x95\\x84\\xec\\x95\\xbc\\xed\\x95\\x98\\xeb\\x8a\\x94 \\xeb\\xb6\\x88\\xed\\x8e\\xb8\\xed\\x95\\xa8\\xec\\x9d\\xb4 \\xec\\x9e\\x88\\xec\\x8a\\xb5\\xeb\\x8b\\x88\\xeb\\x8b\\xa4.</content>\\n\\t\\t\\t\\t\\n\\t\\t\\t\\t\\t<im:contentType term=\"Application\" label=\"\\xec\\x95\\xb1\"/>\\n\\t\\t\\t\\t\\n\\t\\t\\t\\t\\t<im:voteSum>0</im:voteSum>\\n\\t\\t\\t\\t\\n\\t\\t\\t\\t\\t<im:voteCount>1</im:voteCount>\\n\\t\\t\\t\\t\\n\\t\\t\\t\\t\\t<im:rating>3</im:rating>\\n\\t\\t\\t\\t\\n\\t\\t\\t\\t\\t<updated>2019-03-02T03:13:05-07:00</updated>\\n\\t\\t\\t\\t\\n\\t\\t\\t\\t\\t<im:version>1.0.0</im:version>\\n\\t\\t\\t\\t\\n\\t\\t\\t\\t\\t<author><name>sunnychipss</name><uri>https://itunes.apple.com/kr/reviews/id832281277</uri></author>\\n\\t\\t\\t\\t\\n\\t\\t\\t\\t\\t<link rel=\"related\" href=\"https://itunes.apple.com/kr/review?id=1318541802&amp;type=Purple%20Software\"/>\\n\\t\\t\\t\\t\\n\\t\\t\\t\\t\\n\\t\\t\\t\\t\\t<content type=\"html\">&lt;table border=&quot;0&quot; width=&quot;100%&quot;&gt;\\n    &lt;tr&gt;\\n        &lt;td&gt;\\n            &lt;table border=&quot;0&quot; width=&quot;100%&quot; cellspacing=&quot;0&quot; cellpadding=&quot;0&quot;&gt;\\n                &lt;tr valign=&quot;top&quot; align=&quot;left&quot;&gt;\\n                    \\n                    \\n                    \\t&lt;td width=&quot;100%&quot;&gt;\\n                    \\n                        &lt;b&gt;&lt;a href=&quot;https://apps.apple.com/kr/app/%EC%84%9C%EC%9A%B8%EC%8B%9C%EB%AF%BC%EC%B9%B4%EB%93%9C/id1318541802?uo=2&quot;&gt;\\xec\\x84\\x9c\\xec\\x9a\\xb8\\xec\\x8b\\x9c\\xeb\\xaf\\xbc\\xec\\xb9\\xb4\\xeb\\x93\\x9c \\xec\\x95\\xb1 \\xeb\\x82\\xb4 \\xec\\x82\\xac\\xec\\x9a\\xa9\\xec\\x9e\\x90 \\xea\\xb2\\x8c\\xec\\x8b\\x9c\\xed\\x8c\\x90 \\xeb\\xa7\\x8c\\xeb\\x93\\xa4\\xec\\x96\\xb4\\xec\\xa3\\xbc\\xec\\x84\\xb8\\xec\\x9a\\x94&lt;/a&gt;&lt;/b&gt;&lt;br/&gt;\\n                        \\n                        \\n                        \\n                        \\n\\n                        \\n\\n                       &lt;font size=&quot;2&quot; face=&quot;Helvetica,Arial,Geneva,Swiss,SunSans-Regular&quot;&gt;\\n\\t\\t\\t\\t\\t\\t\\n                        &lt;/font&gt;\\n                    &lt;/td&gt;\\n                &lt;/tr&gt;\\n            &lt;/table&gt;\\n        &lt;/td&gt;\\n    &lt;/tr&gt;\\n    &lt;tr&gt;\\n        &lt;td&gt;\\n            \\n                &lt;font size=&quot;2&quot; face=&quot;Helvetica,Arial,Geneva,Swiss,SunSans-Regular&quot;&gt;&lt;br/&gt;\\xec\\xb6\\x94\\xea\\xb0\\x80\\xea\\xb0\\x80 \\xed\\x95\\x84\\xec\\x9a\\x94\\xed\\x95\\x9c \\xec\\xa0\\x95\\xeb\\xb3\\xb4\\xeb\\x82\\x98 \\xec\\x88\\x98\\xec\\xa0\\x95\\xec\\x9d\\xb4 \\xed\\x95\\x84\\xec\\x9a\\x94\\xed\\x95\\x9c \\xec\\xa0\\x95\\xeb\\xb3\\xb4\\xea\\xb0\\x80 \\xec\\x9e\\x88\\xeb\\x8a\\x94\\xeb\\x8d\\xb0 \\xec\\x9d\\x98\\xea\\xb2\\xac\\xec\\x9d\\x84 \\xeb\\xb0\\x98\\xec\\x98\\x81\\xed\\x95\\xa0 \\xec\\x88\\x98 \\xec\\x9e\\x88\\xeb\\x8a\\x94 \\xec\\xb9\\xb8\\xec\\x9d\\xb4 \\xec\\x97\\x86\\xeb\\x84\\xa4\\xec\\x9a\\x94.&lt;br/&gt;&lt;br/&gt;\\xec\\x98\\x88\\xeb\\xa5\\xbc\\xeb\\x93\\xa4\\xec\\x96\\xb4 \\xeb\\x8f\\x84\\xec\\x84\\x9c\\xea\\xb4\\x80\\xec\\x9d\\x98 \\xea\\xb2\\xbd\\xec\\x9a\\xb0 \\xec\\x9d\\xb4\\xec\\x9a\\xa9\\xec\\x8b\\x9c\\xea\\xb0\\x84\\xea\\xb3\\xbc \\xed\\x9c\\xb4\\xeb\\xac\\xb4\\xec\\x9d\\xbc\\xec\\x9d\\xb4 \\xeb\\x82\\x98\\xec\\x99\\x80\\xec\\x9e\\x88\\xec\\xa7\\x80 \\xec\\x95\\x8a\\xec\\x9d\\x80 \\xea\\xb2\\xbd\\xec\\x9a\\xb0\\xea\\xb0\\x80 \\xeb\\xa7\\x8e\\xec\\x95\\x84 \\xec\\x9d\\xbc\\xec\\x9d\\xbc\\xec\\x9d\\xb4 \\xed\\x99\\x88\\xed\\x8e\\x98\\xec\\x9d\\xb4\\xec\\xa7\\x80\\xeb\\xa5\\xbc \\xeb\\x93\\xa4\\xec\\x96\\xb4\\xea\\xb0\\x80\\xec\\x84\\x9c \\xec\\xb0\\xbe\\xec\\x95\\x84\\xec\\x95\\xbc\\xed\\x95\\x98\\xeb\\x8a\\x94 \\xeb\\xb6\\x88\\xed\\x8e\\xb8\\xed\\x95\\xa8\\xec\\x9d\\xb4 \\xec\\x9e\\x88\\xec\\x8a\\xb5\\xeb\\x8b\\x88\\xeb\\x8b\\xa4.&lt;/font&gt;&lt;br/&gt;\\n            \\n            \\n            \\n        &lt;/td&gt;\\n    &lt;/tr&gt;\\n&lt;/table&gt;\\n</content>\\n\\t\\t\\t\\t\\n\\t\\t\\t</entry>\\n\\t\\t\\n\\t</feed>\\n'"
            ]
          },
          "metadata": {},
          "execution_count": 143
        }
      ]
    },
    {
      "cell_type": "code",
      "source": [
        "xml = xmltodict.parse(response)\n",
        "XmlToJson = json.loads(json.dumps(xml))\n"
      ],
      "metadata": {
        "id": "KXhVx6pUnmE8"
      },
      "execution_count": null,
      "outputs": []
    },
    {
      "cell_type": "code",
      "source": [
        "res_dict = []\n",
        "\n",
        "for i in range(len(XmlToJson['feed']['entry'])):\n",
        "    res_dict.append({\n",
        "        'DATE' : XmlToJson['feed']['entry'][i]['updated'],\n",
        "        'STAR' : XmlToJson['feed']['entry'][i]['im:rating'],\n",
        "        'LIKE' : XmlToJson['feed']['entry'][i]['im:voteSum'],\n",
        "        'DISLIKE' : int(XmlToJson['feed']['entry'][i]['im:voteCount']) - int(XmlToJson['feed']['entry'][i]['im:voteSum']),\n",
        "        'TITLE' : XmlToJson['feed']['entry'][i]['title'],\n",
        "        'REVIEW' : XmlToJson['feed']['entry'][i]['content'][0]['#text']\n",
        "    })\n"
      ],
      "metadata": {
        "id": "eHtxCYl6eLXI"
      },
      "execution_count": null,
      "outputs": []
    },
    {
      "cell_type": "code",
      "source": [
        "len(res_dict)"
      ],
      "metadata": {
        "colab": {
          "base_uri": "https://localhost:8080/"
        },
        "id": "qtKv8k3mobCx",
        "outputId": "a1ba2bee-a3f5-4544-a0d5-f784d688853e"
      },
      "execution_count": null,
      "outputs": [
        {
          "output_type": "execute_result",
          "data": {
            "text/plain": [
              "50"
            ]
          },
          "metadata": {},
          "execution_count": 146
        }
      ]
    },
    {
      "cell_type": "code",
      "source": [
        "res_dict"
      ],
      "metadata": {
        "colab": {
          "base_uri": "https://localhost:8080/"
        },
        "id": "0ID4Qe83qsly",
        "outputId": "f49061b5-92f8-462c-9046-b44ddf19ff83"
      },
      "execution_count": null,
      "outputs": [
        {
          "output_type": "execute_result",
          "data": {
            "text/plain": [
              "[{'DATE': '2022-05-07T21:07:58-07:00',\n",
              "  'DISLIKE': 0,\n",
              "  'LIKE': '0',\n",
              "  'REVIEW': '도서관 다닐 때 카드 안들고 다녀서 좋아요 위젯 생기면 더 편해질 것 같아요',\n",
              "  'STAR': '5',\n",
              "  'TITLE': 'ios위젯 만들어주셨으면 좋겠어요'},\n",
              " {'DATE': '2022-04-04T20:37:15-07:00',\n",
              "  'DISLIKE': 0,\n",
              "  'LIKE': '0',\n",
              "  'REVIEW': '소소한 할인쿠폰도 많이 주는것같고 \\n서울시 공공시설 이용할때 하나로 쓸수 있어서 좋은 것 같아요',\n",
              "  'STAR': '5',\n",
              "  'TITLE': '사용하기 편리해요'},\n",
              " {'DATE': '2022-03-29T18:16:54-07:00',\n",
              "  'DISLIKE': 0,\n",
              "  'LIKE': '0',\n",
              "  'REVIEW': '아래에 저 같은 분이 계시던데 저두 문자로 인증하려구 하니 쿠키 제한에 걸려 본인 문자 인증이 안됩니다.\\n\\n당장 앱카드를 쓸수가 없어요 얼른 개선 부탁드립니다.\\n\\n아이폰 유저입니다',\n",
              "  'STAR': '1',\n",
              "  'TITLE': '쿠키 제한이 걸려서 문자 인증이안되요'},\n",
              " {'DATE': '2022-03-12T20:00:25-07:00',\n",
              "  'DISLIKE': 0,\n",
              "  'LIKE': '0',\n",
              "  'REVIEW': '통신사를 선택하면  PASS선탹하는 버튼이 사라지고 문자인증만 남고, 인증문자도 한번에 안와서 겨우 받으면 세션만료 쿠키제한되어있다며 본인인증이 안됩니다.',\n",
              "  'STAR': '1',\n",
              "  'TITLE': '아이폰13인데요'},\n",
              " {'DATE': '2022-02-25T03:16:43-07:00',\n",
              "  'DISLIKE': 0,\n",
              "  'LIKE': '0',\n",
              "  'REVIEW': 'Ios 업데이트 하면서 또 안되네요 \\n개발자 누굽니까',\n",
              "  'STAR': '1',\n",
              "  'TITLE': '1점도 아깝다'},\n",
              " {'DATE': '2022-02-18T01:53:28-07:00',\n",
              "  'DISLIKE': 0,\n",
              "  'LIKE': '0',\n",
              "  'REVIEW': '아이폰입니다. 본인인증절차에서 핸드폰 문자인증을 입력하면 화면이 까매지면서 진행이 안됩니다. 혹시나해서 어플 재설치해도 안돼요. 발급을 진행 못하니 어플이 무용지물이네요….',\n",
              "  'STAR': '1',\n",
              "  'TITLE': '본인인증이안되서 카드발급 불가능'},\n",
              " {'DATE': '2022-01-09T20:22:50-07:00',\n",
              "  'DISLIKE': 0,\n",
              "  'LIKE': '0',\n",
              "  'REVIEW': '1:1문의하라는 답글을 봤는데 그건 어디서 하는 건지요? 인증하고 활용하고 싶어요!',\n",
              "  'STAR': '1',\n",
              "  'TITLE': '인증이 안 되네요'},\n",
              " {'DATE': '2022-01-02T02:05:01-07:00',\n",
              "  'DISLIKE': 0,\n",
              "  'LIKE': '0',\n",
              "  'REVIEW': 'pass어플도 안되고 문자확인도 안되고 아이핀까지 안돼요. 본인인증만 수십번 시도했는데 절대 안넘어가져요.',\n",
              "  'STAR': '1',\n",
              "  'TITLE': '본인 확인에서 안넘어가요'},\n",
              " {'DATE': '2021-12-14T13:46:49-07:00',\n",
              "  'DISLIKE': 0,\n",
              "  'LIKE': '0',\n",
              "  'REVIEW': '아이폰입니다 휴대폰 본인인증이 계속 에러납니다\\n브라우저 설정 다시 하라는데\\n변경하라는데 왜ㅜ그러는지요?! ㅠㅠ',\n",
              "  'STAR': '3',\n",
              "  'TITLE': '본인인증 실퍠가 계속 됩니다'},\n",
              " {'DATE': '2021-12-01T21:40:22-07:00',\n",
              "  'DISLIKE': 0,\n",
              "  'LIKE': '0',\n",
              "  'REVIEW': '도서관 카드 추가하려고 정회원 가입요청 할때\\n처음에는 정회원인증이 안된다고 나오더니\\n그 후부터는 계속 유효하지않은 주민등록 번호라고 나와요\\n어플을 삭제 후에 다시 깔아도 이모양이네요\\n해결좀 해주세요',\n",
              "  'STAR': '1',\n",
              "  'TITLE': '계속 정회원인증실패'},\n",
              " {'DATE': '2021-11-28T20:40:25-07:00',\n",
              "  'DISLIKE': 0,\n",
              "  'LIKE': '0',\n",
              "  'REVIEW': '본인확인실패만 계속뜨네요',\n",
              "  'STAR': '2',\n",
              "  'TITLE': '가입이 안되는데요'},\n",
              " {'DATE': '2021-11-26T16:56:03-07:00',\n",
              "  'DISLIKE': 0,\n",
              "  'LIKE': '0',\n",
              "  'REVIEW': '본인인증 화면에서 모두 입력하고 나면 쿠키설정 관련 오류가 계속 납니다.',\n",
              "  'STAR': '1',\n",
              "  'TITLE': '본인인증이 안됩니다'},\n",
              " {'DATE': '2021-11-16T17:16:00-07:00',\n",
              "  'DISLIKE': 0,\n",
              "  'LIKE': '0',\n",
              "  'REVIEW': '앱을 몇번을 삭제했다 다시 깔아도 안되네요\\n문제 해결 좀 해주세요',\n",
              "  'STAR': '3',\n",
              "  'TITLE': '통합도서관 단계 안넘어가요'},\n",
              " {'DATE': '2021-10-25T20:23:27-07:00',\n",
              "  'DISLIKE': 0,\n",
              "  'LIKE': '0',\n",
              "  'REVIEW': '세션만료 쿠키제한풀기?\\n이거 pass어플로 안넘어가더니 계속떠서\\n문자로 본인확인 하는걸로 바꿔서 하니 되긴한데\\n업뎃좀 해주세요\\n3월부터 피드백 받으신거같던데',\n",
              "  'STAR': '3',\n",
              "  'TITLE': '본인인증이 안돼요'},\n",
              " {'DATE': '2021-08-29T05:11:44-07:00',\n",
              "  'DISLIKE': 0,\n",
              "  'LIKE': '0',\n",
              "  'REVIEW': '가입인증도 안되고, 별점 1점도 아까움\\n서울시에서 어플만들어 놓고 방치하는듯',\n",
              "  'STAR': '1',\n",
              "  'TITLE': '인증오류'},\n",
              " {'DATE': '2021-08-17T22:47:05-07:00',\n",
              "  'DISLIKE': 0,\n",
              "  'LIKE': '0',\n",
              "  'REVIEW': '오늘 서울시민카드 발급받고 노원구 도서관 통합 회원 카드 정회원 가입 신청 하려는데 모든 조건 충족해서 버튼이 빨갛게 떴는데도 다음 창으로 안 넘어갑니다. 전혀 버튼이 아닌것 처럼 상호 작용을 안해요',\n",
              "  'STAR': '3',\n",
              "  'TITLE': '노원구립도서관 통합회원증 정회원 가입 신청 버튼 안 눌림'},\n",
              " {'DATE': '2021-07-28T19:22:43-07:00',\n",
              "  'DISLIKE': 0,\n",
              "  'LIKE': '0',\n",
              "  'REVIEW': '가입하기를 누루고 인증절차를 위해 휴대폰 인증하기를 통해 받은 문자의 번호까지 입력하고 나면 그냥 까만색이 떠요. 그것도 연속 3번을요! \\n인증부터 안되는데 다른 기능은 얼마나 험난할지.. 찾고로 ios 사용하고 있습니다.',\n",
              "  'STAR': '1',\n",
              "  'TITLE': '저는 가입절차에서 인증조차 못했습니다'},\n",
              " {'DATE': '2021-07-20T00:41:13-07:00',\n",
              "  'DISLIKE': 0,\n",
              "  'LIKE': '0',\n",
              "  'REVIEW': '이거 누가 개발했는지는 모르겠지만\\n대단하시네요. 인증도 안되게 만들다니...',\n",
              "  'STAR': '1',\n",
              "  'TITLE': '안됩니다.'},\n",
              " {'DATE': '2021-07-14T01:14:34-07:00',\n",
              "  'DISLIKE': 0,\n",
              "  'LIKE': '0',\n",
              "  'REVIEW': '회원가입부터 안되네요 ㅠㅠ 아이고 내 세금 ㅠㅠ',\n",
              "  'STAR': '1',\n",
              "  'TITLE': '구려요'},\n",
              " {'DATE': '2021-05-24T01:02:03-07:00',\n",
              "  'DISLIKE': 0,\n",
              "  'LIKE': '0',\n",
              "  'REVIEW': '서울시민카드 발급하기버튼을 누르면 “처리중 에러가 발생하였습니다”라고만 뜨고 진행이 안돼요',\n",
              "  'STAR': '3',\n",
              "  'TITLE': '발급하기'},\n",
              " {'DATE': '2021-05-23T23:29:44-07:00',\n",
              "  'DISLIKE': 0,\n",
              "  'LIKE': '0',\n",
              "  'REVIEW': '설치하자마자 에러 발생으로 가입도 안됩니다. 해결 부탁드립니다.',\n",
              "  'STAR': '1',\n",
              "  'TITLE': '에러 발생'},\n",
              " {'DATE': '2021-05-23T22:51:46-07:00',\n",
              "  'DISLIKE': 0,\n",
              "  'LIKE': '0',\n",
              "  'REVIEW': '발급하기 버튼부터 계속 처리 중 오류가 발생하였다고 뜨면서 인식되지 않습니다.',\n",
              "  'STAR': '1',\n",
              "  'TITLE': '회원가입'},\n",
              " {'DATE': '2021-05-22T18:57:42-07:00',\n",
              "  'DISLIKE': 1,\n",
              "  'LIKE': '0',\n",
              "  'REVIEW': 'pass에서 세션값이 유효하지 않다는 메세지만 뜨고 회원가입이 되지 않습니다. 여러번 삭제하고 다시 다운로드받고 하기를 수십번입니다. 기존 리뷰에 이런 문제들이 있던데 대응이 이상합니다. 확인된가 없으니 나이스로 연락하라니요!? 리뷰가 여러개면 문제가 있단 것인데 이것에 대해 개발자님께서는 너무 수수방관하고 계신거 아닌가요!? 확인 후에 수정 부탁드립니다.',\n",
              "  'STAR': '1',\n",
              "  'TITLE': '세션종료 회원가입불가'},\n",
              " {'DATE': '2021-05-17T23:25:46-07:00',\n",
              "  'DISLIKE': 0,\n",
              "  'LIKE': '0',\n",
              "  'REVIEW': '본인인증 절차에서 \\n세션값이 유효하지 않다고 뜨고\\n다음 단계로 넘어갈 수 없습니다.',\n",
              "  'STAR': '1',\n",
              "  'TITLE': '세션값이 유효하지 않음'},\n",
              " {'DATE': '2021-04-29T20:25:22-07:00',\n",
              "  'DISLIKE': 0,\n",
              "  'LIKE': '0',\n",
              "  'REVIEW': '가입하려는데 문자인증이 안돼요\\n세션값이 유효하지 않습니다 라는 문구만 뜹니다\\n가입을 못하니 이용을 할수가 없네요',\n",
              "  'STAR': '1',\n",
              "  'TITLE': '가입하려는데 문자인증이 안돼요'},\n",
              " {'DATE': '2021-03-24T17:00:55-07:00',\n",
              "  'DISLIKE': 0,\n",
              "  'LIKE': '1',\n",
              "  'REVIEW': '카드발급을 하려하면 문자인증 부분에서\\n세션값이 유효하지 않습니다 라는 메시지가 뜨고\\n문자 인증을 받을 수가 없습니다.\\n\\n에러 좀 수정해 주세요',\n",
              "  'STAR': '1',\n",
              "  'TITLE': '인증이 되지 않아요'},\n",
              " {'DATE': '2021-02-10T03:24:28-07:00',\n",
              "  'DISLIKE': 0,\n",
              "  'LIKE': '0',\n",
              "  'REVIEW': '도서관 앱 이용하려고 가입하려는데 본인인증 모든 수단 휴대폰과 아이핀 인증 다 안 됩니다. 20번 시도 했는데 다 안됩니다. 화가나서 이용할 수가 없네요. 쿠키허용 되어있는데도 쿠키차단 허용하라고 메세지 뜨고 보안문자 제대로 입력했는데도 어플이 구려서 인식도 못하네요. 몇개월 전부터 제기돼왔던 문제같은데 세금으로 이런 어플 만들어놓고 제대로 운영도 안하는 서울시 어이가 없습니다.',\n",
              "  'STAR': '1',\n",
              "  'TITLE': '별 주기도 아까움'},\n",
              " {'DATE': '2020-12-22T00:27:07-07:00',\n",
              "  'DISLIKE': 0,\n",
              "  'LIKE': '0',\n",
              "  'REVIEW': '도서관 카드 발급하려고 시민카드 앱 설치 시민카드 발급 받았는데 광진구 도서관 발급시 비번을 영문숫자특수기호 8자 이상 진짜 조합을 30번은 확인하면서 입력했는데 계속 영문숫자특수기호 입력하라고 나오네요 ㅜㅜ 도대체 뭘 어쩌라는 건지... 시민카드도 똑같이 해서 잘 등록됐는데요.  오류인지 확인 부탁드립니다.',\n",
              "  'STAR': '2',\n",
              "  'TITLE': '도서관 카드 발급'},\n",
              " {'DATE': '2020-11-09T23:46:34-07:00',\n",
              "  'DISLIKE': 0,\n",
              "  'LIKE': '0',\n",
              "  'REVIEW': '앱하나로 이용이 편리해여',\n",
              "  'STAR': '5',\n",
              "  'TITLE': '편해요'},\n",
              " {'DATE': '2020-11-04T15:38:18-07:00',\n",
              "  'DISLIKE': 0,\n",
              "  'LIKE': '0',\n",
              "  'REVIEW': '육아종합지원카드 등록하려고 하는데 계속 지연되고 등록이 안되네요..',\n",
              "  'STAR': '5',\n",
              "  'TITLE': '시설카드추가왜 안되나요??'},\n",
              " {'DATE': '2020-10-12T14:52:13-07:00',\n",
              "  'DISLIKE': 0,\n",
              "  'LIKE': '0',\n",
              "  'REVIEW': 'pass 계속하는데 세션갖ㅅ 유효하지않다고 뜨고 보안문자가 숫자없어지고 영어문자만나오는데 아예 영어문자는 입력도 되지도않네요\\n\\n확인좀하고 앱 올려주셔야죠 오류가 많아보이네요',\n",
              "  'STAR': '1',\n",
              "  'TITLE': '세션값이 유효하지않데요'},\n",
              " {'DATE': '2020-07-24T00:30:07-07:00',\n",
              "  'DISLIKE': 0,\n",
              "  'LIKE': '0',\n",
              "  'REVIEW': '바코드를 좀 크게 만들던지 왜이렇게 작 게 만들어서대출도 못하게끔 만들어요',\n",
              "  'STAR': '1',\n",
              "  'TITLE': '바코드 인식안되자나요ㅡㅡ'},\n",
              " {'DATE': '2020-05-13T23:10:19-07:00',\n",
              "  'DISLIKE': 0,\n",
              "  'LIKE': '0',\n",
              "  'REVIEW': '앱이 전혀 안됩니다 수정해주세요',\n",
              "  'STAR': '2',\n",
              "  'TITLE': '앱이 실행이 안되요'},\n",
              " {'DATE': '2020-04-28T06:09:20-07:00',\n",
              "  'DISLIKE': 0,\n",
              "  'LIKE': '0',\n",
              "  'REVIEW': '몇일째 실행이 안되고 튕기고 꺼짐\\n몇일째...',\n",
              "  'STAR': '1',\n",
              "  'TITLE': '실행불가'},\n",
              " {'DATE': '2020-04-24T07:07:31-07:00',\n",
              "  'DISLIKE': 0,\n",
              "  'LIKE': '0',\n",
              "  'REVIEW': '죽어요 아이폰xs 가장 최신 ios',\n",
              "  'STAR': '1',\n",
              "  'TITLE': '0424일자 업뎃해도 앱자꾸죽네요. 혈세 써서 뭐하나요'},\n",
              " {'DATE': '2020-04-24T06:13:12-07:00',\n",
              "  'DISLIKE': 0,\n",
              "  'LIKE': '0',\n",
              "  'REVIEW': '아이폰에서 안되는데.\\n도대체 오늘은  뭘 업데이트 한건지!!',\n",
              "  'STAR': '1',\n",
              "  'TITLE': '접속안되요.!! 오늘도 안되요'},\n",
              " {'DATE': '2020-04-23T17:20:36-07:00',\n",
              "  'DISLIKE': 0,\n",
              "  'LIKE': '0',\n",
              "  'REVIEW': '무조건 인증해야만 모든 메뉴 이용가능하고 인증하려면 pass 이용해야만 하던데 일반 문자도 되게 좀 바꿔주세요. 인증하려면 세션이 종료되었다고 계속 뜨고 쿠키허용해도 마찬가지에요',\n",
              "  'STAR': '1',\n",
              "  'TITLE': '회원인증 시 pass'},\n",
              " {'DATE': '2020-04-19T10:52:28-07:00',\n",
              "  'DISLIKE': 0,\n",
              "  'LIKE': '0',\n",
              "  'REVIEW': '책을 빌려야 하는데 어플이 튕겨서 들어가질 못하니 빌릴 수가 없네요 4월중으로 업데이트 하신다고 하셨는데 언제 되는 건가요 확실한 답변 부탁드립니다',\n",
              "  'STAR': '1',\n",
              "  'TITLE': '업데이트 언제되나요'},\n",
              " {'DATE': '2020-04-17T00:25:01-07:00',\n",
              "  'DISLIKE': 0,\n",
              "  'LIKE': '0',\n",
              "  'REVIEW': '고쳐주세요 ㅠㅠ',\n",
              "  'STAR': '1',\n",
              "  'TITLE': '전자도서관 이용하라는데 앱 실행이안되네용'},\n",
              " {'DATE': '2020-04-16T20:11:16-07:00',\n",
              "  'DISLIKE': 0,\n",
              "  'LIKE': '0',\n",
              "  'REVIEW': '전자도서관 이용가능하다 해서 열어보려는데. 열리지를 않습니다!!',\n",
              "  'STAR': '1',\n",
              "  'TITLE': '앱 구동이 안됩니다'},\n",
              " {'DATE': '2020-04-13T04:36:42-07:00',\n",
              "  'DISLIKE': 0,\n",
              "  'LIKE': '0',\n",
              "  'REVIEW': '플라스틱 카드 대신 앱으로 도서관, 복지관 잘 이용했었는데 어느순간부터 튕기고 진입이 아예 안됩니다. 코로나 끝나면 도서관 가려고 하는데 이거 고쳐주시기 바랍니다.',\n",
              "  'STAR': '1',\n",
              "  'TITLE': '아이폰 11 iOS 13.4.1 튕깁니다'},\n",
              " {'DATE': '2020-04-07T00:54:02-07:00',\n",
              "  'DISLIKE': 0,\n",
              "  'LIKE': '0',\n",
              "  'REVIEW': 'ios 13.4 업그레이드되고 앱 크러시 나면서 동작안한지가 2주가 넘는데 대응안하나요?\\n세금으로 운영하는건데 납세자 시민의 사용불편에 신속히 대응바랍니다',\n",
              "  'STAR': '1',\n",
              "  'TITLE': 'ios 13.4 앱크러시 대응'},\n",
              " {'DATE': '2020-04-03T05:04:33-07:00',\n",
              "  'DISLIKE': 0,\n",
              "  'LIKE': '0',\n",
              "  'REVIEW': '본인 인증 하라면서 인증 하려고 하면 세션 만료 라고 뜨고 보안번호 입력하려고 하니 이미지가 커져서 창을 가려 버리고..  앱 만들고 올리는게 다가 아니라 되는지 안되는지 확인 좀 해라.',\n",
              "  'STAR': '1',\n",
              "  'TITLE': '뭔놈의 앱이 인증도 안되나.?'},\n",
              " {'DATE': '2020-03-26T23:31:40-07:00',\n",
              "  'DISLIKE': 0,\n",
              "  'LIKE': '0',\n",
              "  'REVIEW': '앱 접속이 불가능합니다. 앱을 클릭하면 블루투스를 연결하라면서 종료가 됩니다. 앱 접속 좀 하고싶습니다 빠른 개선 부탁드려요',\n",
              "  'STAR': '1',\n",
              "  'TITLE': '접속 불가'},\n",
              " {'DATE': '2020-02-21T09:19:06-07:00',\n",
              "  'DISLIKE': 0,\n",
              "  'LIKE': '1',\n",
              "  'REVIEW': '도서관카드, 문화체육센터 카드 연동하여 꾸준히 잘 사용하던 시민입니다. 금일 갑자기 블루투스 연결하라는 팝업이 뜨면서부터 어플 진입이 불가하네요. 닫기 버튼을 누르면 네트워크 연결을 재확인 하라는 알림 후 앱 종료 되는 오류 발생합니다. 도서 수령하러 갔다가 불편을 겪었네요.. 빠른 확인 부탁드려요..',\n",
              "  'STAR': '4',\n",
              "  'TITLE': '진입 오류'},\n",
              " {'DATE': '2020-02-21T05:53:55-07:00',\n",
              "  'DISLIKE': 0,\n",
              "  'LIKE': '0',\n",
              "  'REVIEW': '아무리 눌러도 네트워크 연결상태 확인 후 다시 시도해주세요 라는 메세지만 뜨고 접속이 안됩니다.\\n\\n어플 지우고 다시 깔아도 문제가 반복되고, 안정적인 와이파이 환경에서도, 해당 어플에 대한 셀룰러 데이터를 켠 상태에서도, 어플에서 요구하는 블루투스나 해당 앱에 대한 위치 서비스 기능을 켠 상태에서도 모두 계속 위의 저 메시지만 뜨고 접속이 안돼요.\\n\\n아래 답변들에 나온 전화번호로 문의해야할까요?',\n",
              "  'STAR': '1',\n",
              "  'TITLE': '서울 시민카드 어플을 깔았는데'},\n",
              " {'DATE': '2019-10-03T17:35:19-07:00',\n",
              "  'DISLIKE': 0,\n",
              "  'LIKE': '0',\n",
              "  'REVIEW': '서울시민카드 발급 인증 안되요\\n인증허시겠습니까 예 눌러도 아무\\n반응이 없네요',\n",
              "  'STAR': '1',\n",
              "  'TITLE': '서울시민카드 발급 인증 안됩니다'},\n",
              " {'DATE': '2019-04-16T17:50:46-07:00',\n",
              "  'DISLIKE': 0,\n",
              "  'LIKE': '0',\n",
              "  'REVIEW': '거주지 입력을 구 주소로 입력하게되어 있는 것이 아쉬워요. \\n국가차원에서 도로명주소로 바꾸는 걸 추진하고 있는데, 공공앱에수 동단위로 거주지를 입력하게하면....\\n도로명주소는 알아도 동, 지번주소는 모르는데 이걸 일부러 찾아야 하는 상황...',\n",
              "  'STAR': '4',\n",
              "  'TITLE': '거주지입력 구조 개선 요구'},\n",
              " {'DATE': '2019-04-04T06:43:53-07:00',\n",
              "  'DISLIKE': 0,\n",
              "  'LIKE': '0',\n",
              "  'REVIEW': '교육청 도서관도 연동이 되었으면 합니다...',\n",
              "  'STAR': '3',\n",
              "  'TITLE': '서울특별시 교육청 도서관 가도 연동이 되었으면 합니다...'},\n",
              " {'DATE': '2019-03-02T03:13:05-07:00',\n",
              "  'DISLIKE': 1,\n",
              "  'LIKE': '0',\n",
              "  'REVIEW': '추가가 필요한 정보나 수정이 필요한 정보가 있는데 의견을 반영할 수 있는 칸이 없네요.\\n\\n예를들어 도서관의 경우 이용시간과 휴무일이 나와있지 않은 경우가 많아 일일이 홈페이지를 들어가서 찾아야하는 불편함이 있습니다.',\n",
              "  'STAR': '3',\n",
              "  'TITLE': '서울시민카드 앱 내 사용자 게시판 만들어주세요'}]"
            ]
          },
          "metadata": {},
          "execution_count": 147
        }
      ]
    },
    {
      "cell_type": "code",
      "source": [
        "import pandas as pd\n",
        "\n",
        "data = pd.DataFrame(data=[], columns=['날짜','싫어요','좋아요','리뷰','별점','제목'])\n",
        "\n",
        "for i in range(len(res_dict)):\n",
        "        tmp = []\n",
        "        tmp.append(res_dict[i]['DATE'])\n",
        "        tmp.append(res_dict[i]['DISLIKE'])\n",
        "        tmp.append(res_dict[i]['LIKE'])\n",
        "        tmp.append(res_dict[i]['REVIEW'])\n",
        "        tmp.append(res_dict[i]['STAR'])\n",
        "        tmp.append(res_dict[i]['TITLE'])\n",
        "        \n",
        "        # 수집한 1명의 리뷰를 결과 프레임에 추가합니다.\n",
        "        tmp = pd.DataFrame(data=[tmp], columns=data.columns)\n",
        "        data = pd.concat([data,tmp])"
      ],
      "metadata": {
        "id": "HIfNqThVqhhf"
      },
      "execution_count": null,
      "outputs": []
    },
    {
      "cell_type": "code",
      "source": [
        "data.shape"
      ],
      "metadata": {
        "colab": {
          "base_uri": "https://localhost:8080/"
        },
        "id": "I2IOfNjIqoKa",
        "outputId": "4d3a81b1-d78c-4e90-cc88-2189645fab51"
      },
      "execution_count": null,
      "outputs": [
        {
          "output_type": "execute_result",
          "data": {
            "text/plain": [
              "(50, 6)"
            ]
          },
          "metadata": {},
          "execution_count": 150
        }
      ]
    },
    {
      "cell_type": "code",
      "source": [
        "data.reset_index(inplace=True)"
      ],
      "metadata": {
        "id": "t0_keUyrqoH3"
      },
      "execution_count": null,
      "outputs": []
    },
    {
      "cell_type": "code",
      "source": [
        "data.drop(['index'], axis=1,inplace=True)"
      ],
      "metadata": {
        "id": "hK0THgTMqoFf"
      },
      "execution_count": null,
      "outputs": []
    },
    {
      "cell_type": "code",
      "source": [
        "from google.colab import files\n",
        "\n",
        "data.to_csv('ios_review.csv', encoding = 'utf-8-sig') \n",
        "files.download('ios_review.csv')"
      ],
      "metadata": {
        "colab": {
          "base_uri": "https://localhost:8080/",
          "height": 17
        },
        "id": "QHQxLbeUrjqz",
        "outputId": "3a6c0f84-6432-40b9-9d32-202d6b523536"
      },
      "execution_count": null,
      "outputs": [
        {
          "output_type": "display_data",
          "data": {
            "text/plain": [
              "<IPython.core.display.Javascript object>"
            ],
            "application/javascript": [
              "\n",
              "    async function download(id, filename, size) {\n",
              "      if (!google.colab.kernel.accessAllowed) {\n",
              "        return;\n",
              "      }\n",
              "      const div = document.createElement('div');\n",
              "      const label = document.createElement('label');\n",
              "      label.textContent = `Downloading \"${filename}\": `;\n",
              "      div.appendChild(label);\n",
              "      const progress = document.createElement('progress');\n",
              "      progress.max = size;\n",
              "      div.appendChild(progress);\n",
              "      document.body.appendChild(div);\n",
              "\n",
              "      const buffers = [];\n",
              "      let downloaded = 0;\n",
              "\n",
              "      const channel = await google.colab.kernel.comms.open(id);\n",
              "      // Send a message to notify the kernel that we're ready.\n",
              "      channel.send({})\n",
              "\n",
              "      for await (const message of channel.messages) {\n",
              "        // Send a message to notify the kernel that we're ready.\n",
              "        channel.send({})\n",
              "        if (message.buffers) {\n",
              "          for (const buffer of message.buffers) {\n",
              "            buffers.push(buffer);\n",
              "            downloaded += buffer.byteLength;\n",
              "            progress.value = downloaded;\n",
              "          }\n",
              "        }\n",
              "      }\n",
              "      const blob = new Blob(buffers, {type: 'application/binary'});\n",
              "      const a = document.createElement('a');\n",
              "      a.href = window.URL.createObjectURL(blob);\n",
              "      a.download = filename;\n",
              "      div.appendChild(a);\n",
              "      a.click();\n",
              "      div.remove();\n",
              "    }\n",
              "  "
            ]
          },
          "metadata": {}
        },
        {
          "output_type": "display_data",
          "data": {
            "text/plain": [
              "<IPython.core.display.Javascript object>"
            ],
            "application/javascript": [
              "download(\"download_e9947071-d0d4-46a1-aaf3-ae9f351e33d3\", \"ios_review.csv\", 12687)"
            ]
          },
          "metadata": {}
        }
      ]
    },
    {
      "cell_type": "code",
      "source": [
        ""
      ],
      "metadata": {
        "id": "paaZj69WrjmM"
      },
      "execution_count": null,
      "outputs": []
    },
    {
      "cell_type": "markdown",
      "source": [
        "## google app store crawling\n",
        "\n",
        "* https://strangefate.github.io/2022/01/06/AppReview-googleplayscraper/\n",
        "* https://github.com/JoMingyu/google-play-scraper \n",
        "\n",
        "* 웹페이지에 222개 리뷰 👉 119개의 사용자 리뷰 + 서울 시민카드 관리자 답글 103 개"
      ],
      "metadata": {
        "id": "Uy3JlxX4rIEB"
      }
    },
    {
      "cell_type": "code",
      "source": [
        "pip install google-play-scraper"
      ],
      "metadata": {
        "id": "P0V0asnX1mA_"
      },
      "execution_count": null,
      "outputs": []
    },
    {
      "cell_type": "code",
      "source": [
        "from google_play_scraper import app\n",
        "\n",
        "result = app(\n",
        "    'com.seoul.scc',\n",
        "    lang='ko', # defaults to 'en'\n",
        "    country='us' # defaults to 'us'\n",
        ")"
      ],
      "metadata": {
        "id": "F__GBgKO1l-b"
      },
      "execution_count": null,
      "outputs": []
    },
    {
      "cell_type": "code",
      "source": [
        "from google_play_scraper import Sort, reviews_all\n",
        "\n",
        "result = reviews_all(\n",
        "    'com.seoul.scc',\n",
        "    sleep_milliseconds=1000, # defaults to 0\n",
        "    lang='ko', # defaults to 'en'\n",
        "    country='us', # defaults to 'us'\n",
        "    sort=Sort.MOST_RELEVANT, # defaults to Sort.MOST_RELEVANT\n",
        "    filter_score_with=None # defaults to None(means all score)\n",
        ")"
      ],
      "metadata": {
        "id": "RQHtMBXF1l71"
      },
      "execution_count": null,
      "outputs": []
    },
    {
      "cell_type": "code",
      "source": [
        "result[0]"
      ],
      "metadata": {
        "colab": {
          "base_uri": "https://localhost:8080/"
        },
        "id": "6i3yEnuLu_v1",
        "outputId": "9a83bb9a-362f-4f72-9912-0cf1b6f5de6b"
      },
      "execution_count": null,
      "outputs": [
        {
          "output_type": "execute_result",
          "data": {
            "text/plain": [
              "{'at': datetime.datetime(2018, 12, 5, 23, 28, 46),\n",
              " 'content': '앱을 실행하고 관심분야를 선택하면 도서관 같은경우 구에 속한 도서관의 경우 카드가 한장이면 통합되있어서 다른곳도 이용가능한데 여기는 도서관마다 등록하라고 카드가 다 띄워지는데 한곳만 등록하면 통합이 되는건지 다른곳을 이용하려면 다중에카드를 등록해야하는지 안내가 되야하고 만약 통합이 안되면 통합이 되도록 시스템 변경이 있어야 할것 같습니다.',\n",
              " 'repliedAt': datetime.datetime(2019, 1, 29, 6, 51, 2),\n",
              " 'replyContent': '안녕하세요. 서울시민카드입니다.\\n\\n통합 회원으로 서비스하는 도서관이 늘고 있어 말씀 주신 것처럼 구립 도서관으로 카드를 등록하고 사용하실 수 있도록 준비 중입니다.\\n\\n지속적인 관심 부탁드립니다.\\n\\n고맙습니다.',\n",
              " 'reviewCreatedVersion': '1.0.1',\n",
              " 'reviewId': 'gp:AOqpTOEGOemcO2IPFrKKxBrom6giGa4iientOVIuYU5oPTF0_nSACobGsmRYEB8BjIvi8CkNghOPnhjfgkQ5uiE',\n",
              " 'score': 3,\n",
              " 'thumbsUpCount': 20,\n",
              " 'userImage': 'https://play-lh.googleusercontent.com/EGemoI2NTXmTsBVtJqk8jxF9rh8ApRWfsIMQSt2uE4OcpQqbFu7f7NbTK05lx80nuSijCz7sc3a277R67g',\n",
              " 'userName': 'Google 사용자'}"
            ]
          },
          "metadata": {},
          "execution_count": 76
        }
      ]
    },
    {
      "cell_type": "code",
      "source": [
        "import pandas as pd\n",
        "\n",
        "data = pd.DataFrame(data=[], columns=['날짜','리뷰','응답날짜','응답','별점','유저명','공감수'])\n",
        "\n",
        "for i in range(len(result)):\n",
        "        tmp = []\n",
        "        tmp.append(result[i]['at'])\n",
        "        tmp.append(result[i]['content'])\n",
        "        tmp.append(result[i]['repliedAt'])\n",
        "        tmp.append(result[i]['replyContent'])\n",
        "        tmp.append(result[i]['score'])\n",
        "        tmp.append(result[i]['userName'])\n",
        "        tmp.append(result[i]['thumbsUpCount'])\n",
        "        \n",
        "        # 수집한 1명의 리뷰를 결과 프레임에 추가합니다.\n",
        "        tmp = pd.DataFrame(data=[tmp], columns=data.columns)\n",
        "        data = pd.concat([data,tmp])\n",
        "        "
      ],
      "metadata": {
        "id": "596XjxD_2kVU"
      },
      "execution_count": null,
      "outputs": []
    },
    {
      "cell_type": "code",
      "source": [
        "data.shape "
      ],
      "metadata": {
        "colab": {
          "base_uri": "https://localhost:8080/"
        },
        "id": "AFEaBr5PyU9T",
        "outputId": "4dc7154d-6419-445b-d688-f148b0390fbf"
      },
      "execution_count": null,
      "outputs": [
        {
          "output_type": "execute_result",
          "data": {
            "text/plain": [
              "(119, 7)"
            ]
          },
          "metadata": {},
          "execution_count": 78
        }
      ]
    },
    {
      "cell_type": "code",
      "source": [
        "data.head(3)"
      ],
      "metadata": {
        "colab": {
          "base_uri": "https://localhost:8080/",
          "height": 326
        },
        "id": "weLPZ-AtyB27",
        "outputId": "1b301901-e0e9-41fc-a178-d30cf87b9f70"
      },
      "execution_count": null,
      "outputs": [
        {
          "output_type": "execute_result",
          "data": {
            "text/plain": [
              "                   날짜                                                 리뷰  \\\n",
              "0 2018-12-05 23:28:46  앱을 실행하고 관심분야를 선택하면 도서관 같은경우 구에 속한 도서관의 경우 카드가 ...   \n",
              "0 2020-11-25 04:23:16  이런 시도 넘 좋아요. 매번 쓰는 게 아닌데 실물 카드 들고 다니는 게 진짜 귀찮았...   \n",
              "0 2022-05-13 02:06:10  반납 연장을 어플 내에서 할 수 있으면 좋겠어요. 힘들면 그냥 사이트에서 연장한 거...   \n",
              "\n",
              "                  응답날짜                                                 응답 별점  \\\n",
              "0  2019-01-29 06:51:02  안녕하세요. 서울시민카드입니다.\\n\\n통합 회원으로 서비스하는 도서관이 늘고 있어 ...  3   \n",
              "0  2020-12-11 05:08:21                      안녕하세요. 서울시민카드 입니다. 리뷰 감사드립니다.  5   \n",
              "0  2022-05-16 08:49:33  안녕하세요. 서울시민카드입니다.\\n서울시민카드 앱 자체에서 대출연장 기능은 없으나,...  4   \n",
              "\n",
              "             유저명 공감수  \n",
              "0     Google 사용자  20  \n",
              "0  Kuei-fei Yang  38  \n",
              "0            신은진   0  "
            ],
            "text/html": [
              "\n",
              "  <div id=\"df-131d5699-7e9f-4930-bcf0-eab43d0da27f\">\n",
              "    <div class=\"colab-df-container\">\n",
              "      <div>\n",
              "<style scoped>\n",
              "    .dataframe tbody tr th:only-of-type {\n",
              "        vertical-align: middle;\n",
              "    }\n",
              "\n",
              "    .dataframe tbody tr th {\n",
              "        vertical-align: top;\n",
              "    }\n",
              "\n",
              "    .dataframe thead th {\n",
              "        text-align: right;\n",
              "    }\n",
              "</style>\n",
              "<table border=\"1\" class=\"dataframe\">\n",
              "  <thead>\n",
              "    <tr style=\"text-align: right;\">\n",
              "      <th></th>\n",
              "      <th>날짜</th>\n",
              "      <th>리뷰</th>\n",
              "      <th>응답날짜</th>\n",
              "      <th>응답</th>\n",
              "      <th>별점</th>\n",
              "      <th>유저명</th>\n",
              "      <th>공감수</th>\n",
              "    </tr>\n",
              "  </thead>\n",
              "  <tbody>\n",
              "    <tr>\n",
              "      <th>0</th>\n",
              "      <td>2018-12-05 23:28:46</td>\n",
              "      <td>앱을 실행하고 관심분야를 선택하면 도서관 같은경우 구에 속한 도서관의 경우 카드가 ...</td>\n",
              "      <td>2019-01-29 06:51:02</td>\n",
              "      <td>안녕하세요. 서울시민카드입니다.\\n\\n통합 회원으로 서비스하는 도서관이 늘고 있어 ...</td>\n",
              "      <td>3</td>\n",
              "      <td>Google 사용자</td>\n",
              "      <td>20</td>\n",
              "    </tr>\n",
              "    <tr>\n",
              "      <th>0</th>\n",
              "      <td>2020-11-25 04:23:16</td>\n",
              "      <td>이런 시도 넘 좋아요. 매번 쓰는 게 아닌데 실물 카드 들고 다니는 게 진짜 귀찮았...</td>\n",
              "      <td>2020-12-11 05:08:21</td>\n",
              "      <td>안녕하세요. 서울시민카드 입니다. 리뷰 감사드립니다.</td>\n",
              "      <td>5</td>\n",
              "      <td>Kuei-fei Yang</td>\n",
              "      <td>38</td>\n",
              "    </tr>\n",
              "    <tr>\n",
              "      <th>0</th>\n",
              "      <td>2022-05-13 02:06:10</td>\n",
              "      <td>반납 연장을 어플 내에서 할 수 있으면 좋겠어요. 힘들면 그냥 사이트에서 연장한 거...</td>\n",
              "      <td>2022-05-16 08:49:33</td>\n",
              "      <td>안녕하세요. 서울시민카드입니다.\\n서울시민카드 앱 자체에서 대출연장 기능은 없으나,...</td>\n",
              "      <td>4</td>\n",
              "      <td>신은진</td>\n",
              "      <td>0</td>\n",
              "    </tr>\n",
              "  </tbody>\n",
              "</table>\n",
              "</div>\n",
              "      <button class=\"colab-df-convert\" onclick=\"convertToInteractive('df-131d5699-7e9f-4930-bcf0-eab43d0da27f')\"\n",
              "              title=\"Convert this dataframe to an interactive table.\"\n",
              "              style=\"display:none;\">\n",
              "        \n",
              "  <svg xmlns=\"http://www.w3.org/2000/svg\" height=\"24px\"viewBox=\"0 0 24 24\"\n",
              "       width=\"24px\">\n",
              "    <path d=\"M0 0h24v24H0V0z\" fill=\"none\"/>\n",
              "    <path d=\"M18.56 5.44l.94 2.06.94-2.06 2.06-.94-2.06-.94-.94-2.06-.94 2.06-2.06.94zm-11 1L8.5 8.5l.94-2.06 2.06-.94-2.06-.94L8.5 2.5l-.94 2.06-2.06.94zm10 10l.94 2.06.94-2.06 2.06-.94-2.06-.94-.94-2.06-.94 2.06-2.06.94z\"/><path d=\"M17.41 7.96l-1.37-1.37c-.4-.4-.92-.59-1.43-.59-.52 0-1.04.2-1.43.59L10.3 9.45l-7.72 7.72c-.78.78-.78 2.05 0 2.83L4 21.41c.39.39.9.59 1.41.59.51 0 1.02-.2 1.41-.59l7.78-7.78 2.81-2.81c.8-.78.8-2.07 0-2.86zM5.41 20L4 18.59l7.72-7.72 1.47 1.35L5.41 20z\"/>\n",
              "  </svg>\n",
              "      </button>\n",
              "      \n",
              "  <style>\n",
              "    .colab-df-container {\n",
              "      display:flex;\n",
              "      flex-wrap:wrap;\n",
              "      gap: 12px;\n",
              "    }\n",
              "\n",
              "    .colab-df-convert {\n",
              "      background-color: #E8F0FE;\n",
              "      border: none;\n",
              "      border-radius: 50%;\n",
              "      cursor: pointer;\n",
              "      display: none;\n",
              "      fill: #1967D2;\n",
              "      height: 32px;\n",
              "      padding: 0 0 0 0;\n",
              "      width: 32px;\n",
              "    }\n",
              "\n",
              "    .colab-df-convert:hover {\n",
              "      background-color: #E2EBFA;\n",
              "      box-shadow: 0px 1px 2px rgba(60, 64, 67, 0.3), 0px 1px 3px 1px rgba(60, 64, 67, 0.15);\n",
              "      fill: #174EA6;\n",
              "    }\n",
              "\n",
              "    [theme=dark] .colab-df-convert {\n",
              "      background-color: #3B4455;\n",
              "      fill: #D2E3FC;\n",
              "    }\n",
              "\n",
              "    [theme=dark] .colab-df-convert:hover {\n",
              "      background-color: #434B5C;\n",
              "      box-shadow: 0px 1px 3px 1px rgba(0, 0, 0, 0.15);\n",
              "      filter: drop-shadow(0px 1px 2px rgba(0, 0, 0, 0.3));\n",
              "      fill: #FFFFFF;\n",
              "    }\n",
              "  </style>\n",
              "\n",
              "      <script>\n",
              "        const buttonEl =\n",
              "          document.querySelector('#df-131d5699-7e9f-4930-bcf0-eab43d0da27f button.colab-df-convert');\n",
              "        buttonEl.style.display =\n",
              "          google.colab.kernel.accessAllowed ? 'block' : 'none';\n",
              "\n",
              "        async function convertToInteractive(key) {\n",
              "          const element = document.querySelector('#df-131d5699-7e9f-4930-bcf0-eab43d0da27f');\n",
              "          const dataTable =\n",
              "            await google.colab.kernel.invokeFunction('convertToInteractive',\n",
              "                                                     [key], {});\n",
              "          if (!dataTable) return;\n",
              "\n",
              "          const docLinkHtml = 'Like what you see? Visit the ' +\n",
              "            '<a target=\"_blank\" href=https://colab.research.google.com/notebooks/data_table.ipynb>data table notebook</a>'\n",
              "            + ' to learn more about interactive tables.';\n",
              "          element.innerHTML = '';\n",
              "          dataTable['output_type'] = 'display_data';\n",
              "          await google.colab.output.renderOutput(dataTable, element);\n",
              "          const docLink = document.createElement('div');\n",
              "          docLink.innerHTML = docLinkHtml;\n",
              "          element.appendChild(docLink);\n",
              "        }\n",
              "      </script>\n",
              "    </div>\n",
              "  </div>\n",
              "  "
            ]
          },
          "metadata": {},
          "execution_count": 79
        }
      ]
    },
    {
      "cell_type": "code",
      "source": [
        "data.reset_index(inplace=True)"
      ],
      "metadata": {
        "id": "k7WM4cywY8gd"
      },
      "execution_count": null,
      "outputs": []
    },
    {
      "cell_type": "code",
      "source": [
        "data.drop(['index'], axis=1,inplace=True)"
      ],
      "metadata": {
        "id": "6d-COL_1Y_WJ"
      },
      "execution_count": null,
      "outputs": []
    },
    {
      "cell_type": "code",
      "source": [
        "data.head(2)"
      ],
      "metadata": {
        "colab": {
          "base_uri": "https://localhost:8080/",
          "height": 260
        },
        "id": "jmHVX9SJZEKM",
        "outputId": "abd204df-b09d-46ae-fa28-d8949aa3f190"
      },
      "execution_count": null,
      "outputs": [
        {
          "output_type": "execute_result",
          "data": {
            "text/plain": [
              "                   날짜                                                 리뷰  \\\n",
              "0 2018-12-05 23:28:46  앱을 실행하고 관심분야를 선택하면 도서관 같은경우 구에 속한 도서관의 경우 카드가 ...   \n",
              "1 2020-11-25 04:23:16  이런 시도 넘 좋아요. 매번 쓰는 게 아닌데 실물 카드 들고 다니는 게 진짜 귀찮았...   \n",
              "\n",
              "                  응답날짜                                                 응답 별점  \\\n",
              "0  2019-01-29 06:51:02  안녕하세요. 서울시민카드입니다.\\n\\n통합 회원으로 서비스하는 도서관이 늘고 있어 ...  3   \n",
              "1  2020-12-11 05:08:21                      안녕하세요. 서울시민카드 입니다. 리뷰 감사드립니다.  5   \n",
              "\n",
              "             유저명 공감수  \n",
              "0     Google 사용자  20  \n",
              "1  Kuei-fei Yang  38  "
            ],
            "text/html": [
              "\n",
              "  <div id=\"df-591da743-60c8-4c34-ae2f-a3505b0889a2\">\n",
              "    <div class=\"colab-df-container\">\n",
              "      <div>\n",
              "<style scoped>\n",
              "    .dataframe tbody tr th:only-of-type {\n",
              "        vertical-align: middle;\n",
              "    }\n",
              "\n",
              "    .dataframe tbody tr th {\n",
              "        vertical-align: top;\n",
              "    }\n",
              "\n",
              "    .dataframe thead th {\n",
              "        text-align: right;\n",
              "    }\n",
              "</style>\n",
              "<table border=\"1\" class=\"dataframe\">\n",
              "  <thead>\n",
              "    <tr style=\"text-align: right;\">\n",
              "      <th></th>\n",
              "      <th>날짜</th>\n",
              "      <th>리뷰</th>\n",
              "      <th>응답날짜</th>\n",
              "      <th>응답</th>\n",
              "      <th>별점</th>\n",
              "      <th>유저명</th>\n",
              "      <th>공감수</th>\n",
              "    </tr>\n",
              "  </thead>\n",
              "  <tbody>\n",
              "    <tr>\n",
              "      <th>0</th>\n",
              "      <td>2018-12-05 23:28:46</td>\n",
              "      <td>앱을 실행하고 관심분야를 선택하면 도서관 같은경우 구에 속한 도서관의 경우 카드가 ...</td>\n",
              "      <td>2019-01-29 06:51:02</td>\n",
              "      <td>안녕하세요. 서울시민카드입니다.\\n\\n통합 회원으로 서비스하는 도서관이 늘고 있어 ...</td>\n",
              "      <td>3</td>\n",
              "      <td>Google 사용자</td>\n",
              "      <td>20</td>\n",
              "    </tr>\n",
              "    <tr>\n",
              "      <th>1</th>\n",
              "      <td>2020-11-25 04:23:16</td>\n",
              "      <td>이런 시도 넘 좋아요. 매번 쓰는 게 아닌데 실물 카드 들고 다니는 게 진짜 귀찮았...</td>\n",
              "      <td>2020-12-11 05:08:21</td>\n",
              "      <td>안녕하세요. 서울시민카드 입니다. 리뷰 감사드립니다.</td>\n",
              "      <td>5</td>\n",
              "      <td>Kuei-fei Yang</td>\n",
              "      <td>38</td>\n",
              "    </tr>\n",
              "  </tbody>\n",
              "</table>\n",
              "</div>\n",
              "      <button class=\"colab-df-convert\" onclick=\"convertToInteractive('df-591da743-60c8-4c34-ae2f-a3505b0889a2')\"\n",
              "              title=\"Convert this dataframe to an interactive table.\"\n",
              "              style=\"display:none;\">\n",
              "        \n",
              "  <svg xmlns=\"http://www.w3.org/2000/svg\" height=\"24px\"viewBox=\"0 0 24 24\"\n",
              "       width=\"24px\">\n",
              "    <path d=\"M0 0h24v24H0V0z\" fill=\"none\"/>\n",
              "    <path d=\"M18.56 5.44l.94 2.06.94-2.06 2.06-.94-2.06-.94-.94-2.06-.94 2.06-2.06.94zm-11 1L8.5 8.5l.94-2.06 2.06-.94-2.06-.94L8.5 2.5l-.94 2.06-2.06.94zm10 10l.94 2.06.94-2.06 2.06-.94-2.06-.94-.94-2.06-.94 2.06-2.06.94z\"/><path d=\"M17.41 7.96l-1.37-1.37c-.4-.4-.92-.59-1.43-.59-.52 0-1.04.2-1.43.59L10.3 9.45l-7.72 7.72c-.78.78-.78 2.05 0 2.83L4 21.41c.39.39.9.59 1.41.59.51 0 1.02-.2 1.41-.59l7.78-7.78 2.81-2.81c.8-.78.8-2.07 0-2.86zM5.41 20L4 18.59l7.72-7.72 1.47 1.35L5.41 20z\"/>\n",
              "  </svg>\n",
              "      </button>\n",
              "      \n",
              "  <style>\n",
              "    .colab-df-container {\n",
              "      display:flex;\n",
              "      flex-wrap:wrap;\n",
              "      gap: 12px;\n",
              "    }\n",
              "\n",
              "    .colab-df-convert {\n",
              "      background-color: #E8F0FE;\n",
              "      border: none;\n",
              "      border-radius: 50%;\n",
              "      cursor: pointer;\n",
              "      display: none;\n",
              "      fill: #1967D2;\n",
              "      height: 32px;\n",
              "      padding: 0 0 0 0;\n",
              "      width: 32px;\n",
              "    }\n",
              "\n",
              "    .colab-df-convert:hover {\n",
              "      background-color: #E2EBFA;\n",
              "      box-shadow: 0px 1px 2px rgba(60, 64, 67, 0.3), 0px 1px 3px 1px rgba(60, 64, 67, 0.15);\n",
              "      fill: #174EA6;\n",
              "    }\n",
              "\n",
              "    [theme=dark] .colab-df-convert {\n",
              "      background-color: #3B4455;\n",
              "      fill: #D2E3FC;\n",
              "    }\n",
              "\n",
              "    [theme=dark] .colab-df-convert:hover {\n",
              "      background-color: #434B5C;\n",
              "      box-shadow: 0px 1px 3px 1px rgba(0, 0, 0, 0.15);\n",
              "      filter: drop-shadow(0px 1px 2px rgba(0, 0, 0, 0.3));\n",
              "      fill: #FFFFFF;\n",
              "    }\n",
              "  </style>\n",
              "\n",
              "      <script>\n",
              "        const buttonEl =\n",
              "          document.querySelector('#df-591da743-60c8-4c34-ae2f-a3505b0889a2 button.colab-df-convert');\n",
              "        buttonEl.style.display =\n",
              "          google.colab.kernel.accessAllowed ? 'block' : 'none';\n",
              "\n",
              "        async function convertToInteractive(key) {\n",
              "          const element = document.querySelector('#df-591da743-60c8-4c34-ae2f-a3505b0889a2');\n",
              "          const dataTable =\n",
              "            await google.colab.kernel.invokeFunction('convertToInteractive',\n",
              "                                                     [key], {});\n",
              "          if (!dataTable) return;\n",
              "\n",
              "          const docLinkHtml = 'Like what you see? Visit the ' +\n",
              "            '<a target=\"_blank\" href=https://colab.research.google.com/notebooks/data_table.ipynb>data table notebook</a>'\n",
              "            + ' to learn more about interactive tables.';\n",
              "          element.innerHTML = '';\n",
              "          dataTable['output_type'] = 'display_data';\n",
              "          await google.colab.output.renderOutput(dataTable, element);\n",
              "          const docLink = document.createElement('div');\n",
              "          docLink.innerHTML = docLinkHtml;\n",
              "          element.appendChild(docLink);\n",
              "        }\n",
              "      </script>\n",
              "    </div>\n",
              "  </div>\n",
              "  "
            ]
          },
          "metadata": {},
          "execution_count": 86
        }
      ]
    },
    {
      "cell_type": "code",
      "source": [
        "from google.colab import files\n",
        "\n",
        "data.to_csv('review.csv', encoding = 'utf-8-sig') \n",
        "files.download('review.csv')"
      ],
      "metadata": {
        "colab": {
          "base_uri": "https://localhost:8080/",
          "height": 17
        },
        "id": "xpIjlT-eYCnO",
        "outputId": "59fe951b-58c7-48c6-cc8e-f2da0f481ab3"
      },
      "execution_count": null,
      "outputs": [
        {
          "output_type": "display_data",
          "data": {
            "text/plain": [
              "<IPython.core.display.Javascript object>"
            ],
            "application/javascript": [
              "\n",
              "    async function download(id, filename, size) {\n",
              "      if (!google.colab.kernel.accessAllowed) {\n",
              "        return;\n",
              "      }\n",
              "      const div = document.createElement('div');\n",
              "      const label = document.createElement('label');\n",
              "      label.textContent = `Downloading \"${filename}\": `;\n",
              "      div.appendChild(label);\n",
              "      const progress = document.createElement('progress');\n",
              "      progress.max = size;\n",
              "      div.appendChild(progress);\n",
              "      document.body.appendChild(div);\n",
              "\n",
              "      const buffers = [];\n",
              "      let downloaded = 0;\n",
              "\n",
              "      const channel = await google.colab.kernel.comms.open(id);\n",
              "      // Send a message to notify the kernel that we're ready.\n",
              "      channel.send({})\n",
              "\n",
              "      for await (const message of channel.messages) {\n",
              "        // Send a message to notify the kernel that we're ready.\n",
              "        channel.send({})\n",
              "        if (message.buffers) {\n",
              "          for (const buffer of message.buffers) {\n",
              "            buffers.push(buffer);\n",
              "            downloaded += buffer.byteLength;\n",
              "            progress.value = downloaded;\n",
              "          }\n",
              "        }\n",
              "      }\n",
              "      const blob = new Blob(buffers, {type: 'application/binary'});\n",
              "      const a = document.createElement('a');\n",
              "      a.href = window.URL.createObjectURL(blob);\n",
              "      a.download = filename;\n",
              "      div.appendChild(a);\n",
              "      a.click();\n",
              "      div.remove();\n",
              "    }\n",
              "  "
            ]
          },
          "metadata": {}
        },
        {
          "output_type": "display_data",
          "data": {
            "text/plain": [
              "<IPython.core.display.Javascript object>"
            ],
            "application/javascript": [
              "download(\"download_f558fb22-e72b-4f51-9b79-ede8840ae27b\", \"review.csv\", 47685)"
            ]
          },
          "metadata": {}
        }
      ]
    },
    {
      "cell_type": "code",
      "source": [
        ""
      ],
      "metadata": {
        "id": "GEEdUk57X6Y0"
      },
      "execution_count": null,
      "outputs": []
    },
    {
      "cell_type": "code",
      "source": [
        ""
      ],
      "metadata": {
        "id": "38BlFTZTX6Wj"
      },
      "execution_count": null,
      "outputs": []
    },
    {
      "cell_type": "code",
      "source": [
        ""
      ],
      "metadata": {
        "id": "P6XWfQ7XrLnX"
      },
      "execution_count": null,
      "outputs": []
    }
  ]
}